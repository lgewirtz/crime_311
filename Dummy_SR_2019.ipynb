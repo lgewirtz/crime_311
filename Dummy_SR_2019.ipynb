{
 "cells": [
  {
   "cell_type": "markdown",
   "metadata": {},
   "source": [
    "#### Dummy encoding Crime 2019 dataset"
   ]
  },
  {
   "cell_type": "code",
   "execution_count": 1,
   "metadata": {},
   "outputs": [],
   "source": [
    "import pandas as pd\n",
    "import numpy as np\n",
    "import datetime as dt"
   ]
  },
  {
   "cell_type": "code",
   "execution_count": 2,
   "metadata": {},
   "outputs": [],
   "source": [
    "dfsr = pd.read_csv(r'C:\\Documents\\projects\\HackLA\\311\\data\\WorkedonData\\SR_2019.csv', index_col=0)"
   ]
  },
  {
   "cell_type": "code",
   "execution_count": 3,
   "metadata": {},
   "outputs": [],
   "source": [
    "pd.options.display.max_columns = None\n",
    "pd.options.display.max_rows = None"
   ]
  },
  {
   "cell_type": "code",
   "execution_count": 4,
   "metadata": {},
   "outputs": [
    {
     "data": {
      "text/html": [
       "<div>\n",
       "<style scoped>\n",
       "    .dataframe tbody tr th:only-of-type {\n",
       "        vertical-align: middle;\n",
       "    }\n",
       "\n",
       "    .dataframe tbody tr th {\n",
       "        vertical-align: top;\n",
       "    }\n",
       "\n",
       "    .dataframe thead th {\n",
       "        text-align: right;\n",
       "    }\n",
       "</style>\n",
       "<table border=\"1\" class=\"dataframe\">\n",
       "  <thead>\n",
       "    <tr style=\"text-align: right;\">\n",
       "      <th></th>\n",
       "      <th>SRNumber</th>\n",
       "      <th>CreatedDate</th>\n",
       "      <th>UpdatedDate</th>\n",
       "      <th>NC_ID</th>\n",
       "      <th>RequestType</th>\n",
       "      <th>RequestSource</th>\n",
       "      <th>Address</th>\n",
       "      <th>ZipCode</th>\n",
       "      <th>PolicePrecinct</th>\n",
       "    </tr>\n",
       "  </thead>\n",
       "  <tbody>\n",
       "    <tr>\n",
       "      <th>0</th>\n",
       "      <td>1-1262692791</td>\n",
       "      <td>01/01/2019 12:02:00 AM</td>\n",
       "      <td>01/04/2019 11:03:00 AM</td>\n",
       "      <td>119</td>\n",
       "      <td>Bulky Items</td>\n",
       "      <td>Self Service</td>\n",
       "      <td>616 N GRAMERCY PL, 90004</td>\n",
       "      <td>90004</td>\n",
       "      <td>OLYMPIC</td>\n",
       "    </tr>\n",
       "    <tr>\n",
       "      <th>2</th>\n",
       "      <td>1-1262693571</td>\n",
       "      <td>01/01/2019 12:10:00 AM</td>\n",
       "      <td>01/03/2019 12:27:00 AM</td>\n",
       "      <td>113</td>\n",
       "      <td>Graffiti Removal</td>\n",
       "      <td>Self Service</td>\n",
       "      <td>9167 N RESEDA BLVD, 91324</td>\n",
       "      <td>91324</td>\n",
       "      <td>DEVONSHIRE</td>\n",
       "    </tr>\n",
       "    <tr>\n",
       "      <th>3</th>\n",
       "      <td>1-1262692831</td>\n",
       "      <td>01/01/2019 12:19:00 AM</td>\n",
       "      <td>01/07/2019 09:43:00 AM</td>\n",
       "      <td>124</td>\n",
       "      <td>Illegal Dumping Pickup</td>\n",
       "      <td>Self Service</td>\n",
       "      <td>8752 N YOLANDA AVE, 91324</td>\n",
       "      <td>91324</td>\n",
       "      <td>DEVONSHIRE</td>\n",
       "    </tr>\n",
       "  </tbody>\n",
       "</table>\n",
       "</div>"
      ],
      "text/plain": [
       "       SRNumber             CreatedDate             UpdatedDate  NC_ID  \\\n",
       "0  1-1262692791  01/01/2019 12:02:00 AM  01/04/2019 11:03:00 AM    119   \n",
       "2  1-1262693571  01/01/2019 12:10:00 AM  01/03/2019 12:27:00 AM    113   \n",
       "3  1-1262692831  01/01/2019 12:19:00 AM  01/07/2019 09:43:00 AM    124   \n",
       "\n",
       "              RequestType RequestSource                    Address  ZipCode  \\\n",
       "0             Bulky Items  Self Service   616 N GRAMERCY PL, 90004    90004   \n",
       "2        Graffiti Removal  Self Service  9167 N RESEDA BLVD, 91324    91324   \n",
       "3  Illegal Dumping Pickup  Self Service  8752 N YOLANDA AVE, 91324    91324   \n",
       "\n",
       "  PolicePrecinct  \n",
       "0        OLYMPIC  \n",
       "2     DEVONSHIRE  \n",
       "3     DEVONSHIRE  "
      ]
     },
     "execution_count": 4,
     "metadata": {},
     "output_type": "execute_result"
    }
   ],
   "source": [
    "dfsr.head(3)"
   ]
  },
  {
   "cell_type": "markdown",
   "metadata": {},
   "source": [
    "### Explore which columns to make dummies and clean them up"
   ]
  },
  {
   "cell_type": "markdown",
   "metadata": {},
   "source": [
    "#### Drop SRNumber, CreatedDate, & Address so can groupby into less rows and dummy without a huge number of variables"
   ]
  },
  {
   "cell_type": "code",
   "execution_count": 5,
   "metadata": {},
   "outputs": [],
   "source": [
    "dfsr.drop(['SRNumber', 'UpdatedDate', 'Address'], axis=1, inplace=True)"
   ]
  },
  {
   "cell_type": "code",
   "execution_count": 6,
   "metadata": {},
   "outputs": [
    {
     "data": {
      "text/html": [
       "<div>\n",
       "<style scoped>\n",
       "    .dataframe tbody tr th:only-of-type {\n",
       "        vertical-align: middle;\n",
       "    }\n",
       "\n",
       "    .dataframe tbody tr th {\n",
       "        vertical-align: top;\n",
       "    }\n",
       "\n",
       "    .dataframe thead th {\n",
       "        text-align: right;\n",
       "    }\n",
       "</style>\n",
       "<table border=\"1\" class=\"dataframe\">\n",
       "  <thead>\n",
       "    <tr style=\"text-align: right;\">\n",
       "      <th></th>\n",
       "      <th>CreatedDate</th>\n",
       "      <th>NC_ID</th>\n",
       "      <th>RequestType</th>\n",
       "      <th>RequestSource</th>\n",
       "      <th>ZipCode</th>\n",
       "      <th>PolicePrecinct</th>\n",
       "    </tr>\n",
       "  </thead>\n",
       "  <tbody>\n",
       "    <tr>\n",
       "      <th>0</th>\n",
       "      <td>01/01/2019 12:02:00 AM</td>\n",
       "      <td>119</td>\n",
       "      <td>Bulky Items</td>\n",
       "      <td>Self Service</td>\n",
       "      <td>90004</td>\n",
       "      <td>OLYMPIC</td>\n",
       "    </tr>\n",
       "    <tr>\n",
       "      <th>2</th>\n",
       "      <td>01/01/2019 12:10:00 AM</td>\n",
       "      <td>113</td>\n",
       "      <td>Graffiti Removal</td>\n",
       "      <td>Self Service</td>\n",
       "      <td>91324</td>\n",
       "      <td>DEVONSHIRE</td>\n",
       "    </tr>\n",
       "  </tbody>\n",
       "</table>\n",
       "</div>"
      ],
      "text/plain": [
       "              CreatedDate  NC_ID       RequestType RequestSource  ZipCode  \\\n",
       "0  01/01/2019 12:02:00 AM    119       Bulky Items  Self Service    90004   \n",
       "2  01/01/2019 12:10:00 AM    113  Graffiti Removal  Self Service    91324   \n",
       "\n",
       "  PolicePrecinct  \n",
       "0        OLYMPIC  \n",
       "2     DEVONSHIRE  "
      ]
     },
     "execution_count": 6,
     "metadata": {},
     "output_type": "execute_result"
    }
   ],
   "source": [
    "dfsr.head(2)"
   ]
  },
  {
   "cell_type": "code",
   "execution_count": 7,
   "metadata": {},
   "outputs": [],
   "source": [
    "dfsr['CreatedDate'] = pd.to_datetime(dfsr['CreatedDate']).dt.normalize()"
   ]
  },
  {
   "cell_type": "code",
   "execution_count": 8,
   "metadata": {},
   "outputs": [
    {
     "data": {
      "text/plain": [
       "CreatedDate       datetime64[ns]\n",
       "NC_ID                      int64\n",
       "RequestType               object\n",
       "RequestSource             object\n",
       "ZipCode                    int64\n",
       "PolicePrecinct            object\n",
       "dtype: object"
      ]
     },
     "execution_count": 8,
     "metadata": {},
     "output_type": "execute_result"
    }
   ],
   "source": [
    "dfsr.dtypes"
   ]
  },
  {
   "cell_type": "code",
   "execution_count": 9,
   "metadata": {},
   "outputs": [],
   "source": [
    "dfsr['CreatedDate'] = dfsr['CreatedDate'].dt.month"
   ]
  },
  {
   "cell_type": "code",
   "execution_count": 10,
   "metadata": {},
   "outputs": [
    {
     "data": {
      "text/html": [
       "<div>\n",
       "<style scoped>\n",
       "    .dataframe tbody tr th:only-of-type {\n",
       "        vertical-align: middle;\n",
       "    }\n",
       "\n",
       "    .dataframe tbody tr th {\n",
       "        vertical-align: top;\n",
       "    }\n",
       "\n",
       "    .dataframe thead th {\n",
       "        text-align: right;\n",
       "    }\n",
       "</style>\n",
       "<table border=\"1\" class=\"dataframe\">\n",
       "  <thead>\n",
       "    <tr style=\"text-align: right;\">\n",
       "      <th></th>\n",
       "      <th>CreatedDate</th>\n",
       "      <th>NC_ID</th>\n",
       "      <th>RequestType</th>\n",
       "      <th>RequestSource</th>\n",
       "      <th>ZipCode</th>\n",
       "      <th>PolicePrecinct</th>\n",
       "    </tr>\n",
       "  </thead>\n",
       "  <tbody>\n",
       "    <tr>\n",
       "      <th>0</th>\n",
       "      <td>1</td>\n",
       "      <td>119</td>\n",
       "      <td>Bulky Items</td>\n",
       "      <td>Self Service</td>\n",
       "      <td>90004</td>\n",
       "      <td>OLYMPIC</td>\n",
       "    </tr>\n",
       "    <tr>\n",
       "      <th>2</th>\n",
       "      <td>1</td>\n",
       "      <td>113</td>\n",
       "      <td>Graffiti Removal</td>\n",
       "      <td>Self Service</td>\n",
       "      <td>91324</td>\n",
       "      <td>DEVONSHIRE</td>\n",
       "    </tr>\n",
       "  </tbody>\n",
       "</table>\n",
       "</div>"
      ],
      "text/plain": [
       "   CreatedDate  NC_ID       RequestType RequestSource  ZipCode PolicePrecinct\n",
       "0            1    119       Bulky Items  Self Service    90004        OLYMPIC\n",
       "2            1    113  Graffiti Removal  Self Service    91324     DEVONSHIRE"
      ]
     },
     "execution_count": 10,
     "metadata": {},
     "output_type": "execute_result"
    }
   ],
   "source": [
    "dfsr.head(2)"
   ]
  },
  {
   "cell_type": "code",
   "execution_count": 11,
   "metadata": {},
   "outputs": [
    {
     "data": {
      "text/plain": [
       "Bulky Items                   591007\n",
       "Graffiti Removal              320761\n",
       "Illegal Dumping Pickup        120932\n",
       "Metal/Household Appliances    101799\n",
       "Homeless Encampment            54922\n",
       "Electronic Waste               38056\n",
       "Dead Animal Removal            25059\n",
       "Other                          17620\n",
       "Single Streetlight Issue       11908\n",
       "Multiple Streetlight Issue      7892\n",
       "Report Water Waste              1044\n",
       "Feedback                         644\n",
       "Name: RequestType, dtype: int64"
      ]
     },
     "execution_count": 11,
     "metadata": {},
     "output_type": "execute_result"
    }
   ],
   "source": [
    "\n",
    "dfsr.RequestType.value_counts()"
   ]
  },
  {
   "cell_type": "code",
   "execution_count": 12,
   "metadata": {},
   "outputs": [
    {
     "data": {
      "text/plain": [
       "Call                             601086\n",
       "Mobile App                       318003\n",
       "Driver Self Report               198142\n",
       "Self Service                     168679\n",
       "Email                              4295\n",
       "Council's Office                    841\n",
       "Voicemail                           316\n",
       "Twitter                             108\n",
       "Walk-in                              79\n",
       "Web Form                             26\n",
       "Fax                                  25\n",
       "Mayor's Office                       25\n",
       "Queue Initiated Customer Call        10\n",
       "City Attorney                         4\n",
       "Letter                                2\n",
       "Radio                                 1\n",
       "TTY/ NexTalk                          1\n",
       "Social                                1\n",
       "Name: RequestSource, dtype: int64"
      ]
     },
     "execution_count": 12,
     "metadata": {},
     "output_type": "execute_result"
    }
   ],
   "source": [
    "dfsr.RequestSource.value_counts()"
   ]
  },
  {
   "cell_type": "markdown",
   "metadata": {},
   "source": [
    "#### drop rows with frequency less than 10"
   ]
  },
  {
   "cell_type": "code",
   "execution_count": 13,
   "metadata": {},
   "outputs": [],
   "source": [
    "dfsr = dfsr[dfsr.groupby('RequestSource')['RequestSource'].transform('size') > 9]"
   ]
  },
  {
   "cell_type": "code",
   "execution_count": 14,
   "metadata": {},
   "outputs": [
    {
     "data": {
      "text/plain": [
       "Call                             601086\n",
       "Mobile App                       318003\n",
       "Driver Self Report               198142\n",
       "Self Service                     168679\n",
       "Email                              4295\n",
       "Council's Office                    841\n",
       "Voicemail                           316\n",
       "Twitter                             108\n",
       "Walk-in                              79\n",
       "Web Form                             26\n",
       "Fax                                  25\n",
       "Mayor's Office                       25\n",
       "Queue Initiated Customer Call        10\n",
       "Name: RequestSource, dtype: int64"
      ]
     },
     "execution_count": 14,
     "metadata": {},
     "output_type": "execute_result"
    }
   ],
   "source": [
    "dfsr.RequestSource.value_counts()"
   ]
  },
  {
   "cell_type": "code",
   "execution_count": 15,
   "metadata": {},
   "outputs": [
    {
     "data": {
      "text/html": [
       "<div>\n",
       "<style scoped>\n",
       "    .dataframe tbody tr th:only-of-type {\n",
       "        vertical-align: middle;\n",
       "    }\n",
       "\n",
       "    .dataframe tbody tr th {\n",
       "        vertical-align: top;\n",
       "    }\n",
       "\n",
       "    .dataframe thead th {\n",
       "        text-align: right;\n",
       "    }\n",
       "</style>\n",
       "<table border=\"1\" class=\"dataframe\">\n",
       "  <thead>\n",
       "    <tr style=\"text-align: right;\">\n",
       "      <th></th>\n",
       "      <th>CreatedDate</th>\n",
       "      <th>NC_ID</th>\n",
       "      <th>RequestType</th>\n",
       "      <th>RequestSource</th>\n",
       "      <th>ZipCode</th>\n",
       "      <th>PolicePrecinct</th>\n",
       "    </tr>\n",
       "  </thead>\n",
       "  <tbody>\n",
       "    <tr>\n",
       "      <th>0</th>\n",
       "      <td>1</td>\n",
       "      <td>119</td>\n",
       "      <td>Bulky Items</td>\n",
       "      <td>Self Service</td>\n",
       "      <td>90004</td>\n",
       "      <td>OLYMPIC</td>\n",
       "    </tr>\n",
       "    <tr>\n",
       "      <th>2</th>\n",
       "      <td>1</td>\n",
       "      <td>113</td>\n",
       "      <td>Graffiti Removal</td>\n",
       "      <td>Self Service</td>\n",
       "      <td>91324</td>\n",
       "      <td>DEVONSHIRE</td>\n",
       "    </tr>\n",
       "  </tbody>\n",
       "</table>\n",
       "</div>"
      ],
      "text/plain": [
       "   CreatedDate  NC_ID       RequestType RequestSource  ZipCode PolicePrecinct\n",
       "0            1    119       Bulky Items  Self Service    90004        OLYMPIC\n",
       "2            1    113  Graffiti Removal  Self Service    91324     DEVONSHIRE"
      ]
     },
     "execution_count": 15,
     "metadata": {},
     "output_type": "execute_result"
    }
   ],
   "source": [
    "dfsr.head(2)"
   ]
  },
  {
   "cell_type": "markdown",
   "metadata": {},
   "source": [
    "### Although NC_ID & ZipCode aren't columns which will be merged with Service Request dataset, don't want to dummify because they are identifiers, not features.  \n",
    "#### The 1s & 0s are summed.  "
   ]
  },
  {
   "cell_type": "code",
   "execution_count": 37,
   "metadata": {},
   "outputs": [
    {
     "name": "stderr",
     "output_type": "stream",
     "text": [
      "C:\\Users\\lizge\\AppData\\Local\\Temp\\ipykernel_7784\\951993213.py:1: FutureWarning: The default value of numeric_only in DataFrameGroupBy.sum is deprecated. In a future version, numeric_only will default to False. Either specify numeric_only or select only columns which should be valid for the function.\n",
      "  dfsr_d1 = pd.concat([dfsr, pd.get_dummies(dfsr, columns=['RequestType', 'RequestSource'])]).groupby(['CreatedDate','PolicePrecinct','NC_ID','ZipCode']).sum().reset_index()\n"
     ]
    },
    {
     "data": {
      "text/html": [
       "<div>\n",
       "<style scoped>\n",
       "    .dataframe tbody tr th:only-of-type {\n",
       "        vertical-align: middle;\n",
       "    }\n",
       "\n",
       "    .dataframe tbody tr th {\n",
       "        vertical-align: top;\n",
       "    }\n",
       "\n",
       "    .dataframe thead th {\n",
       "        text-align: right;\n",
       "    }\n",
       "</style>\n",
       "<table border=\"1\" class=\"dataframe\">\n",
       "  <thead>\n",
       "    <tr style=\"text-align: right;\">\n",
       "      <th></th>\n",
       "      <th>CreatedDate</th>\n",
       "      <th>PolicePrecinct</th>\n",
       "      <th>NC_ID</th>\n",
       "      <th>ZipCode</th>\n",
       "      <th>RequestType_Bulky Items</th>\n",
       "      <th>RequestType_Dead Animal Removal</th>\n",
       "      <th>RequestType_Electronic Waste</th>\n",
       "      <th>RequestType_Feedback</th>\n",
       "      <th>RequestType_Graffiti Removal</th>\n",
       "      <th>RequestType_Homeless Encampment</th>\n",
       "      <th>RequestType_Illegal Dumping Pickup</th>\n",
       "      <th>RequestType_Metal/Household Appliances</th>\n",
       "      <th>RequestType_Multiple Streetlight Issue</th>\n",
       "      <th>RequestType_Other</th>\n",
       "      <th>RequestType_Report Water Waste</th>\n",
       "      <th>RequestType_Single Streetlight Issue</th>\n",
       "      <th>RequestSource_Call</th>\n",
       "      <th>RequestSource_Council's Office</th>\n",
       "      <th>RequestSource_Driver Self Report</th>\n",
       "      <th>RequestSource_Email</th>\n",
       "      <th>RequestSource_Fax</th>\n",
       "      <th>RequestSource_Mayor's Office</th>\n",
       "      <th>RequestSource_Mobile App</th>\n",
       "      <th>RequestSource_Queue Initiated Customer Call</th>\n",
       "      <th>RequestSource_Self Service</th>\n",
       "      <th>RequestSource_Twitter</th>\n",
       "      <th>RequestSource_Voicemail</th>\n",
       "      <th>RequestSource_Walk-in</th>\n",
       "      <th>RequestSource_Web Form</th>\n",
       "    </tr>\n",
       "  </thead>\n",
       "  <tbody>\n",
       "    <tr>\n",
       "      <th>0</th>\n",
       "      <td>1</td>\n",
       "      <td>77TH STREET</td>\n",
       "      <td>80</td>\n",
       "      <td>90043</td>\n",
       "      <td>478.0</td>\n",
       "      <td>19.0</td>\n",
       "      <td>36.0</td>\n",
       "      <td>0.0</td>\n",
       "      <td>28.0</td>\n",
       "      <td>3.0</td>\n",
       "      <td>68.0</td>\n",
       "      <td>91.0</td>\n",
       "      <td>0.0</td>\n",
       "      <td>10.0</td>\n",
       "      <td>0.0</td>\n",
       "      <td>10.0</td>\n",
       "      <td>590.0</td>\n",
       "      <td>0.0</td>\n",
       "      <td>5.0</td>\n",
       "      <td>1.0</td>\n",
       "      <td>0.0</td>\n",
       "      <td>0.0</td>\n",
       "      <td>91.0</td>\n",
       "      <td>0.0</td>\n",
       "      <td>56.0</td>\n",
       "      <td>0.0</td>\n",
       "      <td>0.0</td>\n",
       "      <td>0.0</td>\n",
       "      <td>0.0</td>\n",
       "    </tr>\n",
       "    <tr>\n",
       "      <th>1</th>\n",
       "      <td>1</td>\n",
       "      <td>77TH STREET</td>\n",
       "      <td>80</td>\n",
       "      <td>90047</td>\n",
       "      <td>12.0</td>\n",
       "      <td>0.0</td>\n",
       "      <td>1.0</td>\n",
       "      <td>0.0</td>\n",
       "      <td>1.0</td>\n",
       "      <td>1.0</td>\n",
       "      <td>3.0</td>\n",
       "      <td>3.0</td>\n",
       "      <td>0.0</td>\n",
       "      <td>0.0</td>\n",
       "      <td>0.0</td>\n",
       "      <td>0.0</td>\n",
       "      <td>20.0</td>\n",
       "      <td>0.0</td>\n",
       "      <td>0.0</td>\n",
       "      <td>0.0</td>\n",
       "      <td>0.0</td>\n",
       "      <td>0.0</td>\n",
       "      <td>1.0</td>\n",
       "      <td>0.0</td>\n",
       "      <td>0.0</td>\n",
       "      <td>0.0</td>\n",
       "      <td>0.0</td>\n",
       "      <td>0.0</td>\n",
       "      <td>0.0</td>\n",
       "    </tr>\n",
       "    <tr>\n",
       "      <th>2</th>\n",
       "      <td>1</td>\n",
       "      <td>77TH STREET</td>\n",
       "      <td>80</td>\n",
       "      <td>90056</td>\n",
       "      <td>4.0</td>\n",
       "      <td>0.0</td>\n",
       "      <td>0.0</td>\n",
       "      <td>0.0</td>\n",
       "      <td>0.0</td>\n",
       "      <td>0.0</td>\n",
       "      <td>0.0</td>\n",
       "      <td>0.0</td>\n",
       "      <td>0.0</td>\n",
       "      <td>0.0</td>\n",
       "      <td>0.0</td>\n",
       "      <td>0.0</td>\n",
       "      <td>4.0</td>\n",
       "      <td>0.0</td>\n",
       "      <td>0.0</td>\n",
       "      <td>0.0</td>\n",
       "      <td>0.0</td>\n",
       "      <td>0.0</td>\n",
       "      <td>0.0</td>\n",
       "      <td>0.0</td>\n",
       "      <td>0.0</td>\n",
       "      <td>0.0</td>\n",
       "      <td>0.0</td>\n",
       "      <td>0.0</td>\n",
       "      <td>0.0</td>\n",
       "    </tr>\n",
       "    <tr>\n",
       "      <th>3</th>\n",
       "      <td>1</td>\n",
       "      <td>77TH STREET</td>\n",
       "      <td>80</td>\n",
       "      <td>90062</td>\n",
       "      <td>0.0</td>\n",
       "      <td>0.0</td>\n",
       "      <td>0.0</td>\n",
       "      <td>0.0</td>\n",
       "      <td>1.0</td>\n",
       "      <td>3.0</td>\n",
       "      <td>1.0</td>\n",
       "      <td>0.0</td>\n",
       "      <td>0.0</td>\n",
       "      <td>0.0</td>\n",
       "      <td>0.0</td>\n",
       "      <td>0.0</td>\n",
       "      <td>1.0</td>\n",
       "      <td>0.0</td>\n",
       "      <td>0.0</td>\n",
       "      <td>0.0</td>\n",
       "      <td>0.0</td>\n",
       "      <td>0.0</td>\n",
       "      <td>3.0</td>\n",
       "      <td>0.0</td>\n",
       "      <td>1.0</td>\n",
       "      <td>0.0</td>\n",
       "      <td>0.0</td>\n",
       "      <td>0.0</td>\n",
       "      <td>0.0</td>\n",
       "    </tr>\n",
       "    <tr>\n",
       "      <th>4</th>\n",
       "      <td>1</td>\n",
       "      <td>77TH STREET</td>\n",
       "      <td>80</td>\n",
       "      <td>90305</td>\n",
       "      <td>0.0</td>\n",
       "      <td>1.0</td>\n",
       "      <td>0.0</td>\n",
       "      <td>0.0</td>\n",
       "      <td>4.0</td>\n",
       "      <td>0.0</td>\n",
       "      <td>0.0</td>\n",
       "      <td>0.0</td>\n",
       "      <td>0.0</td>\n",
       "      <td>0.0</td>\n",
       "      <td>0.0</td>\n",
       "      <td>0.0</td>\n",
       "      <td>2.0</td>\n",
       "      <td>0.0</td>\n",
       "      <td>1.0</td>\n",
       "      <td>0.0</td>\n",
       "      <td>0.0</td>\n",
       "      <td>0.0</td>\n",
       "      <td>2.0</td>\n",
       "      <td>0.0</td>\n",
       "      <td>0.0</td>\n",
       "      <td>0.0</td>\n",
       "      <td>0.0</td>\n",
       "      <td>0.0</td>\n",
       "      <td>0.0</td>\n",
       "    </tr>\n",
       "  </tbody>\n",
       "</table>\n",
       "</div>"
      ],
      "text/plain": [
       "   CreatedDate PolicePrecinct  NC_ID  ZipCode  RequestType_Bulky Items  \\\n",
       "0            1    77TH STREET     80    90043                    478.0   \n",
       "1            1    77TH STREET     80    90047                     12.0   \n",
       "2            1    77TH STREET     80    90056                      4.0   \n",
       "3            1    77TH STREET     80    90062                      0.0   \n",
       "4            1    77TH STREET     80    90305                      0.0   \n",
       "\n",
       "   RequestType_Dead Animal Removal  RequestType_Electronic Waste  \\\n",
       "0                             19.0                          36.0   \n",
       "1                              0.0                           1.0   \n",
       "2                              0.0                           0.0   \n",
       "3                              0.0                           0.0   \n",
       "4                              1.0                           0.0   \n",
       "\n",
       "   RequestType_Feedback  RequestType_Graffiti Removal  \\\n",
       "0                   0.0                          28.0   \n",
       "1                   0.0                           1.0   \n",
       "2                   0.0                           0.0   \n",
       "3                   0.0                           1.0   \n",
       "4                   0.0                           4.0   \n",
       "\n",
       "   RequestType_Homeless Encampment  RequestType_Illegal Dumping Pickup  \\\n",
       "0                              3.0                                68.0   \n",
       "1                              1.0                                 3.0   \n",
       "2                              0.0                                 0.0   \n",
       "3                              3.0                                 1.0   \n",
       "4                              0.0                                 0.0   \n",
       "\n",
       "   RequestType_Metal/Household Appliances  \\\n",
       "0                                    91.0   \n",
       "1                                     3.0   \n",
       "2                                     0.0   \n",
       "3                                     0.0   \n",
       "4                                     0.0   \n",
       "\n",
       "   RequestType_Multiple Streetlight Issue  RequestType_Other  \\\n",
       "0                                     0.0               10.0   \n",
       "1                                     0.0                0.0   \n",
       "2                                     0.0                0.0   \n",
       "3                                     0.0                0.0   \n",
       "4                                     0.0                0.0   \n",
       "\n",
       "   RequestType_Report Water Waste  RequestType_Single Streetlight Issue  \\\n",
       "0                             0.0                                  10.0   \n",
       "1                             0.0                                   0.0   \n",
       "2                             0.0                                   0.0   \n",
       "3                             0.0                                   0.0   \n",
       "4                             0.0                                   0.0   \n",
       "\n",
       "   RequestSource_Call  RequestSource_Council's Office  \\\n",
       "0               590.0                             0.0   \n",
       "1                20.0                             0.0   \n",
       "2                 4.0                             0.0   \n",
       "3                 1.0                             0.0   \n",
       "4                 2.0                             0.0   \n",
       "\n",
       "   RequestSource_Driver Self Report  RequestSource_Email  RequestSource_Fax  \\\n",
       "0                               5.0                  1.0                0.0   \n",
       "1                               0.0                  0.0                0.0   \n",
       "2                               0.0                  0.0                0.0   \n",
       "3                               0.0                  0.0                0.0   \n",
       "4                               1.0                  0.0                0.0   \n",
       "\n",
       "   RequestSource_Mayor's Office  RequestSource_Mobile App  \\\n",
       "0                           0.0                      91.0   \n",
       "1                           0.0                       1.0   \n",
       "2                           0.0                       0.0   \n",
       "3                           0.0                       3.0   \n",
       "4                           0.0                       2.0   \n",
       "\n",
       "   RequestSource_Queue Initiated Customer Call  RequestSource_Self Service  \\\n",
       "0                                          0.0                        56.0   \n",
       "1                                          0.0                         0.0   \n",
       "2                                          0.0                         0.0   \n",
       "3                                          0.0                         1.0   \n",
       "4                                          0.0                         0.0   \n",
       "\n",
       "   RequestSource_Twitter  RequestSource_Voicemail  RequestSource_Walk-in  \\\n",
       "0                    0.0                      0.0                    0.0   \n",
       "1                    0.0                      0.0                    0.0   \n",
       "2                    0.0                      0.0                    0.0   \n",
       "3                    0.0                      0.0                    0.0   \n",
       "4                    0.0                      0.0                    0.0   \n",
       "\n",
       "   RequestSource_Web Form  \n",
       "0                     0.0  \n",
       "1                     0.0  \n",
       "2                     0.0  \n",
       "3                     0.0  \n",
       "4                     0.0  "
      ]
     },
     "execution_count": 37,
     "metadata": {},
     "output_type": "execute_result"
    }
   ],
   "source": [
    "dfsr_d1 = pd.concat([dfsr, pd.get_dummies(dfsr, columns=['RequestType', 'RequestSource'])]).groupby(['CreatedDate','PolicePrecinct','NC_ID','ZipCode']).sum().reset_index()\n",
    "dfsr_d1.head()"
   ]
  },
  {
   "cell_type": "code",
   "execution_count": 38,
   "metadata": {},
   "outputs": [
    {
     "data": {
      "text/plain": [
       "(5943, 29)"
      ]
     },
     "execution_count": 38,
     "metadata": {},
     "output_type": "execute_result"
    }
   ],
   "source": [
    "dfsr_d1.shape"
   ]
  },
  {
   "cell_type": "code",
   "execution_count": 43,
   "metadata": {},
   "outputs": [],
   "source": [
    "dfsr_d1.to_csv(r'C:\\Documents\\projects\\HackLA\\311\\data\\WorkedonData\\sr_2019_grpby_dummies2.csv')"
   ]
  },
  {
   "cell_type": "code",
   "execution_count": null,
   "metadata": {},
   "outputs": [],
   "source": []
  }
 ],
 "metadata": {
  "kernelspec": {
   "display_name": "Python 3.10.6 ('geo_env2': conda)",
   "language": "python",
   "name": "python3"
  },
  "language_info": {
   "codemirror_mode": {
    "name": "ipython",
    "version": 3
   },
   "file_extension": ".py",
   "mimetype": "text/x-python",
   "name": "python",
   "nbconvert_exporter": "python",
   "pygments_lexer": "ipython3",
   "version": "3.10.6"
  },
  "orig_nbformat": 4,
  "vscode": {
   "interpreter": {
    "hash": "5e7dd09eb9e9fc024760a0efd762b9c997a175f9ea9e46b6f4e0f2155c6575a7"
   }
  }
 },
 "nbformat": 4,
 "nbformat_minor": 2
}
