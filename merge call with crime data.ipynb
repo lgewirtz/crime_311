{
 "cells": [
  {
   "cell_type": "markdown",
   "metadata": {},
   "source": [
    "#### Merge 2019 call data with 2019 crime data"
   ]
  },
  {
   "cell_type": "code",
   "execution_count": 1,
   "metadata": {},
   "outputs": [],
   "source": [
    "import pandas as pd"
   ]
  },
  {
   "cell_type": "code",
   "execution_count": 2,
   "metadata": {},
   "outputs": [],
   "source": [
    "#import 2019 call data\n",
    "dfcall = pd.read_csv(r'C:\\Documents\\projects\\HackLA\\311\\data\\WorkedonData\\clean_call_2019.csv', low_memory=False, index_col=0)"
   ]
  },
  {
   "cell_type": "code",
   "execution_count": 3,
   "metadata": {},
   "outputs": [
    {
     "data": {
      "text/html": [
       "<div>\n",
       "<style scoped>\n",
       "    .dataframe tbody tr th:only-of-type {\n",
       "        vertical-align: middle;\n",
       "    }\n",
       "\n",
       "    .dataframe tbody tr th {\n",
       "        vertical-align: top;\n",
       "    }\n",
       "\n",
       "    .dataframe thead th {\n",
       "        text-align: right;\n",
       "    }\n",
       "</style>\n",
       "<table border=\"1\" class=\"dataframe\">\n",
       "  <thead>\n",
       "    <tr style=\"text-align: right;\">\n",
       "      <th></th>\n",
       "      <th>requestId</th>\n",
       "      <th>srnumber</th>\n",
       "      <th>councilId</th>\n",
       "      <th>councilName</th>\n",
       "      <th>typeId</th>\n",
       "      <th>typeName</th>\n",
       "      <th>agencyId</th>\n",
       "      <th>agencyName</th>\n",
       "      <th>sourceId</th>\n",
       "      <th>sourceName</th>\n",
       "      <th>createdDate</th>\n",
       "      <th>closedDate</th>\n",
       "      <th>address</th>\n",
       "      <th>AreaName</th>\n",
       "    </tr>\n",
       "  </thead>\n",
       "  <tbody>\n",
       "    <tr>\n",
       "      <th>0</th>\n",
       "      <td>1</td>\n",
       "      <td>1-1262692791</td>\n",
       "      <td>32</td>\n",
       "      <td>Greater Wilshire</td>\n",
       "      <td>4</td>\n",
       "      <td>Bulky Items</td>\n",
       "      <td>2</td>\n",
       "      <td>Sanitation Bureau</td>\n",
       "      <td>17</td>\n",
       "      <td>Website</td>\n",
       "      <td>2019-01-01T00:02:00</td>\n",
       "      <td>2019-01-04 11:03:00</td>\n",
       "      <td>616 N GRAMERCY PL, 90004</td>\n",
       "      <td>Olympic</td>\n",
       "    </tr>\n",
       "    <tr>\n",
       "      <th>1</th>\n",
       "      <td>3</td>\n",
       "      <td>1-1262693571</td>\n",
       "      <td>60</td>\n",
       "      <td>Northridge West</td>\n",
       "      <td>1</td>\n",
       "      <td>Graffiti</td>\n",
       "      <td>4</td>\n",
       "      <td>Office of Community Beautification</td>\n",
       "      <td>17</td>\n",
       "      <td>Website</td>\n",
       "      <td>2019-01-01T00:10:00</td>\n",
       "      <td>2019-01-03 00:27:00</td>\n",
       "      <td>9167 N RESEDA BLVD, 91324</td>\n",
       "      <td>Devonshire</td>\n",
       "    </tr>\n",
       "  </tbody>\n",
       "</table>\n",
       "</div>"
      ],
      "text/plain": [
       "   requestId      srnumber  councilId       councilName  typeId     typeName  \\\n",
       "0          1  1-1262692791         32  Greater Wilshire       4  Bulky Items   \n",
       "1          3  1-1262693571         60   Northridge West       1     Graffiti   \n",
       "\n",
       "   agencyId                          agencyName  sourceId sourceName  \\\n",
       "0         2                   Sanitation Bureau        17    Website   \n",
       "1         4  Office of Community Beautification        17    Website   \n",
       "\n",
       "           createdDate           closedDate                    address  \\\n",
       "0  2019-01-01T00:02:00  2019-01-04 11:03:00   616 N GRAMERCY PL, 90004   \n",
       "1  2019-01-01T00:10:00  2019-01-03 00:27:00  9167 N RESEDA BLVD, 91324   \n",
       "\n",
       "     AreaName  \n",
       "0     Olympic  \n",
       "1  Devonshire  "
      ]
     },
     "execution_count": 3,
     "metadata": {},
     "output_type": "execute_result"
    }
   ],
   "source": [
    "dfcall.head(2)"
   ]
  },
  {
   "cell_type": "code",
   "execution_count": 4,
   "metadata": {},
   "outputs": [],
   "source": [
    "#import 2019 crime data\n",
    "dfcrime = pd.read_csv(r'C:\\Documents\\projects\\HackLA\\311\\data\\WorkedonData\\cr2019b.csv', low_memory=False, index_col=0)"
   ]
  },
  {
   "cell_type": "code",
   "execution_count": 5,
   "metadata": {},
   "outputs": [
    {
     "name": "stdout",
     "output_type": "stream",
     "text": [
      "<class 'pandas.core.frame.DataFrame'>\n",
      "Int64Index: 213315 entries, 1836033 to 2119796\n",
      "Data columns (total 8 columns):\n",
      " #   Column       Non-Null Count   Dtype  \n",
      "---  ------       --------------   -----  \n",
      " 0   DATE OCC     213315 non-null  object \n",
      " 1   TIME OCC     213315 non-null  float64\n",
      " 2   AreaName     213315 non-null  object \n",
      " 3   Rpt Dist No  213315 non-null  float64\n",
      " 4   Crm Cd       213315 non-null  float64\n",
      " 5   Crm Cd Desc  213315 non-null  object \n",
      " 6   Status Desc  213315 non-null  object \n",
      " 7   LOCATION     213315 non-null  object \n",
      "dtypes: float64(3), object(5)\n",
      "memory usage: 14.6+ MB\n"
     ]
    }
   ],
   "source": [
    "dfcrime.info()"
   ]
  },
  {
   "cell_type": "code",
   "execution_count": 6,
   "metadata": {},
   "outputs": [],
   "source": [
    "dfcrime['TIME OCC'] = dfcrime['TIME OCC'].astype('float16')"
   ]
  },
  {
   "cell_type": "code",
   "execution_count": 7,
   "metadata": {},
   "outputs": [],
   "source": [
    "dfcrime['Rpt Dist No'] = dfcrime['Rpt Dist No'].astype('float16')"
   ]
  },
  {
   "cell_type": "code",
   "execution_count": 8,
   "metadata": {},
   "outputs": [],
   "source": [
    "dfcrime['Crm Cd'] = dfcrime['Crm Cd'].astype('float16')"
   ]
  },
  {
   "cell_type": "code",
   "execution_count": 9,
   "metadata": {},
   "outputs": [
    {
     "name": "stdout",
     "output_type": "stream",
     "text": [
      "<class 'pandas.core.frame.DataFrame'>\n",
      "Int64Index: 213315 entries, 1836033 to 2119796\n",
      "Data columns (total 8 columns):\n",
      " #   Column       Non-Null Count   Dtype  \n",
      "---  ------       --------------   -----  \n",
      " 0   DATE OCC     213315 non-null  object \n",
      " 1   TIME OCC     213315 non-null  float16\n",
      " 2   AreaName     213315 non-null  object \n",
      " 3   Rpt Dist No  213315 non-null  float16\n",
      " 4   Crm Cd       213315 non-null  float16\n",
      " 5   Crm Cd Desc  213315 non-null  object \n",
      " 6   Status Desc  213315 non-null  object \n",
      " 7   LOCATION     213315 non-null  object \n",
      "dtypes: float16(3), object(5)\n",
      "memory usage: 11.0+ MB\n"
     ]
    }
   ],
   "source": [
    "dfcrime.info()"
   ]
  },
  {
   "cell_type": "code",
   "execution_count": 10,
   "metadata": {},
   "outputs": [
    {
     "data": {
      "text/html": [
       "<div>\n",
       "<style scoped>\n",
       "    .dataframe tbody tr th:only-of-type {\n",
       "        vertical-align: middle;\n",
       "    }\n",
       "\n",
       "    .dataframe tbody tr th {\n",
       "        vertical-align: top;\n",
       "    }\n",
       "\n",
       "    .dataframe thead th {\n",
       "        text-align: right;\n",
       "    }\n",
       "</style>\n",
       "<table border=\"1\" class=\"dataframe\">\n",
       "  <thead>\n",
       "    <tr style=\"text-align: right;\">\n",
       "      <th></th>\n",
       "      <th>DATE OCC</th>\n",
       "      <th>TIME OCC</th>\n",
       "      <th>AreaName</th>\n",
       "      <th>Rpt Dist No</th>\n",
       "      <th>Crm Cd</th>\n",
       "      <th>Crm Cd Desc</th>\n",
       "      <th>Status Desc</th>\n",
       "      <th>LOCATION</th>\n",
       "    </tr>\n",
       "  </thead>\n",
       "  <tbody>\n",
       "    <tr>\n",
       "      <th>1836033</th>\n",
       "      <td>2019-06-28</td>\n",
       "      <td>2200.0</td>\n",
       "      <td>Wilshire</td>\n",
       "      <td>702.0</td>\n",
       "      <td>510.0</td>\n",
       "      <td>VEHICLE - STOLEN</td>\n",
       "      <td>Invest Cont</td>\n",
       "      <td>WARING</td>\n",
       "    </tr>\n",
       "    <tr>\n",
       "      <th>1836116</th>\n",
       "      <td>2019-05-23</td>\n",
       "      <td>1930.0</td>\n",
       "      <td>Mission</td>\n",
       "      <td>1964.0</td>\n",
       "      <td>510.0</td>\n",
       "      <td>VEHICLE - STOLEN</td>\n",
       "      <td>Invest Cont</td>\n",
       "      <td>9200    TOBIAS                       AV</td>\n",
       "    </tr>\n",
       "  </tbody>\n",
       "</table>\n",
       "</div>"
      ],
      "text/plain": [
       "           DATE OCC  TIME OCC  AreaName  Rpt Dist No  Crm Cd  \\\n",
       "1836033  2019-06-28    2200.0  Wilshire        702.0   510.0   \n",
       "1836116  2019-05-23    1930.0   Mission       1964.0   510.0   \n",
       "\n",
       "              Crm Cd Desc  Status Desc  \\\n",
       "1836033  VEHICLE - STOLEN  Invest Cont   \n",
       "1836116  VEHICLE - STOLEN  Invest Cont   \n",
       "\n",
       "                                        LOCATION  \n",
       "1836033                                   WARING  \n",
       "1836116  9200    TOBIAS                       AV  "
      ]
     },
     "execution_count": 10,
     "metadata": {},
     "output_type": "execute_result"
    }
   ],
   "source": [
    "dfcrime.head(2)"
   ]
  },
  {
   "cell_type": "code",
   "execution_count": 11,
   "metadata": {},
   "outputs": [
    {
     "data": {
      "text/html": [
       "<div>\n",
       "<style scoped>\n",
       "    .dataframe tbody tr th:only-of-type {\n",
       "        vertical-align: middle;\n",
       "    }\n",
       "\n",
       "    .dataframe tbody tr th {\n",
       "        vertical-align: top;\n",
       "    }\n",
       "\n",
       "    .dataframe thead th {\n",
       "        text-align: right;\n",
       "    }\n",
       "</style>\n",
       "<table border=\"1\" class=\"dataframe\">\n",
       "  <thead>\n",
       "    <tr style=\"text-align: right;\">\n",
       "      <th></th>\n",
       "      <th>requestId</th>\n",
       "      <th>srnumber</th>\n",
       "      <th>councilId</th>\n",
       "      <th>councilName</th>\n",
       "      <th>typeId</th>\n",
       "      <th>typeName</th>\n",
       "      <th>agencyId</th>\n",
       "      <th>agencyName</th>\n",
       "      <th>sourceId</th>\n",
       "      <th>sourceName</th>\n",
       "      <th>createdDate</th>\n",
       "      <th>closedDate</th>\n",
       "      <th>address</th>\n",
       "      <th>AreaName</th>\n",
       "    </tr>\n",
       "  </thead>\n",
       "  <tbody>\n",
       "    <tr>\n",
       "      <th>0</th>\n",
       "      <td>1</td>\n",
       "      <td>1-1262692791</td>\n",
       "      <td>32</td>\n",
       "      <td>Greater Wilshire</td>\n",
       "      <td>4</td>\n",
       "      <td>Bulky Items</td>\n",
       "      <td>2</td>\n",
       "      <td>Sanitation Bureau</td>\n",
       "      <td>17</td>\n",
       "      <td>Website</td>\n",
       "      <td>2019-01-01T00:02:00</td>\n",
       "      <td>2019-01-04 11:03:00</td>\n",
       "      <td>616 N GRAMERCY PL, 90004</td>\n",
       "      <td>Olympic</td>\n",
       "    </tr>\n",
       "    <tr>\n",
       "      <th>1</th>\n",
       "      <td>3</td>\n",
       "      <td>1-1262693571</td>\n",
       "      <td>60</td>\n",
       "      <td>Northridge West</td>\n",
       "      <td>1</td>\n",
       "      <td>Graffiti</td>\n",
       "      <td>4</td>\n",
       "      <td>Office of Community Beautification</td>\n",
       "      <td>17</td>\n",
       "      <td>Website</td>\n",
       "      <td>2019-01-01T00:10:00</td>\n",
       "      <td>2019-01-03 00:27:00</td>\n",
       "      <td>9167 N RESEDA BLVD, 91324</td>\n",
       "      <td>Devonshire</td>\n",
       "    </tr>\n",
       "  </tbody>\n",
       "</table>\n",
       "</div>"
      ],
      "text/plain": [
       "   requestId      srnumber  councilId       councilName  typeId     typeName  \\\n",
       "0          1  1-1262692791         32  Greater Wilshire       4  Bulky Items   \n",
       "1          3  1-1262693571         60   Northridge West       1     Graffiti   \n",
       "\n",
       "   agencyId                          agencyName  sourceId sourceName  \\\n",
       "0         2                   Sanitation Bureau        17    Website   \n",
       "1         4  Office of Community Beautification        17    Website   \n",
       "\n",
       "           createdDate           closedDate                    address  \\\n",
       "0  2019-01-01T00:02:00  2019-01-04 11:03:00   616 N GRAMERCY PL, 90004   \n",
       "1  2019-01-01T00:10:00  2019-01-03 00:27:00  9167 N RESEDA BLVD, 91324   \n",
       "\n",
       "     AreaName  \n",
       "0     Olympic  \n",
       "1  Devonshire  "
      ]
     },
     "execution_count": 11,
     "metadata": {},
     "output_type": "execute_result"
    }
   ],
   "source": [
    "dfcall.head(2)"
   ]
  },
  {
   "cell_type": "code",
   "execution_count": 13,
   "metadata": {},
   "outputs": [
    {
     "name": "stdout",
     "output_type": "stream",
     "text": [
      "<class 'pandas.core.frame.DataFrame'>\n",
      "Int64Index: 1299529 entries, 0 to 1299528\n",
      "Data columns (total 14 columns):\n",
      " #   Column       Non-Null Count    Dtype \n",
      "---  ------       --------------    ----- \n",
      " 0   requestId    1299529 non-null  int64 \n",
      " 1   srnumber     1299529 non-null  object\n",
      " 2   councilId    1299529 non-null  int64 \n",
      " 3   councilName  1299529 non-null  object\n",
      " 4   typeId       1299529 non-null  int64 \n",
      " 5   typeName     1299529 non-null  object\n",
      " 6   agencyId     1299529 non-null  int64 \n",
      " 7   agencyName   1299529 non-null  object\n",
      " 8   sourceId     1299529 non-null  int64 \n",
      " 9   sourceName   1299529 non-null  object\n",
      " 10  createdDate  1299529 non-null  object\n",
      " 11  closedDate   1298644 non-null  object\n",
      " 12  address      1299529 non-null  object\n",
      " 13  AreaName     1299529 non-null  object\n",
      "dtypes: int64(5), object(9)\n",
      "memory usage: 148.7+ MB\n"
     ]
    }
   ],
   "source": [
    "dfcall.info()"
   ]
  },
  {
   "cell_type": "code",
   "execution_count": 12,
   "metadata": {},
   "outputs": [],
   "source": [
    "dfcall.drop(['requestId', 'councilId', 'typeId', 'agencyId', 'sourceId'], axis=1, inplace=True)"
   ]
  },
  {
   "cell_type": "code",
   "execution_count": 13,
   "metadata": {},
   "outputs": [
    {
     "data": {
      "text/html": [
       "<div>\n",
       "<style scoped>\n",
       "    .dataframe tbody tr th:only-of-type {\n",
       "        vertical-align: middle;\n",
       "    }\n",
       "\n",
       "    .dataframe tbody tr th {\n",
       "        vertical-align: top;\n",
       "    }\n",
       "\n",
       "    .dataframe thead th {\n",
       "        text-align: right;\n",
       "    }\n",
       "</style>\n",
       "<table border=\"1\" class=\"dataframe\">\n",
       "  <thead>\n",
       "    <tr style=\"text-align: right;\">\n",
       "      <th></th>\n",
       "      <th>srnumber</th>\n",
       "      <th>councilName</th>\n",
       "      <th>typeName</th>\n",
       "      <th>agencyName</th>\n",
       "      <th>sourceName</th>\n",
       "      <th>createdDate</th>\n",
       "      <th>closedDate</th>\n",
       "      <th>address</th>\n",
       "      <th>AreaName</th>\n",
       "    </tr>\n",
       "  </thead>\n",
       "  <tbody>\n",
       "    <tr>\n",
       "      <th>0</th>\n",
       "      <td>1-1262692791</td>\n",
       "      <td>Greater Wilshire</td>\n",
       "      <td>Bulky Items</td>\n",
       "      <td>Sanitation Bureau</td>\n",
       "      <td>Website</td>\n",
       "      <td>2019-01-01T00:02:00</td>\n",
       "      <td>2019-01-04 11:03:00</td>\n",
       "      <td>616 N GRAMERCY PL, 90004</td>\n",
       "      <td>Olympic</td>\n",
       "    </tr>\n",
       "    <tr>\n",
       "      <th>1</th>\n",
       "      <td>1-1262693571</td>\n",
       "      <td>Northridge West</td>\n",
       "      <td>Graffiti</td>\n",
       "      <td>Office of Community Beautification</td>\n",
       "      <td>Website</td>\n",
       "      <td>2019-01-01T00:10:00</td>\n",
       "      <td>2019-01-03 00:27:00</td>\n",
       "      <td>9167 N RESEDA BLVD, 91324</td>\n",
       "      <td>Devonshire</td>\n",
       "    </tr>\n",
       "  </tbody>\n",
       "</table>\n",
       "</div>"
      ],
      "text/plain": [
       "       srnumber       councilName     typeName  \\\n",
       "0  1-1262692791  Greater Wilshire  Bulky Items   \n",
       "1  1-1262693571   Northridge West     Graffiti   \n",
       "\n",
       "                           agencyName sourceName          createdDate  \\\n",
       "0                   Sanitation Bureau    Website  2019-01-01T00:02:00   \n",
       "1  Office of Community Beautification    Website  2019-01-01T00:10:00   \n",
       "\n",
       "            closedDate                    address    AreaName  \n",
       "0  2019-01-04 11:03:00   616 N GRAMERCY PL, 90004     Olympic  \n",
       "1  2019-01-03 00:27:00  9167 N RESEDA BLVD, 91324  Devonshire  "
      ]
     },
     "execution_count": 13,
     "metadata": {},
     "output_type": "execute_result"
    }
   ],
   "source": [
    "dfcall.head(2)"
   ]
  },
  {
   "cell_type": "code",
   "execution_count": 14,
   "metadata": {},
   "outputs": [
    {
     "name": "stdout",
     "output_type": "stream",
     "text": [
      "<class 'pandas.core.frame.DataFrame'>\n",
      "Int64Index: 1299529 entries, 0 to 1299528\n",
      "Data columns (total 9 columns):\n",
      " #   Column       Non-Null Count    Dtype \n",
      "---  ------       --------------    ----- \n",
      " 0   srnumber     1299529 non-null  object\n",
      " 1   councilName  1299529 non-null  object\n",
      " 2   typeName     1299529 non-null  object\n",
      " 3   agencyName   1299529 non-null  object\n",
      " 4   sourceName   1299529 non-null  object\n",
      " 5   createdDate  1299529 non-null  object\n",
      " 6   closedDate   1298644 non-null  object\n",
      " 7   address      1299529 non-null  object\n",
      " 8   AreaName     1299529 non-null  object\n",
      "dtypes: object(9)\n",
      "memory usage: 99.1+ MB\n"
     ]
    }
   ],
   "source": [
    "dfcall.info()"
   ]
  },
  {
   "cell_type": "code",
   "execution_count": 1,
   "metadata": {},
   "outputs": [
    {
     "ename": "NameError",
     "evalue": "name 'dfcall' is not defined",
     "output_type": "error",
     "traceback": [
      "\u001b[1;31m---------------------------------------------------------------------------\u001b[0m",
      "\u001b[1;31mNameError\u001b[0m                                 Traceback (most recent call last)",
      "Cell \u001b[1;32mIn [1], line 1\u001b[0m\n\u001b[1;32m----> 1\u001b[0m df2019 \u001b[38;5;241m=\u001b[39m dfcall\u001b[38;5;241m.\u001b[39mmerge(dfcrime, on \u001b[38;5;241m=\u001b[39m \u001b[38;5;124m'\u001b[39m\u001b[38;5;124mAreaName\u001b[39m\u001b[38;5;124m'\u001b[39m, how \u001b[38;5;241m=\u001b[39m \u001b[38;5;124m'\u001b[39m\u001b[38;5;124minner\u001b[39m\u001b[38;5;124m'\u001b[39m, indicator \u001b[38;5;241m=\u001b[39m \u001b[38;5;28;01mTrue\u001b[39;00m)\n",
      "\u001b[1;31mNameError\u001b[0m: name 'dfcall' is not defined"
     ]
    }
   ],
   "source": [
    "df2019 = dfcall.merge(dfcrime, on = 'AreaName', how = 'inner', indicator = True)"
   ]
  },
  {
   "cell_type": "code",
   "execution_count": 17,
   "metadata": {},
   "outputs": [],
   "source": [
    "#going to save the files and try colab\n",
    "dfcall.to_csv(r'C:\\Documents\\projects\\HackLA\\311\\data\\WorkedonData\\clean_call_2019.csv')"
   ]
  },
  {
   "cell_type": "code",
   "execution_count": 18,
   "metadata": {},
   "outputs": [],
   "source": [
    "dfcrime.to_csv(r'C:\\Documents\\projects\\HackLA\\311\\data\\WorkedonData\\cr2019b.csv')"
   ]
  },
  {
   "cell_type": "code",
   "execution_count": null,
   "metadata": {},
   "outputs": [],
   "source": []
  }
 ],
 "metadata": {
  "kernelspec": {
   "display_name": "Python 3.9.5 ('geo_env')",
   "language": "python",
   "name": "python3"
  },
  "language_info": {
   "codemirror_mode": {
    "name": "ipython",
    "version": 3
   },
   "file_extension": ".py",
   "mimetype": "text/x-python",
   "name": "python",
   "nbconvert_exporter": "python",
   "pygments_lexer": "ipython3",
   "version": "3.9.5"
  },
  "orig_nbformat": 4,
  "vscode": {
   "interpreter": {
    "hash": "ee00fbec3fdb526d149082f969d84b133246770053b4bc19c5f0b88bffeb37b6"
   }
  }
 },
 "nbformat": 4,
 "nbformat_minor": 2
}
