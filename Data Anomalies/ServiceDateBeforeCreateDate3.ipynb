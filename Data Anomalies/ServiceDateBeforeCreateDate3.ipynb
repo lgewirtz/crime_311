{
 "cells": [
  {
   "cell_type": "code",
   "execution_count": 1,
   "id": "dd12e6dc",
   "metadata": {},
   "outputs": [],
   "source": [
    "import numpy as np\n",
    "import pandas as pd\n",
    "from datetime import datetime as dt"
   ]
  },
  {
   "cell_type": "markdown",
   "id": "694808aa",
   "metadata": {},
   "source": [
    "<font size=3 color='DarkBlue'> Import 2020 data where all rows with servicedate before 2018, rows with servicedate and closeddate of null are deleted"
   ]
  },
  {
   "cell_type": "code",
   "execution_count": 20,
   "id": "464508e4",
   "metadata": {},
   "outputs": [],
   "source": [
    "\n",
    "df311_2020=pd.read_csv(r'C:\\Documents\\projects\\HackLA\\311\\data\\MyLA311_Service_Request_Data_2020DT2.csv',\n",
    "                       low_memory=False, index_col=0)"
   ]
  },
  {
   "cell_type": "code",
   "execution_count": 21,
   "id": "490c4c47",
   "metadata": {
    "scrolled": true
   },
   "outputs": [
    {
     "data": {
      "text/html": [
       "<div>\n",
       "<style scoped>\n",
       "    .dataframe tbody tr th:only-of-type {\n",
       "        vertical-align: middle;\n",
       "    }\n",
       "\n",
       "    .dataframe tbody tr th {\n",
       "        vertical-align: top;\n",
       "    }\n",
       "\n",
       "    .dataframe thead th {\n",
       "        text-align: right;\n",
       "    }\n",
       "</style>\n",
       "<table border=\"1\" class=\"dataframe\">\n",
       "  <thead>\n",
       "    <tr style=\"text-align: right;\">\n",
       "      <th></th>\n",
       "      <th>SRNumber</th>\n",
       "      <th>CreatedDate</th>\n",
       "      <th>UpdatedDate</th>\n",
       "      <th>ActionTaken</th>\n",
       "      <th>Owner</th>\n",
       "      <th>RequestType</th>\n",
       "      <th>Status</th>\n",
       "      <th>RequestSource</th>\n",
       "      <th>CreatedByUserOrganization</th>\n",
       "      <th>MobileOS</th>\n",
       "      <th>...</th>\n",
       "      <th>Location</th>\n",
       "      <th>TBMPage</th>\n",
       "      <th>TBMColumn</th>\n",
       "      <th>TBMRow</th>\n",
       "      <th>APC</th>\n",
       "      <th>CD</th>\n",
       "      <th>CDMember</th>\n",
       "      <th>NC</th>\n",
       "      <th>NCName</th>\n",
       "      <th>PolicePrecinct</th>\n",
       "    </tr>\n",
       "  </thead>\n",
       "  <tbody>\n",
       "    <tr>\n",
       "      <th>0</th>\n",
       "      <td>1-1523593381</td>\n",
       "      <td>2020-01-01 00:02:00</td>\n",
       "      <td>2020-01-07 12:19:00</td>\n",
       "      <td>SR Created</td>\n",
       "      <td>BOS</td>\n",
       "      <td>Illegal Dumping Pickup</td>\n",
       "      <td>Closed</td>\n",
       "      <td>Call</td>\n",
       "      <td>BOS</td>\n",
       "      <td>NaN</td>\n",
       "      <td>...</td>\n",
       "      <td>(33.988984265, -118.302681205)</td>\n",
       "      <td>673.0</td>\n",
       "      <td>J</td>\n",
       "      <td>5.0</td>\n",
       "      <td>South Los Angeles APC</td>\n",
       "      <td>8.0</td>\n",
       "      <td>Marqueece Harris-Dawson</td>\n",
       "      <td>81.0</td>\n",
       "      <td>EMPOWERMENT CONGRESS CENTRAL AREA NDC</td>\n",
       "      <td>77TH STREET</td>\n",
       "    </tr>\n",
       "    <tr>\n",
       "      <th>1</th>\n",
       "      <td>1-1523590121</td>\n",
       "      <td>2020-01-01 00:05:00</td>\n",
       "      <td>2020-01-02 08:43:00</td>\n",
       "      <td>SR Created</td>\n",
       "      <td>BOS</td>\n",
       "      <td>Illegal Dumping Pickup</td>\n",
       "      <td>Closed</td>\n",
       "      <td>Call</td>\n",
       "      <td>BOS</td>\n",
       "      <td>NaN</td>\n",
       "      <td>...</td>\n",
       "      <td>(34.1940284578, -118.499471638)</td>\n",
       "      <td>531.0</td>\n",
       "      <td>D</td>\n",
       "      <td>6.0</td>\n",
       "      <td>South Valley APC</td>\n",
       "      <td>6.0</td>\n",
       "      <td>Nury Martinez</td>\n",
       "      <td>19.0</td>\n",
       "      <td>LAKE BALBOA NC</td>\n",
       "      <td>WEST VALLEY</td>\n",
       "    </tr>\n",
       "  </tbody>\n",
       "</table>\n",
       "<p>2 rows × 34 columns</p>\n",
       "</div>"
      ],
      "text/plain": [
       "       SRNumber          CreatedDate          UpdatedDate ActionTaken Owner  \\\n",
       "0  1-1523593381  2020-01-01 00:02:00  2020-01-07 12:19:00  SR Created   BOS   \n",
       "1  1-1523590121  2020-01-01 00:05:00  2020-01-02 08:43:00  SR Created   BOS   \n",
       "\n",
       "              RequestType  Status RequestSource CreatedByUserOrganization  \\\n",
       "0  Illegal Dumping Pickup  Closed          Call                       BOS   \n",
       "1  Illegal Dumping Pickup  Closed          Call                       BOS   \n",
       "\n",
       "  MobileOS  ...                         Location TBMPage TBMColumn TBMRow  \\\n",
       "0      NaN  ...   (33.988984265, -118.302681205)   673.0         J    5.0   \n",
       "1      NaN  ...  (34.1940284578, -118.499471638)   531.0         D    6.0   \n",
       "\n",
       "                     APC   CD                 CDMember    NC  \\\n",
       "0  South Los Angeles APC  8.0  Marqueece Harris-Dawson  81.0   \n",
       "1       South Valley APC  6.0            Nury Martinez  19.0   \n",
       "\n",
       "                                  NCName PolicePrecinct  \n",
       "0  EMPOWERMENT CONGRESS CENTRAL AREA NDC    77TH STREET  \n",
       "1                         LAKE BALBOA NC    WEST VALLEY  \n",
       "\n",
       "[2 rows x 34 columns]"
      ]
     },
     "execution_count": 21,
     "metadata": {},
     "output_type": "execute_result"
    }
   ],
   "source": [
    "df311_2020.head(2)"
   ]
  },
  {
   "cell_type": "code",
   "execution_count": 22,
   "id": "97472b68",
   "metadata": {},
   "outputs": [],
   "source": [
    "df311_2020['CreatedDate'] = pd.to_datetime(df311_2020['CreatedDate'])"
   ]
  },
  {
   "cell_type": "code",
   "execution_count": 23,
   "id": "0281d040",
   "metadata": {},
   "outputs": [],
   "source": [
    "df311_2020['UpdatedDate'] = pd.to_datetime(df311_2020['UpdatedDate']) "
   ]
  },
  {
   "cell_type": "code",
   "execution_count": 24,
   "id": "3378781d",
   "metadata": {},
   "outputs": [],
   "source": [
    "df311_2020['ServiceDate'] = pd.to_datetime(df311_2020['ServiceDate']) "
   ]
  },
  {
   "cell_type": "code",
   "execution_count": 25,
   "id": "d58f9d04",
   "metadata": {},
   "outputs": [],
   "source": [
    "df311_2020['ClosedDate'] = pd.to_datetime(df311_2020['ClosedDate']) "
   ]
  },
  {
   "cell_type": "code",
   "execution_count": 26,
   "id": "4402f389",
   "metadata": {},
   "outputs": [
    {
     "data": {
      "text/plain": [
       "SRNumber                             object\n",
       "CreatedDate                  datetime64[ns]\n",
       "UpdatedDate                  datetime64[ns]\n",
       "ActionTaken                          object\n",
       "Owner                                object\n",
       "RequestType                          object\n",
       "Status                               object\n",
       "RequestSource                        object\n",
       "CreatedByUserOrganization            object\n",
       "MobileOS                             object\n",
       "Anonymous                            object\n",
       "AssignTo                             object\n",
       "ServiceDate                  datetime64[ns]\n",
       "ClosedDate                   datetime64[ns]\n",
       "AddressVerified                      object\n",
       "ApproximateAddress                   object\n",
       "Address                              object\n",
       "HouseNumber                         float64\n",
       "Direction                            object\n",
       "StreetName                           object\n",
       "Suffix                               object\n",
       "ZipCode                              object\n",
       "Latitude                            float64\n",
       "Longitude                           float64\n",
       "Location                             object\n",
       "TBMPage                             float64\n",
       "TBMColumn                            object\n",
       "TBMRow                              float64\n",
       "APC                                  object\n",
       "CD                                  float64\n",
       "CDMember                             object\n",
       "NC                                  float64\n",
       "NCName                               object\n",
       "PolicePrecinct                       object\n",
       "dtype: object"
      ]
     },
     "execution_count": 26,
     "metadata": {},
     "output_type": "execute_result"
    }
   ],
   "source": [
    "df311_2020.dtypes"
   ]
  },
  {
   "cell_type": "code",
   "execution_count": 27,
   "id": "b14b5414",
   "metadata": {},
   "outputs": [
    {
     "data": {
      "text/plain": [
       "(1418747, 34)"
      ]
     },
     "execution_count": 27,
     "metadata": {},
     "output_type": "execute_result"
    }
   ],
   "source": [
    "df311_2020.shape"
   ]
  },
  {
   "cell_type": "code",
   "execution_count": 28,
   "id": "bd83580e",
   "metadata": {},
   "outputs": [],
   "source": [
    "#Create dataframe where Servicedate before CreatedDate\n",
    "dsc = df311_2020[df311_2020['ServiceDate'] < df311_2020['CreatedDate']]"
   ]
  },
  {
   "cell_type": "code",
   "execution_count": 29,
   "id": "c9998d0d",
   "metadata": {},
   "outputs": [
    {
     "data": {
      "text/plain": [
       "(229827, 34)"
      ]
     },
     "execution_count": 29,
     "metadata": {},
     "output_type": "execute_result"
    }
   ],
   "source": [
    "dsc.shape"
   ]
  },
  {
   "cell_type": "code",
   "execution_count": 30,
   "id": "adcd4363",
   "metadata": {},
   "outputs": [
    {
     "data": {
      "text/plain": [
       "SRNumber                          0\n",
       "CreatedDate                       0\n",
       "UpdatedDate                       0\n",
       "ActionTaken                       0\n",
       "Owner                             0\n",
       "RequestType                       0\n",
       "Status                            0\n",
       "RequestSource                     0\n",
       "CreatedByUserOrganization         0\n",
       "MobileOS                     223608\n",
       "Anonymous                         0\n",
       "AssignTo                         16\n",
       "ServiceDate                       0\n",
       "ClosedDate                        0\n",
       "AddressVerified                   0\n",
       "ApproximateAddress           220831\n",
       "Address                           0\n",
       "HouseNumber                  221241\n",
       "Direction                     14198\n",
       "StreetName                   221241\n",
       "Suffix                        21891\n",
       "ZipCode                           4\n",
       "Latitude                          2\n",
       "Longitude                         2\n",
       "Location                          2\n",
       "TBMPage                           2\n",
       "TBMColumn                         2\n",
       "TBMRow                            2\n",
       "APC                               6\n",
       "CD                                3\n",
       "CDMember                     219648\n",
       "NC                              675\n",
       "NCName                          675\n",
       "PolicePrecinct                    6\n",
       "dtype: int64"
      ]
     },
     "execution_count": 30,
     "metadata": {},
     "output_type": "execute_result"
    }
   ],
   "source": [
    "dsc.isnull().sum()"
   ]
  },
  {
   "cell_type": "markdown",
   "id": "a1556582",
   "metadata": {},
   "source": [
    "### dsc is dataframe of rows where ServiceDate is before CreatedDate.  Below is statistics run on only rows where ServiceDate is before CreatedDate."
   ]
  },
  {
   "cell_type": "code",
   "execution_count": 31,
   "id": "7c25b39b",
   "metadata": {},
   "outputs": [
    {
     "data": {
      "text/plain": [
       "Graffiti Removal              227020\n",
       "Multiple Streetlight Issue      1434\n",
       "Single Streetlight Issue        1373\n",
       "Name: RequestType, dtype: int64"
      ]
     },
     "execution_count": 31,
     "metadata": {},
     "output_type": "execute_result"
    }
   ],
   "source": [
    "dsc['RequestType'].value_counts()"
   ]
  },
  {
   "cell_type": "markdown",
   "id": "db9b7d7c",
   "metadata": {},
   "source": [
    "### Most frequest request type is Graffiti Removal, then Streetlight Issue¶"
   ]
  },
  {
   "cell_type": "code",
   "execution_count": 32,
   "id": "f7d42c2f",
   "metadata": {},
   "outputs": [
    {
     "data": {
      "text/plain": [
       "SR Created                229798\n",
       "Transferred                    9\n",
       "SR Updated                     9\n",
       "Escalate to Supervisor         9\n",
       "Consultation/3-way             1\n",
       "Status Provided                1\n",
       "Name: ActionTaken, dtype: int64"
      ]
     },
     "execution_count": 32,
     "metadata": {},
     "output_type": "execute_result"
    }
   ],
   "source": [
    "dsc['ActionTaken'].value_counts()"
   ]
  },
  {
   "cell_type": "markdown",
   "id": "276f09fc",
   "metadata": {},
   "source": [
    "### Most frequest ActionTaken is SR (Service Request?)¶"
   ]
  },
  {
   "cell_type": "code",
   "execution_count": 33,
   "id": "9746958d",
   "metadata": {},
   "outputs": [
    {
     "data": {
      "text/plain": [
       "2020-11-03 15:32:08    119\n",
       "2020-04-04 00:05:07     43\n",
       "2021-01-09 00:10:40     32\n",
       "2020-12-26 00:11:30     32\n",
       "2020-02-10 12:01:00     25\n",
       "                      ... \n",
       "2020-04-15 19:45:57      1\n",
       "2020-10-21 10:05:30      1\n",
       "2020-08-12 15:10:27      1\n",
       "2020-09-25 08:35:54      1\n",
       "2020-04-29 11:49:42      1\n",
       "Name: UpdatedDate, Length: 199928, dtype: int64"
      ]
     },
     "execution_count": 33,
     "metadata": {},
     "output_type": "execute_result"
    }
   ],
   "source": [
    "dsc['UpdatedDate'].value_counts()"
   ]
  },
  {
   "cell_type": "code",
   "execution_count": 34,
   "id": "96d7fbd7",
   "metadata": {},
   "outputs": [
    {
     "data": {
      "text/plain": [
       "RequestType\n",
       "Graffiti Removal              227020\n",
       "Multiple Streetlight Issue      1434\n",
       "Single Streetlight Issue        1373\n",
       "Name: UpdatedDate, dtype: int64"
      ]
     },
     "execution_count": 34,
     "metadata": {},
     "output_type": "execute_result"
    }
   ],
   "source": [
    "dsc.groupby('RequestType')['UpdatedDate'].count()"
   ]
  },
  {
   "cell_type": "markdown",
   "id": "caaf7b32",
   "metadata": {},
   "source": [
    "<font size=3 color='DarkBlue'>The most frequent 'UpdatedDate' happened at exactly 2020-11-03 15:32:08, which suggests batch input.  Most of them are graffiti removal but most of all of the rows where ServiceDate is before  CreateDate is graffiti removal"
   ]
  },
  {
   "cell_type": "code",
   "execution_count": 35,
   "id": "aee29717",
   "metadata": {},
   "outputs": [
    {
     "data": {
      "text/plain": [
       "OCB    227020\n",
       "BSL      2807\n",
       "Name: Owner, dtype: int64"
      ]
     },
     "execution_count": 35,
     "metadata": {},
     "output_type": "execute_result"
    }
   ],
   "source": [
    "#Owner is city agency or department assigned to the ticket\n",
    "dsc['Owner'].value_counts()"
   ]
  },
  {
   "cell_type": "markdown",
   "id": "e4070002",
   "metadata": {},
   "source": [
    "### Most were assigned to the Office of Beautification, rest were assigned to the Bureau of Street Lighting (aligns with graffiti and streetlight)"
   ]
  },
  {
   "cell_type": "code",
   "execution_count": 36,
   "id": "200b8126",
   "metadata": {},
   "outputs": [
    {
     "data": {
      "text/plain": [
       "Closed          228355\n",
       "Cancelled         1413\n",
       "Referred Out        43\n",
       "Open                13\n",
       "Forward              3\n",
       "Name: Status, dtype: int64"
      ]
     },
     "execution_count": 36,
     "metadata": {},
     "output_type": "execute_result"
    }
   ],
   "source": [
    "dsc['Status'].value_counts()"
   ]
  },
  {
   "cell_type": "markdown",
   "id": "8509d7ff",
   "metadata": {},
   "source": [
    "#### Most were closed"
   ]
  },
  {
   "cell_type": "code",
   "execution_count": 37,
   "id": "bcfd9339",
   "metadata": {},
   "outputs": [
    {
     "data": {
      "text/plain": [
       "Driver Self Report               219665\n",
       "Mobile App                         6218\n",
       "Call                               2043\n",
       "Self Service                       1749\n",
       "Email                                94\n",
       "Voicemail                            31\n",
       "Council's Office                     24\n",
       "Twitter                               2\n",
       "Queue Initiated Customer Call         1\n",
       "Name: RequestSource, dtype: int64"
      ]
     },
     "execution_count": 37,
     "metadata": {},
     "output_type": "execute_result"
    }
   ],
   "source": [
    "dsc['RequestSource'].value_counts()"
   ]
  },
  {
   "cell_type": "markdown",
   "id": "cc684179",
   "metadata": {},
   "source": [
    "### Most were done by work crews for work done in field then entered into system\n",
    "### Driver Self Report = By work crews for work done in field then entered into system\n",
    "##### Request Source is the source through which the service request was received. Self Service = MyLA311 web portal, Web-Form = internal/external online forms"
   ]
  },
  {
   "cell_type": "code",
   "execution_count": 38,
   "id": "8b54ad3e",
   "metadata": {},
   "outputs": [
    {
     "data": {
      "text/plain": [
       "OCB                 219921\n",
       "Self Service          7876\n",
       "ITA                   1899\n",
       "BSL                     55\n",
       "Council's Office        44\n",
       "Proactive Insert        17\n",
       "BSS                     15\n",
       "Name: CreatedByUserOrganization, dtype: int64"
      ]
     },
     "execution_count": 38,
     "metadata": {},
     "output_type": "execute_result"
    }
   ],
   "source": [
    "dsc['CreatedByUserOrganization'].value_counts()"
   ]
  },
  {
   "cell_type": "markdown",
   "id": "546fd87e",
   "metadata": {},
   "source": [
    "### Office of Beautification created most of the requests, 2nd highest amount is through the portal or app"
   ]
  },
  {
   "cell_type": "code",
   "execution_count": 39,
   "id": "3edcecd5",
   "metadata": {},
   "outputs": [
    {
     "data": {
      "text/plain": [
       "N    226819\n",
       "Y      3008\n",
       "Name: Anonymous, dtype: int64"
      ]
     },
     "execution_count": 39,
     "metadata": {},
     "output_type": "execute_result"
    }
   ],
   "source": [
    "dsc['Anonymous'].value_counts()"
   ]
  },
  {
   "cell_type": "code",
   "execution_count": 40,
   "id": "91f7ba61",
   "metadata": {},
   "outputs": [
    {
     "data": {
      "text/plain": [
       "CRCD        63004\n",
       "GAP         30237\n",
       "GAPBH       26758\n",
       "CCAC        20974\n",
       "HBT         19145\n",
       "WVA         13368\n",
       "NEGB        11946\n",
       "PGS          9452\n",
       "SGB          9147\n",
       "NDFY         7196\n",
       "NEGB_ELA     5976\n",
       "LACC         5188\n",
       "KYCC         4336\n",
       "NORTH        1636\n",
       "SOUTH         469\n",
       "CENTRAL       325\n",
       "WEST          289\n",
       "OCB           152\n",
       "GCS           125\n",
       "EAST           88\n",
       "Name: AssignTo, dtype: int64"
      ]
     },
     "execution_count": 40,
     "metadata": {},
     "output_type": "execute_result"
    }
   ],
   "source": [
    "dsc['AssignTo'].value_counts()"
   ]
  },
  {
   "cell_type": "markdown",
   "id": "404a6aca",
   "metadata": {},
   "source": [
    "\t\n",
    "The specific group that is assigned to this request."
   ]
  },
  {
   "cell_type": "code",
   "execution_count": 43,
   "id": "d34b1fff",
   "metadata": {},
   "outputs": [
    {
     "data": {
      "text/plain": [
       "2020-02-04    1473\n",
       "2020-10-15    1278\n",
       "2020-12-22    1124\n",
       "2020-10-06    1091\n",
       "2020-06-01    1085\n",
       "2020-06-02     932\n",
       "2020-12-15     842\n",
       "2020-12-29     838\n",
       "2020-12-03     837\n",
       "2020-11-19     819\n",
       "2020-06-04     818\n",
       "2020-12-17     816\n",
       "2020-05-05     807\n",
       "2020-10-16     807\n",
       "2020-12-28     806\n",
       "2020-12-10     800\n",
       "2020-12-11     794\n",
       "2020-10-14     786\n",
       "2020-12-02     781\n",
       "2020-05-12     775\n",
       "Name: ServiceDate, dtype: int64"
      ]
     },
     "execution_count": 43,
     "metadata": {},
     "output_type": "execute_result"
    }
   ],
   "source": [
    "dsc['ServiceDate'].value_counts().head(20)"
   ]
  },
  {
   "cell_type": "code",
   "execution_count": 45,
   "id": "64dee7eb",
   "metadata": {},
   "outputs": [
    {
     "name": "stderr",
     "output_type": "stream",
     "text": [
      "<ipython-input-45-b4386e5495a3>:1: SettingWithCopyWarning: \n",
      "A value is trying to be set on a copy of a slice from a DataFrame.\n",
      "Try using .loc[row_indexer,col_indexer] = value instead\n",
      "\n",
      "See the caveats in the documentation: https://pandas.pydata.org/pandas-docs/stable/user_guide/indexing.html#returning-a-view-versus-a-copy\n",
      "  dsc['ServiceDateMonth'] = dsc['ServiceDate'].dt.month\n"
     ]
    }
   ],
   "source": [
    "#create another column that extracts the month from the 'ServiceDate'\n",
    "dsc['ServiceDateMonth'] = dsc['ServiceDate'].dt.month"
   ]
  },
  {
   "cell_type": "code",
   "execution_count": 46,
   "id": "7f6fa358",
   "metadata": {},
   "outputs": [
    {
     "data": {
      "text/html": [
       "<div>\n",
       "<style scoped>\n",
       "    .dataframe tbody tr th:only-of-type {\n",
       "        vertical-align: middle;\n",
       "    }\n",
       "\n",
       "    .dataframe tbody tr th {\n",
       "        vertical-align: top;\n",
       "    }\n",
       "\n",
       "    .dataframe thead th {\n",
       "        text-align: right;\n",
       "    }\n",
       "</style>\n",
       "<table border=\"1\" class=\"dataframe\">\n",
       "  <thead>\n",
       "    <tr style=\"text-align: right;\">\n",
       "      <th></th>\n",
       "      <th>SRNumber</th>\n",
       "      <th>CreatedDate</th>\n",
       "      <th>UpdatedDate</th>\n",
       "      <th>ActionTaken</th>\n",
       "      <th>Owner</th>\n",
       "      <th>RequestType</th>\n",
       "      <th>Status</th>\n",
       "      <th>RequestSource</th>\n",
       "      <th>CreatedByUserOrganization</th>\n",
       "      <th>MobileOS</th>\n",
       "      <th>...</th>\n",
       "      <th>TBMPage</th>\n",
       "      <th>TBMColumn</th>\n",
       "      <th>TBMRow</th>\n",
       "      <th>APC</th>\n",
       "      <th>CD</th>\n",
       "      <th>CDMember</th>\n",
       "      <th>NC</th>\n",
       "      <th>NCName</th>\n",
       "      <th>PolicePrecinct</th>\n",
       "      <th>ServiceDateMonth</th>\n",
       "    </tr>\n",
       "  </thead>\n",
       "  <tbody>\n",
       "    <tr>\n",
       "      <th>160</th>\n",
       "      <td>1-1523621291</td>\n",
       "      <td>2020-01-01 09:12:00</td>\n",
       "      <td>2020-02-14 14:10:00</td>\n",
       "      <td>SR Created</td>\n",
       "      <td>BSL</td>\n",
       "      <td>Single Streetlight Issue</td>\n",
       "      <td>Closed</td>\n",
       "      <td>Self Service</td>\n",
       "      <td>Self Service</td>\n",
       "      <td>NaN</td>\n",
       "      <td>...</td>\n",
       "      <td>673.0</td>\n",
       "      <td>H</td>\n",
       "      <td>6.0</td>\n",
       "      <td>South Los Angeles APC</td>\n",
       "      <td>8.0</td>\n",
       "      <td>Marqueece Harris-Dawson</td>\n",
       "      <td>81.0</td>\n",
       "      <td>EMPOWERMENT CONGRESS CENTRAL AREA NDC</td>\n",
       "      <td>77TH STREET</td>\n",
       "      <td>1</td>\n",
       "    </tr>\n",
       "    <tr>\n",
       "      <th>391</th>\n",
       "      <td>1-1523650478</td>\n",
       "      <td>2020-01-01 11:27:00</td>\n",
       "      <td>2020-01-01 11:30:00</td>\n",
       "      <td>SR Created</td>\n",
       "      <td>OCB</td>\n",
       "      <td>Graffiti Removal</td>\n",
       "      <td>Closed</td>\n",
       "      <td>Driver Self Report</td>\n",
       "      <td>OCB</td>\n",
       "      <td>NaN</td>\n",
       "      <td>...</td>\n",
       "      <td>632.0</td>\n",
       "      <td>H</td>\n",
       "      <td>6.0</td>\n",
       "      <td>South Los Angeles APC</td>\n",
       "      <td>5.0</td>\n",
       "      <td>NaN</td>\n",
       "      <td>61.0</td>\n",
       "      <td>SOUTH ROBERTSON NC</td>\n",
       "      <td>WEST LOS ANGELES</td>\n",
       "      <td>12</td>\n",
       "    </tr>\n",
       "  </tbody>\n",
       "</table>\n",
       "<p>2 rows × 35 columns</p>\n",
       "</div>"
      ],
      "text/plain": [
       "         SRNumber         CreatedDate         UpdatedDate ActionTaken Owner  \\\n",
       "160  1-1523621291 2020-01-01 09:12:00 2020-02-14 14:10:00  SR Created   BSL   \n",
       "391  1-1523650478 2020-01-01 11:27:00 2020-01-01 11:30:00  SR Created   OCB   \n",
       "\n",
       "                  RequestType  Status       RequestSource  \\\n",
       "160  Single Streetlight Issue  Closed        Self Service   \n",
       "391          Graffiti Removal  Closed  Driver Self Report   \n",
       "\n",
       "    CreatedByUserOrganization MobileOS  ... TBMPage TBMColumn TBMRow  \\\n",
       "160              Self Service      NaN  ...   673.0         H    6.0   \n",
       "391                       OCB      NaN  ...   632.0         H    6.0   \n",
       "\n",
       "                       APC   CD                 CDMember    NC  \\\n",
       "160  South Los Angeles APC  8.0  Marqueece Harris-Dawson  81.0   \n",
       "391  South Los Angeles APC  5.0                      NaN  61.0   \n",
       "\n",
       "                                    NCName    PolicePrecinct ServiceDateMonth  \n",
       "160  EMPOWERMENT CONGRESS CENTRAL AREA NDC       77TH STREET                1  \n",
       "391                     SOUTH ROBERTSON NC  WEST LOS ANGELES               12  \n",
       "\n",
       "[2 rows x 35 columns]"
      ]
     },
     "execution_count": 46,
     "metadata": {},
     "output_type": "execute_result"
    }
   ],
   "source": [
    "dsc.head(2)"
   ]
  },
  {
   "cell_type": "code",
   "execution_count": 47,
   "id": "31eace9b",
   "metadata": {},
   "outputs": [
    {
     "data": {
      "text/plain": [
       "10    25490\n",
       "12    24870\n",
       "11    19973\n",
       "1     18825\n",
       "8     18771\n",
       "9     17856\n",
       "5     17765\n",
       "7     17691\n",
       "4     17583\n",
       "2     17557\n",
       "6     17383\n",
       "3     16063\n",
       "Name: ServiceDateMonth, dtype: int64"
      ]
     },
     "execution_count": 47,
     "metadata": {},
     "output_type": "execute_result"
    }
   ],
   "source": [
    "dsc['ServiceDateMonth'].value_counts()"
   ]
  },
  {
   "cell_type": "markdown",
   "id": "bf346382",
   "metadata": {},
   "source": [
    "### The highest amount of calls happened at the end of the year (10-12)"
   ]
  },
  {
   "cell_type": "code",
   "execution_count": 48,
   "id": "4c1c76e9",
   "metadata": {},
   "outputs": [
    {
     "data": {
      "text/plain": [
       "RequestSource\n",
       "Call                               2043\n",
       "Council's Office                     24\n",
       "Driver Self Report               219665\n",
       "Email                                94\n",
       "Mobile App                         6218\n",
       "Queue Initiated Customer Call         1\n",
       "Self Service                       1749\n",
       "Twitter                               2\n",
       "Voicemail                            31\n",
       "Name: ServiceDateMonth, dtype: int64"
      ]
     },
     "execution_count": 48,
     "metadata": {},
     "output_type": "execute_result"
    }
   ],
   "source": [
    "dsc.groupby('RequestSource')['ServiceDateMonth'].count()"
   ]
  },
  {
   "cell_type": "markdown",
   "id": "e7c11f00",
   "metadata": {},
   "source": [
    "### Interesting - the info for ServiceDate on the 311 site is - The scheduled service date for SANITATION service types. Typically this will be the next scheduled trash collection date.  So is ServiceDate even relevant for graffiti and street light requests?"
   ]
  },
  {
   "cell_type": "code",
   "execution_count": 49,
   "id": "75c6c520",
   "metadata": {},
   "outputs": [
    {
     "data": {
      "text/plain": [
       "2020-02-10 12:01:00    25\n",
       "2020-02-11 01:41:00    24\n",
       "2020-01-29 17:36:00    24\n",
       "2020-01-02 11:42:00    23\n",
       "2020-02-19 09:56:00    23\n",
       "                       ..\n",
       "2020-10-12 21:15:30     1\n",
       "2020-05-01 21:00:44     1\n",
       "2020-12-07 11:20:30     1\n",
       "2020-12-27 20:15:24     1\n",
       "2020-07-10 12:30:19     1\n",
       "Name: ClosedDate, Length: 198747, dtype: int64"
      ]
     },
     "execution_count": 49,
     "metadata": {},
     "output_type": "execute_result"
    }
   ],
   "source": [
    "dsc['ClosedDate'].value_counts()"
   ]
  },
  {
   "cell_type": "code",
   "execution_count": 51,
   "id": "566e8b48",
   "metadata": {},
   "outputs": [
    {
     "name": "stderr",
     "output_type": "stream",
     "text": [
      "<ipython-input-51-331fea9e8580>:2: SettingWithCopyWarning: \n",
      "A value is trying to be set on a copy of a slice from a DataFrame.\n",
      "Try using .loc[row_indexer,col_indexer] = value instead\n",
      "\n",
      "See the caveats in the documentation: https://pandas.pydata.org/pandas-docs/stable/user_guide/indexing.html#returning-a-view-versus-a-copy\n",
      "  dsc['ClosedDateMonth'] = dsc['ClosedDate'].dt.month\n"
     ]
    }
   ],
   "source": [
    "#create another column that extracts the month from the 'ClosedDate'\n",
    "dsc['ClosedDateMonth'] = dsc['ClosedDate'].dt.month"
   ]
  },
  {
   "cell_type": "code",
   "execution_count": 54,
   "id": "e9fcd7b6",
   "metadata": {},
   "outputs": [
    {
     "data": {
      "text/plain": [
       "10    25076\n",
       "12    23399\n",
       "5     21561\n",
       "1     21000\n",
       "6     20337\n",
       "11    19216\n",
       "7     18253\n",
       "9     17661\n",
       "8     17128\n",
       "2     16348\n",
       "3     15333\n",
       "4     14515\n",
       "Name: ClosedDateMonth, dtype: int64"
      ]
     },
     "execution_count": 54,
     "metadata": {},
     "output_type": "execute_result"
    }
   ],
   "source": [
    "dsc['ClosedDateMonth'].value_counts()"
   ]
  },
  {
   "cell_type": "code",
   "execution_count": 55,
   "id": "5cc92afa",
   "metadata": {},
   "outputs": [
    {
     "data": {
      "text/plain": [
       "Y    229825\n",
       "N         2\n",
       "Name: AddressVerified, dtype: int64"
      ]
     },
     "execution_count": 55,
     "metadata": {},
     "output_type": "execute_result"
    }
   ],
   "source": [
    "dsc['AddressVerified'].value_counts()"
   ]
  },
  {
   "cell_type": "markdown",
   "id": "f44d589a",
   "metadata": {},
   "source": [
    "AddressVerified means Was the address within the City boundaries and validated with GIS data"
   ]
  },
  {
   "cell_type": "code",
   "execution_count": 56,
   "id": "6202bcff",
   "metadata": {},
   "outputs": [
    {
     "data": {
      "text/plain": [
       "N    8189\n",
       "Y     807\n",
       "Name: ApproximateAddress, dtype: int64"
      ]
     },
     "execution_count": 56,
     "metadata": {},
     "output_type": "execute_result"
    }
   ],
   "source": [
    "dsc['ApproximateAddress'].value_counts()"
   ]
  },
  {
   "cell_type": "markdown",
   "id": "dcdd473e",
   "metadata": {},
   "source": [
    "#### Most were entered with the exact address\n",
    "If the location was created by using the map and moving the pin then this will be Y. If an exact address or intersection was entered this will be N."
   ]
  },
  {
   "cell_type": "code",
   "execution_count": 77,
   "id": "f9b904a0",
   "metadata": {},
   "outputs": [
    {
     "data": {
      "text/plain": [
       "12843 W FOOTHILL BLVD, 91342         284\n",
       "5043 S NORMANDIE AVE, 90037          249\n",
       "MACLAY ST AT FOOTHILL BLVD, 91342    199\n",
       "3600 S MAIN ST, 90007                196\n",
       "2500 S HOOPER AVE, 90011             196\n",
       "                                    ... \n",
       "14360 W SHERMAN WAY, 91405             1\n",
       "501 W WASHINGTON BLVD, 90015           1\n",
       "10501 S SAN PEDRO ST, 90003            1\n",
       "1010 N MARINE AVE, 90744               1\n",
       "1523 W TORRANCE BLVD, 90501            1\n",
       "Name: Address, Length: 75348, dtype: int64"
      ]
     },
     "execution_count": 77,
     "metadata": {},
     "output_type": "execute_result"
    }
   ],
   "source": [
    "dsc['Address'].value_counts()"
   ]
  },
  {
   "cell_type": "code",
   "execution_count": 78,
   "id": "0b853a00",
   "metadata": {},
   "outputs": [
    {
     "data": {
      "text/plain": [
       "NEWTON              48915\n",
       "RAMPART             19064\n",
       "77TH STREET         18191\n",
       "HOLLENBECK          16243\n",
       "HARBOR              14771\n",
       "SOUTHEAST           14077\n",
       "MISSION             13811\n",
       "CENTRAL             12441\n",
       "NORTHEAST           11151\n",
       "HOLLYWOOD            8356\n",
       "NORTH HOLLYWOOD      8309\n",
       "WEST VALLEY          6515\n",
       "SOUTHWEST            6074\n",
       "OLYMPIC              5335\n",
       "FOOTHILL             5324\n",
       "PACIFIC              4611\n",
       "WILSHIRE             4472\n",
       "VAN NUYS             3840\n",
       "TOPANGA              3106\n",
       "WEST LOS ANGELES     2670\n",
       "DEVONSHIRE           2545\n",
       "Name: PolicePrecinct, dtype: int64"
      ]
     },
     "execution_count": 78,
     "metadata": {},
     "output_type": "execute_result"
    }
   ],
   "source": [
    "dsc['PolicePrecinct'].value_counts()"
   ]
  },
  {
   "cell_type": "code",
   "execution_count": null,
   "id": "8e46ba3c",
   "metadata": {},
   "outputs": [],
   "source": []
  }
 ],
 "metadata": {
  "kernelspec": {
   "display_name": "Python [conda env:geo_env] *",
   "language": "python",
   "name": "conda-env-geo_env-py"
  },
  "language_info": {
   "codemirror_mode": {
    "name": "ipython",
    "version": 3
   },
   "file_extension": ".py",
   "mimetype": "text/x-python",
   "name": "python",
   "nbconvert_exporter": "python",
   "pygments_lexer": "ipython3",
   "version": "3.9.5"
  }
 },
 "nbformat": 4,
 "nbformat_minor": 5
}
