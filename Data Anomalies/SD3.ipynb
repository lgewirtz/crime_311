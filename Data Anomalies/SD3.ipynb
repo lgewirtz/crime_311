{
 "cells": [
  {
   "cell_type": "markdown",
   "id": "3aff9372",
   "metadata": {},
   "source": [
    "### This notebook examines why over 16% of the rows in the 2020 dataset pulled from the LA Calls website contain Service Dates that have a value that is less than the Created Date."
   ]
  },
  {
   "cell_type": "code",
   "execution_count": 1,
   "id": "f5d2a2da",
   "metadata": {},
   "outputs": [],
   "source": [
    "import numpy as np\n",
    "import pandas as pd\n",
    "from datetime import datetime as dt"
   ]
  },
  {
   "cell_type": "markdown",
   "id": "3a7f9497",
   "metadata": {},
   "source": [
    "### Import 2020 data where all rows with servicedate before 2018, rows with servicedate and closeddate of null are deleted"
   ]
  },
  {
   "cell_type": "code",
   "execution_count": 3,
   "id": "fc05c9c9",
   "metadata": {},
   "outputs": [],
   "source": [
    "\n",
    "df311_2020=pd.read_csv(r'C:\\Documents\\projects\\HackLA\\311\\data\\call data 311 website\\MyLA311_Service_Request_Data_2020DT2.csv',\n",
    "                       low_memory=False, index_col=0)"
   ]
  },
  {
   "cell_type": "code",
   "execution_count": 4,
   "id": "f55156c9",
   "metadata": {},
   "outputs": [
    {
     "data": {
      "text/html": [
       "<div>\n",
       "<style scoped>\n",
       "    .dataframe tbody tr th:only-of-type {\n",
       "        vertical-align: middle;\n",
       "    }\n",
       "\n",
       "    .dataframe tbody tr th {\n",
       "        vertical-align: top;\n",
       "    }\n",
       "\n",
       "    .dataframe thead th {\n",
       "        text-align: right;\n",
       "    }\n",
       "</style>\n",
       "<table border=\"1\" class=\"dataframe\">\n",
       "  <thead>\n",
       "    <tr style=\"text-align: right;\">\n",
       "      <th></th>\n",
       "      <th>SRNumber</th>\n",
       "      <th>CreatedDate</th>\n",
       "      <th>UpdatedDate</th>\n",
       "      <th>ActionTaken</th>\n",
       "      <th>Owner</th>\n",
       "      <th>RequestType</th>\n",
       "      <th>Status</th>\n",
       "      <th>RequestSource</th>\n",
       "      <th>CreatedByUserOrganization</th>\n",
       "      <th>MobileOS</th>\n",
       "      <th>...</th>\n",
       "      <th>Location</th>\n",
       "      <th>TBMPage</th>\n",
       "      <th>TBMColumn</th>\n",
       "      <th>TBMRow</th>\n",
       "      <th>APC</th>\n",
       "      <th>CD</th>\n",
       "      <th>CDMember</th>\n",
       "      <th>NC</th>\n",
       "      <th>NCName</th>\n",
       "      <th>PolicePrecinct</th>\n",
       "    </tr>\n",
       "  </thead>\n",
       "  <tbody>\n",
       "    <tr>\n",
       "      <th>0</th>\n",
       "      <td>1-1523593381</td>\n",
       "      <td>2020-01-01 00:02:00</td>\n",
       "      <td>2020-01-07 12:19:00</td>\n",
       "      <td>SR Created</td>\n",
       "      <td>BOS</td>\n",
       "      <td>Illegal Dumping Pickup</td>\n",
       "      <td>Closed</td>\n",
       "      <td>Call</td>\n",
       "      <td>BOS</td>\n",
       "      <td>NaN</td>\n",
       "      <td>...</td>\n",
       "      <td>(33.988984265, -118.302681205)</td>\n",
       "      <td>673.0</td>\n",
       "      <td>J</td>\n",
       "      <td>5.0</td>\n",
       "      <td>South Los Angeles APC</td>\n",
       "      <td>8.0</td>\n",
       "      <td>Marqueece Harris-Dawson</td>\n",
       "      <td>81.0</td>\n",
       "      <td>EMPOWERMENT CONGRESS CENTRAL AREA NDC</td>\n",
       "      <td>77TH STREET</td>\n",
       "    </tr>\n",
       "    <tr>\n",
       "      <th>1</th>\n",
       "      <td>1-1523590121</td>\n",
       "      <td>2020-01-01 00:05:00</td>\n",
       "      <td>2020-01-02 08:43:00</td>\n",
       "      <td>SR Created</td>\n",
       "      <td>BOS</td>\n",
       "      <td>Illegal Dumping Pickup</td>\n",
       "      <td>Closed</td>\n",
       "      <td>Call</td>\n",
       "      <td>BOS</td>\n",
       "      <td>NaN</td>\n",
       "      <td>...</td>\n",
       "      <td>(34.1940284578, -118.499471638)</td>\n",
       "      <td>531.0</td>\n",
       "      <td>D</td>\n",
       "      <td>6.0</td>\n",
       "      <td>South Valley APC</td>\n",
       "      <td>6.0</td>\n",
       "      <td>Nury Martinez</td>\n",
       "      <td>19.0</td>\n",
       "      <td>LAKE BALBOA NC</td>\n",
       "      <td>WEST VALLEY</td>\n",
       "    </tr>\n",
       "  </tbody>\n",
       "</table>\n",
       "<p>2 rows × 34 columns</p>\n",
       "</div>"
      ],
      "text/plain": [
       "       SRNumber          CreatedDate          UpdatedDate ActionTaken Owner  \\\n",
       "0  1-1523593381  2020-01-01 00:02:00  2020-01-07 12:19:00  SR Created   BOS   \n",
       "1  1-1523590121  2020-01-01 00:05:00  2020-01-02 08:43:00  SR Created   BOS   \n",
       "\n",
       "              RequestType  Status RequestSource CreatedByUserOrganization  \\\n",
       "0  Illegal Dumping Pickup  Closed          Call                       BOS   \n",
       "1  Illegal Dumping Pickup  Closed          Call                       BOS   \n",
       "\n",
       "  MobileOS  ...                         Location TBMPage TBMColumn TBMRow  \\\n",
       "0      NaN  ...   (33.988984265, -118.302681205)   673.0         J    5.0   \n",
       "1      NaN  ...  (34.1940284578, -118.499471638)   531.0         D    6.0   \n",
       "\n",
       "                     APC   CD                 CDMember    NC  \\\n",
       "0  South Los Angeles APC  8.0  Marqueece Harris-Dawson  81.0   \n",
       "1       South Valley APC  6.0            Nury Martinez  19.0   \n",
       "\n",
       "                                  NCName PolicePrecinct  \n",
       "0  EMPOWERMENT CONGRESS CENTRAL AREA NDC    77TH STREET  \n",
       "1                         LAKE BALBOA NC    WEST VALLEY  \n",
       "\n",
       "[2 rows x 34 columns]"
      ]
     },
     "execution_count": 4,
     "metadata": {},
     "output_type": "execute_result"
    }
   ],
   "source": [
    "df311_2020.head(2)"
   ]
  },
  {
   "cell_type": "code",
   "execution_count": 5,
   "id": "da110e92",
   "metadata": {},
   "outputs": [],
   "source": [
    "df311_2020['CreatedDate'] = pd.to_datetime(df311_2020['CreatedDate'])"
   ]
  },
  {
   "cell_type": "code",
   "execution_count": 6,
   "id": "e16d4360",
   "metadata": {},
   "outputs": [],
   "source": [
    "df311_2020['UpdatedDate'] = pd.to_datetime(df311_2020['UpdatedDate']) "
   ]
  },
  {
   "cell_type": "code",
   "execution_count": 7,
   "id": "0731975a",
   "metadata": {},
   "outputs": [],
   "source": [
    "df311_2020['ServiceDate'] = pd.to_datetime(df311_2020['ServiceDate']) "
   ]
  },
  {
   "cell_type": "code",
   "execution_count": 8,
   "id": "5cd0a4bc",
   "metadata": {},
   "outputs": [],
   "source": [
    "df311_2020['ClosedDate'] = pd.to_datetime(df311_2020['ClosedDate']) "
   ]
  },
  {
   "cell_type": "code",
   "execution_count": 9,
   "id": "469df3ce",
   "metadata": {},
   "outputs": [
    {
     "data": {
      "text/plain": [
       "SRNumber                             object\n",
       "CreatedDate                  datetime64[ns]\n",
       "UpdatedDate                  datetime64[ns]\n",
       "ActionTaken                          object\n",
       "Owner                                object\n",
       "RequestType                          object\n",
       "Status                               object\n",
       "RequestSource                        object\n",
       "CreatedByUserOrganization            object\n",
       "MobileOS                             object\n",
       "Anonymous                            object\n",
       "AssignTo                             object\n",
       "ServiceDate                  datetime64[ns]\n",
       "ClosedDate                   datetime64[ns]\n",
       "AddressVerified                      object\n",
       "ApproximateAddress                   object\n",
       "Address                              object\n",
       "HouseNumber                         float64\n",
       "Direction                            object\n",
       "StreetName                           object\n",
       "Suffix                               object\n",
       "ZipCode                              object\n",
       "Latitude                            float64\n",
       "Longitude                           float64\n",
       "Location                             object\n",
       "TBMPage                             float64\n",
       "TBMColumn                            object\n",
       "TBMRow                              float64\n",
       "APC                                  object\n",
       "CD                                  float64\n",
       "CDMember                             object\n",
       "NC                                  float64\n",
       "NCName                               object\n",
       "PolicePrecinct                       object\n",
       "dtype: object"
      ]
     },
     "execution_count": 9,
     "metadata": {},
     "output_type": "execute_result"
    }
   ],
   "source": [
    "df311_2020.dtypes"
   ]
  },
  {
   "cell_type": "code",
   "execution_count": 12,
   "id": "e65c0455",
   "metadata": {},
   "outputs": [
    {
     "data": {
      "text/plain": [
       "(1417527, 34)"
      ]
     },
     "execution_count": 12,
     "metadata": {},
     "output_type": "execute_result"
    }
   ],
   "source": [
    "df311_2020.shape"
   ]
  },
  {
   "cell_type": "code",
   "execution_count": 12,
   "id": "9fe669c1",
   "metadata": {},
   "outputs": [],
   "source": [
    "#Create dataframe where Servicedate before CreatedDate\n",
    "dsc = df311_2020[df311_2020['ServiceDate'] < df311_2020['CreatedDate']]"
   ]
  },
  {
   "cell_type": "code",
   "execution_count": 14,
   "id": "d1f59513",
   "metadata": {},
   "outputs": [
    {
     "data": {
      "text/plain": [
       "(229811, 34)"
      ]
     },
     "execution_count": 14,
     "metadata": {},
     "output_type": "execute_result"
    }
   ],
   "source": [
    "dsc.shape"
   ]
  },
  {
   "cell_type": "code",
   "execution_count": 15,
   "id": "0583becd",
   "metadata": {},
   "outputs": [
    {
     "data": {
      "text/plain": [
       "16.212107423703394"
      ]
     },
     "execution_count": 15,
     "metadata": {},
     "output_type": "execute_result"
    }
   ],
   "source": [
    "#Percentage\n",
    "100 * float(229811)/float(1417527)\n"
   ]
  },
  {
   "cell_type": "code",
   "execution_count": 16,
   "id": "6af8772d",
   "metadata": {},
   "outputs": [
    {
     "data": {
      "text/plain": [
       "SRNumber                          0\n",
       "CreatedDate                       0\n",
       "UpdatedDate                       0\n",
       "ActionTaken                       0\n",
       "Owner                             0\n",
       "RequestType                       0\n",
       "Status                            0\n",
       "RequestSource                     0\n",
       "CreatedByUserOrganization         0\n",
       "MobileOS                     223603\n",
       "Anonymous                         0\n",
       "AssignTo                          3\n",
       "ServiceDate                       0\n",
       "ClosedDate                        0\n",
       "AddressVerified                   0\n",
       "ApproximateAddress           220831\n",
       "Address                           0\n",
       "HouseNumber                  221238\n",
       "Direction                     14195\n",
       "StreetName                   221238\n",
       "Suffix                        21888\n",
       "ZipCode                           2\n",
       "Latitude                          0\n",
       "Longitude                         0\n",
       "Location                          0\n",
       "TBMPage                           0\n",
       "TBMColumn                         0\n",
       "TBMRow                            0\n",
       "APC                               4\n",
       "CD                                1\n",
       "CDMember                     219646\n",
       "NC                              673\n",
       "NCName                          673\n",
       "PolicePrecinct                    4\n",
       "dtype: int64"
      ]
     },
     "execution_count": 16,
     "metadata": {},
     "output_type": "execute_result"
    }
   ],
   "source": [
    "dsc.isnull().sum()"
   ]
  },
  {
   "cell_type": "markdown",
   "id": "1f3f8902",
   "metadata": {},
   "source": [
    "### dsc is dataframe of rows where ServiceDate is before CreatedDate.  Below is statistics run on only rows where ServiceDate is before CreatedDate."
   ]
  },
  {
   "cell_type": "code",
   "execution_count": 17,
   "id": "670a5ca1",
   "metadata": {},
   "outputs": [
    {
     "data": {
      "text/plain": [
       "Graffiti Removal              227004\n",
       "Multiple Streetlight Issue      1434\n",
       "Single Streetlight Issue        1373\n",
       "Name: RequestType, dtype: int64"
      ]
     },
     "execution_count": 17,
     "metadata": {},
     "output_type": "execute_result"
    }
   ],
   "source": [
    "dsc['RequestType'].value_counts()"
   ]
  },
  {
   "cell_type": "markdown",
   "id": "4a104403",
   "metadata": {},
   "source": [
    "### Most frequest request type is Graffiti Removal, then Streetlight Issue¶"
   ]
  },
  {
   "cell_type": "code",
   "execution_count": 18,
   "id": "c99c52d7",
   "metadata": {},
   "outputs": [
    {
     "data": {
      "text/plain": [
       "SR Created                229782\n",
       "SR Updated                     9\n",
       "Escalate to Supervisor         9\n",
       "Transferred                    9\n",
       "Status Provided                1\n",
       "Consultation/3-way             1\n",
       "Name: ActionTaken, dtype: int64"
      ]
     },
     "execution_count": 18,
     "metadata": {},
     "output_type": "execute_result"
    }
   ],
   "source": [
    "dsc['ActionTaken'].value_counts()"
   ]
  },
  {
   "cell_type": "markdown",
   "id": "38357e9f",
   "metadata": {},
   "source": [
    "##### Most frequest ActionTaken is SR (Service Request?)¶"
   ]
  },
  {
   "cell_type": "markdown",
   "id": "ae273fa5",
   "metadata": {},
   "source": [
    "###### dsc['UpdatedDate'].value_counts()"
   ]
  },
  {
   "cell_type": "code",
   "execution_count": 20,
   "id": "0d390588",
   "metadata": {},
   "outputs": [
    {
     "data": {
      "text/plain": [
       "RequestType\n",
       "Graffiti Removal              227004\n",
       "Multiple Streetlight Issue      1434\n",
       "Single Streetlight Issue        1373\n",
       "Name: UpdatedDate, dtype: int64"
      ]
     },
     "execution_count": 20,
     "metadata": {},
     "output_type": "execute_result"
    }
   ],
   "source": [
    "dsc.groupby('RequestType')['UpdatedDate'].count()"
   ]
  },
  {
   "cell_type": "markdown",
   "id": "0d1e8046",
   "metadata": {},
   "source": [
    "##### The most frequent 'UpdatedDate' happened at exactly 2020-11-03 15:32:08, which suggests batch input.  Most of them are graffiti removal but most of all of the rows where ServiceDate is before  CreateDate is graffiti removal"
   ]
  },
  {
   "cell_type": "code",
   "execution_count": 21,
   "id": "99fe9dcb",
   "metadata": {},
   "outputs": [
    {
     "data": {
      "text/plain": [
       "OCB    227004\n",
       "BSL      2807\n",
       "Name: Owner, dtype: int64"
      ]
     },
     "execution_count": 21,
     "metadata": {},
     "output_type": "execute_result"
    }
   ],
   "source": [
    "#Owner is city agency or department assigned to the ticket\n",
    "dsc['Owner'].value_counts()"
   ]
  },
  {
   "cell_type": "markdown",
   "id": "1362ae42",
   "metadata": {},
   "source": [
    "### Most were assigned to the Office of Beautification, rest were assigned to the Bureau of Street Lighting (aligns with graffiti and streetlight)"
   ]
  },
  {
   "cell_type": "code",
   "execution_count": 22,
   "id": "ac379e0f",
   "metadata": {},
   "outputs": [
    {
     "data": {
      "text/plain": [
       "Closed          228355\n",
       "Cancelled         1413\n",
       "Referred Out        43\n",
       "Name: Status, dtype: int64"
      ]
     },
     "execution_count": 22,
     "metadata": {},
     "output_type": "execute_result"
    }
   ],
   "source": [
    "dsc['Status'].value_counts()"
   ]
  },
  {
   "cell_type": "markdown",
   "id": "00bbde5e",
   "metadata": {},
   "source": [
    "#### Most were closed"
   ]
  },
  {
   "cell_type": "code",
   "execution_count": 23,
   "id": "fc95d6ba",
   "metadata": {},
   "outputs": [
    {
     "data": {
      "text/plain": [
       "Driver Self Report               219663\n",
       "Mobile App                         6207\n",
       "Call                               2043\n",
       "Self Service                       1746\n",
       "Email                                94\n",
       "Voicemail                            31\n",
       "Council's Office                     24\n",
       "Twitter                               2\n",
       "Queue Initiated Customer Call         1\n",
       "Name: RequestSource, dtype: int64"
      ]
     },
     "execution_count": 23,
     "metadata": {},
     "output_type": "execute_result"
    }
   ],
   "source": [
    "dsc['RequestSource'].value_counts()"
   ]
  },
  {
   "cell_type": "code",
   "execution_count": 13,
   "id": "6e60b669",
   "metadata": {},
   "outputs": [
    {
     "data": {
      "text/plain": [
       "99.04486730400198"
      ]
     },
     "execution_count": 13,
     "metadata": {},
     "output_type": "execute_result"
    }
   ],
   "source": [
    "#Percentage Driver Self Report, Mobile App & the web-form (internal and external forms) of the Request Source\n",
    "100 * float(219663 + 6207 + 1746)/float(dsc['RequestSource'].value_counts().sum())\n"
   ]
  },
  {
   "cell_type": "markdown",
   "id": "7c2480e3",
   "metadata": {},
   "source": [
    "### Driver Self Report = By work crews for work done in field then entered into system\n",
    "### Most were done by work crews for work done in field then entered into system\n",
    "\n",
    "##### Request Source is the source through which the service request was received. \n",
    "##### Self Service = MyLA311 web portal, Web-Form = internal/external online forms"
   ]
  },
  {
   "cell_type": "code",
   "execution_count": 24,
   "id": "5e41cd03",
   "metadata": {},
   "outputs": [
    {
     "data": {
      "text/plain": [
       "OCB                 219919\n",
       "Self Service          7862\n",
       "ITA                   1899\n",
       "BSL                     55\n",
       "Council's Office        44\n",
       "Proactive Insert        17\n",
       "BSS                     15\n",
       "Name: CreatedByUserOrganization, dtype: int64"
      ]
     },
     "execution_count": 24,
     "metadata": {},
     "output_type": "execute_result"
    }
   ],
   "source": [
    "dsc['CreatedByUserOrganization'].value_counts()"
   ]
  },
  {
   "cell_type": "markdown",
   "id": "f6231a78",
   "metadata": {},
   "source": [
    "## Office of Beautification created most of the requests, 2nd highest amount is through the portal or app"
   ]
  },
  {
   "cell_type": "code",
   "execution_count": 25,
   "id": "29fee1d6",
   "metadata": {},
   "outputs": [
    {
     "data": {
      "text/plain": [
       "N    226809\n",
       "Y      3002\n",
       "Name: Anonymous, dtype: int64"
      ]
     },
     "execution_count": 25,
     "metadata": {},
     "output_type": "execute_result"
    }
   ],
   "source": [
    "dsc['Anonymous'].value_counts()"
   ]
  },
  {
   "cell_type": "code",
   "execution_count": 26,
   "id": "7d374efa",
   "metadata": {},
   "outputs": [
    {
     "data": {
      "text/plain": [
       "CRCD        63004\n",
       "GAP         30237\n",
       "GAPBH       26758\n",
       "CCAC        20974\n",
       "HBT         19144\n",
       "WVA         13368\n",
       "NEGB        11946\n",
       "PGS          9452\n",
       "SGB          9147\n",
       "NDFY         7196\n",
       "NEGB_ELA     5976\n",
       "LACC         5188\n",
       "KYCC         4336\n",
       "NORTH        1636\n",
       "SOUTH         469\n",
       "CENTRAL       325\n",
       "WEST          289\n",
       "OCB           150\n",
       "GCS           125\n",
       "EAST           88\n",
       "Name: AssignTo, dtype: int64"
      ]
     },
     "execution_count": 26,
     "metadata": {},
     "output_type": "execute_result"
    }
   ],
   "source": [
    "dsc['AssignTo'].value_counts()"
   ]
  },
  {
   "cell_type": "markdown",
   "id": "14781ce1",
   "metadata": {},
   "source": [
    "\t\n",
    "The specific group that is assigned to this request."
   ]
  },
  {
   "cell_type": "code",
   "execution_count": 27,
   "id": "68891eb8",
   "metadata": {},
   "outputs": [
    {
     "data": {
      "text/plain": [
       "2020-02-04    1473\n",
       "2020-10-15    1278\n",
       "2020-12-22    1124\n",
       "2020-10-06    1091\n",
       "2020-06-01    1085\n",
       "2020-06-02     931\n",
       "2020-12-15     842\n",
       "2020-12-29     838\n",
       "2020-12-03     837\n",
       "2020-11-19     819\n",
       "2020-06-04     818\n",
       "2020-12-17     816\n",
       "2020-05-05     807\n",
       "2020-10-16     807\n",
       "2020-12-28     806\n",
       "2020-12-10     800\n",
       "2020-12-11     794\n",
       "2020-10-14     786\n",
       "2020-12-02     781\n",
       "2020-05-12     775\n",
       "Name: ServiceDate, dtype: int64"
      ]
     },
     "execution_count": 27,
     "metadata": {},
     "output_type": "execute_result"
    }
   ],
   "source": [
    "dsc['ServiceDate'].value_counts().head(20)"
   ]
  },
  {
   "cell_type": "code",
   "execution_count": 28,
   "id": "08259340",
   "metadata": {},
   "outputs": [
    {
     "name": "stderr",
     "output_type": "stream",
     "text": [
      "<ipython-input-28-dee987d145a8>:2: SettingWithCopyWarning: \n",
      "A value is trying to be set on a copy of a slice from a DataFrame.\n",
      "Try using .loc[row_indexer,col_indexer] = value instead\n",
      "\n",
      "See the caveats in the documentation: https://pandas.pydata.org/pandas-docs/stable/user_guide/indexing.html#returning-a-view-versus-a-copy\n",
      "  dsc['ServiceDateMonth'] = dsc['ServiceDate'].dt.month\n"
     ]
    }
   ],
   "source": [
    "#create another column that extracts the month from the 'ServiceDate'\n",
    "dsc['ServiceDateMonth'] = dsc['ServiceDate'].dt.month"
   ]
  },
  {
   "cell_type": "code",
   "execution_count": 29,
   "id": "759fcdad",
   "metadata": {},
   "outputs": [
    {
     "data": {
      "text/html": [
       "<div>\n",
       "<style scoped>\n",
       "    .dataframe tbody tr th:only-of-type {\n",
       "        vertical-align: middle;\n",
       "    }\n",
       "\n",
       "    .dataframe tbody tr th {\n",
       "        vertical-align: top;\n",
       "    }\n",
       "\n",
       "    .dataframe thead th {\n",
       "        text-align: right;\n",
       "    }\n",
       "</style>\n",
       "<table border=\"1\" class=\"dataframe\">\n",
       "  <thead>\n",
       "    <tr style=\"text-align: right;\">\n",
       "      <th></th>\n",
       "      <th>SRNumber</th>\n",
       "      <th>CreatedDate</th>\n",
       "      <th>UpdatedDate</th>\n",
       "      <th>ActionTaken</th>\n",
       "      <th>Owner</th>\n",
       "      <th>RequestType</th>\n",
       "      <th>Status</th>\n",
       "      <th>RequestSource</th>\n",
       "      <th>CreatedByUserOrganization</th>\n",
       "      <th>MobileOS</th>\n",
       "      <th>...</th>\n",
       "      <th>TBMPage</th>\n",
       "      <th>TBMColumn</th>\n",
       "      <th>TBMRow</th>\n",
       "      <th>APC</th>\n",
       "      <th>CD</th>\n",
       "      <th>CDMember</th>\n",
       "      <th>NC</th>\n",
       "      <th>NCName</th>\n",
       "      <th>PolicePrecinct</th>\n",
       "      <th>ServiceDateMonth</th>\n",
       "    </tr>\n",
       "  </thead>\n",
       "  <tbody>\n",
       "    <tr>\n",
       "      <th>160</th>\n",
       "      <td>1-1523621291</td>\n",
       "      <td>2020-01-01 09:12:00</td>\n",
       "      <td>2020-02-14 14:10:00</td>\n",
       "      <td>SR Created</td>\n",
       "      <td>BSL</td>\n",
       "      <td>Single Streetlight Issue</td>\n",
       "      <td>Closed</td>\n",
       "      <td>Self Service</td>\n",
       "      <td>Self Service</td>\n",
       "      <td>NaN</td>\n",
       "      <td>...</td>\n",
       "      <td>673.0</td>\n",
       "      <td>H</td>\n",
       "      <td>6.0</td>\n",
       "      <td>South Los Angeles APC</td>\n",
       "      <td>8.0</td>\n",
       "      <td>Marqueece Harris-Dawson</td>\n",
       "      <td>81.0</td>\n",
       "      <td>EMPOWERMENT CONGRESS CENTRAL AREA NDC</td>\n",
       "      <td>77TH STREET</td>\n",
       "      <td>1</td>\n",
       "    </tr>\n",
       "    <tr>\n",
       "      <th>391</th>\n",
       "      <td>1-1523650478</td>\n",
       "      <td>2020-01-01 11:27:00</td>\n",
       "      <td>2020-01-01 11:30:00</td>\n",
       "      <td>SR Created</td>\n",
       "      <td>OCB</td>\n",
       "      <td>Graffiti Removal</td>\n",
       "      <td>Closed</td>\n",
       "      <td>Driver Self Report</td>\n",
       "      <td>OCB</td>\n",
       "      <td>NaN</td>\n",
       "      <td>...</td>\n",
       "      <td>632.0</td>\n",
       "      <td>H</td>\n",
       "      <td>6.0</td>\n",
       "      <td>South Los Angeles APC</td>\n",
       "      <td>5.0</td>\n",
       "      <td>NaN</td>\n",
       "      <td>61.0</td>\n",
       "      <td>SOUTH ROBERTSON NC</td>\n",
       "      <td>WEST LOS ANGELES</td>\n",
       "      <td>12</td>\n",
       "    </tr>\n",
       "  </tbody>\n",
       "</table>\n",
       "<p>2 rows × 35 columns</p>\n",
       "</div>"
      ],
      "text/plain": [
       "         SRNumber         CreatedDate         UpdatedDate ActionTaken Owner  \\\n",
       "160  1-1523621291 2020-01-01 09:12:00 2020-02-14 14:10:00  SR Created   BSL   \n",
       "391  1-1523650478 2020-01-01 11:27:00 2020-01-01 11:30:00  SR Created   OCB   \n",
       "\n",
       "                  RequestType  Status       RequestSource  \\\n",
       "160  Single Streetlight Issue  Closed        Self Service   \n",
       "391          Graffiti Removal  Closed  Driver Self Report   \n",
       "\n",
       "    CreatedByUserOrganization MobileOS  ... TBMPage TBMColumn TBMRow  \\\n",
       "160              Self Service      NaN  ...   673.0         H    6.0   \n",
       "391                       OCB      NaN  ...   632.0         H    6.0   \n",
       "\n",
       "                       APC   CD                 CDMember    NC  \\\n",
       "160  South Los Angeles APC  8.0  Marqueece Harris-Dawson  81.0   \n",
       "391  South Los Angeles APC  5.0                      NaN  61.0   \n",
       "\n",
       "                                    NCName    PolicePrecinct ServiceDateMonth  \n",
       "160  EMPOWERMENT CONGRESS CENTRAL AREA NDC       77TH STREET                1  \n",
       "391                     SOUTH ROBERTSON NC  WEST LOS ANGELES               12  \n",
       "\n",
       "[2 rows x 35 columns]"
      ]
     },
     "execution_count": 29,
     "metadata": {},
     "output_type": "execute_result"
    }
   ],
   "source": [
    "dsc.head(2)"
   ]
  },
  {
   "cell_type": "code",
   "execution_count": 30,
   "id": "ea309fea",
   "metadata": {},
   "outputs": [
    {
     "data": {
      "text/plain": [
       "10    25489\n",
       "12    24868\n",
       "11    19973\n",
       "1     18820\n",
       "8     18771\n",
       "9     17856\n",
       "5     17765\n",
       "7     17690\n",
       "4     17580\n",
       "2     17556\n",
       "6     17381\n",
       "3     16062\n",
       "Name: ServiceDateMonth, dtype: int64"
      ]
     },
     "execution_count": 30,
     "metadata": {},
     "output_type": "execute_result"
    }
   ],
   "source": [
    "dsc['ServiceDateMonth'].value_counts()"
   ]
  },
  {
   "cell_type": "markdown",
   "id": "f5f6f848",
   "metadata": {},
   "source": [
    "### The highest amount of calls happened at the end of the year (10-12)"
   ]
  },
  {
   "cell_type": "code",
   "execution_count": 31,
   "id": "7aedb14e",
   "metadata": {},
   "outputs": [
    {
     "data": {
      "text/plain": [
       "RequestSource\n",
       "Call                               2043\n",
       "Council's Office                     24\n",
       "Driver Self Report               219663\n",
       "Email                                94\n",
       "Mobile App                         6207\n",
       "Queue Initiated Customer Call         1\n",
       "Self Service                       1746\n",
       "Twitter                               2\n",
       "Voicemail                            31\n",
       "Name: ServiceDateMonth, dtype: int64"
      ]
     },
     "execution_count": 31,
     "metadata": {},
     "output_type": "execute_result"
    }
   ],
   "source": [
    "dsc.groupby('RequestSource')['ServiceDateMonth'].count()"
   ]
  },
  {
   "cell_type": "markdown",
   "id": "8b81e6f8",
   "metadata": {},
   "source": [
    "### Interesting - the information for ServiceDate on the 311 site is \"The scheduled service date for SANITATION service types. Typically this will be the next scheduled trash collection date.\"  So is ServiceDate even relevant for graffiti and street light requests?"
   ]
  },
  {
   "cell_type": "code",
   "execution_count": 32,
   "id": "c4783164",
   "metadata": {},
   "outputs": [
    {
     "data": {
      "text/plain": [
       "2020-02-10 12:01:00    25\n",
       "2020-01-29 17:36:00    24\n",
       "2020-02-11 01:41:00    24\n",
       "2020-02-19 09:56:00    23\n",
       "2020-01-07 10:17:00    23\n",
       "                       ..\n",
       "2020-10-16 12:20:31     1\n",
       "2020-10-12 21:15:30     1\n",
       "2020-05-01 21:00:44     1\n",
       "2020-12-07 11:20:30     1\n",
       "2020-07-10 12:30:19     1\n",
       "Name: ClosedDate, Length: 198746, dtype: int64"
      ]
     },
     "execution_count": 32,
     "metadata": {},
     "output_type": "execute_result"
    }
   ],
   "source": [
    "dsc['ClosedDate'].value_counts()"
   ]
  },
  {
   "cell_type": "code",
   "execution_count": 33,
   "id": "0065e4ae",
   "metadata": {},
   "outputs": [
    {
     "name": "stderr",
     "output_type": "stream",
     "text": [
      "<ipython-input-33-331fea9e8580>:2: SettingWithCopyWarning: \n",
      "A value is trying to be set on a copy of a slice from a DataFrame.\n",
      "Try using .loc[row_indexer,col_indexer] = value instead\n",
      "\n",
      "See the caveats in the documentation: https://pandas.pydata.org/pandas-docs/stable/user_guide/indexing.html#returning-a-view-versus-a-copy\n",
      "  dsc['ClosedDateMonth'] = dsc['ClosedDate'].dt.month\n"
     ]
    }
   ],
   "source": [
    "#create another column that extracts the month from the 'ClosedDate'\n",
    "dsc['ClosedDateMonth'] = dsc['ClosedDate'].dt.month"
   ]
  },
  {
   "cell_type": "code",
   "execution_count": 34,
   "id": "7e82565b",
   "metadata": {},
   "outputs": [
    {
     "data": {
      "text/plain": [
       "10    25076\n",
       "12    23399\n",
       "5     21561\n",
       "1     20984\n",
       "6     20337\n",
       "11    19216\n",
       "7     18253\n",
       "9     17661\n",
       "8     17128\n",
       "2     16348\n",
       "3     15333\n",
       "4     14515\n",
       "Name: ClosedDateMonth, dtype: int64"
      ]
     },
     "execution_count": 34,
     "metadata": {},
     "output_type": "execute_result"
    }
   ],
   "source": [
    "dsc['ClosedDateMonth'].value_counts()"
   ]
  },
  {
   "cell_type": "code",
   "execution_count": 35,
   "id": "359184a1",
   "metadata": {},
   "outputs": [
    {
     "data": {
      "text/plain": [
       "Y    229811\n",
       "Name: AddressVerified, dtype: int64"
      ]
     },
     "execution_count": 35,
     "metadata": {},
     "output_type": "execute_result"
    }
   ],
   "source": [
    "dsc['AddressVerified'].value_counts()"
   ]
  },
  {
   "cell_type": "markdown",
   "id": "a3e9c8ac",
   "metadata": {},
   "source": [
    "AddressVerified means Was the address within the City boundaries and validated with GIS data"
   ]
  },
  {
   "cell_type": "code",
   "execution_count": 36,
   "id": "c62fbc19",
   "metadata": {},
   "outputs": [
    {
     "data": {
      "text/plain": [
       "N    8173\n",
       "Y     807\n",
       "Name: ApproximateAddress, dtype: int64"
      ]
     },
     "execution_count": 36,
     "metadata": {},
     "output_type": "execute_result"
    }
   ],
   "source": [
    "dsc['ApproximateAddress'].value_counts()"
   ]
  },
  {
   "cell_type": "markdown",
   "id": "a0d76d8a",
   "metadata": {},
   "source": [
    "#### Most were entered with the exact address\n",
    "If the location was created by using the map and moving the pin then this will be Y. If an exact address or intersection was entered this will be N."
   ]
  },
  {
   "cell_type": "code",
   "execution_count": 37,
   "id": "ae5449b9",
   "metadata": {},
   "outputs": [
    {
     "data": {
      "text/plain": [
       "12843 W FOOTHILL BLVD, 91342         284\n",
       "5043 S NORMANDIE AVE, 90037          249\n",
       "MACLAY ST AT FOOTHILL BLVD, 91342    199\n",
       "2500 S HOOPER AVE, 90011             196\n",
       "3600 S MAIN ST, 90007                196\n",
       "                                    ... \n",
       "4010 S LINCOLN BLVD, 90292             1\n",
       "446 W PICO BLVD, 90015                 1\n",
       "1482 W SUNSET BLVD, 90026              1\n",
       "1318 W SLAUSON AVE, 90044              1\n",
       "7101 FOUNTAIN AV, 90046                1\n",
       "Name: Address, Length: 75343, dtype: int64"
      ]
     },
     "execution_count": 37,
     "metadata": {},
     "output_type": "execute_result"
    }
   ],
   "source": [
    "dsc['Address'].value_counts()"
   ]
  },
  {
   "cell_type": "code",
   "execution_count": 38,
   "id": "04cbe797",
   "metadata": {},
   "outputs": [
    {
     "data": {
      "text/plain": [
       "NEWTON              48915\n",
       "RAMPART             19063\n",
       "77TH STREET         18191\n",
       "HOLLENBECK          16243\n",
       "HARBOR              14770\n",
       "SOUTHEAST           14077\n",
       "MISSION             13808\n",
       "CENTRAL             12441\n",
       "NORTHEAST           11151\n",
       "HOLLYWOOD            8356\n",
       "NORTH HOLLYWOOD      8306\n",
       "WEST VALLEY          6513\n",
       "SOUTHWEST            6074\n",
       "OLYMPIC              5335\n",
       "FOOTHILL             5324\n",
       "PACIFIC              4610\n",
       "WILSHIRE             4472\n",
       "VAN NUYS             3839\n",
       "TOPANGA              3106\n",
       "WEST LOS ANGELES     2669\n",
       "DEVONSHIRE           2544\n",
       "Name: PolicePrecinct, dtype: int64"
      ]
     },
     "execution_count": 38,
     "metadata": {},
     "output_type": "execute_result"
    }
   ],
   "source": [
    "dsc['PolicePrecinct'].value_counts()"
   ]
  },
  {
   "cell_type": "markdown",
   "id": "27fae0ff",
   "metadata": {},
   "source": [
    "### Conclusion: \n",
    "#### The hypothesis suggested to me by people on the 311 and Data Science team is that workers were seeing the graffiti in the wild, cleaning it up, and inputting the call themselves, with the service date being a default.  The below information shows that to be a likely scenario.\n",
    "#### In all observations where Service Date precedes Created Date:\n",
    "#### •\tThe largest source through which the service request was received was Driver Self Report, which is described on the website as being “By work crews for work done in field then entered into system”\n",
    "#### •\tThe Request Types are all Graffiti Removal and Streetlight Issue, with Graffiti Removal making up 99%. All of these calls were assigned to the Office of Beautification and the Bureau of Street Lighting \n",
    "#### •\tThe most frequent 'UpdatedDate' happened at exactly 2020-11-03 15:32:08, which suggests batch input.  \n"
   ]
  },
  {
   "cell_type": "code",
   "execution_count": null,
   "id": "d18e2712",
   "metadata": {},
   "outputs": [],
   "source": []
  }
 ],
 "metadata": {
  "kernelspec": {
   "display_name": "Python 3.10.7 ('.311': venv)",
   "language": "python",
   "name": "python3"
  },
  "language_info": {
   "codemirror_mode": {
    "name": "ipython",
    "version": 3
   },
   "file_extension": ".py",
   "mimetype": "text/x-python",
   "name": "python",
   "nbconvert_exporter": "python",
   "pygments_lexer": "ipython3",
   "version": "3.10.7"
  },
  "vscode": {
   "interpreter": {
    "hash": "dea60ae50a6f6db8f29a86d1a90477a65a67cbc1ef92852d90bdf9857e47f257"
   }
  }
 },
 "nbformat": 4,
 "nbformat_minor": 5
}
