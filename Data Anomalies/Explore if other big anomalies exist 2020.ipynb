{
 "cells": [
  {
   "cell_type": "code",
   "execution_count": 1,
   "id": "28c64c33",
   "metadata": {},
   "outputs": [],
   "source": [
    "import numpy as np\n",
    "import pandas as pd\n",
    "from datetime import datetime as dt\n",
    "import warnings\n",
    "warnings.filterwarnings('ignore')"
   ]
  },
  {
   "cell_type": "code",
   "execution_count": 2,
   "id": "f80824e5",
   "metadata": {},
   "outputs": [],
   "source": [
    "pd.options.display.max_columns = None"
   ]
  },
  {
   "cell_type": "markdown",
   "id": "b271c3e0",
   "metadata": {},
   "source": [
    "<font size=3 color='DarkBlue'> Import 2020 dataset where all rows with servicedate before 2018, rows with servicedate and closeddate of null are deleted"
   ]
  },
  {
   "cell_type": "code",
   "execution_count": 3,
   "id": "e3add701",
   "metadata": {},
   "outputs": [],
   "source": [
    "df311_2020=pd.read_csv(r'C:\\Documents\\projects\\HackLA\\311\\data\\MyLA311_Service_Request_Data_2020DT2.csv',\n",
    "                       low_memory=False, index_col=0)"
   ]
  },
  {
   "cell_type": "code",
   "execution_count": 10,
   "id": "c49f250e",
   "metadata": {},
   "outputs": [
    {
     "data": {
      "text/plain": [
       "(1417527, 34)"
      ]
     },
     "execution_count": 10,
     "metadata": {},
     "output_type": "execute_result"
    }
   ],
   "source": [
    "df311_2020.shape"
   ]
  },
  {
   "cell_type": "code",
   "execution_count": 11,
   "id": "a07ff970",
   "metadata": {},
   "outputs": [
    {
     "data": {
      "text/plain": [
       "Timestamp('2019-01-02 00:00:00')"
      ]
     },
     "execution_count": 11,
     "metadata": {},
     "output_type": "execute_result"
    }
   ],
   "source": [
    "df311_2020.ServiceDate.min()"
   ]
  },
  {
   "cell_type": "code",
   "execution_count": 12,
   "id": "36da13c9",
   "metadata": {},
   "outputs": [
    {
     "data": {
      "text/plain": [
       "Timestamp('2022-11-25 00:00:00')"
      ]
     },
     "execution_count": 12,
     "metadata": {},
     "output_type": "execute_result"
    }
   ],
   "source": [
    "df311_2020.ServiceDate.max()"
   ]
  },
  {
   "cell_type": "code",
   "execution_count": 13,
   "id": "30e46b86",
   "metadata": {},
   "outputs": [
    {
     "data": {
      "text/plain": [
       "Timestamp('2019-01-02 00:00:00')"
      ]
     },
     "execution_count": 13,
     "metadata": {},
     "output_type": "execute_result"
    }
   ],
   "source": [
    "df311_2020.ClosedDate.min()"
   ]
  },
  {
   "cell_type": "code",
   "execution_count": 14,
   "id": "a5a78803",
   "metadata": {},
   "outputs": [
    {
     "data": {
      "text/plain": [
       "Timestamp('2022-07-18 15:07:29')"
      ]
     },
     "execution_count": 14,
     "metadata": {},
     "output_type": "execute_result"
    }
   ],
   "source": [
    "df311_2020.ClosedDate.max()"
   ]
  },
  {
   "cell_type": "code",
   "execution_count": 15,
   "id": "22a0815d",
   "metadata": {},
   "outputs": [],
   "source": [
    "df311_2020['CreatedDate'] = pd.to_datetime(df311_2020['CreatedDate'])\n",
    "df311_2020['UpdatedDate'] = pd.to_datetime(df311_2020['UpdatedDate'])\n",
    "df311_2020['ServiceDate'] = pd.to_datetime(df311_2020['ServiceDate']) \n",
    "df311_2020['ClosedDate'] = pd.to_datetime(df311_2020['ClosedDate']) "
   ]
  },
  {
   "cell_type": "markdown",
   "id": "47c9416d",
   "metadata": {},
   "source": [
    "<font size=4 color='DarkBlue'> Inspect instances where Service Date is after Closed Date"
   ]
  },
  {
   "cell_type": "code",
   "execution_count": 16,
   "id": "f4146f51",
   "metadata": {},
   "outputs": [],
   "source": [
    "#Create df where Service Date > Closed Date\n",
    "dfSC = df311_2020[df311_2020.ServiceDate > df311_2020.ClosedDate]"
   ]
  },
  {
   "cell_type": "code",
   "execution_count": 17,
   "id": "2699e389",
   "metadata": {},
   "outputs": [
    {
     "data": {
      "text/plain": [
       "(30190, 34)"
      ]
     },
     "execution_count": 17,
     "metadata": {},
     "output_type": "execute_result"
    }
   ],
   "source": [
    "dfSC.shape"
   ]
  },
  {
   "cell_type": "code",
   "execution_count": 18,
   "id": "2e9a3a40",
   "metadata": {},
   "outputs": [
    {
     "data": {
      "text/plain": [
       "2.129765429512101"
      ]
     },
     "execution_count": 18,
     "metadata": {},
     "output_type": "execute_result"
    }
   ],
   "source": [
    "#Percentage \n",
    "100 * float(30190)/float(1417527)"
   ]
  },
  {
   "cell_type": "markdown",
   "id": "4f097d04",
   "metadata": {},
   "source": [
    "2.1% is not statistically significant"
   ]
  },
  {
   "cell_type": "markdown",
   "id": "a6962bf6",
   "metadata": {},
   "source": [
    "<font size=4 color='DarkBlue'> Inspect instances where Closed Date is before Updated Date:"
   ]
  },
  {
   "cell_type": "code",
   "execution_count": 19,
   "id": "fc6234ec",
   "metadata": {},
   "outputs": [],
   "source": [
    "#Create df where Closed Date < Updated Date\n",
    "dfcu = df311_2020[df311_2020.ClosedDate < df311_2020.UpdatedDate]"
   ]
  },
  {
   "cell_type": "code",
   "execution_count": 20,
   "id": "add6ff66",
   "metadata": {},
   "outputs": [
    {
     "data": {
      "text/plain": [
       "(1181263, 34)"
      ]
     },
     "execution_count": 20,
     "metadata": {},
     "output_type": "execute_result"
    }
   ],
   "source": [
    "dfcu.shape"
   ]
  },
  {
   "cell_type": "code",
   "execution_count": 21,
   "id": "45487a43",
   "metadata": {},
   "outputs": [
    {
     "data": {
      "text/html": [
       "<div>\n",
       "<style scoped>\n",
       "    .dataframe tbody tr th:only-of-type {\n",
       "        vertical-align: middle;\n",
       "    }\n",
       "\n",
       "    .dataframe tbody tr th {\n",
       "        vertical-align: top;\n",
       "    }\n",
       "\n",
       "    .dataframe thead th {\n",
       "        text-align: right;\n",
       "    }\n",
       "</style>\n",
       "<table border=\"1\" class=\"dataframe\">\n",
       "  <thead>\n",
       "    <tr style=\"text-align: right;\">\n",
       "      <th></th>\n",
       "      <th>SRNumber</th>\n",
       "      <th>CreatedDate</th>\n",
       "      <th>UpdatedDate</th>\n",
       "      <th>ActionTaken</th>\n",
       "      <th>Owner</th>\n",
       "      <th>RequestType</th>\n",
       "      <th>Status</th>\n",
       "      <th>RequestSource</th>\n",
       "      <th>CreatedByUserOrganization</th>\n",
       "      <th>MobileOS</th>\n",
       "      <th>Anonymous</th>\n",
       "      <th>AssignTo</th>\n",
       "      <th>ServiceDate</th>\n",
       "      <th>ClosedDate</th>\n",
       "      <th>AddressVerified</th>\n",
       "      <th>ApproximateAddress</th>\n",
       "      <th>Address</th>\n",
       "      <th>HouseNumber</th>\n",
       "      <th>Direction</th>\n",
       "      <th>StreetName</th>\n",
       "      <th>Suffix</th>\n",
       "      <th>ZipCode</th>\n",
       "      <th>Latitude</th>\n",
       "      <th>Longitude</th>\n",
       "      <th>Location</th>\n",
       "      <th>TBMPage</th>\n",
       "      <th>TBMColumn</th>\n",
       "      <th>TBMRow</th>\n",
       "      <th>APC</th>\n",
       "      <th>CD</th>\n",
       "      <th>CDMember</th>\n",
       "      <th>NC</th>\n",
       "      <th>NCName</th>\n",
       "      <th>PolicePrecinct</th>\n",
       "    </tr>\n",
       "  </thead>\n",
       "  <tbody>\n",
       "    <tr>\n",
       "      <th>0</th>\n",
       "      <td>1-1523593381</td>\n",
       "      <td>2020-01-01 00:02:00</td>\n",
       "      <td>2020-01-07 12:19:00</td>\n",
       "      <td>SR Created</td>\n",
       "      <td>BOS</td>\n",
       "      <td>Illegal Dumping Pickup</td>\n",
       "      <td>Closed</td>\n",
       "      <td>Call</td>\n",
       "      <td>BOS</td>\n",
       "      <td>NaN</td>\n",
       "      <td>N</td>\n",
       "      <td>SLA</td>\n",
       "      <td>2020-01-07</td>\n",
       "      <td>2020-01-07 10:49:00</td>\n",
       "      <td>Y</td>\n",
       "      <td>N</td>\n",
       "      <td>1500 W SLAUSON AVE, 90047</td>\n",
       "      <td>1500.0</td>\n",
       "      <td>W</td>\n",
       "      <td>SLAUSON</td>\n",
       "      <td>AVE</td>\n",
       "      <td>90047.0</td>\n",
       "      <td>33.988984</td>\n",
       "      <td>-118.302681</td>\n",
       "      <td>(33.988984265, -118.302681205)</td>\n",
       "      <td>673.0</td>\n",
       "      <td>J</td>\n",
       "      <td>5.0</td>\n",
       "      <td>South Los Angeles APC</td>\n",
       "      <td>8.0</td>\n",
       "      <td>Marqueece Harris-Dawson</td>\n",
       "      <td>81.0</td>\n",
       "      <td>EMPOWERMENT CONGRESS CENTRAL AREA NDC</td>\n",
       "      <td>77TH STREET</td>\n",
       "    </tr>\n",
       "    <tr>\n",
       "      <th>7</th>\n",
       "      <td>1-1523593661</td>\n",
       "      <td>2020-01-01 00:38:00</td>\n",
       "      <td>2020-02-14 13:17:00</td>\n",
       "      <td>SR Created</td>\n",
       "      <td>BOS</td>\n",
       "      <td>Homeless Encampment</td>\n",
       "      <td>Closed</td>\n",
       "      <td>Mobile App</td>\n",
       "      <td>Self Service</td>\n",
       "      <td>iOS</td>\n",
       "      <td>N</td>\n",
       "      <td>NC</td>\n",
       "      <td>2020-01-07</td>\n",
       "      <td>2020-02-14 12:46:00</td>\n",
       "      <td>Y</td>\n",
       "      <td>NaN</td>\n",
       "      <td>345 S GERTRUDE ST, 90033</td>\n",
       "      <td>345.0</td>\n",
       "      <td>S</td>\n",
       "      <td>GERTRUDE</td>\n",
       "      <td>ST</td>\n",
       "      <td>90033.0</td>\n",
       "      <td>34.043551</td>\n",
       "      <td>-118.217574</td>\n",
       "      <td>(34.0435507512, -118.21757447)</td>\n",
       "      <td>635.0</td>\n",
       "      <td>A</td>\n",
       "      <td>5.0</td>\n",
       "      <td>East Los Angeles APC</td>\n",
       "      <td>14.0</td>\n",
       "      <td>Jose Huizar</td>\n",
       "      <td>50.0</td>\n",
       "      <td>BOYLE HEIGHTS NC</td>\n",
       "      <td>HOLLENBECK</td>\n",
       "    </tr>\n",
       "    <tr>\n",
       "      <th>8</th>\n",
       "      <td>1-1523593741</td>\n",
       "      <td>2020-01-01 00:43:00</td>\n",
       "      <td>2020-01-06 19:49:00</td>\n",
       "      <td>SR Created</td>\n",
       "      <td>BOS</td>\n",
       "      <td>Illegal Dumping Pickup</td>\n",
       "      <td>Closed</td>\n",
       "      <td>Email</td>\n",
       "      <td>BOS</td>\n",
       "      <td>NaN</td>\n",
       "      <td>N</td>\n",
       "      <td>SLA</td>\n",
       "      <td>2020-01-06</td>\n",
       "      <td>2020-01-06 10:49:00</td>\n",
       "      <td>Y</td>\n",
       "      <td>N</td>\n",
       "      <td>MARTIN LUTHER KING, JR BLVD AT MUIRFIELD ROAD,...</td>\n",
       "      <td>NaN</td>\n",
       "      <td>NaN</td>\n",
       "      <td>NaN</td>\n",
       "      <td>NaN</td>\n",
       "      <td>90008.0</td>\n",
       "      <td>34.015987</td>\n",
       "      <td>-118.343179</td>\n",
       "      <td>(34.0159869949, -118.34317866)</td>\n",
       "      <td>673.0</td>\n",
       "      <td>D</td>\n",
       "      <td>2.0</td>\n",
       "      <td>South Los Angeles APC</td>\n",
       "      <td>10.0</td>\n",
       "      <td>Herb J. Wesson Jr.</td>\n",
       "      <td>79.0</td>\n",
       "      <td>EMPOWERMENT CONGRESS WEST AREA NDC</td>\n",
       "      <td>SOUTHWEST</td>\n",
       "    </tr>\n",
       "    <tr>\n",
       "      <th>10</th>\n",
       "      <td>1-1523593831</td>\n",
       "      <td>2020-01-01 00:49:00</td>\n",
       "      <td>2020-01-06 11:48:00</td>\n",
       "      <td>SR Created</td>\n",
       "      <td>BOS</td>\n",
       "      <td>Illegal Dumping Pickup</td>\n",
       "      <td>Closed</td>\n",
       "      <td>Email</td>\n",
       "      <td>BOS</td>\n",
       "      <td>NaN</td>\n",
       "      <td>N</td>\n",
       "      <td>SLA</td>\n",
       "      <td>2020-01-06</td>\n",
       "      <td>2020-01-06 10:49:00</td>\n",
       "      <td>Y</td>\n",
       "      <td>N</td>\n",
       "      <td>BUCKINGHAM ROAD AT MARTIN LUTHER KING,</td>\n",
       "      <td>NaN</td>\n",
       "      <td>NaN</td>\n",
       "      <td>NaN</td>\n",
       "      <td>NaN</td>\n",
       "      <td>0.0</td>\n",
       "      <td>34.014999</td>\n",
       "      <td>-118.341607</td>\n",
       "      <td>(34.0149985801, -118.341606635)</td>\n",
       "      <td>673.0</td>\n",
       "      <td>D</td>\n",
       "      <td>2.0</td>\n",
       "      <td>South Los Angeles APC</td>\n",
       "      <td>10.0</td>\n",
       "      <td>Herb J. Wesson Jr.</td>\n",
       "      <td>79.0</td>\n",
       "      <td>EMPOWERMENT CONGRESS WEST AREA NDC</td>\n",
       "      <td>SOUTHWEST</td>\n",
       "    </tr>\n",
       "    <tr>\n",
       "      <th>11</th>\n",
       "      <td>1-1523597491</td>\n",
       "      <td>2020-01-01 00:51:00</td>\n",
       "      <td>2020-01-03 15:51:00</td>\n",
       "      <td>SR Created</td>\n",
       "      <td>BOS</td>\n",
       "      <td>Illegal Dumping Pickup</td>\n",
       "      <td>Closed</td>\n",
       "      <td>Call</td>\n",
       "      <td>BOS</td>\n",
       "      <td>NaN</td>\n",
       "      <td>N</td>\n",
       "      <td>EV</td>\n",
       "      <td>2020-01-03</td>\n",
       "      <td>2020-01-03 10:18:00</td>\n",
       "      <td>Y</td>\n",
       "      <td>N</td>\n",
       "      <td>SEPULVEDA BLVD AT OXNARD ST, 91411</td>\n",
       "      <td>NaN</td>\n",
       "      <td>NaN</td>\n",
       "      <td>NaN</td>\n",
       "      <td>NaN</td>\n",
       "      <td>91411.0</td>\n",
       "      <td>34.179369</td>\n",
       "      <td>-118.466216</td>\n",
       "      <td>(34.1793689586, -118.466216382)</td>\n",
       "      <td>561.0</td>\n",
       "      <td>H</td>\n",
       "      <td>1.0</td>\n",
       "      <td>South Valley APC</td>\n",
       "      <td>6.0</td>\n",
       "      <td>Nury Martinez</td>\n",
       "      <td>20.0</td>\n",
       "      <td>VAN NUYS NC</td>\n",
       "      <td>VAN NUYS</td>\n",
       "    </tr>\n",
       "  </tbody>\n",
       "</table>\n",
       "</div>"
      ],
      "text/plain": [
       "        SRNumber         CreatedDate         UpdatedDate ActionTaken Owner  \\\n",
       "0   1-1523593381 2020-01-01 00:02:00 2020-01-07 12:19:00  SR Created   BOS   \n",
       "7   1-1523593661 2020-01-01 00:38:00 2020-02-14 13:17:00  SR Created   BOS   \n",
       "8   1-1523593741 2020-01-01 00:43:00 2020-01-06 19:49:00  SR Created   BOS   \n",
       "10  1-1523593831 2020-01-01 00:49:00 2020-01-06 11:48:00  SR Created   BOS   \n",
       "11  1-1523597491 2020-01-01 00:51:00 2020-01-03 15:51:00  SR Created   BOS   \n",
       "\n",
       "               RequestType  Status RequestSource CreatedByUserOrganization  \\\n",
       "0   Illegal Dumping Pickup  Closed          Call                       BOS   \n",
       "7      Homeless Encampment  Closed    Mobile App              Self Service   \n",
       "8   Illegal Dumping Pickup  Closed         Email                       BOS   \n",
       "10  Illegal Dumping Pickup  Closed         Email                       BOS   \n",
       "11  Illegal Dumping Pickup  Closed          Call                       BOS   \n",
       "\n",
       "   MobileOS Anonymous AssignTo ServiceDate          ClosedDate  \\\n",
       "0       NaN         N      SLA  2020-01-07 2020-01-07 10:49:00   \n",
       "7       iOS         N       NC  2020-01-07 2020-02-14 12:46:00   \n",
       "8       NaN         N      SLA  2020-01-06 2020-01-06 10:49:00   \n",
       "10      NaN         N      SLA  2020-01-06 2020-01-06 10:49:00   \n",
       "11      NaN         N       EV  2020-01-03 2020-01-03 10:18:00   \n",
       "\n",
       "   AddressVerified ApproximateAddress  \\\n",
       "0                Y                  N   \n",
       "7                Y                NaN   \n",
       "8                Y                  N   \n",
       "10               Y                  N   \n",
       "11               Y                  N   \n",
       "\n",
       "                                              Address  HouseNumber Direction  \\\n",
       "0                           1500 W SLAUSON AVE, 90047       1500.0         W   \n",
       "7                            345 S GERTRUDE ST, 90033        345.0         S   \n",
       "8   MARTIN LUTHER KING, JR BLVD AT MUIRFIELD ROAD,...          NaN       NaN   \n",
       "10             BUCKINGHAM ROAD AT MARTIN LUTHER KING,          NaN       NaN   \n",
       "11                 SEPULVEDA BLVD AT OXNARD ST, 91411          NaN       NaN   \n",
       "\n",
       "   StreetName Suffix  ZipCode   Latitude   Longitude  \\\n",
       "0     SLAUSON    AVE  90047.0  33.988984 -118.302681   \n",
       "7    GERTRUDE     ST  90033.0  34.043551 -118.217574   \n",
       "8         NaN    NaN  90008.0  34.015987 -118.343179   \n",
       "10        NaN    NaN      0.0  34.014999 -118.341607   \n",
       "11        NaN    NaN  91411.0  34.179369 -118.466216   \n",
       "\n",
       "                           Location  TBMPage TBMColumn  TBMRow  \\\n",
       "0    (33.988984265, -118.302681205)    673.0         J     5.0   \n",
       "7    (34.0435507512, -118.21757447)    635.0         A     5.0   \n",
       "8    (34.0159869949, -118.34317866)    673.0         D     2.0   \n",
       "10  (34.0149985801, -118.341606635)    673.0         D     2.0   \n",
       "11  (34.1793689586, -118.466216382)    561.0         H     1.0   \n",
       "\n",
       "                      APC    CD                 CDMember    NC  \\\n",
       "0   South Los Angeles APC   8.0  Marqueece Harris-Dawson  81.0   \n",
       "7    East Los Angeles APC  14.0              Jose Huizar  50.0   \n",
       "8   South Los Angeles APC  10.0       Herb J. Wesson Jr.  79.0   \n",
       "10  South Los Angeles APC  10.0       Herb J. Wesson Jr.  79.0   \n",
       "11       South Valley APC   6.0            Nury Martinez  20.0   \n",
       "\n",
       "                                   NCName PolicePrecinct  \n",
       "0   EMPOWERMENT CONGRESS CENTRAL AREA NDC    77TH STREET  \n",
       "7                        BOYLE HEIGHTS NC     HOLLENBECK  \n",
       "8      EMPOWERMENT CONGRESS WEST AREA NDC      SOUTHWEST  \n",
       "10     EMPOWERMENT CONGRESS WEST AREA NDC      SOUTHWEST  \n",
       "11                            VAN NUYS NC       VAN NUYS  "
      ]
     },
     "execution_count": 21,
     "metadata": {},
     "output_type": "execute_result"
    }
   ],
   "source": [
    "dfcu.head()"
   ]
  },
  {
   "cell_type": "markdown",
   "id": "e73f9ac1",
   "metadata": {},
   "source": [
    "<font size=3 color='DarkBlue'> There are 1,181,263, which is more than the number of records where  Service Dates < Created Date. However, many of these seem only hours apart, which could be that someone updated it a few hours after they closed it or there is an automatic process that updates the record when it's closed.  Will explore further."
   ]
  },
  {
   "cell_type": "code",
   "execution_count": 22,
   "id": "adc97788",
   "metadata": {},
   "outputs": [],
   "source": [
    "#remove hours, minutes, seconds\n",
    "dfcu['UpdatedDate'] = pd.to_datetime(dfcu['UpdatedDate']).dt.normalize()\n",
    "dfcu['ClosedDate'] = pd.to_datetime(dfcu['ClosedDate']).dt.normalize()"
   ]
  },
  {
   "cell_type": "code",
   "execution_count": 23,
   "id": "2d91e359",
   "metadata": {},
   "outputs": [],
   "source": [
    "#now that the hours, min, sec are gone, see if Updated Date actually happened on the same day as closed date\n",
    "#by creating a column with value of 'samedate' or 'differentdate'\n",
    "dfcu['compare'] = np.where((dfcu['UpdatedDate'] == dfcu['ClosedDate']), 'samedate', 'differentdate')"
   ]
  },
  {
   "cell_type": "code",
   "execution_count": 24,
   "id": "310c96c5",
   "metadata": {},
   "outputs": [
    {
     "data": {
      "text/plain": [
       "samedate         963353\n",
       "differentdate    217910\n",
       "Name: compare, dtype: int64"
      ]
     },
     "execution_count": 24,
     "metadata": {},
     "output_type": "execute_result"
    }
   ],
   "source": [
    "dfcu['compare'].value_counts()"
   ]
  },
  {
   "cell_type": "markdown",
   "id": "2b9f9378",
   "metadata": {},
   "source": [
    "<font size=2 color='DarkBlue'> Most are on the same date.  Explore the rest:"
   ]
  },
  {
   "cell_type": "code",
   "execution_count": 25,
   "id": "c37bb4eb",
   "metadata": {},
   "outputs": [],
   "source": [
    "#create df that only contains records where UpdatedDate and ClosedDate are on different dates \n",
    "#(when UpdatedDate is on a different day than Closed Date)\n",
    "dfcud = dfcu[dfcu['compare'] == 'differentdate']"
   ]
  },
  {
   "cell_type": "code",
   "execution_count": 26,
   "id": "a807e297",
   "metadata": {},
   "outputs": [
    {
     "data": {
      "text/html": [
       "<div>\n",
       "<style scoped>\n",
       "    .dataframe tbody tr th:only-of-type {\n",
       "        vertical-align: middle;\n",
       "    }\n",
       "\n",
       "    .dataframe tbody tr th {\n",
       "        vertical-align: top;\n",
       "    }\n",
       "\n",
       "    .dataframe thead th {\n",
       "        text-align: right;\n",
       "    }\n",
       "</style>\n",
       "<table border=\"1\" class=\"dataframe\">\n",
       "  <thead>\n",
       "    <tr style=\"text-align: right;\">\n",
       "      <th></th>\n",
       "      <th>SRNumber</th>\n",
       "      <th>CreatedDate</th>\n",
       "      <th>UpdatedDate</th>\n",
       "      <th>ActionTaken</th>\n",
       "      <th>Owner</th>\n",
       "      <th>RequestType</th>\n",
       "      <th>Status</th>\n",
       "      <th>RequestSource</th>\n",
       "      <th>CreatedByUserOrganization</th>\n",
       "      <th>MobileOS</th>\n",
       "      <th>Anonymous</th>\n",
       "      <th>AssignTo</th>\n",
       "      <th>ServiceDate</th>\n",
       "      <th>ClosedDate</th>\n",
       "      <th>AddressVerified</th>\n",
       "      <th>ApproximateAddress</th>\n",
       "      <th>Address</th>\n",
       "      <th>HouseNumber</th>\n",
       "      <th>Direction</th>\n",
       "      <th>StreetName</th>\n",
       "      <th>Suffix</th>\n",
       "      <th>ZipCode</th>\n",
       "      <th>Latitude</th>\n",
       "      <th>Longitude</th>\n",
       "      <th>Location</th>\n",
       "      <th>TBMPage</th>\n",
       "      <th>TBMColumn</th>\n",
       "      <th>TBMRow</th>\n",
       "      <th>APC</th>\n",
       "      <th>CD</th>\n",
       "      <th>CDMember</th>\n",
       "      <th>NC</th>\n",
       "      <th>NCName</th>\n",
       "      <th>PolicePrecinct</th>\n",
       "      <th>compare</th>\n",
       "    </tr>\n",
       "  </thead>\n",
       "  <tbody>\n",
       "    <tr>\n",
       "      <th>160</th>\n",
       "      <td>1-1523621291</td>\n",
       "      <td>2020-01-01 09:12:00</td>\n",
       "      <td>2020-02-14</td>\n",
       "      <td>SR Created</td>\n",
       "      <td>BSL</td>\n",
       "      <td>Single Streetlight Issue</td>\n",
       "      <td>Closed</td>\n",
       "      <td>Self Service</td>\n",
       "      <td>Self Service</td>\n",
       "      <td>NaN</td>\n",
       "      <td>Y</td>\n",
       "      <td>SOUTH</td>\n",
       "      <td>2020-01-01</td>\n",
       "      <td>2020-01-01</td>\n",
       "      <td>Y</td>\n",
       "      <td>Y</td>\n",
       "      <td>1925 W GAGE AVE, 90047</td>\n",
       "      <td>1925.0</td>\n",
       "      <td>W</td>\n",
       "      <td>GAGE</td>\n",
       "      <td>AVE</td>\n",
       "      <td>90047.0</td>\n",
       "      <td>33.981903</td>\n",
       "      <td>-118.312459</td>\n",
       "      <td>(33.98190267, -118.31245847)</td>\n",
       "      <td>673.0</td>\n",
       "      <td>H</td>\n",
       "      <td>6.0</td>\n",
       "      <td>South Los Angeles APC</td>\n",
       "      <td>8.0</td>\n",
       "      <td>Marqueece Harris-Dawson</td>\n",
       "      <td>81.0</td>\n",
       "      <td>EMPOWERMENT CONGRESS CENTRAL AREA NDC</td>\n",
       "      <td>77TH STREET</td>\n",
       "      <td>differentdate</td>\n",
       "    </tr>\n",
       "    <tr>\n",
       "      <th>172</th>\n",
       "      <td>1-1523624286</td>\n",
       "      <td>2020-01-01 09:18:00</td>\n",
       "      <td>2020-01-16</td>\n",
       "      <td>SR Created</td>\n",
       "      <td>BSL</td>\n",
       "      <td>Single Streetlight Issue</td>\n",
       "      <td>Closed</td>\n",
       "      <td>Mobile App</td>\n",
       "      <td>Self Service</td>\n",
       "      <td>iOS</td>\n",
       "      <td>N</td>\n",
       "      <td>SOUTH</td>\n",
       "      <td>2020-01-13</td>\n",
       "      <td>2020-01-13</td>\n",
       "      <td>Y</td>\n",
       "      <td>NaN</td>\n",
       "      <td>1401 W 51ST PL, 90062</td>\n",
       "      <td>1401.0</td>\n",
       "      <td>W</td>\n",
       "      <td>51ST</td>\n",
       "      <td>PL</td>\n",
       "      <td>90062.0</td>\n",
       "      <td>33.996016</td>\n",
       "      <td>-118.300674</td>\n",
       "      <td>(33.99601563, -118.30067385)</td>\n",
       "      <td>673.0</td>\n",
       "      <td>J</td>\n",
       "      <td>4.0</td>\n",
       "      <td>South Los Angeles APC</td>\n",
       "      <td>8.0</td>\n",
       "      <td>Marqueece Harris-Dawson</td>\n",
       "      <td>81.0</td>\n",
       "      <td>EMPOWERMENT CONGRESS CENTRAL AREA NDC</td>\n",
       "      <td>77TH STREET</td>\n",
       "      <td>differentdate</td>\n",
       "    </tr>\n",
       "  </tbody>\n",
       "</table>\n",
       "</div>"
      ],
      "text/plain": [
       "         SRNumber         CreatedDate UpdatedDate ActionTaken Owner  \\\n",
       "160  1-1523621291 2020-01-01 09:12:00  2020-02-14  SR Created   BSL   \n",
       "172  1-1523624286 2020-01-01 09:18:00  2020-01-16  SR Created   BSL   \n",
       "\n",
       "                  RequestType  Status RequestSource CreatedByUserOrganization  \\\n",
       "160  Single Streetlight Issue  Closed  Self Service              Self Service   \n",
       "172  Single Streetlight Issue  Closed    Mobile App              Self Service   \n",
       "\n",
       "    MobileOS Anonymous AssignTo ServiceDate ClosedDate AddressVerified  \\\n",
       "160      NaN         Y    SOUTH  2020-01-01 2020-01-01               Y   \n",
       "172      iOS         N    SOUTH  2020-01-13 2020-01-13               Y   \n",
       "\n",
       "    ApproximateAddress                 Address  HouseNumber Direction  \\\n",
       "160                  Y  1925 W GAGE AVE, 90047       1925.0         W   \n",
       "172                NaN   1401 W 51ST PL, 90062       1401.0         W   \n",
       "\n",
       "    StreetName Suffix  ZipCode   Latitude   Longitude  \\\n",
       "160       GAGE    AVE  90047.0  33.981903 -118.312459   \n",
       "172       51ST     PL  90062.0  33.996016 -118.300674   \n",
       "\n",
       "                         Location  TBMPage TBMColumn  TBMRow  \\\n",
       "160  (33.98190267, -118.31245847)    673.0         H     6.0   \n",
       "172  (33.99601563, -118.30067385)    673.0         J     4.0   \n",
       "\n",
       "                       APC   CD                 CDMember    NC  \\\n",
       "160  South Los Angeles APC  8.0  Marqueece Harris-Dawson  81.0   \n",
       "172  South Los Angeles APC  8.0  Marqueece Harris-Dawson  81.0   \n",
       "\n",
       "                                    NCName PolicePrecinct        compare  \n",
       "160  EMPOWERMENT CONGRESS CENTRAL AREA NDC    77TH STREET  differentdate  \n",
       "172  EMPOWERMENT CONGRESS CENTRAL AREA NDC    77TH STREET  differentdate  "
      ]
     },
     "execution_count": 26,
     "metadata": {},
     "output_type": "execute_result"
    }
   ],
   "source": [
    "dfcud.head(2)"
   ]
  },
  {
   "cell_type": "code",
   "execution_count": 27,
   "id": "1e6fc58c",
   "metadata": {},
   "outputs": [],
   "source": [
    "#create column called 'diff_days' that shows how many days exist between ClosedDate and UpdatedDate when \n",
    "#ClosedDate is on an actual different day than UpdatedDate\n",
    "dfcud['diff_days'] = dfcud['ClosedDate'] - dfcud['UpdatedDate']"
   ]
  },
  {
   "cell_type": "code",
   "execution_count": 28,
   "id": "3881c9b6",
   "metadata": {},
   "outputs": [
    {
     "data": {
      "text/plain": [
       "-1 days      186937\n",
       "-2 days       14659\n",
       "-3 days        7829\n",
       "-4 days        3246\n",
       "-5 days        1245\n",
       "              ...  \n",
       "-247 days         1\n",
       "-540 days         1\n",
       "-507 days         1\n",
       "-414 days         1\n",
       "-834 days         1\n",
       "Name: diff_days, Length: 288, dtype: int64"
      ]
     },
     "execution_count": 28,
     "metadata": {},
     "output_type": "execute_result"
    }
   ],
   "source": [
    "dfcud.diff_days.value_counts()"
   ]
  },
  {
   "cell_type": "code",
   "execution_count": 36,
   "id": "0527a07b",
   "metadata": {},
   "outputs": [
    {
     "data": {
      "text/plain": [
       "30973"
      ]
     },
     "execution_count": 36,
     "metadata": {},
     "output_type": "execute_result"
    }
   ],
   "source": [
    "#subtract the rows that have a difference of less than the same day\n",
    "217910 - 186937"
   ]
  },
  {
   "cell_type": "code",
   "execution_count": 37,
   "id": "2336d613",
   "metadata": {},
   "outputs": [
    {
     "data": {
      "text/plain": [
       "2.1850024726160417"
      ]
     },
     "execution_count": 37,
     "metadata": {},
     "output_type": "execute_result"
    }
   ],
   "source": [
    "100* float(30973)/float(1417527)"
   ]
  },
  {
   "cell_type": "markdown",
   "id": "76c9be82",
   "metadata": {},
   "source": [
    "<font size=4 color='DarkBlue'> Most of these are within a few days of each other.  If the premise that ServiceDate < CreatedDate is work people doing the work as they see it, inputing the info into the app they go and a accepting a default, that would explain these numbers as well. (And the data could beleft in the dataset without warping the outcome.) In addition, once the hours, minutes and seconds are removed and all rows where the ServiceDate and CreatedDate are within a day of each are removed, the amount is 2.2%, statistally insignificant."
   ]
  },
  {
   "cell_type": "code",
   "execution_count": null,
   "id": "8f64f3f0",
   "metadata": {},
   "outputs": [],
   "source": []
  }
 ],
 "metadata": {
  "kernelspec": {
   "display_name": "Python 3",
   "language": "python",
   "name": "python3"
  },
  "language_info": {
   "codemirror_mode": {
    "name": "ipython",
    "version": 3
   },
   "file_extension": ".py",
   "mimetype": "text/x-python",
   "name": "python",
   "nbconvert_exporter": "python",
   "pygments_lexer": "ipython3",
   "version": "3.8.8"
  }
 },
 "nbformat": 4,
 "nbformat_minor": 5
}
