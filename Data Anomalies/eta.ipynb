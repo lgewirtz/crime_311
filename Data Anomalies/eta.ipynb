{
 "cells": [
  {
   "cell_type": "markdown",
   "metadata": {
    "id": "8iGeJT7LHsnC"
   },
   "source": [
    "# Welcome to the 311 Data science team\n",
    "## Please follow the answers to this tutorial if you are unsure how to proceed. Remember, there are multiple methods to completing the same taks in data cleanning!\n",
    "\n",
    "This notebook has been adapated from Adel Sader's original notebook."
   ]
  },
  {
   "cell_type": "code",
   "execution_count": 15,
   "metadata": {
    "id": "Id2BMD3wBSYB"
   },
   "outputs": [],
   "source": [
    "import numpy as np\n",
    "import pandas as pd\n",
    "from datetime import datetime as dt\n",
    "import re\n",
    "import matplotlib.pyplot as plt\n",
    "import os\n"
   ]
  },
  {
   "cell_type": "code",
   "execution_count": 16,
   "metadata": {},
   "outputs": [],
   "source": [
    "# Enter your base directory\n",
    "BASE_DIR = '/Users/you_computer/Downloads/datafile_location/'"
   ]
  },
  {
   "cell_type": "markdown",
   "metadata": {
    "id": "Yjy3qNacBSYI"
   },
   "source": [
    "<font size=3 color='DarkBlue'>311data.csv has been downloaded from [this source](https://dev.socrata.com/foundry/data.lacity.org/rq3b-xjk8). Please download [this file]() to your computer to run this script."
   ]
  },
  {
   "cell_type": "code",
   "execution_count": 17,
   "metadata": {
    "id": "v55pwAokBSYI",
    "outputId": "c9734dca-de20-4733-a504-7da7eb785634"
   },
   "outputs": [
    {
     "name": "stderr",
     "output_type": "stream",
     "text": [
      "/Users/karinalopez/opt/anaconda3/lib/python3.8/site-packages/IPython/core/interactiveshell.py:3146: DtypeWarning: Columns (2) have mixed types.Specify dtype option on import or set low_memory=False.\n",
      "  has_raised = await self.run_ast_nodes(code_ast.body, cell_name,\n"
     ]
    }
   ],
   "source": [
    "# navigate to the file location and read your csv file\n",
    "os.chdir(BASE_DIR)\n",
    "\n",
    "df311 = pd.read_csv('311data.csv')\n"
   ]
  },
  {
   "cell_type": "code",
   "execution_count": 18,
   "metadata": {
    "id": "lwKEYY9gBSYJ",
    "outputId": "1c3fff5c-d6e6-4586-bb32-60b5f6a18cc3"
   },
   "outputs": [
    {
     "data": {
      "text/plain": [
       "(1491773, 35)"
      ]
     },
     "execution_count": 18,
     "metadata": {},
     "output_type": "execute_result"
    }
   ],
   "source": [
    "df311.shape"
   ]
  },
  {
   "cell_type": "code",
   "execution_count": 19,
   "metadata": {
    "id": "S6tVtW5xBSYK",
    "outputId": "199bb788-de91-42ca-fdf1-10dfa68c919e"
   },
   "outputs": [
    {
     "data": {
      "text/html": [
       "<div>\n",
       "<style scoped>\n",
       "    .dataframe tbody tr th:only-of-type {\n",
       "        vertical-align: middle;\n",
       "    }\n",
       "\n",
       "    .dataframe tbody tr th {\n",
       "        vertical-align: top;\n",
       "    }\n",
       "\n",
       "    .dataframe thead th {\n",
       "        text-align: right;\n",
       "    }\n",
       "</style>\n",
       "<table border=\"1\" class=\"dataframe\">\n",
       "  <thead>\n",
       "    <tr style=\"text-align: right;\">\n",
       "      <th></th>\n",
       "      <th>Unnamed: 0</th>\n",
       "      <th>location</th>\n",
       "      <th>zipcode</th>\n",
       "      <th>suffix</th>\n",
       "      <th>srnumber</th>\n",
       "      <th>updateddate</th>\n",
       "      <th>closeddate</th>\n",
       "      <th>cd</th>\n",
       "      <th>address</th>\n",
       "      <th>createdbyuserorganization</th>\n",
       "      <th>...</th>\n",
       "      <th>status</th>\n",
       "      <th>tbmrow</th>\n",
       "      <th>direction</th>\n",
       "      <th>anonymous</th>\n",
       "      <th>addressverified</th>\n",
       "      <th>actiontaken</th>\n",
       "      <th>streetname</th>\n",
       "      <th>ncname</th>\n",
       "      <th>apc</th>\n",
       "      <th>tbmpage</th>\n",
       "    </tr>\n",
       "  </thead>\n",
       "  <tbody>\n",
       "    <tr>\n",
       "      <th>0</th>\n",
       "      <td>0</td>\n",
       "      <td>{'latitude': '33.9589038232', 'needs_recoding'...</td>\n",
       "      <td>90003</td>\n",
       "      <td>ST</td>\n",
       "      <td>1-1831739761</td>\n",
       "      <td>2021-01-02T08:12:27.000</td>\n",
       "      <td>2021-01-02T07:39:24.000</td>\n",
       "      <td>8.0</td>\n",
       "      <td>114 E 87TH ST, 90003</td>\n",
       "      <td>Self Service</td>\n",
       "      <td>...</td>\n",
       "      <td>Closed</td>\n",
       "      <td>3.0</td>\n",
       "      <td>E</td>\n",
       "      <td>N</td>\n",
       "      <td>Y</td>\n",
       "      <td>SR Created</td>\n",
       "      <td>87TH</td>\n",
       "      <td>Empowerment Congress Southeast</td>\n",
       "      <td>South Los Angeles APC</td>\n",
       "      <td>704.0</td>\n",
       "    </tr>\n",
       "    <tr>\n",
       "      <th>1</th>\n",
       "      <td>1</td>\n",
       "      <td>{'latitude': '34.2838039863', 'needs_recoding'...</td>\n",
       "      <td>91342</td>\n",
       "      <td>AVE</td>\n",
       "      <td>1-1831739741</td>\n",
       "      <td>2021-01-01T13:38:06.000</td>\n",
       "      <td>2021-01-01T13:38:06.000</td>\n",
       "      <td>7.0</td>\n",
       "      <td>11743 N BRUSSELS AVE, 91342</td>\n",
       "      <td>Self Service_SAN</td>\n",
       "      <td>...</td>\n",
       "      <td>Cancelled</td>\n",
       "      <td>7.0</td>\n",
       "      <td>N</td>\n",
       "      <td>N</td>\n",
       "      <td>Y</td>\n",
       "      <td>SR Created</td>\n",
       "      <td>BRUSSELS</td>\n",
       "      <td>Foothill Trails District</td>\n",
       "      <td>North Valley APC</td>\n",
       "      <td>482.0</td>\n",
       "    </tr>\n",
       "  </tbody>\n",
       "</table>\n",
       "<p>2 rows × 35 columns</p>\n",
       "</div>"
      ],
      "text/plain": [
       "   Unnamed: 0                                           location zipcode  \\\n",
       "0           0  {'latitude': '33.9589038232', 'needs_recoding'...   90003   \n",
       "1           1  {'latitude': '34.2838039863', 'needs_recoding'...   91342   \n",
       "\n",
       "  suffix      srnumber              updateddate               closeddate   cd  \\\n",
       "0     ST  1-1831739761  2021-01-02T08:12:27.000  2021-01-02T07:39:24.000  8.0   \n",
       "1    AVE  1-1831739741  2021-01-01T13:38:06.000  2021-01-01T13:38:06.000  7.0   \n",
       "\n",
       "                       address createdbyuserorganization  ...     status  \\\n",
       "0         114 E 87TH ST, 90003              Self Service  ...     Closed   \n",
       "1  11743 N BRUSSELS AVE, 91342          Self Service_SAN  ...  Cancelled   \n",
       "\n",
       "  tbmrow direction anonymous  addressverified actiontaken  streetname  \\\n",
       "0    3.0         E         N                Y  SR Created        87TH   \n",
       "1    7.0         N         N                Y  SR Created    BRUSSELS   \n",
       "\n",
       "                           ncname                    apc tbmpage  \n",
       "0  Empowerment Congress Southeast  South Los Angeles APC   704.0  \n",
       "1        Foothill Trails District       North Valley APC   482.0  \n",
       "\n",
       "[2 rows x 35 columns]"
      ]
     },
     "execution_count": 19,
     "metadata": {},
     "output_type": "execute_result"
    }
   ],
   "source": [
    "df311.head(2)"
   ]
  },
  {
   "cell_type": "code",
   "execution_count": 20,
   "metadata": {},
   "outputs": [],
   "source": [
    "# drop your unnamed column\n",
    "df311 = df311.drop(columns = ['Unnamed: 0'])"
   ]
  },
  {
   "cell_type": "code",
   "execution_count": 21,
   "metadata": {
    "id": "vhTjoFbEBSYK",
    "outputId": "9df49fbe-f6b9-496d-c275-a2d50574fe5b"
   },
   "outputs": [
    {
     "name": "stdout",
     "output_type": "stream",
     "text": [
      "<class 'pandas.core.frame.DataFrame'>\n",
      "RangeIndex: 1491773 entries, 0 to 1491772\n",
      "Data columns (total 34 columns):\n",
      " #   Column                     Non-Null Count    Dtype  \n",
      "---  ------                     --------------    -----  \n",
      " 0   location                   1490433 non-null  object \n",
      " 1   zipcode                    1490127 non-null  object \n",
      " 2   suffix                     1379792 non-null  object \n",
      " 3   srnumber                   1491773 non-null  object \n",
      " 4   updateddate                1491773 non-null  object \n",
      " 5   closeddate                 1482583 non-null  object \n",
      " 6   cd                         1490425 non-null  float64\n",
      " 7   address                    1491707 non-null  object \n",
      " 8   createdbyuserorganization  1491773 non-null  object \n",
      " 9   createddate                1491773 non-null  object \n",
      " 10  requestsource              1491773 non-null  object \n",
      " 11  requesttype                1491773 non-null  object \n",
      " 12  assignto                   1467218 non-null  object \n",
      " 13  latitude                   1490433 non-null  float64\n",
      " 14  owner                      1491772 non-null  object \n",
      " 15  housenumber                1200180 non-null  float64\n",
      " 16  mobileos                   378579 non-null   object \n",
      " 17  approximateaddress         987834 non-null   object \n",
      " 18  policeprecinct             1490418 non-null  object \n",
      " 19  cdmember                   1270746 non-null  object \n",
      " 20  servicedate                1417724 non-null  object \n",
      " 21  nc                         1484537 non-null  float64\n",
      " 22  longitude                  1490433 non-null  float64\n",
      " 23  tbmcolumn                  1490425 non-null  object \n",
      " 24  status                     1491773 non-null  object \n",
      " 25  tbmrow                     1490425 non-null  float64\n",
      " 26  direction                  1402775 non-null  object \n",
      " 27  anonymous                  1491773 non-null  object \n",
      " 28  addressverified            1491773 non-null  object \n",
      " 29  actiontaken                1491773 non-null  object \n",
      " 30  streetname                 1200180 non-null  object \n",
      " 31  ncname                     1484537 non-null  object \n",
      " 32  apc                        1490408 non-null  object \n",
      " 33  tbmpage                    1490425 non-null  float64\n",
      "dtypes: float64(7), object(27)\n",
      "memory usage: 387.0+ MB\n"
     ]
    }
   ],
   "source": [
    "df311.info()"
   ]
  },
  {
   "cell_type": "markdown",
   "metadata": {
    "id": "tzf1W_UyBSYK"
   },
   "source": [
    "<font size=5, color=green>Investigate on all the date columns<font>"
   ]
  },
  {
   "cell_type": "markdown",
   "metadata": {
    "id": "neWj-3doBSYL"
   },
   "source": [
    "<font size=3 color=gray>First of all we need to convert the type from object to date and then check to make sure there is not any date greater than today's date, then we can investigate for these criterias:<br>1. createddate <= servicedate<br>2. servicedate <= closeddate<br>3. closeddate <= updateddate<br>but we want to keep NaN value for these date columns<font>"
   ]
  },
  {
   "cell_type": "markdown",
   "metadata": {
    "id": "Ke2TUnrUBSYL"
   },
   "source": [
    "<font size=2 color=Navy>Remove any record with date after today<font>"
   ]
  },
  {
   "cell_type": "code",
   "execution_count": 22,
   "metadata": {
    "id": "nlGMRyN8BSYL"
   },
   "outputs": [],
   "source": [
    "df311 = df311[(df311['createddate'] <= dt.now().strftime(\"%Y-%m-%d\")) & (df311['createddate'].notnull())]"
   ]
  },
  {
   "cell_type": "code",
   "execution_count": 23,
   "metadata": {
    "id": "2hPcBYroBSYM"
   },
   "outputs": [],
   "source": [
    "df311 = df311[(df311['servicedate'] <= dt.now().strftime(\"%Y-%m-%d\")) & (df311['servicedate'].notnull())]"
   ]
  },
  {
   "cell_type": "code",
   "execution_count": 24,
   "metadata": {
    "id": "kZ1Ju6EvBSYM"
   },
   "outputs": [],
   "source": [
    "df311 = df311[(df311['closeddate'] <= dt.now().strftime(\"%Y-%m-%d\")) & (df311['closeddate'].notnull())]"
   ]
  },
  {
   "cell_type": "code",
   "execution_count": 25,
   "metadata": {
    "id": "FayWfIyXBSYM"
   },
   "outputs": [],
   "source": [
    "df311 = df311[(df311['updateddate'] <= dt.now().strftime(\"%Y-%m-%d\")) & (df311['updateddate'].notnull())]"
   ]
  },
  {
   "cell_type": "markdown",
   "metadata": {
    "id": "Iwn5YqxiBSYM"
   },
   "source": [
    "<font size=2 color=Navy>Convert the format from object to datetime<font>"
   ]
  },
  {
   "cell_type": "code",
   "execution_count": 26,
   "metadata": {
    "id": "vc9TKwW7BSYN"
   },
   "outputs": [],
   "source": [
    "df311['createddate'] = pd.to_datetime(df311['createddate'])\n",
    "df311['servicedate'] = pd.to_datetime(df311['servicedate'])\n",
    "df311['closeddate'] = pd.to_datetime(df311['closeddate'])\n",
    "df311['updateddate'] = pd.to_datetime(df311['updateddate'])"
   ]
  },
  {
   "cell_type": "markdown",
   "metadata": {
    "id": "s_T2EKI9BSYN"
   },
   "source": [
    "<font size=2 color=Navy>Remove if there is any date violation<font>"
   ]
  },
  {
   "cell_type": "code",
   "execution_count": 27,
   "metadata": {
    "id": "oZBn7GJPBSYN"
   },
   "outputs": [],
   "source": [
    "df311 = df311[df311.createddate <= df311.servicedate]"
   ]
  },
  {
   "cell_type": "code",
   "execution_count": 28,
   "metadata": {
    "id": "QjsMKRwCBSYN"
   },
   "outputs": [],
   "source": [
    "df311 = df311[df311.servicedate <= df311.closeddate]"
   ]
  },
  {
   "cell_type": "code",
   "execution_count": 29,
   "metadata": {
    "id": "lv2QMBM_BSYO"
   },
   "outputs": [],
   "source": [
    "df311 = df311[df311.closeddate <= df311.updateddate]"
   ]
  },
  {
   "cell_type": "code",
   "execution_count": 30,
   "metadata": {
    "id": "v5T56m0GBSYO",
    "outputId": "e2fb73eb-b35f-4552-809a-7d1eaba45935"
   },
   "outputs": [
    {
     "data": {
      "text/plain": [
       "(1150868, 34)"
      ]
     },
     "execution_count": 30,
     "metadata": {},
     "output_type": "execute_result"
    }
   ],
   "source": [
    "df311.shape"
   ]
  },
  {
   "cell_type": "markdown",
   "metadata": {
    "id": "TQcwzZgPBSYO"
   },
   "source": [
    "<font size=5, color=green>Create timedelta columns<font>"
   ]
  },
  {
   "cell_type": "markdown",
   "metadata": {
    "id": "9hqY3ZcQBSYP"
   },
   "source": [
    "<font size=3 color=gray>Now after cleaning up all the datetime columns, it's time to create timedelta columns:<br>1. to_service: difference between createddate and servicedate<br>2. to_close: difference between createddate and closeddate<br>3. to_update: difference between createddate and updateddate<font>"
   ]
  },
  {
   "cell_type": "code",
   "execution_count": 31,
   "metadata": {
    "id": "wbyO3sgbBSYP"
   },
   "outputs": [],
   "source": [
    "df311['days_to_service'] = (df311.servicedate - df311.createddate).astype('timedelta64[D]')\n",
    "df311['days_to_close'] = (df311.closeddate - df311.createddate).astype('timedelta64[D]')\n",
    "df311['days_to_update'] = (df311.updateddate - df311.createddate).astype('timedelta64[D]')"
   ]
  },
  {
   "cell_type": "markdown",
   "metadata": {
    "id": "qe9_WzKFBSYP"
   },
   "source": [
    "<font size=5, color=green>Investigate on zipcodes<font>"
   ]
  },
  {
   "cell_type": "markdown",
   "metadata": {
    "id": "H-vWdJMBBSYP"
   },
   "source": [
    "<font size=3 color=gray>First we need to check if there is any recorde with null value or alphabetic value, then compare it with LA zipcodes (ZIPCode.csv is available and contains all the legitimate zipcodes for LA).<font>"
   ]
  },
  {
   "cell_type": "markdown",
   "metadata": {
    "id": "NMScMXtLBSYQ"
   },
   "source": [
    "<font size=2 color=Navy>Check for null and remove if there is any<font>"
   ]
  },
  {
   "cell_type": "code",
   "execution_count": 32,
   "metadata": {
    "id": "mNcBWvLVBSYQ",
    "outputId": "5384da8f-75bc-4455-ba94-5b51650472e0",
    "scrolled": true
   },
   "outputs": [
    {
     "data": {
      "text/plain": [
       "318"
      ]
     },
     "execution_count": 32,
     "metadata": {},
     "output_type": "execute_result"
    }
   ],
   "source": [
    "(df311.zipcode.isnull()).sum()"
   ]
  },
  {
   "cell_type": "code",
   "execution_count": 33,
   "metadata": {
    "id": "qSw1K89xBSYQ"
   },
   "outputs": [],
   "source": [
    "df311 = df311[df311.zipcode.notnull()]"
   ]
  },
  {
   "cell_type": "markdown",
   "metadata": {
    "id": "kf2jX9ypBSYQ"
   },
   "source": [
    "<font size=2 color=Navy>Check for non-numeric records and remove if there is any<font>"
   ]
  },
  {
   "cell_type": "code",
   "execution_count": 34,
   "metadata": {
    "id": "73yH5OBnBSYQ"
   },
   "outputs": [],
   "source": [
    "wrong_zipcode = []\n",
    "for z in df311.zipcode.unique().astype('str'):\n",
    "    if re.search(r'[A-Za-z]', z):\n",
    "        wrong_zipcode.append(z)"
   ]
  },
  {
   "cell_type": "code",
   "execution_count": 35,
   "metadata": {
    "id": "dSkCnPMBBSYR",
    "outputId": "da7fb431-0bfd-45e2-9a78-fb2dc2b6fa72"
   },
   "outputs": [
    {
     "data": {
      "text/plain": [
       "['VE']"
      ]
     },
     "execution_count": 35,
     "metadata": {},
     "output_type": "execute_result"
    }
   ],
   "source": [
    "wrong_zipcode"
   ]
  },
  {
   "cell_type": "code",
   "execution_count": 36,
   "metadata": {
    "id": "hm1aMHkgBSYR"
   },
   "outputs": [],
   "source": [
    "for code in wrong_zipcode:\n",
    "    df311 = df311[df311['zipcode'] != code]"
   ]
  },
  {
   "cell_type": "markdown",
   "metadata": {
    "id": "9CGpILUoBSYR"
   },
   "source": [
    "<font size=2 color=Navy>Compare with legitimate zipcodes and remove non-legitimates<font>"
   ]
  },
  {
   "cell_type": "code",
   "execution_count": 37,
   "metadata": {
    "id": "AYTAfeluBSYS"
   },
   "outputs": [],
   "source": [
    "df311.zipcode = df311.zipcode.astype('int64')"
   ]
  },
  {
   "cell_type": "code",
   "execution_count": 39,
   "metadata": {
    "id": "uo52jv6RBSYS"
   },
   "outputs": [],
   "source": [
    "df_laZipcode = pd.read_csv('ZIPCode.csv')"
   ]
  },
  {
   "cell_type": "code",
   "execution_count": 40,
   "metadata": {
    "id": "xbHsHad-BSYS"
   },
   "outputs": [],
   "source": [
    "set1 = set(df_laZipcode.ZIPCODE.unique())\n",
    "set2 = set(df311.zipcode.unique())\n",
    "diff = set2 - set1"
   ]
  },
  {
   "cell_type": "code",
   "execution_count": 41,
   "metadata": {
    "id": "ajEoHgD7BSYV"
   },
   "outputs": [],
   "source": [
    "for codes in diff:\n",
    "    df311 = df311[df311.zipcode != codes]"
   ]
  },
  {
   "cell_type": "markdown",
   "metadata": {
    "id": "6iTDwc8_BSYV"
   },
   "source": [
    "<font size=5, color=green>Investigate on categorical fields<font>"
   ]
  },
  {
   "cell_type": "markdown",
   "metadata": {
    "id": "g-H5Fq91BSYW"
   },
   "source": [
    "<font size=3 color=gray>Select useful columns, explanation of each field is available here:<br>https://data.lacity.org/City-Infrastructure-Service-Requests/MyLA311-Service-Request-Data-2020/rq3b-xjk8<br> then investigate on each feature and fix if there is any issue<font>"
   ]
  },
  {
   "cell_type": "code",
   "execution_count": 42,
   "metadata": {
    "id": "hjDYPDELBSYW"
   },
   "outputs": [],
   "source": [
    "col = ['actiontaken', 'owner', 'requesttype', 'status', 'requestsource', 'createdbyuserorganization', 'mobileos', \\\n",
    "      'anonymous', 'assignto', 'addressverified', 'approximateaddress', 'apc', 'cd', 'cdmember', 'nc', 'ncname', \\\n",
    "      'policeprecinct']"
   ]
  },
  {
   "cell_type": "code",
   "execution_count": 43,
   "metadata": {
    "id": "BA_siPMYBSYW",
    "outputId": "91607e8e-af83-4dc6-a4bc-8ef87c546b56"
   },
   "outputs": [
    {
     "name": "stdout",
     "output_type": "stream",
     "text": [
      "***actiontaken***\n",
      "-----------------\n",
      "Type is:\n",
      "object\n",
      "Null reacords:\n",
      "0\n",
      "Unique values:\n",
      "['SR Created' 'Transferred' 'SR Updated' 'Information Provided'\n",
      " 'Referred to Other Agency' 'Escalate to Supervisor' 'Consultation/3-way'\n",
      " 'Unable to Assist' 'Status Provided']\n"
     ]
    }
   ],
   "source": [
    "print('***actiontaken***')\n",
    "print('-----------------')\n",
    "print('Type is:')\n",
    "print(df311.actiontaken.dtypes)\n",
    "print('Null reacords:')\n",
    "print(df311.actiontaken.isnull().sum())\n",
    "print('Unique values:')\n",
    "print(df311.actiontaken.unique())"
   ]
  },
  {
   "cell_type": "code",
   "execution_count": 44,
   "metadata": {
    "id": "HJBlzqEMBSYX",
    "outputId": "4f159e0b-6a44-48c7-afe2-e226c44b3f12"
   },
   "outputs": [
    {
     "name": "stdout",
     "output_type": "stream",
     "text": [
      "***owner***\n",
      "-----------\n",
      "Type is:\n",
      "object\n",
      "Null reacords:\n",
      "0\n",
      "Unique values:\n",
      "['LASAN' 'OCB' 'BSL' 'BOS']\n"
     ]
    }
   ],
   "source": [
    "print('***owner***')\n",
    "print('-----------')\n",
    "print('Type is:')\n",
    "print(df311.owner.dtypes)\n",
    "print('Null reacords:')\n",
    "print(df311.owner.isnull().sum())\n",
    "print('Unique values:')\n",
    "print(df311.owner.unique())"
   ]
  },
  {
   "cell_type": "code",
   "execution_count": 45,
   "metadata": {
    "id": "vrqiSOJEBSYX",
    "outputId": "bc4c4127-4111-44cb-bd33-b1a04cbf636c"
   },
   "outputs": [
    {
     "name": "stdout",
     "output_type": "stream",
     "text": [
      "***requesttype***\n",
      "-----------------\n",
      "Type is:\n",
      "object\n",
      "Null reacords:\n",
      "0\n",
      "Unique values:\n",
      "['Bulky Items' 'Graffiti Removal' 'Homeless Encampment'\n",
      " 'Illegal Dumping Pickup' 'Electronic Waste' 'Multiple Streetlight Issue'\n",
      " 'Single Streetlight Issue' 'Metal/Household Appliances'\n",
      " 'Dead Animal Removal']\n"
     ]
    }
   ],
   "source": [
    "print('***requesttype***')\n",
    "print('-----------------')\n",
    "print('Type is:')\n",
    "print(df311.requesttype.dtypes)\n",
    "print('Null reacords:')\n",
    "print(df311.requesttype.isnull().sum())\n",
    "print('Unique values:')\n",
    "print(df311.requesttype.unique())"
   ]
  },
  {
   "cell_type": "code",
   "execution_count": 46,
   "metadata": {
    "id": "cMVsURuhBSYX",
    "outputId": "3e718c67-67dd-48ca-b834-79e987d294a7"
   },
   "outputs": [
    {
     "name": "stdout",
     "output_type": "stream",
     "text": [
      "***status***\n",
      "------------\n",
      "Type is:\n",
      "object\n",
      "Null reacords:\n",
      "0\n",
      "Unique values:\n",
      "['Closed' 'Cancelled' 'Referred Out']\n"
     ]
    }
   ],
   "source": [
    "print('***status***')\n",
    "print('------------')\n",
    "print('Type is:')\n",
    "print(df311.status.dtypes)\n",
    "print('Null reacords:')\n",
    "print(df311.status.isnull().sum())\n",
    "print('Unique values:')\n",
    "print(df311.status.unique())"
   ]
  },
  {
   "cell_type": "code",
   "execution_count": 47,
   "metadata": {
    "id": "NEmC7CAIBSYY",
    "outputId": "80cefa34-7b21-40c7-e8bb-408c1aadb159"
   },
   "outputs": [
    {
     "name": "stdout",
     "output_type": "stream",
     "text": [
      "***requestsource***\n",
      "-------------------\n",
      "Type is:\n",
      "object\n",
      "Null reacords:\n",
      "0\n",
      "Unique values:\n",
      "['Mobile App' 'Self Service' 'Call' 'Email' 'Voicemail'\n",
      " 'Driver Self Report' \"Council's Office\" 'Social'\n",
      " 'Queue Initiated Customer Call' 'Walk-in' 'Twitter' 'Letter'\n",
      " 'City Attorney' 'Web Form' 'TTY/ NexTalk' \"Mayor's Office\" 'Fax']\n"
     ]
    }
   ],
   "source": [
    "print('***requestsource***')\n",
    "print('-------------------')\n",
    "print('Type is:')\n",
    "print(df311.requestsource.dtypes)\n",
    "print('Null reacords:')\n",
    "print(df311.requestsource.isnull().sum())\n",
    "print('Unique values:')\n",
    "print(df311.requestsource.unique())"
   ]
  },
  {
   "cell_type": "code",
   "execution_count": 48,
   "metadata": {
    "id": "lY1-wJTmBSYY",
    "outputId": "8988487c-378a-4c74-f80f-189a0126ea39"
   },
   "outputs": [
    {
     "name": "stdout",
     "output_type": "stream",
     "text": [
      "***createdbyuserorganization***\n",
      "-------------------------------\n",
      "Type is:\n",
      "object\n",
      "Null reacords:\n",
      "0\n",
      "Unique values:\n",
      "['Self Service' 'LASAN' 'Self Service_SAN' 'ITA' \"Council's Office\" 'OCB'\n",
      " 'Proactive Insert' 'BSL' 'BSS' 'LASAN Franchise' 'LAAS' 'BOS'\n",
      " 'BOS Franchise']\n"
     ]
    }
   ],
   "source": [
    "print('***createdbyuserorganization***')\n",
    "print('-------------------------------')\n",
    "print('Type is:')\n",
    "print(df311.createdbyuserorganization.dtypes)\n",
    "print('Null reacords:')\n",
    "print(df311.createdbyuserorganization.isnull().sum())\n",
    "print('Unique values:')\n",
    "print(df311.createdbyuserorganization.unique())"
   ]
  },
  {
   "cell_type": "code",
   "execution_count": 49,
   "metadata": {
    "id": "m1DzF3gvBSYZ",
    "outputId": "8a4299ef-4844-4e31-bbe3-1cbd66a0faba"
   },
   "outputs": [
    {
     "name": "stdout",
     "output_type": "stream",
     "text": [
      "***mobileos***\n",
      "--------------\n",
      "Type is:\n",
      "object\n",
      "Null reacords:\n",
      "807607\n",
      "Unique values:\n",
      "['Android' nan 'iOS']\n"
     ]
    }
   ],
   "source": [
    "print('***mobileos***')\n",
    "print('--------------')\n",
    "print('Type is:')\n",
    "print(df311.mobileos.dtypes)\n",
    "print('Null reacords:')\n",
    "print(df311.mobileos.isnull().sum())\n",
    "print('Unique values:')\n",
    "print(df311.mobileos.unique())"
   ]
  },
  {
   "cell_type": "code",
   "execution_count": 50,
   "metadata": {
    "id": "EE4I5yEoBSYZ",
    "outputId": "798712a5-11f8-4a3a-ed4a-d17bae0a54ac"
   },
   "outputs": [
    {
     "name": "stdout",
     "output_type": "stream",
     "text": [
      "***anonymous***\n",
      "---------------\n",
      "Type is:\n",
      "object\n",
      "Null reacords:\n",
      "0\n",
      "Unique values:\n",
      "['N' 'Y']\n"
     ]
    }
   ],
   "source": [
    "print('***anonymous***')\n",
    "print('---------------')\n",
    "print('Type is:')\n",
    "print(df311.anonymous.dtypes)\n",
    "print('Null reacords:')\n",
    "print(df311.anonymous.isnull().sum())\n",
    "print('Unique values:')\n",
    "print(df311.anonymous.unique())"
   ]
  },
  {
   "cell_type": "code",
   "execution_count": 51,
   "metadata": {
    "id": "pywxO1U-BSYa",
    "outputId": "1b3d7a8d-0e7d-4c8e-f18e-430e42f24df1"
   },
   "outputs": [
    {
     "name": "stdout",
     "output_type": "stream",
     "text": [
      "***assignto***\n",
      "--------------\n",
      "Type is:\n",
      "object\n",
      "Null reacords:\n",
      "3\n",
      "Unique values:\n",
      "['SLA' 'NDFY' 'EV' 'WV' 'WLA' 'NC' 'HB' 'NORTH' 'EAST' 'WEST' 'WVA' 'NEGB'\n",
      " 'KYCC' 'NEGB_ELA' 'GAP' 'HBT' 'SOUTH' 'CCAC' 'CENTRAL' 'LACC' 'GAPBH'\n",
      " 'PGS' 'CRCD' 'SGB' 'GCS' 'OCB' 'F-NE' 'F-DT' 'F-WV' 'F-NC' 'F-SEV' 'F-SE'\n",
      " 'F-WLA' 'F-NEV' 'F-HB' nan 'WPD Enforcement' 'F-SLA']\n"
     ]
    }
   ],
   "source": [
    "print('***assignto***')\n",
    "print('--------------')\n",
    "print('Type is:')\n",
    "print(df311.assignto.dtypes)\n",
    "print('Null reacords:')\n",
    "print(df311.assignto.isnull().sum())\n",
    "print('Unique values:')\n",
    "print(df311.assignto.unique())"
   ]
  },
  {
   "cell_type": "markdown",
   "metadata": {
    "id": "P8CZQZJIBSYa"
   },
   "source": [
    "<font size=2 color=Navy>Remove null records in this field<font>"
   ]
  },
  {
   "cell_type": "code",
   "execution_count": 52,
   "metadata": {
    "id": "mFsmiANHBSYa"
   },
   "outputs": [],
   "source": [
    "df311 = df311[df311.assignto.notnull()]"
   ]
  },
  {
   "cell_type": "code",
   "execution_count": 53,
   "metadata": {
    "id": "Yc1jEUpABSYa",
    "outputId": "df031e72-c7d7-4f62-e114-dad254afdcea"
   },
   "outputs": [
    {
     "name": "stdout",
     "output_type": "stream",
     "text": [
      "***addressverified***\n",
      "---------------------\n",
      "Type is:\n",
      "object\n",
      "Null reacords:\n",
      "0\n",
      "Unique values:\n",
      "['Y']\n"
     ]
    }
   ],
   "source": [
    "print('***addressverified***')\n",
    "print('---------------------')\n",
    "print('Type is:')\n",
    "print(df311.addressverified.dtypes)\n",
    "print('Null reacords:')\n",
    "print(df311.addressverified.isnull().sum())\n",
    "print('Unique values:')\n",
    "print(df311.addressverified.unique())"
   ]
  },
  {
   "cell_type": "code",
   "execution_count": 54,
   "metadata": {
    "id": "bsVwMGkvBSYa",
    "outputId": "f1c31349-3cb0-4f0c-a089-3b20baa9a09e"
   },
   "outputs": [
    {
     "name": "stdout",
     "output_type": "stream",
     "text": [
      "***approximateaddress***\n",
      "------------------------\n",
      "Type is:\n",
      "object\n",
      "Null reacords:\n",
      "267043\n",
      "Unique values:\n",
      "[nan 'N' 'Y']\n"
     ]
    }
   ],
   "source": [
    "print('***approximateaddress***')\n",
    "print('------------------------')\n",
    "print('Type is:')\n",
    "print(df311.approximateaddress.dtypes)\n",
    "print('Null reacords:')\n",
    "print(df311.approximateaddress.isnull().sum())\n",
    "print('Unique values:')\n",
    "print(df311.approximateaddress.unique())"
   ]
  },
  {
   "cell_type": "markdown",
   "metadata": {
    "id": "0dZaSvdwBSYb"
   },
   "source": [
    "<font size=2 color=Navy>There won't be any report / dashboard based on this field, so we can keep it will all null values<font>"
   ]
  },
  {
   "cell_type": "code",
   "execution_count": 55,
   "metadata": {
    "id": "Ri9kXPGHBSYb",
    "outputId": "a74abce3-1f6a-443a-f99b-8485a1937f06"
   },
   "outputs": [
    {
     "name": "stdout",
     "output_type": "stream",
     "text": [
      "***apc***\n",
      "---------\n",
      "Type is:\n",
      "object\n",
      "Null reacords:\n",
      "9\n",
      "Unique values:\n",
      "['South Los Angeles APC' 'South Valley APC' 'West Los Angeles APC'\n",
      " 'East Los Angeles APC' 'Harbor APC' 'North Valley APC' 'Central APC' nan]\n"
     ]
    }
   ],
   "source": [
    "print('***apc***')\n",
    "print('---------')\n",
    "print('Type is:')\n",
    "print(df311.apc.dtypes)\n",
    "print('Null reacords:')\n",
    "print(df311.apc.isnull().sum())\n",
    "print('Unique values:')\n",
    "print(df311.apc.unique())"
   ]
  },
  {
   "cell_type": "markdown",
   "metadata": {
    "id": "b3sATmsUBSYb"
   },
   "source": [
    "<font size=2 color=Navy>Remove null records in this field<font>"
   ]
  },
  {
   "cell_type": "code",
   "execution_count": 56,
   "metadata": {
    "id": "IbzEsKt2BSYb"
   },
   "outputs": [],
   "source": [
    "df311 = df311[df311.apc.notnull()]"
   ]
  },
  {
   "cell_type": "code",
   "execution_count": 57,
   "metadata": {
    "id": "KZHyVhfMBSYb",
    "outputId": "5f35ed11-b8fc-4af3-c89d-c4dd607e8370"
   },
   "outputs": [
    {
     "name": "stdout",
     "output_type": "stream",
     "text": [
      "***cd***\n",
      "--------\n",
      "Type is:\n",
      "float64\n",
      "Null reacords:\n",
      "2\n",
      "Unique values:\n",
      "[ 8.  2.  3. 11. 14.  9. 15. 12.  6.  7. 10.  5.  1. 13.  4. nan]\n"
     ]
    }
   ],
   "source": [
    "print('***cd***')\n",
    "print('--------')\n",
    "print('Type is:')\n",
    "print(df311.cd.dtypes)\n",
    "print('Null reacords:')\n",
    "print(df311.cd.isnull().sum())\n",
    "print('Unique values:')\n",
    "print(df311.cd.unique())"
   ]
  },
  {
   "cell_type": "markdown",
   "metadata": {
    "id": "h9s5QyvYBSYb"
   },
   "source": [
    "<font size=2 color=Navy>Remove null records in this field and then change the type to int64<font>"
   ]
  },
  {
   "cell_type": "code",
   "execution_count": 58,
   "metadata": {
    "id": "dNmb0YOWBSYb"
   },
   "outputs": [],
   "source": [
    "df311 = df311[df311.cd.notnull()]\n",
    "df311.cd = df311.cd.astype('int64')"
   ]
  },
  {
   "cell_type": "code",
   "execution_count": 59,
   "metadata": {
    "id": "5loJSHY3BSYc",
    "outputId": "ecddb2fb-228d-4743-b083-934003b6a5bf"
   },
   "outputs": [
    {
     "name": "stdout",
     "output_type": "stream",
     "text": [
      "***cdmember***\n",
      "--------------\n",
      "Type is:\n",
      "object\n",
      "Null reacords:\n",
      "4\n",
      "Unique values:\n",
      "['Marqueece Harris-Dawson' 'Paul Krekorian' 'Bob Blumenfield' 'Mike Bonin'\n",
      " 'Kevin de León' 'Curren D. Price Jr.' 'Joe Buscaino' 'John Lee'\n",
      " 'Nury Martinez' 'Monica Rodriguez' 'Mark Ridley-Thomas' 'Paul Koretz'\n",
      " 'Gilbert Cedillo' \"Mitch O'Farrell\" 'Nithya Raman' 'Jose Huizar'\n",
      " 'Herb J. Wesson Jr.' 'David Ryu' nan 'Greig Smith' 'Mitchell Englander']\n"
     ]
    }
   ],
   "source": [
    "print('***cdmember***')\n",
    "print('--------------')\n",
    "print('Type is:')\n",
    "print(df311.cdmember.dtypes)\n",
    "print('Null reacords:')\n",
    "print(df311.cdmember.isnull().sum())\n",
    "print('Unique values:')\n",
    "print(df311.cdmember.unique())"
   ]
  },
  {
   "cell_type": "markdown",
   "metadata": {
    "id": "YFz1xfb7BSYc"
   },
   "source": [
    "<font size=2 color=Navy>Remove null records in this field<font>"
   ]
  },
  {
   "cell_type": "code",
   "execution_count": 60,
   "metadata": {
    "id": "x7vhmcKkBSYc"
   },
   "outputs": [],
   "source": [
    "df311 = df311[df311.cdmember.notnull()]"
   ]
  },
  {
   "cell_type": "code",
   "execution_count": 61,
   "metadata": {
    "id": "DAAN6EEuBSYc",
    "outputId": "a4e2ded2-99d3-426e-b618-2e13b128e137"
   },
   "outputs": [
    {
     "name": "stdout",
     "output_type": "stream",
     "text": [
      "***nc***\n",
      "--------\n",
      "Type is:\n",
      "float64\n",
      "Null reacords:\n",
      "4732\n",
      "Unique values:\n",
      "[ 87.  24.  23.  17.  67.  40.  86.  48.  nan  94. 113. 100.  96.  11.\n",
      "   6.   9.  79. 119.  19.  41.  15.  58. 115. 112.  27.  61.  44.  95.\n",
      "   4. 104. 110.   7.  64. 114.  26.  20. 101.   5.  76.  16.  29.  33.\n",
      "  90.  50.  13.  47.  71.  28.  60.  21.  25.  42.  36.  34.  74. 128.\n",
      "  30.  37.  84.  73.  75. 120.  52.  39.  55.  68.  14.  78. 125.  88.\n",
      "  10.  66.  99. 109.   8.  18.  92. 124.  22.  53. 118.  77.  38.  80.\n",
      "  81. 121.  97.  70.  63.  32.  93.  62. 111.  54. 127. 102.  91.  43.\n",
      " 126.  46. 123.  65. 117.   2. 122.]\n"
     ]
    }
   ],
   "source": [
    "print('***nc***')\n",
    "print('--------')\n",
    "print('Type is:')\n",
    "print(df311.nc.dtypes)\n",
    "print('Null reacords:')\n",
    "print(df311.nc.isnull().sum())\n",
    "print('Unique values:')\n",
    "print(df311.nc.unique())"
   ]
  },
  {
   "cell_type": "code",
   "execution_count": 62,
   "metadata": {
    "id": "vpyY8g5MBSYc",
    "outputId": "c3562c13-8591-49e2-8bdc-ae864446f7be"
   },
   "outputs": [
    {
     "name": "stdout",
     "output_type": "stream",
     "text": [
      "***ncname***\n",
      "------------\n",
      "Type is:\n",
      "object\n",
      "Null reacords:\n",
      "4732\n",
      "Unique values:\n",
      "['Empowerment Congress Southeast' 'NoHo' 'North Hollywood Northeast'\n",
      " 'Tarzana' 'Mar Vista' 'Eagle Rock' 'CANNDU' 'LA32' nan\n",
      " 'Northwest San Pedro' 'Northridge West' 'Panorama City'\n",
      " 'Coastal San Pedro' 'West Hills' 'Arleta' 'Foothill Trails District'\n",
      " 'Empowerment Congress West' 'Greater Wilshire' 'Lake Balboa'\n",
      " 'Historic Highland Park' 'Reseda' 'Mid City West' 'Palms'\n",
      " 'North Hills East' 'Studio City' 'South Robertson' 'Echo Park'\n",
      " 'Central San Pedro' 'Granada Hills North' 'Olympic Park'\n",
      " 'Central Alameda' 'Pacoima' 'Bel Air-Beverly Crest' 'Porter Ranch'\n",
      " 'Sherman Oaks' 'Van Nuys' 'Mission Hills' 'Sylmar' 'Pico Union'\n",
      " 'Woodland Hills-Warner Center' 'Hollywood Hills West'\n",
      " 'Hollywood Studio District' 'Harbor Gateway North' 'Boyle Heights'\n",
      " 'Canoga Park' 'Lincoln Heights' 'Westchester/Playa' 'Greater Toluca Lake'\n",
      " 'P.I.C.O.' 'Greater Valley Glen' 'Valley Village' 'Arroyo Seco'\n",
      " 'Los Feliz' 'East Hollywood' 'United Neighborhoods'\n",
      " 'Historic Cultural North' 'Hollywood United' 'Atwater Village'\n",
      " 'Empowerment Congress Southwest' 'Mid City' 'West Adams'\n",
      " 'Northridge East' 'Downtown Los Angeles' 'Glassell Park'\n",
      " 'Wilshire Center Koreatown' 'Venice' 'Winnetka' 'South Central'\n",
      " 'Zapata King' 'Watts' 'Sunland-Tujunga' 'West LA - Sawtelle' 'Chatsworth'\n",
      " 'Voices' 'Sun Valley' 'Encino' 'Harbor City' 'Northridge South'\n",
      " 'North Hollywood West' 'Rampart Village' 'Granada Hills South'\n",
      " 'Empowerment Congress North' 'Silver Lake' 'Park Mesa Heights'\n",
      " 'Empowerment Congress Central' 'Westlake South' 'Westlake North'\n",
      " 'Del Rey' 'Westwood' 'Central Hollywood' 'Wilmington' 'Westside'\n",
      " 'North Hills West' 'MacArthur Park' 'North Westwood'\n",
      " 'Greater Cypress Park' 'Harbor Gateway South'\n",
      " 'EMPOWERMENT CONGRESS NORTH AREA NDC' 'Elysian Valley Riverside' 'Hermon'\n",
      " 'Arts District Little Tokyo' 'DOWNTOWN LOS ANGELES' 'NORTHRIDGE SOUTH NC'\n",
      " 'VAN NUYS NC' 'MAR VISTA CC' 'VENICE NC' 'HARBOR CITY NC' 'DEL REY NC'\n",
      " 'NC WESTCHESTER/PLAYA' 'WEST LOS ANGELES NC' 'CENTRAL HOLLYWOOD NC'\n",
      " 'SOUTH CENTRAL NC' 'MID CITY NC'\n",
      " 'EMPOWERMENT CONGRESS SOUTHEAST AREA NDC' 'P.I.C.O. NC'\n",
      " 'COASTAL SAN PEDRO NC' 'WILMINGTON NC' 'CENTRAL ALAMEDA NC'\n",
      " 'EMPOWERMENT CONGRESS WEST AREA NDC' 'TARZANA NC'\n",
      " 'GRANADA HILLS NORTH NC' 'SOUTH ROBERTSON NC' 'ARROYO SECO NC'\n",
      " 'SUN VALLEY AREA NC'\n",
      " 'UNITED NEIGHBORHOODS OF THE HISTORIC ARLINGTON HEIGHTS, WEST ADAMS, AND JEFFERSON PARK COMMUNITY'\n",
      " 'BOYLE HEIGHTS NC' 'EMPOWERMENT CONGRESS CENTRAL AREA NDC'\n",
      " 'SUNLAND-TUJUNGA NC' 'HOLLYWOOD UNITED NC' 'HISTORIC HIGHLAND PARK NC'\n",
      " 'WOODLAND HILLS-WARNER CENTER NC' 'BEL AIR-BEVERLY CREST NC'\n",
      " 'GREATER WILSHIRE NC' 'LA-32 NC' 'CHATSWORTH NC' 'GRANADA HILLS SOUTH NC'\n",
      " 'STUDIO CITY NC' 'EAST HOLLYWOOD NC' 'PICO UNION NC' 'ECHO PARK NC'\n",
      " 'SYLMAR NC' 'GREATER TOLUCA LAKE NC' 'WESTSIDE NC' 'ZAPATA KING NC'\n",
      " 'NORTH HILLS EAST' 'WINNETKA NC' 'MACARTHUR PARK NC' 'GLASSELL PARK NC'\n",
      " 'SHERMAN OAKS NC' 'NOHO NC' 'LINCOLN HEIGHTS NC'\n",
      " 'WILSHIRE CENTER - KOREATOWN NC' 'NORTHRIDGE EAST'\n",
      " 'GREATER VALLEY GLEN COUNCIL' 'NOHO WEST NC' 'WATTS NC'\n",
      " 'MID CITY WEST CC' 'RESEDA NC' 'EAGLE ROCK NC' 'WEST ADAMS NC'\n",
      " 'LOS FELIZ NC' 'FOOTHILL TRAILS DISTRICT NC' 'CENTRAL SAN PEDRO NC'\n",
      " 'WEST HILLS NC' 'LAKE BALBOA NC' 'SILVER LAKE NC' 'NORTH WESTWOOD NC'\n",
      " 'PARK MESA HEIGHTS CC' 'NORTHRIDGE WEST' 'PACOIMA NC'\n",
      " 'COMMUNITY AND NEIGHBORS FOR NINTH DISTRICT UNITY (CANNDU)'\n",
      " 'UNITED FOR VICTORY' 'RAMPART VILLAGE NC' 'CANOGA PARK NC'\n",
      " 'VOICES OF 90037' 'PORTER RANCH NC' 'HOLLYWOOD STUDIO DISTRICT NC'\n",
      " 'EMPOWERMENT CONGRESS SOUTHWEST AREA NDC' 'MISSION HILLS NC'\n",
      " 'WESTLAKE NORTH NC' 'WESTLAKE SOUTH NC' 'NC VALLEY VILLAGE'\n",
      " 'HARBOR GATEWAY SOUTH NC' 'HARBOR GATEWAY NORTH NC' 'ENCINO NC'\n",
      " 'PALMS NC' 'HERMON NC' 'WESTWOOD NC' 'ATWATER VILLAGE NC'\n",
      " 'NORTH HOLLYWOOD NORTHEAST NC' 'PANORAMA CITY NC' 'BRENTWOOD CC'\n",
      " 'OLYMPIC PARK NC' 'ARLETA NC' 'NORTHWEST SAN PEDRO NC'\n",
      " 'ELYSIAN VALLEY RIVERSIDE NC' 'HOLLYWOOD HILLS WEST NC'\n",
      " 'PACIFIC PALISADES NC' 'GREATER CYPRESS PARK NC'\n",
      " 'HISTORIC CULTURAL NORTH NC' 'NORTH HILLS WEST NC' 'HISTORIC CULTURAL NC'\n",
      " 'OLD NORTHRIDGE CC' 'HISTORIC FILIPINOTOWN NC']\n"
     ]
    }
   ],
   "source": [
    "print('***ncname***')\n",
    "print('------------')\n",
    "print('Type is:')\n",
    "print(df311.ncname.dtypes)\n",
    "print('Null reacords:')\n",
    "print(df311.ncname.isnull().sum())\n",
    "print('Unique values:')\n",
    "print(df311.ncname.unique())"
   ]
  },
  {
   "cell_type": "code",
   "execution_count": 63,
   "metadata": {
    "id": "sVi_3B7kBSYc",
    "outputId": "a897cb5c-e17d-4b85-9be0-271681909e77"
   },
   "outputs": [
    {
     "data": {
      "text/plain": [
       "(4732, 2)"
      ]
     },
     "execution_count": 63,
     "metadata": {},
     "output_type": "execute_result"
    }
   ],
   "source": [
    "df311[['nc', 'ncname']][df311.nc.isnull() & df311.ncname.isnull()].shape"
   ]
  },
  {
   "cell_type": "markdown",
   "metadata": {
    "id": "1km-MPbcBSYd"
   },
   "source": [
    "<font size=2 color=Navy>There are many records which has both nc and ncmember with null value, remove all of them<font>"
   ]
  },
  {
   "cell_type": "code",
   "execution_count": 64,
   "metadata": {
    "id": "EOlHVGoVBSYd"
   },
   "outputs": [],
   "source": [
    "df311 = df311[df311.nc.notnull() & df311.ncname.notnull()].reset_index()"
   ]
  },
  {
   "cell_type": "markdown",
   "metadata": {
    "id": "xxas_fipBSYd"
   },
   "source": [
    "<font size=2 color=Navy>Now cleaning up the ncname column<font>"
   ]
  },
  {
   "cell_type": "code",
   "execution_count": 65,
   "metadata": {
    "id": "F5ZUMDkeBSYd",
    "outputId": "d10dd6ec-c497-4278-80f8-b4cd04c74695"
   },
   "outputs": [
    {
     "name": "stdout",
     "output_type": "stream",
     "text": [
      "***ncname***\n",
      "------------\n",
      "Type is:\n",
      "object\n",
      "Null reacords:\n",
      "0\n",
      "Count unique values:\n",
      "203\n",
      "Unique values:\n",
      "['Empowerment Congress Southeast' 'NoHo' 'North Hollywood Northeast'\n",
      " 'Tarzana' 'Mar Vista' 'Eagle Rock' 'CANNDU' 'LA32' 'Northwest San Pedro'\n",
      " 'Northridge West' 'Panorama City' 'Coastal San Pedro' 'West Hills'\n",
      " 'Arleta' 'Foothill Trails District' 'Empowerment Congress West'\n",
      " 'Greater Wilshire' 'Lake Balboa' 'Historic Highland Park' 'Reseda'\n",
      " 'Mid City West' 'Palms' 'North Hills East' 'Studio City'\n",
      " 'South Robertson' 'Echo Park' 'Central San Pedro' 'Granada Hills North'\n",
      " 'Olympic Park' 'Central Alameda' 'Pacoima' 'Bel Air-Beverly Crest'\n",
      " 'Porter Ranch' 'Sherman Oaks' 'Van Nuys' 'Mission Hills' 'Sylmar'\n",
      " 'Pico Union' 'Woodland Hills-Warner Center' 'Hollywood Hills West'\n",
      " 'Hollywood Studio District' 'Harbor Gateway North' 'Boyle Heights'\n",
      " 'Canoga Park' 'Lincoln Heights' 'Westchester/Playa' 'Greater Toluca Lake'\n",
      " 'P.I.C.O.' 'Greater Valley Glen' 'Valley Village' 'Arroyo Seco'\n",
      " 'Los Feliz' 'East Hollywood' 'United Neighborhoods'\n",
      " 'Historic Cultural North' 'Hollywood United' 'Atwater Village'\n",
      " 'Empowerment Congress Southwest' 'Mid City' 'West Adams'\n",
      " 'Northridge East' 'Downtown Los Angeles' 'Glassell Park'\n",
      " 'Wilshire Center Koreatown' 'Venice' 'Winnetka' 'South Central'\n",
      " 'Zapata King' 'Watts' 'Sunland-Tujunga' 'West LA - Sawtelle' 'Chatsworth'\n",
      " 'Voices' 'Sun Valley' 'Encino' 'Harbor City' 'Northridge South'\n",
      " 'North Hollywood West' 'Rampart Village' 'Granada Hills South'\n",
      " 'Empowerment Congress North' 'Silver Lake' 'Park Mesa Heights'\n",
      " 'Empowerment Congress Central' 'Westlake South' 'Westlake North'\n",
      " 'Del Rey' 'Westwood' 'Central Hollywood' 'Wilmington' 'Westside'\n",
      " 'North Hills West' 'MacArthur Park' 'North Westwood'\n",
      " 'Greater Cypress Park' 'Harbor Gateway South'\n",
      " 'EMPOWERMENT CONGRESS NORTH AREA NDC' 'Elysian Valley Riverside' 'Hermon'\n",
      " 'Arts District Little Tokyo' 'DOWNTOWN LOS ANGELES' 'NORTHRIDGE SOUTH NC'\n",
      " 'VAN NUYS NC' 'MAR VISTA CC' 'VENICE NC' 'HARBOR CITY NC' 'DEL REY NC'\n",
      " 'NC WESTCHESTER/PLAYA' 'WEST LOS ANGELES NC' 'CENTRAL HOLLYWOOD NC'\n",
      " 'SOUTH CENTRAL NC' 'MID CITY NC'\n",
      " 'EMPOWERMENT CONGRESS SOUTHEAST AREA NDC' 'P.I.C.O. NC'\n",
      " 'COASTAL SAN PEDRO NC' 'WILMINGTON NC' 'CENTRAL ALAMEDA NC'\n",
      " 'EMPOWERMENT CONGRESS WEST AREA NDC' 'TARZANA NC'\n",
      " 'GRANADA HILLS NORTH NC' 'SOUTH ROBERTSON NC' 'ARROYO SECO NC'\n",
      " 'SUN VALLEY AREA NC'\n",
      " 'UNITED NEIGHBORHOODS OF THE HISTORIC ARLINGTON HEIGHTS, WEST ADAMS, AND JEFFERSON PARK COMMUNITY'\n",
      " 'BOYLE HEIGHTS NC' 'EMPOWERMENT CONGRESS CENTRAL AREA NDC'\n",
      " 'SUNLAND-TUJUNGA NC' 'HOLLYWOOD UNITED NC' 'HISTORIC HIGHLAND PARK NC'\n",
      " 'WOODLAND HILLS-WARNER CENTER NC' 'BEL AIR-BEVERLY CREST NC'\n",
      " 'GREATER WILSHIRE NC' 'LA-32 NC' 'CHATSWORTH NC' 'GRANADA HILLS SOUTH NC'\n",
      " 'STUDIO CITY NC' 'EAST HOLLYWOOD NC' 'PICO UNION NC' 'ECHO PARK NC'\n",
      " 'SYLMAR NC' 'GREATER TOLUCA LAKE NC' 'WESTSIDE NC' 'ZAPATA KING NC'\n",
      " 'NORTH HILLS EAST' 'WINNETKA NC' 'MACARTHUR PARK NC' 'GLASSELL PARK NC'\n",
      " 'SHERMAN OAKS NC' 'NOHO NC' 'LINCOLN HEIGHTS NC'\n",
      " 'WILSHIRE CENTER - KOREATOWN NC' 'NORTHRIDGE EAST'\n",
      " 'GREATER VALLEY GLEN COUNCIL' 'NOHO WEST NC' 'WATTS NC'\n",
      " 'MID CITY WEST CC' 'RESEDA NC' 'EAGLE ROCK NC' 'WEST ADAMS NC'\n",
      " 'LOS FELIZ NC' 'FOOTHILL TRAILS DISTRICT NC' 'CENTRAL SAN PEDRO NC'\n",
      " 'WEST HILLS NC' 'LAKE BALBOA NC' 'SILVER LAKE NC' 'NORTH WESTWOOD NC'\n",
      " 'PARK MESA HEIGHTS CC' 'NORTHRIDGE WEST' 'PACOIMA NC'\n",
      " 'COMMUNITY AND NEIGHBORS FOR NINTH DISTRICT UNITY (CANNDU)'\n",
      " 'UNITED FOR VICTORY' 'RAMPART VILLAGE NC' 'CANOGA PARK NC'\n",
      " 'VOICES OF 90037' 'PORTER RANCH NC' 'HOLLYWOOD STUDIO DISTRICT NC'\n",
      " 'EMPOWERMENT CONGRESS SOUTHWEST AREA NDC' 'MISSION HILLS NC'\n",
      " 'WESTLAKE NORTH NC' 'WESTLAKE SOUTH NC' 'NC VALLEY VILLAGE'\n",
      " 'HARBOR GATEWAY SOUTH NC' 'HARBOR GATEWAY NORTH NC' 'ENCINO NC'\n",
      " 'PALMS NC' 'HERMON NC' 'WESTWOOD NC' 'ATWATER VILLAGE NC'\n",
      " 'NORTH HOLLYWOOD NORTHEAST NC' 'PANORAMA CITY NC' 'BRENTWOOD CC'\n",
      " 'OLYMPIC PARK NC' 'ARLETA NC' 'NORTHWEST SAN PEDRO NC'\n",
      " 'ELYSIAN VALLEY RIVERSIDE NC' 'HOLLYWOOD HILLS WEST NC'\n",
      " 'PACIFIC PALISADES NC' 'GREATER CYPRESS PARK NC'\n",
      " 'HISTORIC CULTURAL NORTH NC' 'NORTH HILLS WEST NC' 'HISTORIC CULTURAL NC'\n",
      " 'OLD NORTHRIDGE CC' 'HISTORIC FILIPINOTOWN NC']\n"
     ]
    }
   ],
   "source": [
    "print('***ncname***')\n",
    "print('------------')\n",
    "print('Type is:')\n",
    "print(df311.ncname.dtypes)\n",
    "print('Null reacords:')\n",
    "print(df311.ncname.isnull().sum())\n",
    "print('Count unique values:')\n",
    "print(df311.ncname.nunique())\n",
    "print('Unique values:')\n",
    "print(df311.ncname.unique())"
   ]
  },
  {
   "cell_type": "code",
   "execution_count": 66,
   "metadata": {
    "id": "Mt4305PKBSYd",
    "outputId": "6069a46c-b8bd-4f96-a660-c3914185e1a2"
   },
   "outputs": [
    {
     "name": "stdout",
     "output_type": "stream",
     "text": [
      "***policeprecinct***\n",
      "--------------------\n",
      "Type is:\n",
      "object\n",
      "Null reacords:\n",
      "0\n",
      "Unique values:\n",
      "['SOUTHEAST' 'NORTH HOLLYWOOD' 'WEST VALLEY' 'PACIFIC' 'NORTHEAST'\n",
      " '77TH STREET' 'HOLLENBECK' 'HARBOR' 'DEVONSHIRE' 'MISSION' 'TOPANGA'\n",
      " 'FOOTHILL' 'SOUTHWEST' 'WILSHIRE' 'WEST LOS ANGELES' 'RAMPART' 'OLYMPIC'\n",
      " 'NEWTON' 'VAN NUYS' 'HOLLYWOOD' 'CENTRAL']\n"
     ]
    }
   ],
   "source": [
    "print('***policeprecinct***')\n",
    "print('--------------------')\n",
    "print('Type is:')\n",
    "print(df311.policeprecinct.dtypes)\n",
    "print('Null reacords:')\n",
    "print(df311.policeprecinct.isnull().sum())\n",
    "print('Unique values:')\n",
    "print(df311.policeprecinct.unique())"
   ]
  },
  {
   "cell_type": "markdown",
   "metadata": {
    "id": "sTpqsTUXBSYd"
   },
   "source": [
    "<font size=5, color=green>Save the clean data set to a csv file<font>"
   ]
  },
  {
   "cell_type": "code",
   "execution_count": null,
   "metadata": {
    "id": "GdgLP7vHBSYd"
   },
   "outputs": [],
   "source": [
    "df311.to_csv('clean_311data.csv', index = False)"
   ]
  },
  {
   "cell_type": "code",
   "execution_count": null,
   "metadata": {
    "id": "4oATCuZXBSYd"
   },
   "outputs": [],
   "source": []
  }
 ],
 "metadata": {
  "colab": {
   "name": "31_Data_Wrangling_tutorial.ipynb",
   "provenance": []
  },
  "kernelspec": {
   "display_name": "Python 3",
   "language": "python",
   "name": "python3"
  },
  "language_info": {
   "codemirror_mode": {
    "name": "ipython",
    "version": 3
   },
   "file_extension": ".py",
   "mimetype": "text/x-python",
   "name": "python",
   "nbconvert_exporter": "python",
   "pygments_lexer": "ipython3",
   "version": "3.9.5"
  }
 },
 "nbformat": 4,
 "nbformat_minor": 1
}
