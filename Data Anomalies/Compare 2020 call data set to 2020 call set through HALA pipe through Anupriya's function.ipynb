{
 "cells": [
  {
   "cell_type": "code",
   "execution_count": 1,
   "id": "ee995e8b",
   "metadata": {},
   "outputs": [],
   "source": [
    "import pandas as pd"
   ]
  },
  {
   "cell_type": "code",
   "execution_count": 2,
   "id": "96e9683c",
   "metadata": {},
   "outputs": [],
   "source": [
    "#from pipe\n",
    "dspipe2020 = pd.read_csv(r'C:\\Documents\\projects\\HackLA\\311\\Clean_data\\clean_311_data_2020.csv', low_memory=False, index_col=0)"
   ]
  },
  {
   "cell_type": "code",
   "execution_count": 3,
   "id": "ed47a612",
   "metadata": {},
   "outputs": [],
   "source": [
    "#from LA Call Site\n",
    "ds2020 = pd.read_csv(r'C:\\Documents\\projects\\HackLA\\311\\data\\MyLA311_Service_Request_Data_2020.csv', low_memory=False, index_col=0)"
   ]
  },
  {
   "cell_type": "code",
   "execution_count": 47,
   "id": "ef3c87aa",
   "metadata": {},
   "outputs": [],
   "source": [
    "pd.options.display.max_columns = None"
   ]
  },
  {
   "cell_type": "code",
   "execution_count": 4,
   "id": "2afd25f0",
   "metadata": {
    "scrolled": true
   },
   "outputs": [
    {
     "data": {
      "text/html": [
       "<div>\n",
       "<style scoped>\n",
       "    .dataframe tbody tr th:only-of-type {\n",
       "        vertical-align: middle;\n",
       "    }\n",
       "\n",
       "    .dataframe tbody tr th {\n",
       "        vertical-align: top;\n",
       "    }\n",
       "\n",
       "    .dataframe thead th {\n",
       "        text-align: right;\n",
       "    }\n",
       "</style>\n",
       "<table border=\"1\" class=\"dataframe\">\n",
       "  <thead>\n",
       "    <tr style=\"text-align: right;\">\n",
       "      <th></th>\n",
       "      <th>requestId</th>\n",
       "      <th>srnumber</th>\n",
       "      <th>councilId</th>\n",
       "      <th>councilName</th>\n",
       "      <th>typeId</th>\n",
       "      <th>typeName</th>\n",
       "      <th>agencyId</th>\n",
       "      <th>agencyName</th>\n",
       "      <th>sourceId</th>\n",
       "      <th>sourceName</th>\n",
       "      <th>createdDate</th>\n",
       "      <th>closedDate</th>\n",
       "      <th>address</th>\n",
       "      <th>latitude</th>\n",
       "      <th>longitude</th>\n",
       "    </tr>\n",
       "  </thead>\n",
       "  <tbody>\n",
       "    <tr>\n",
       "      <th>0</th>\n",
       "      <td>239077</td>\n",
       "      <td>1-1523593381</td>\n",
       "      <td>19</td>\n",
       "      <td>Empowerment Congress Central</td>\n",
       "      <td>6</td>\n",
       "      <td>Illegal Dumping</td>\n",
       "      <td>2</td>\n",
       "      <td>Sanitation Bureau</td>\n",
       "      <td>8</td>\n",
       "      <td>Phone Call</td>\n",
       "      <td>2020-01-01T00:02:00</td>\n",
       "      <td>2020-01-07T10:49:00</td>\n",
       "      <td>1500 W SLAUSON AVE, 90047</td>\n",
       "      <td>33.988984</td>\n",
       "      <td>-118.302681</td>\n",
       "    </tr>\n",
       "    <tr>\n",
       "      <th>1</th>\n",
       "      <td>239078</td>\n",
       "      <td>1-1523590121</td>\n",
       "      <td>44</td>\n",
       "      <td>Lake Balboa</td>\n",
       "      <td>6</td>\n",
       "      <td>Illegal Dumping</td>\n",
       "      <td>2</td>\n",
       "      <td>Sanitation Bureau</td>\n",
       "      <td>8</td>\n",
       "      <td>Phone Call</td>\n",
       "      <td>2020-01-01T00:05:00</td>\n",
       "      <td>2020-01-02T08:43:00</td>\n",
       "      <td>16815 W VANOWEN ST, 91406</td>\n",
       "      <td>34.194028</td>\n",
       "      <td>-118.499472</td>\n",
       "    </tr>\n",
       "    <tr>\n",
       "      <th>2</th>\n",
       "      <td>239079</td>\n",
       "      <td>1-1523596201</td>\n",
       "      <td>20</td>\n",
       "      <td>Empowerment Congress North</td>\n",
       "      <td>1</td>\n",
       "      <td>Graffiti</td>\n",
       "      <td>4</td>\n",
       "      <td>Office of Community Beautification</td>\n",
       "      <td>7</td>\n",
       "      <td>Mobile App</td>\n",
       "      <td>2020-01-01T00:16:00</td>\n",
       "      <td>2020-01-02T15:13:00</td>\n",
       "      <td>1848 W BROWNING BLVD, 90062</td>\n",
       "      <td>34.011724</td>\n",
       "      <td>-118.312764</td>\n",
       "    </tr>\n",
       "    <tr>\n",
       "      <th>3</th>\n",
       "      <td>239080</td>\n",
       "      <td>1-1523596222</td>\n",
       "      <td>70</td>\n",
       "      <td>Rampart Village</td>\n",
       "      <td>4</td>\n",
       "      <td>Bulky Items</td>\n",
       "      <td>2</td>\n",
       "      <td>Sanitation Bureau</td>\n",
       "      <td>7</td>\n",
       "      <td>Mobile App</td>\n",
       "      <td>2020-01-01T00:19:00</td>\n",
       "      <td>2020-01-03T07:02:00</td>\n",
       "      <td>132 S WESTMORELAND AVE, 90004</td>\n",
       "      <td>34.072440</td>\n",
       "      <td>-118.287798</td>\n",
       "    </tr>\n",
       "    <tr>\n",
       "      <th>4</th>\n",
       "      <td>239081</td>\n",
       "      <td>1-1523591123</td>\n",
       "      <td>70</td>\n",
       "      <td>Rampart Village</td>\n",
       "      <td>7</td>\n",
       "      <td>Metal/Appliances</td>\n",
       "      <td>2</td>\n",
       "      <td>Sanitation Bureau</td>\n",
       "      <td>7</td>\n",
       "      <td>Mobile App</td>\n",
       "      <td>2020-01-01T00:21:00</td>\n",
       "      <td>2020-01-03T15:54:00</td>\n",
       "      <td>132 S WESTMORELAND AVE, 90004</td>\n",
       "      <td>34.072440</td>\n",
       "      <td>-118.287798</td>\n",
       "    </tr>\n",
       "  </tbody>\n",
       "</table>\n",
       "</div>"
      ],
      "text/plain": [
       "   requestId      srnumber  councilId                   councilName  typeId  \\\n",
       "0     239077  1-1523593381         19  Empowerment Congress Central       6   \n",
       "1     239078  1-1523590121         44                   Lake Balboa       6   \n",
       "2     239079  1-1523596201         20    Empowerment Congress North       1   \n",
       "3     239080  1-1523596222         70               Rampart Village       4   \n",
       "4     239081  1-1523591123         70               Rampart Village       7   \n",
       "\n",
       "           typeName  agencyId                          agencyName  sourceId  \\\n",
       "0   Illegal Dumping         2                   Sanitation Bureau         8   \n",
       "1   Illegal Dumping         2                   Sanitation Bureau         8   \n",
       "2          Graffiti         4  Office of Community Beautification         7   \n",
       "3       Bulky Items         2                   Sanitation Bureau         7   \n",
       "4  Metal/Appliances         2                   Sanitation Bureau         7   \n",
       "\n",
       "   sourceName          createdDate           closedDate  \\\n",
       "0  Phone Call  2020-01-01T00:02:00  2020-01-07T10:49:00   \n",
       "1  Phone Call  2020-01-01T00:05:00  2020-01-02T08:43:00   \n",
       "2  Mobile App  2020-01-01T00:16:00  2020-01-02T15:13:00   \n",
       "3  Mobile App  2020-01-01T00:19:00  2020-01-03T07:02:00   \n",
       "4  Mobile App  2020-01-01T00:21:00  2020-01-03T15:54:00   \n",
       "\n",
       "                         address   latitude   longitude  \n",
       "0      1500 W SLAUSON AVE, 90047  33.988984 -118.302681  \n",
       "1      16815 W VANOWEN ST, 91406  34.194028 -118.499472  \n",
       "2    1848 W BROWNING BLVD, 90062  34.011724 -118.312764  \n",
       "3  132 S WESTMORELAND AVE, 90004  34.072440 -118.287798  \n",
       "4  132 S WESTMORELAND AVE, 90004  34.072440 -118.287798  "
      ]
     },
     "execution_count": 4,
     "metadata": {},
     "output_type": "execute_result"
    }
   ],
   "source": [
    "dspipe2020.head()"
   ]
  },
  {
   "cell_type": "code",
   "execution_count": 5,
   "id": "ee5cc2e5",
   "metadata": {},
   "outputs": [
    {
     "data": {
      "text/plain": [
       "(1485304, 15)"
      ]
     },
     "execution_count": 5,
     "metadata": {},
     "output_type": "execute_result"
    }
   ],
   "source": [
    "dspipe2020.shape"
   ]
  },
  {
   "cell_type": "code",
   "execution_count": 6,
   "id": "bf707ffb",
   "metadata": {},
   "outputs": [
    {
     "data": {
      "text/plain": [
       "(1491762, 34)"
      ]
     },
     "execution_count": 6,
     "metadata": {},
     "output_type": "execute_result"
    }
   ],
   "source": [
    "ds2020.shape"
   ]
  },
  {
   "cell_type": "code",
   "execution_count": 7,
   "id": "f5a730b7",
   "metadata": {},
   "outputs": [
    {
     "data": {
      "text/plain": [
       "6458"
      ]
     },
     "execution_count": 7,
     "metadata": {},
     "output_type": "execute_result"
    }
   ],
   "source": [
    "1491762-1485304"
   ]
  },
  {
   "cell_type": "code",
   "execution_count": 27,
   "id": "7e99a41f",
   "metadata": {},
   "outputs": [
    {
     "data": {
      "text/plain": [
       "Index(['requestId', 'srnumber', 'councilId', 'councilName', 'typeId',\n",
       "       'typeName', 'agencyId', 'agencyName', 'sourceId', 'sourceName',\n",
       "       'createdDate', 'closedDate', 'address', 'latitude', 'longitude'],\n",
       "      dtype='object')"
      ]
     },
     "execution_count": 27,
     "metadata": {},
     "output_type": "execute_result"
    }
   ],
   "source": [
    "names1 = dspipe2020.columns\n",
    "names1"
   ]
  },
  {
   "cell_type": "code",
   "execution_count": 34,
   "id": "57e06da5",
   "metadata": {},
   "outputs": [
    {
     "data": {
      "text/plain": [
       "15"
      ]
     },
     "execution_count": 34,
     "metadata": {},
     "output_type": "execute_result"
    }
   ],
   "source": [
    "len(names1)"
   ]
  },
  {
   "cell_type": "code",
   "execution_count": 28,
   "id": "14a34025",
   "metadata": {},
   "outputs": [
    {
     "data": {
      "text/plain": [
       "Index(['SRNumber', 'CreatedDate', 'UpdatedDate', 'ActionTaken', 'Owner',\n",
       "       'RequestType', 'Status', 'RequestSource', 'CreatedByUserOrganization',\n",
       "       'MobileOS', 'Anonymous', 'AssignTo', 'ServiceDate', 'ClosedDate',\n",
       "       'AddressVerified', 'ApproximateAddress', 'Address', 'HouseNumber',\n",
       "       'Direction', 'StreetName', 'Suffix', 'ZipCode', 'Latitude', 'Longitude',\n",
       "       'Location', 'TBMPage', 'TBMColumn', 'TBMRow', 'APC', 'CD', 'CDMember',\n",
       "       'NC', 'NCName', 'PolicePrecinct'],\n",
       "      dtype='object')"
      ]
     },
     "execution_count": 28,
     "metadata": {},
     "output_type": "execute_result"
    }
   ],
   "source": [
    "names2 = ds2020.columns\n",
    "names2"
   ]
  },
  {
   "cell_type": "code",
   "execution_count": 35,
   "id": "b8dece34",
   "metadata": {},
   "outputs": [
    {
     "data": {
      "text/plain": [
       "34"
      ]
     },
     "execution_count": 35,
     "metadata": {},
     "output_type": "execute_result"
    }
   ],
   "source": [
    "len(names2)"
   ]
  },
  {
   "cell_type": "code",
   "execution_count": 42,
   "id": "12e4840d",
   "metadata": {},
   "outputs": [
    {
     "data": {
      "text/plain": [
       "['requestId',\n",
       " 'address',\n",
       " 'StreetName',\n",
       " 'ZipCode',\n",
       " 'longitude',\n",
       " 'councilId',\n",
       " 'Address',\n",
       " 'latitude',\n",
       " 'ServiceDate',\n",
       " 'srnumber',\n",
       " 'RequestType',\n",
       " 'TBMRow',\n",
       " 'NC',\n",
       " 'PolicePrecinct',\n",
       " 'ApproximateAddress',\n",
       " 'CD',\n",
       " 'CreatedDate',\n",
       " 'HouseNumber',\n",
       " 'SRNumber',\n",
       " 'agencyId',\n",
       " 'Status',\n",
       " 'typeId',\n",
       " 'AssignTo',\n",
       " 'APC',\n",
       " 'createdDate',\n",
       " 'ActionTaken',\n",
       " 'Anonymous',\n",
       " 'sourceId',\n",
       " 'CreatedByUserOrganization',\n",
       " 'MobileOS',\n",
       " 'typeName',\n",
       " 'UpdatedDate',\n",
       " 'TBMPage',\n",
       " 'RequestSource',\n",
       " 'Location',\n",
       " 'TBMColumn',\n",
       " 'sourceName',\n",
       " 'NCName',\n",
       " 'Latitude',\n",
       " 'AddressVerified',\n",
       " 'Direction',\n",
       " 'ClosedDate',\n",
       " 'Longitude',\n",
       " 'CDMember',\n",
       " 'councilName',\n",
       " 'agencyName',\n",
       " 'closedDate',\n",
       " 'Owner',\n",
       " 'Suffix']"
      ]
     },
     "execution_count": 42,
     "metadata": {},
     "output_type": "execute_result"
    }
   ],
   "source": [
    "difference = list(set(names1).symmetric_difference (set(names2)))\n",
    "difference"
   ]
  },
  {
   "cell_type": "code",
   "execution_count": 49,
   "id": "2d3650cb",
   "metadata": {},
   "outputs": [
    {
     "data": {
      "text/html": [
       "<div>\n",
       "<style scoped>\n",
       "    .dataframe tbody tr th:only-of-type {\n",
       "        vertical-align: middle;\n",
       "    }\n",
       "\n",
       "    .dataframe tbody tr th {\n",
       "        vertical-align: top;\n",
       "    }\n",
       "\n",
       "    .dataframe thead th {\n",
       "        text-align: right;\n",
       "    }\n",
       "</style>\n",
       "<table border=\"1\" class=\"dataframe\">\n",
       "  <thead>\n",
       "    <tr style=\"text-align: right;\">\n",
       "      <th></th>\n",
       "      <th>SRNumber</th>\n",
       "      <th>CreatedDate</th>\n",
       "      <th>UpdatedDate</th>\n",
       "      <th>ActionTaken</th>\n",
       "      <th>Owner</th>\n",
       "      <th>RequestType</th>\n",
       "      <th>Status</th>\n",
       "      <th>RequestSource</th>\n",
       "      <th>CreatedByUserOrganization</th>\n",
       "      <th>MobileOS</th>\n",
       "      <th>Anonymous</th>\n",
       "      <th>AssignTo</th>\n",
       "      <th>ServiceDate</th>\n",
       "      <th>ClosedDate</th>\n",
       "      <th>AddressVerified</th>\n",
       "      <th>ApproximateAddress</th>\n",
       "      <th>Address</th>\n",
       "      <th>HouseNumber</th>\n",
       "      <th>Direction</th>\n",
       "      <th>StreetName</th>\n",
       "      <th>Suffix</th>\n",
       "      <th>ZipCode</th>\n",
       "      <th>Latitude</th>\n",
       "      <th>Longitude</th>\n",
       "      <th>Location</th>\n",
       "      <th>TBMPage</th>\n",
       "      <th>TBMColumn</th>\n",
       "      <th>TBMRow</th>\n",
       "      <th>APC</th>\n",
       "      <th>CD</th>\n",
       "      <th>CDMember</th>\n",
       "      <th>NC</th>\n",
       "      <th>NCName</th>\n",
       "      <th>PolicePrecinct</th>\n",
       "    </tr>\n",
       "  </thead>\n",
       "  <tbody>\n",
       "    <tr>\n",
       "      <th>0</th>\n",
       "      <td>1-1523593381</td>\n",
       "      <td>2020-01-01 00:02:00</td>\n",
       "      <td>2020-01-07 12:19:00</td>\n",
       "      <td>SR Created</td>\n",
       "      <td>BOS</td>\n",
       "      <td>Illegal Dumping Pickup</td>\n",
       "      <td>Closed</td>\n",
       "      <td>Call</td>\n",
       "      <td>BOS</td>\n",
       "      <td>NaN</td>\n",
       "      <td>N</td>\n",
       "      <td>SLA</td>\n",
       "      <td>2020-01-07 00:00:00.000000000</td>\n",
       "      <td>2020-01-07 10:49:00</td>\n",
       "      <td>Y</td>\n",
       "      <td>N</td>\n",
       "      <td>1500 W SLAUSON AVE, 90047</td>\n",
       "      <td>1500.0</td>\n",
       "      <td>W</td>\n",
       "      <td>SLAUSON</td>\n",
       "      <td>AVE</td>\n",
       "      <td>90047.0</td>\n",
       "      <td>33.988984</td>\n",
       "      <td>-118.302681</td>\n",
       "      <td>(33.988984265, -118.302681205)</td>\n",
       "      <td>673.0</td>\n",
       "      <td>J</td>\n",
       "      <td>5.0</td>\n",
       "      <td>South Los Angeles APC</td>\n",
       "      <td>8.0</td>\n",
       "      <td>Marqueece Harris-Dawson</td>\n",
       "      <td>81.0</td>\n",
       "      <td>EMPOWERMENT CONGRESS CENTRAL AREA NDC</td>\n",
       "      <td>77TH STREET</td>\n",
       "    </tr>\n",
       "    <tr>\n",
       "      <th>1</th>\n",
       "      <td>1-1523590121</td>\n",
       "      <td>2020-01-01 00:05:00</td>\n",
       "      <td>2020-01-02 08:43:00</td>\n",
       "      <td>SR Created</td>\n",
       "      <td>BOS</td>\n",
       "      <td>Illegal Dumping Pickup</td>\n",
       "      <td>Closed</td>\n",
       "      <td>Call</td>\n",
       "      <td>BOS</td>\n",
       "      <td>NaN</td>\n",
       "      <td>N</td>\n",
       "      <td>WV</td>\n",
       "      <td>2020-01-02 00:00:00.000000000</td>\n",
       "      <td>2020-01-02 08:43:00</td>\n",
       "      <td>Y</td>\n",
       "      <td>N</td>\n",
       "      <td>16815 W VANOWEN ST, 91406</td>\n",
       "      <td>16815.0</td>\n",
       "      <td>W</td>\n",
       "      <td>VANOWEN</td>\n",
       "      <td>ST</td>\n",
       "      <td>91406.0</td>\n",
       "      <td>34.194028</td>\n",
       "      <td>-118.499472</td>\n",
       "      <td>(34.1940284578, -118.499471638)</td>\n",
       "      <td>531.0</td>\n",
       "      <td>D</td>\n",
       "      <td>6.0</td>\n",
       "      <td>South Valley APC</td>\n",
       "      <td>6.0</td>\n",
       "      <td>Nury Martinez</td>\n",
       "      <td>19.0</td>\n",
       "      <td>LAKE BALBOA NC</td>\n",
       "      <td>WEST VALLEY</td>\n",
       "    </tr>\n",
       "  </tbody>\n",
       "</table>\n",
       "</div>"
      ],
      "text/plain": [
       "       SRNumber          CreatedDate          UpdatedDate ActionTaken Owner  \\\n",
       "0  1-1523593381  2020-01-01 00:02:00  2020-01-07 12:19:00  SR Created   BOS   \n",
       "1  1-1523590121  2020-01-01 00:05:00  2020-01-02 08:43:00  SR Created   BOS   \n",
       "\n",
       "              RequestType  Status RequestSource CreatedByUserOrganization  \\\n",
       "0  Illegal Dumping Pickup  Closed          Call                       BOS   \n",
       "1  Illegal Dumping Pickup  Closed          Call                       BOS   \n",
       "\n",
       "  MobileOS Anonymous AssignTo                    ServiceDate  \\\n",
       "0      NaN         N      SLA  2020-01-07 00:00:00.000000000   \n",
       "1      NaN         N       WV  2020-01-02 00:00:00.000000000   \n",
       "\n",
       "            ClosedDate AddressVerified ApproximateAddress  \\\n",
       "0  2020-01-07 10:49:00               Y                  N   \n",
       "1  2020-01-02 08:43:00               Y                  N   \n",
       "\n",
       "                     Address  HouseNumber Direction StreetName Suffix  \\\n",
       "0  1500 W SLAUSON AVE, 90047       1500.0         W    SLAUSON    AVE   \n",
       "1  16815 W VANOWEN ST, 91406      16815.0         W    VANOWEN     ST   \n",
       "\n",
       "   ZipCode   Latitude   Longitude                         Location  TBMPage  \\\n",
       "0  90047.0  33.988984 -118.302681   (33.988984265, -118.302681205)    673.0   \n",
       "1  91406.0  34.194028 -118.499472  (34.1940284578, -118.499471638)    531.0   \n",
       "\n",
       "  TBMColumn  TBMRow                    APC   CD                 CDMember  \\\n",
       "0         J     5.0  South Los Angeles APC  8.0  Marqueece Harris-Dawson   \n",
       "1         D     6.0       South Valley APC  6.0            Nury Martinez   \n",
       "\n",
       "     NC                                 NCName PolicePrecinct  \n",
       "0  81.0  EMPOWERMENT CONGRESS CENTRAL AREA NDC    77TH STREET  \n",
       "1  19.0                         LAKE BALBOA NC    WEST VALLEY  "
      ]
     },
     "execution_count": 49,
     "metadata": {},
     "output_type": "execute_result"
    }
   ],
   "source": [
    "ds2020.head(2)"
   ]
  },
  {
   "cell_type": "code",
   "execution_count": 48,
   "id": "78c161c8",
   "metadata": {},
   "outputs": [
    {
     "data": {
      "text/html": [
       "<div>\n",
       "<style scoped>\n",
       "    .dataframe tbody tr th:only-of-type {\n",
       "        vertical-align: middle;\n",
       "    }\n",
       "\n",
       "    .dataframe tbody tr th {\n",
       "        vertical-align: top;\n",
       "    }\n",
       "\n",
       "    .dataframe thead th {\n",
       "        text-align: right;\n",
       "    }\n",
       "</style>\n",
       "<table border=\"1\" class=\"dataframe\">\n",
       "  <thead>\n",
       "    <tr style=\"text-align: right;\">\n",
       "      <th></th>\n",
       "      <th>requestId</th>\n",
       "      <th>srnumber</th>\n",
       "      <th>councilId</th>\n",
       "      <th>councilName</th>\n",
       "      <th>typeId</th>\n",
       "      <th>typeName</th>\n",
       "      <th>agencyId</th>\n",
       "      <th>agencyName</th>\n",
       "      <th>sourceId</th>\n",
       "      <th>sourceName</th>\n",
       "      <th>createdDate</th>\n",
       "      <th>closedDate</th>\n",
       "      <th>address</th>\n",
       "      <th>latitude</th>\n",
       "      <th>longitude</th>\n",
       "    </tr>\n",
       "  </thead>\n",
       "  <tbody>\n",
       "    <tr>\n",
       "      <th>0</th>\n",
       "      <td>239077</td>\n",
       "      <td>1-1523593381</td>\n",
       "      <td>19</td>\n",
       "      <td>Empowerment Congress Central</td>\n",
       "      <td>6</td>\n",
       "      <td>Illegal Dumping</td>\n",
       "      <td>2</td>\n",
       "      <td>Sanitation Bureau</td>\n",
       "      <td>8</td>\n",
       "      <td>Phone Call</td>\n",
       "      <td>2020-01-01T00:02:00</td>\n",
       "      <td>2020-01-07T10:49:00</td>\n",
       "      <td>1500 W SLAUSON AVE, 90047</td>\n",
       "      <td>33.988984</td>\n",
       "      <td>-118.302681</td>\n",
       "    </tr>\n",
       "    <tr>\n",
       "      <th>1</th>\n",
       "      <td>239078</td>\n",
       "      <td>1-1523590121</td>\n",
       "      <td>44</td>\n",
       "      <td>Lake Balboa</td>\n",
       "      <td>6</td>\n",
       "      <td>Illegal Dumping</td>\n",
       "      <td>2</td>\n",
       "      <td>Sanitation Bureau</td>\n",
       "      <td>8</td>\n",
       "      <td>Phone Call</td>\n",
       "      <td>2020-01-01T00:05:00</td>\n",
       "      <td>2020-01-02T08:43:00</td>\n",
       "      <td>16815 W VANOWEN ST, 91406</td>\n",
       "      <td>34.194028</td>\n",
       "      <td>-118.499472</td>\n",
       "    </tr>\n",
       "  </tbody>\n",
       "</table>\n",
       "</div>"
      ],
      "text/plain": [
       "   requestId      srnumber  councilId                   councilName  typeId  \\\n",
       "0     239077  1-1523593381         19  Empowerment Congress Central       6   \n",
       "1     239078  1-1523590121         44                   Lake Balboa       6   \n",
       "\n",
       "          typeName  agencyId         agencyName  sourceId  sourceName  \\\n",
       "0  Illegal Dumping         2  Sanitation Bureau         8  Phone Call   \n",
       "1  Illegal Dumping         2  Sanitation Bureau         8  Phone Call   \n",
       "\n",
       "           createdDate           closedDate                    address  \\\n",
       "0  2020-01-01T00:02:00  2020-01-07T10:49:00  1500 W SLAUSON AVE, 90047   \n",
       "1  2020-01-01T00:05:00  2020-01-02T08:43:00  16815 W VANOWEN ST, 91406   \n",
       "\n",
       "    latitude   longitude  \n",
       "0  33.988984 -118.302681  \n",
       "1  34.194028 -118.499472  "
      ]
     },
     "execution_count": 48,
     "metadata": {},
     "output_type": "execute_result"
    }
   ],
   "source": [
    "dspipe2020.head(2)"
   ]
  },
  {
   "cell_type": "code",
   "execution_count": null,
   "id": "76caa7cc",
   "metadata": {},
   "outputs": [],
   "source": []
  }
 ],
 "metadata": {
  "kernelspec": {
   "display_name": "Python [conda env:geo_env] *",
   "language": "python",
   "name": "conda-env-geo_env-py"
  },
  "language_info": {
   "codemirror_mode": {
    "name": "ipython",
    "version": 3
   },
   "file_extension": ".py",
   "mimetype": "text/x-python",
   "name": "python",
   "nbconvert_exporter": "python",
   "pygments_lexer": "ipython3",
   "version": "3.9.5"
  }
 },
 "nbformat": 4,
 "nbformat_minor": 5
}
