{
 "cells": [
  {
   "cell_type": "markdown",
   "metadata": {
    "id": "8iGeJT7LHsnC"
   },
   "source": [
    "This notebook has been adapated from a Data Science Group Tutorial created to explore the 311 call data.  It's using the call data from 2020.  Goal is to figure out why there are 172459 observations where ServiceDate is earlier than the CreateDate.  \n",
    "\n",
    "Using the 2020 dataset with rows with null dates were deleted, 73014 rows were deleted because ServiceDate is larger than 8/11/2022 and date columns were converted to datetime format"
   ]
  },
  {
   "cell_type": "code",
   "execution_count": 1,
   "metadata": {
    "id": "Id2BMD3wBSYB"
   },
   "outputs": [],
   "source": [
    "import numpy as np\n",
    "import pandas as pd\n",
    "from datetime import datetime as dt\n",
    "import re\n",
    "import matplotlib.pyplot as plt\n",
    "import seaborn as sns\n",
    "%matplotlib inline\n",
    "sns.set_style('darkgrid')\n",
    "import warnings\n",
    "warnings.filterwarnings('ignore')\n"
   ]
  },
  {
   "cell_type": "code",
   "execution_count": 2,
   "metadata": {},
   "outputs": [],
   "source": [
    "pd.options.display.max_columns = None"
   ]
  },
  {
   "cell_type": "code",
   "execution_count": 3,
   "metadata": {},
   "outputs": [],
   "source": [
    "pd.options.display.max_rows = None"
   ]
  },
  {
   "cell_type": "markdown",
   "metadata": {
    "id": "tzf1W_UyBSYK"
   },
   "source": [
    "<font size=5, color=green>Investigate on all the date columns<font>"
   ]
  },
  {
   "cell_type": "markdown",
   "metadata": {
    "id": "neWj-3doBSYL"
   },
   "source": [
    "<font size=3 color=gray>First of all we need to convert the type from object to date and then check to make sure there is not any date greater than today's date, then we can investigate for these criterias:<br>1. createddate <= servicedate<br>2. servicedate <= closeddate<br>3. closeddate <= updateddate<br>but we want to keep NaN value for these date columns<font>"
   ]
  },
  {
   "cell_type": "code",
   "execution_count": 9,
   "metadata": {},
   "outputs": [],
   "source": [
    "#Import new data set of rows where CreatedDate is larger than ServiceDate\n",
    "#Out of 1417538 observations, 172459 rows where CreatedDated is larger than ServiceDate\n",
    "#to create this data set from 2020 call data set\n",
    "# 1. rows with null dates were deleted\n",
    "# 2. rows with ServiceDate larger than date retrieved were deleted\n",
    "# 3. create new data set: dfCD_SD = df311_2020[df311_2020.CreatedDate > df311_2020.ServiceDate]\n",
    "# 4. CreatedDateMonth column created\n",
    "\n",
    "dfCD_SD = pd.read_csv(r'C:\\Documents\\projects\\HackLA\\311\\data\\CreatedDate_larger_ServiceDate.csv', low_memory = False, index_col = 0)"
   ]
  },
  {
   "cell_type": "code",
   "execution_count": 13,
   "metadata": {},
   "outputs": [
    {
     "data": {
      "text/plain": [
       "(172459, 26)"
      ]
     },
     "execution_count": 13,
     "metadata": {},
     "output_type": "execute_result"
    }
   ],
   "source": [
    "dfCD_SD.shape"
   ]
  },
  {
   "cell_type": "code",
   "execution_count": 14,
   "metadata": {},
   "outputs": [
    {
     "data": {
      "text/html": [
       "<div>\n",
       "<style scoped>\n",
       "    .dataframe tbody tr th:only-of-type {\n",
       "        vertical-align: middle;\n",
       "    }\n",
       "\n",
       "    .dataframe tbody tr th {\n",
       "        vertical-align: top;\n",
       "    }\n",
       "\n",
       "    .dataframe thead th {\n",
       "        text-align: right;\n",
       "    }\n",
       "</style>\n",
       "<table border=\"1\" class=\"dataframe\">\n",
       "  <thead>\n",
       "    <tr style=\"text-align: right;\">\n",
       "      <th></th>\n",
       "      <th>CreatedDateMonth</th>\n",
       "      <th>CreatedDate</th>\n",
       "      <th>UpdatedDate</th>\n",
       "      <th>ActionTaken</th>\n",
       "      <th>Owner</th>\n",
       "      <th>RequestType</th>\n",
       "      <th>Status</th>\n",
       "      <th>RequestSource</th>\n",
       "      <th>CreatedByUserOrganization</th>\n",
       "      <th>MobileOS</th>\n",
       "      <th>Anonymous</th>\n",
       "      <th>AssignTo</th>\n",
       "      <th>ServiceDate</th>\n",
       "      <th>ClosedDate</th>\n",
       "      <th>AddressVerified</th>\n",
       "      <th>Address</th>\n",
       "      <th>ZipCode</th>\n",
       "      <th>TBMPage</th>\n",
       "      <th>TBMColumn</th>\n",
       "      <th>TBMRow</th>\n",
       "      <th>APC</th>\n",
       "      <th>CD</th>\n",
       "      <th>CDMember</th>\n",
       "      <th>NC</th>\n",
       "      <th>NCName</th>\n",
       "      <th>PolicePrecinct</th>\n",
       "    </tr>\n",
       "  </thead>\n",
       "  <tbody>\n",
       "    <tr>\n",
       "      <th>391</th>\n",
       "      <td>1</td>\n",
       "      <td>2020-01-01</td>\n",
       "      <td>2020-01-01 11:30:00</td>\n",
       "      <td>SR Created</td>\n",
       "      <td>OCB</td>\n",
       "      <td>Graffiti Removal</td>\n",
       "      <td>Closed</td>\n",
       "      <td>Driver Self Report</td>\n",
       "      <td>OCB</td>\n",
       "      <td>NaN</td>\n",
       "      <td>N</td>\n",
       "      <td>PGS</td>\n",
       "      <td>2019-12-05 11:11:00</td>\n",
       "      <td>2020-01-01 11:30:00</td>\n",
       "      <td>Y</td>\n",
       "      <td>2639 S ROBERTSON BLVD, 90034</td>\n",
       "      <td>90034.0</td>\n",
       "      <td>632.0</td>\n",
       "      <td>H</td>\n",
       "      <td>6.0</td>\n",
       "      <td>South Los Angeles APC</td>\n",
       "      <td>5.0</td>\n",
       "      <td>NaN</td>\n",
       "      <td>61.0</td>\n",
       "      <td>SOUTH ROBERTSON NC</td>\n",
       "      <td>WEST LOS ANGELES</td>\n",
       "    </tr>\n",
       "    <tr>\n",
       "      <th>392</th>\n",
       "      <td>1</td>\n",
       "      <td>2020-01-01</td>\n",
       "      <td>2020-01-01 11:30:00</td>\n",
       "      <td>SR Created</td>\n",
       "      <td>OCB</td>\n",
       "      <td>Graffiti Removal</td>\n",
       "      <td>Closed</td>\n",
       "      <td>Driver Self Report</td>\n",
       "      <td>OCB</td>\n",
       "      <td>NaN</td>\n",
       "      <td>N</td>\n",
       "      <td>PGS</td>\n",
       "      <td>2019-12-05 11:11:00</td>\n",
       "      <td>2020-01-01 11:30:00</td>\n",
       "      <td>Y</td>\n",
       "      <td>2743 S BEVERLY DR, 90034</td>\n",
       "      <td>90034.0</td>\n",
       "      <td>632.0</td>\n",
       "      <td>G</td>\n",
       "      <td>6.0</td>\n",
       "      <td>West Los Angeles APC</td>\n",
       "      <td>5.0</td>\n",
       "      <td>NaN</td>\n",
       "      <td>61.0</td>\n",
       "      <td>SOUTH ROBERTSON NC</td>\n",
       "      <td>WEST LOS ANGELES</td>\n",
       "    </tr>\n",
       "  </tbody>\n",
       "</table>\n",
       "</div>"
      ],
      "text/plain": [
       "     CreatedDateMonth CreatedDate          UpdatedDate ActionTaken Owner  \\\n",
       "391                 1  2020-01-01  2020-01-01 11:30:00  SR Created   OCB   \n",
       "392                 1  2020-01-01  2020-01-01 11:30:00  SR Created   OCB   \n",
       "\n",
       "          RequestType  Status       RequestSource CreatedByUserOrganization  \\\n",
       "391  Graffiti Removal  Closed  Driver Self Report                       OCB   \n",
       "392  Graffiti Removal  Closed  Driver Self Report                       OCB   \n",
       "\n",
       "    MobileOS Anonymous AssignTo          ServiceDate           ClosedDate  \\\n",
       "391      NaN         N      PGS  2019-12-05 11:11:00  2020-01-01 11:30:00   \n",
       "392      NaN         N      PGS  2019-12-05 11:11:00  2020-01-01 11:30:00   \n",
       "\n",
       "    AddressVerified                       Address  ZipCode  TBMPage TBMColumn  \\\n",
       "391               Y  2639 S ROBERTSON BLVD, 90034  90034.0    632.0         H   \n",
       "392               Y      2743 S BEVERLY DR, 90034  90034.0    632.0         G   \n",
       "\n",
       "     TBMRow                    APC   CD CDMember    NC              NCName  \\\n",
       "391     6.0  South Los Angeles APC  5.0      NaN  61.0  SOUTH ROBERTSON NC   \n",
       "392     6.0   West Los Angeles APC  5.0      NaN  61.0  SOUTH ROBERTSON NC   \n",
       "\n",
       "       PolicePrecinct  \n",
       "391  WEST LOS ANGELES  \n",
       "392  WEST LOS ANGELES  "
      ]
     },
     "execution_count": 14,
     "metadata": {},
     "output_type": "execute_result"
    }
   ],
   "source": [
    "dfCD_SD.head(2)"
   ]
  },
  {
   "cell_type": "code",
   "execution_count": 15,
   "metadata": {},
   "outputs": [
    {
     "data": {
      "text/plain": [
       "array(['Graffiti Removal', 'Single Streetlight Issue',\n",
       "       'Multiple Streetlight Issue'], dtype=object)"
      ]
     },
     "execution_count": 15,
     "metadata": {},
     "output_type": "execute_result"
    }
   ],
   "source": [
    "dfCD_SD['RequestType'].unique()"
   ]
  },
  {
   "cell_type": "markdown",
   "metadata": {},
   "source": [
    "#### They are made up of RequestType of Graffiti and streetlight issues"
   ]
  },
  {
   "cell_type": "code",
   "execution_count": 16,
   "metadata": {},
   "outputs": [
    {
     "data": {
      "text/plain": [
       "Graffiti Removal              172382\n",
       "Single Streetlight Issue          45\n",
       "Multiple Streetlight Issue        32\n",
       "Name: RequestType, dtype: int64"
      ]
     },
     "execution_count": 16,
     "metadata": {},
     "output_type": "execute_result"
    }
   ],
   "source": [
    "dfCD_SD['RequestType'].value_counts()"
   ]
  },
  {
   "cell_type": "markdown",
   "metadata": {},
   "source": [
    "### They are largely Graffiti Removal"
   ]
  },
  {
   "cell_type": "code",
   "execution_count": 43,
   "metadata": {},
   "outputs": [],
   "source": [
    "# to me - delete columns that probably won't matter when trying to figure out this question.  \n",
    "# Then move the CreatedDateMonth next to createdDate, because I'll have to do one for each Date row.\n",
    "# Remember to keep saving the data file\n",
    "#figure out whatever aspects show something in this subset dataframe that where createddate > service date\n",
    "#like value count of owner, request type, request source - then can ask for suggestions on who to contact\n",
    "#also, compare to other years if have time"
   ]
  },
  {
   "cell_type": "code",
   "execution_count": 17,
   "metadata": {},
   "outputs": [],
   "source": [
    "#Create a dataframe of just the dates to compare them\n",
    "df_dates = dfCD_SD.filter(['CreatedDate','UpdatedDate','ServiceDate', 'ClosedDate'], axis=1)"
   ]
  },
  {
   "cell_type": "code",
   "execution_count": 18,
   "metadata": {},
   "outputs": [
    {
     "data": {
      "text/html": [
       "<div>\n",
       "<style scoped>\n",
       "    .dataframe tbody tr th:only-of-type {\n",
       "        vertical-align: middle;\n",
       "    }\n",
       "\n",
       "    .dataframe tbody tr th {\n",
       "        vertical-align: top;\n",
       "    }\n",
       "\n",
       "    .dataframe thead th {\n",
       "        text-align: right;\n",
       "    }\n",
       "</style>\n",
       "<table border=\"1\" class=\"dataframe\">\n",
       "  <thead>\n",
       "    <tr style=\"text-align: right;\">\n",
       "      <th></th>\n",
       "      <th>CreatedDate</th>\n",
       "      <th>UpdatedDate</th>\n",
       "      <th>ServiceDate</th>\n",
       "      <th>ClosedDate</th>\n",
       "    </tr>\n",
       "  </thead>\n",
       "  <tbody>\n",
       "    <tr>\n",
       "      <th>391</th>\n",
       "      <td>2020-01-01</td>\n",
       "      <td>2020-01-01 11:30:00</td>\n",
       "      <td>2019-12-05 11:11:00</td>\n",
       "      <td>2020-01-01 11:30:00</td>\n",
       "    </tr>\n",
       "    <tr>\n",
       "      <th>392</th>\n",
       "      <td>2020-01-01</td>\n",
       "      <td>2020-01-01 11:30:00</td>\n",
       "      <td>2019-12-05 11:11:00</td>\n",
       "      <td>2020-01-01 11:30:00</td>\n",
       "    </tr>\n",
       "    <tr>\n",
       "      <th>393</th>\n",
       "      <td>2020-01-01</td>\n",
       "      <td>2020-01-01 11:30:00</td>\n",
       "      <td>2019-12-05 11:11:00</td>\n",
       "      <td>2020-01-01 11:30:00</td>\n",
       "    </tr>\n",
       "    <tr>\n",
       "      <th>394</th>\n",
       "      <td>2020-01-01</td>\n",
       "      <td>2020-01-01 11:30:00</td>\n",
       "      <td>2019-12-05 11:11:00</td>\n",
       "      <td>2020-01-01 11:30:00</td>\n",
       "    </tr>\n",
       "    <tr>\n",
       "      <th>395</th>\n",
       "      <td>2020-01-01</td>\n",
       "      <td>2020-01-01 11:30:00</td>\n",
       "      <td>2019-12-05 11:11:00</td>\n",
       "      <td>2020-01-01 11:30:00</td>\n",
       "    </tr>\n",
       "  </tbody>\n",
       "</table>\n",
       "</div>"
      ],
      "text/plain": [
       "    CreatedDate          UpdatedDate          ServiceDate           ClosedDate\n",
       "391  2020-01-01  2020-01-01 11:30:00  2019-12-05 11:11:00  2020-01-01 11:30:00\n",
       "392  2020-01-01  2020-01-01 11:30:00  2019-12-05 11:11:00  2020-01-01 11:30:00\n",
       "393  2020-01-01  2020-01-01 11:30:00  2019-12-05 11:11:00  2020-01-01 11:30:00\n",
       "394  2020-01-01  2020-01-01 11:30:00  2019-12-05 11:11:00  2020-01-01 11:30:00\n",
       "395  2020-01-01  2020-01-01 11:30:00  2019-12-05 11:11:00  2020-01-01 11:30:00"
      ]
     },
     "execution_count": 18,
     "metadata": {},
     "output_type": "execute_result"
    }
   ],
   "source": [
    "df_dates.head()"
   ]
  },
  {
   "cell_type": "code",
   "execution_count": 19,
   "metadata": {},
   "outputs": [
    {
     "data": {
      "text/plain": [
       "CreatedDate    object\n",
       "UpdatedDate    object\n",
       "ServiceDate    object\n",
       "ClosedDate     object\n",
       "dtype: object"
      ]
     },
     "execution_count": 19,
     "metadata": {},
     "output_type": "execute_result"
    }
   ],
   "source": [
    "df_dates.dtypes"
   ]
  },
  {
   "cell_type": "code",
   "execution_count": 22,
   "metadata": {},
   "outputs": [],
   "source": [
    "#Make sure they are all datetime64 type\n",
    "df_dates = df_dates.astype({'CreatedDate': 'datetime64', 'UpdatedDate': 'datetime64', 'ServiceDate': 'datetime64', 'ClosedDate': 'datetime64'})"
   ]
  },
  {
   "cell_type": "code",
   "execution_count": 23,
   "metadata": {},
   "outputs": [
    {
     "data": {
      "text/plain": [
       "CreatedDate    datetime64[ns]\n",
       "UpdatedDate    datetime64[ns]\n",
       "ServiceDate    datetime64[ns]\n",
       "ClosedDate     datetime64[ns]\n",
       "dtype: object"
      ]
     },
     "execution_count": 23,
     "metadata": {},
     "output_type": "execute_result"
    }
   ],
   "source": [
    "df_dates.dtypes"
   ]
  },
  {
   "cell_type": "code",
   "execution_count": 24,
   "metadata": {},
   "outputs": [
    {
     "data": {
      "text/html": [
       "<div>\n",
       "<style scoped>\n",
       "    .dataframe tbody tr th:only-of-type {\n",
       "        vertical-align: middle;\n",
       "    }\n",
       "\n",
       "    .dataframe tbody tr th {\n",
       "        vertical-align: top;\n",
       "    }\n",
       "\n",
       "    .dataframe thead th {\n",
       "        text-align: right;\n",
       "    }\n",
       "</style>\n",
       "<table border=\"1\" class=\"dataframe\">\n",
       "  <thead>\n",
       "    <tr style=\"text-align: right;\">\n",
       "      <th></th>\n",
       "      <th>CreatedDate</th>\n",
       "      <th>UpdatedDate</th>\n",
       "      <th>ServiceDate</th>\n",
       "      <th>ClosedDate</th>\n",
       "    </tr>\n",
       "  </thead>\n",
       "  <tbody>\n",
       "    <tr>\n",
       "      <th>391</th>\n",
       "      <td>2020-01-01</td>\n",
       "      <td>2020-01-01 11:30:00</td>\n",
       "      <td>2019-12-05 11:11:00</td>\n",
       "      <td>2020-01-01 11:30:00</td>\n",
       "    </tr>\n",
       "    <tr>\n",
       "      <th>392</th>\n",
       "      <td>2020-01-01</td>\n",
       "      <td>2020-01-01 11:30:00</td>\n",
       "      <td>2019-12-05 11:11:00</td>\n",
       "      <td>2020-01-01 11:30:00</td>\n",
       "    </tr>\n",
       "    <tr>\n",
       "      <th>393</th>\n",
       "      <td>2020-01-01</td>\n",
       "      <td>2020-01-01 11:30:00</td>\n",
       "      <td>2019-12-05 11:11:00</td>\n",
       "      <td>2020-01-01 11:30:00</td>\n",
       "    </tr>\n",
       "    <tr>\n",
       "      <th>394</th>\n",
       "      <td>2020-01-01</td>\n",
       "      <td>2020-01-01 11:30:00</td>\n",
       "      <td>2019-12-05 11:11:00</td>\n",
       "      <td>2020-01-01 11:30:00</td>\n",
       "    </tr>\n",
       "    <tr>\n",
       "      <th>395</th>\n",
       "      <td>2020-01-01</td>\n",
       "      <td>2020-01-01 11:30:00</td>\n",
       "      <td>2019-12-05 11:11:00</td>\n",
       "      <td>2020-01-01 11:30:00</td>\n",
       "    </tr>\n",
       "  </tbody>\n",
       "</table>\n",
       "</div>"
      ],
      "text/plain": [
       "    CreatedDate         UpdatedDate         ServiceDate          ClosedDate\n",
       "391  2020-01-01 2020-01-01 11:30:00 2019-12-05 11:11:00 2020-01-01 11:30:00\n",
       "392  2020-01-01 2020-01-01 11:30:00 2019-12-05 11:11:00 2020-01-01 11:30:00\n",
       "393  2020-01-01 2020-01-01 11:30:00 2019-12-05 11:11:00 2020-01-01 11:30:00\n",
       "394  2020-01-01 2020-01-01 11:30:00 2019-12-05 11:11:00 2020-01-01 11:30:00\n",
       "395  2020-01-01 2020-01-01 11:30:00 2019-12-05 11:11:00 2020-01-01 11:30:00"
      ]
     },
     "execution_count": 24,
     "metadata": {},
     "output_type": "execute_result"
    }
   ],
   "source": [
    "df_dates.head()"
   ]
  },
  {
   "cell_type": "code",
   "execution_count": 33,
   "metadata": {},
   "outputs": [
    {
     "data": {
      "text/plain": [
       "CreatedDate    datetime64[ns]\n",
       "UpdatedDate    datetime64[ns]\n",
       "ServiceDate    datetime64[ns]\n",
       "ClosedDate     datetime64[ns]\n",
       "dtype: object"
      ]
     },
     "execution_count": 33,
     "metadata": {},
     "output_type": "execute_result"
    }
   ],
   "source": [
    "df_dates.dtypes"
   ]
  },
  {
   "cell_type": "code",
   "execution_count": 58,
   "metadata": {},
   "outputs": [
    {
     "data": {
      "text/plain": [
       "(array([19163., 16730., 10879., 21585., 18719., 15238., 15259., 17037.,\n",
       "        20708., 17141.]),\n",
       " array([18262. , 18298.5, 18335. , 18371.5, 18408. , 18444.5, 18481. ,\n",
       "        18517.5, 18554. , 18590.5, 18627. ]),\n",
       " <BarContainer object of 10 artists>)"
      ]
     },
     "execution_count": 58,
     "metadata": {},
     "output_type": "execute_result"
    },
    {
     "data": {
      "image/png": "[encoded data removed]",
      "text/plain": [
       "<Figure size 432x288 with 1 Axes>"
      ]
     },
     "metadata": {},
     "output_type": "display_data"
    }
   ],
   "source": [
    "plt.hist(df_dates['CreatedDate'])"
   ]
  },
  {
   "cell_type": "code",
   "execution_count": 61,
   "metadata": {},
   "outputs": [
    {
     "data": {
      "text/plain": [
       "(array([2.2771e+04, 1.8109e+04, 2.2916e+04, 2.2733e+04, 1.8899e+04,\n",
       "        1.9402e+04, 2.4335e+04, 2.2571e+04, 7.2000e+02, 3.0000e+00]),\n",
       " array([18262.47916667, 18307.97920602, 18353.47924537, 18398.97928472,\n",
       "        18444.47932407, 18489.97936343, 18535.47940278, 18580.97944213,\n",
       "        18626.47948148, 18671.97952083, 18717.47956019]),\n",
       " <BarContainer object of 10 artists>)"
      ]
     },
     "execution_count": 61,
     "metadata": {},
     "output_type": "execute_result"
    },
    {
     "data": {
      "image/png": "[encoded data removed]",
      "text/plain": [
       "<Figure size 432x288 with 1 Axes>"
      ]
     },
     "metadata": {},
     "output_type": "display_data"
    }
   ],
   "source": [
    "plt.hist(df_dates['UpdatedDate'])"
   ]
  },
  {
   "cell_type": "code",
   "execution_count": 62,
   "metadata": {},
   "outputs": [],
   "source": [
    "dfCD_SD[\"ServiceDate\"] = dfCD_SD[\"ServiceDate\"].astype(\"datetime64\")"
   ]
  },
  {
   "cell_type": "code",
   "execution_count": 84,
   "metadata": {},
   "outputs": [
    {
     "data": {
      "text/plain": [
       "Timestamp('2020-12-30 10:52:43')"
      ]
     },
     "execution_count": 84,
     "metadata": {},
     "output_type": "execute_result"
    }
   ],
   "source": [
    "dfCD_SD[\"ServiceDate\"].max()"
   ]
  },
  {
   "cell_type": "code",
   "execution_count": 85,
   "metadata": {},
   "outputs": [
    {
     "data": {
      "text/html": [
       "<div>\n",
       "<style scoped>\n",
       "    .dataframe tbody tr th:only-of-type {\n",
       "        vertical-align: middle;\n",
       "    }\n",
       "\n",
       "    .dataframe tbody tr th {\n",
       "        vertical-align: top;\n",
       "    }\n",
       "\n",
       "    .dataframe thead th {\n",
       "        text-align: right;\n",
       "    }\n",
       "</style>\n",
       "<table border=\"1\" class=\"dataframe\">\n",
       "  <thead>\n",
       "    <tr style=\"text-align: right;\">\n",
       "      <th></th>\n",
       "      <th>CreatedDateMonth</th>\n",
       "      <th>CreatedDate</th>\n",
       "      <th>UpdatedDate</th>\n",
       "      <th>ActionTaken</th>\n",
       "      <th>Owner</th>\n",
       "      <th>RequestType</th>\n",
       "      <th>Status</th>\n",
       "      <th>RequestSource</th>\n",
       "      <th>CreatedByUserOrganization</th>\n",
       "      <th>MobileOS</th>\n",
       "      <th>Anonymous</th>\n",
       "      <th>AssignTo</th>\n",
       "      <th>ServiceDate</th>\n",
       "      <th>ClosedDate</th>\n",
       "      <th>AddressVerified</th>\n",
       "      <th>Address</th>\n",
       "      <th>ZipCode</th>\n",
       "      <th>TBMPage</th>\n",
       "      <th>TBMColumn</th>\n",
       "      <th>TBMRow</th>\n",
       "      <th>APC</th>\n",
       "      <th>CD</th>\n",
       "      <th>CDMember</th>\n",
       "      <th>NC</th>\n",
       "      <th>NCName</th>\n",
       "      <th>PolicePrecinct</th>\n",
       "    </tr>\n",
       "  </thead>\n",
       "  <tbody>\n",
       "    <tr>\n",
       "      <th>369628</th>\n",
       "      <td>4</td>\n",
       "      <td>2020-04-13</td>\n",
       "      <td>2020-04-13 14:15:20</td>\n",
       "      <td>SR Created</td>\n",
       "      <td>OCB</td>\n",
       "      <td>Graffiti Removal</td>\n",
       "      <td>Closed</td>\n",
       "      <td>Driver Self Report</td>\n",
       "      <td>OCB</td>\n",
       "      <td>NaN</td>\n",
       "      <td>N</td>\n",
       "      <td>NEGB</td>\n",
       "      <td>1919-08-19</td>\n",
       "      <td>2020-04-13 14:15:20</td>\n",
       "      <td>Y</td>\n",
       "      <td>13309 W PAXTON ST, 91331</td>\n",
       "      <td>91331.0</td>\n",
       "      <td>502.0</td>\n",
       "      <td>C</td>\n",
       "      <td>1.0</td>\n",
       "      <td>North Valley APC</td>\n",
       "      <td>7.0</td>\n",
       "      <td>NaN</td>\n",
       "      <td>7.0</td>\n",
       "      <td>PACOIMA NC</td>\n",
       "      <td>FOOTHILL</td>\n",
       "    </tr>\n",
       "    <tr>\n",
       "      <th>369629</th>\n",
       "      <td>4</td>\n",
       "      <td>2020-04-13</td>\n",
       "      <td>2020-04-13 14:15:23</td>\n",
       "      <td>SR Created</td>\n",
       "      <td>OCB</td>\n",
       "      <td>Graffiti Removal</td>\n",
       "      <td>Closed</td>\n",
       "      <td>Driver Self Report</td>\n",
       "      <td>OCB</td>\n",
       "      <td>NaN</td>\n",
       "      <td>N</td>\n",
       "      <td>NEGB</td>\n",
       "      <td>1919-08-19</td>\n",
       "      <td>2020-04-13 14:15:23</td>\n",
       "      <td>Y</td>\n",
       "      <td>8987 N LAUREL CANYON BLVD, 91352</td>\n",
       "      <td>91352.0</td>\n",
       "      <td>502.0</td>\n",
       "      <td>F</td>\n",
       "      <td>7.0</td>\n",
       "      <td>North Valley APC</td>\n",
       "      <td>6.0</td>\n",
       "      <td>NaN</td>\n",
       "      <td>8.0</td>\n",
       "      <td>SUN VALLEY AREA NC</td>\n",
       "      <td>FOOTHILL</td>\n",
       "    </tr>\n",
       "    <tr>\n",
       "      <th>369630</th>\n",
       "      <td>4</td>\n",
       "      <td>2020-04-13</td>\n",
       "      <td>2020-04-13 14:15:27</td>\n",
       "      <td>SR Created</td>\n",
       "      <td>OCB</td>\n",
       "      <td>Graffiti Removal</td>\n",
       "      <td>Closed</td>\n",
       "      <td>Driver Self Report</td>\n",
       "      <td>OCB</td>\n",
       "      <td>NaN</td>\n",
       "      <td>N</td>\n",
       "      <td>NEGB</td>\n",
       "      <td>1919-08-19</td>\n",
       "      <td>2020-04-13 14:15:26</td>\n",
       "      <td>Y</td>\n",
       "      <td>8987 N LAUREL CANYON BLVD, 91352</td>\n",
       "      <td>91352.0</td>\n",
       "      <td>502.0</td>\n",
       "      <td>F</td>\n",
       "      <td>7.0</td>\n",
       "      <td>North Valley APC</td>\n",
       "      <td>6.0</td>\n",
       "      <td>NaN</td>\n",
       "      <td>8.0</td>\n",
       "      <td>SUN VALLEY AREA NC</td>\n",
       "      <td>FOOTHILL</td>\n",
       "    </tr>\n",
       "    <tr>\n",
       "      <th>369631</th>\n",
       "      <td>4</td>\n",
       "      <td>2020-04-13</td>\n",
       "      <td>2020-04-13 14:15:30</td>\n",
       "      <td>SR Created</td>\n",
       "      <td>OCB</td>\n",
       "      <td>Graffiti Removal</td>\n",
       "      <td>Closed</td>\n",
       "      <td>Driver Self Report</td>\n",
       "      <td>OCB</td>\n",
       "      <td>NaN</td>\n",
       "      <td>N</td>\n",
       "      <td>NEGB</td>\n",
       "      <td>1919-08-19</td>\n",
       "      <td>2020-04-13 14:15:29</td>\n",
       "      <td>Y</td>\n",
       "      <td>9009 N LAUREL CANYON BLVD, 91352</td>\n",
       "      <td>91352.0</td>\n",
       "      <td>502.0</td>\n",
       "      <td>F</td>\n",
       "      <td>7.0</td>\n",
       "      <td>North Valley APC</td>\n",
       "      <td>6.0</td>\n",
       "      <td>NaN</td>\n",
       "      <td>8.0</td>\n",
       "      <td>SUN VALLEY AREA NC</td>\n",
       "      <td>FOOTHILL</td>\n",
       "    </tr>\n",
       "    <tr>\n",
       "      <th>369632</th>\n",
       "      <td>4</td>\n",
       "      <td>2020-04-13</td>\n",
       "      <td>2020-04-13 14:15:33</td>\n",
       "      <td>SR Created</td>\n",
       "      <td>OCB</td>\n",
       "      <td>Graffiti Removal</td>\n",
       "      <td>Closed</td>\n",
       "      <td>Driver Self Report</td>\n",
       "      <td>OCB</td>\n",
       "      <td>NaN</td>\n",
       "      <td>N</td>\n",
       "      <td>NEGB</td>\n",
       "      <td>1919-08-19</td>\n",
       "      <td>2020-04-13 14:15:32</td>\n",
       "      <td>Y</td>\n",
       "      <td>8969 N LAUREL CANYON BLVD, 91352</td>\n",
       "      <td>91352.0</td>\n",
       "      <td>502.0</td>\n",
       "      <td>F</td>\n",
       "      <td>7.0</td>\n",
       "      <td>North Valley APC</td>\n",
       "      <td>6.0</td>\n",
       "      <td>NaN</td>\n",
       "      <td>8.0</td>\n",
       "      <td>SUN VALLEY AREA NC</td>\n",
       "      <td>FOOTHILL</td>\n",
       "    </tr>\n",
       "    <tr>\n",
       "      <th>369633</th>\n",
       "      <td>4</td>\n",
       "      <td>2020-04-13</td>\n",
       "      <td>2020-04-13 14:15:37</td>\n",
       "      <td>SR Created</td>\n",
       "      <td>OCB</td>\n",
       "      <td>Graffiti Removal</td>\n",
       "      <td>Closed</td>\n",
       "      <td>Driver Self Report</td>\n",
       "      <td>OCB</td>\n",
       "      <td>NaN</td>\n",
       "      <td>N</td>\n",
       "      <td>NEGB</td>\n",
       "      <td>1919-08-19</td>\n",
       "      <td>2020-04-13 14:15:36</td>\n",
       "      <td>Y</td>\n",
       "      <td>8969 N LAUREL CANYON BLVD, 91352</td>\n",
       "      <td>91352.0</td>\n",
       "      <td>502.0</td>\n",
       "      <td>F</td>\n",
       "      <td>7.0</td>\n",
       "      <td>North Valley APC</td>\n",
       "      <td>6.0</td>\n",
       "      <td>NaN</td>\n",
       "      <td>8.0</td>\n",
       "      <td>SUN VALLEY AREA NC</td>\n",
       "      <td>FOOTHILL</td>\n",
       "    </tr>\n",
       "    <tr>\n",
       "      <th>369634</th>\n",
       "      <td>4</td>\n",
       "      <td>2020-04-13</td>\n",
       "      <td>2020-04-13 14:15:40</td>\n",
       "      <td>SR Created</td>\n",
       "      <td>OCB</td>\n",
       "      <td>Graffiti Removal</td>\n",
       "      <td>Closed</td>\n",
       "      <td>Driver Self Report</td>\n",
       "      <td>OCB</td>\n",
       "      <td>NaN</td>\n",
       "      <td>N</td>\n",
       "      <td>NEGB</td>\n",
       "      <td>1919-08-19</td>\n",
       "      <td>2020-04-13 14:15:39</td>\n",
       "      <td>Y</td>\n",
       "      <td>MOREHART AVE AT SHELDON ST, 91352</td>\n",
       "      <td>91352.0</td>\n",
       "      <td>502.0</td>\n",
       "      <td>F</td>\n",
       "      <td>7.0</td>\n",
       "      <td>North Valley APC</td>\n",
       "      <td>6.0</td>\n",
       "      <td>NaN</td>\n",
       "      <td>8.0</td>\n",
       "      <td>SUN VALLEY AREA NC</td>\n",
       "      <td>FOOTHILL</td>\n",
       "    </tr>\n",
       "    <tr>\n",
       "      <th>369635</th>\n",
       "      <td>4</td>\n",
       "      <td>2020-04-13</td>\n",
       "      <td>2020-04-13 14:15:45</td>\n",
       "      <td>SR Created</td>\n",
       "      <td>OCB</td>\n",
       "      <td>Graffiti Removal</td>\n",
       "      <td>Closed</td>\n",
       "      <td>Driver Self Report</td>\n",
       "      <td>OCB</td>\n",
       "      <td>NaN</td>\n",
       "      <td>N</td>\n",
       "      <td>NEGB</td>\n",
       "      <td>1919-08-19</td>\n",
       "      <td>2020-04-13 14:15:45</td>\n",
       "      <td>Y</td>\n",
       "      <td>8432 N LAUREL CANYON BLVD, 91352</td>\n",
       "      <td>91352.0</td>\n",
       "      <td>532.0</td>\n",
       "      <td>G</td>\n",
       "      <td>1.0</td>\n",
       "      <td>North Valley APC</td>\n",
       "      <td>6.0</td>\n",
       "      <td>NaN</td>\n",
       "      <td>8.0</td>\n",
       "      <td>SUN VALLEY AREA NC</td>\n",
       "      <td>FOOTHILL</td>\n",
       "    </tr>\n",
       "    <tr>\n",
       "      <th>369636</th>\n",
       "      <td>4</td>\n",
       "      <td>2020-04-13</td>\n",
       "      <td>2020-04-13 14:15:17</td>\n",
       "      <td>SR Created</td>\n",
       "      <td>OCB</td>\n",
       "      <td>Graffiti Removal</td>\n",
       "      <td>Closed</td>\n",
       "      <td>Driver Self Report</td>\n",
       "      <td>OCB</td>\n",
       "      <td>NaN</td>\n",
       "      <td>N</td>\n",
       "      <td>NEGB</td>\n",
       "      <td>1919-08-19</td>\n",
       "      <td>2020-04-13 14:15:17</td>\n",
       "      <td>Y</td>\n",
       "      <td>7300 N WHITSETT AVE, 91605</td>\n",
       "      <td>91605.0</td>\n",
       "      <td>532.0</td>\n",
       "      <td>F</td>\n",
       "      <td>4.0</td>\n",
       "      <td>South Valley APC</td>\n",
       "      <td>2.0</td>\n",
       "      <td>NaN</td>\n",
       "      <td>23.0</td>\n",
       "      <td>NORTH HOLLYWOOD NORTHEAST NC</td>\n",
       "      <td>NORTH HOLLYWOOD</td>\n",
       "    </tr>\n",
       "    <tr>\n",
       "      <th>369637</th>\n",
       "      <td>4</td>\n",
       "      <td>2020-04-13</td>\n",
       "      <td>2020-04-13 14:15:51</td>\n",
       "      <td>SR Created</td>\n",
       "      <td>OCB</td>\n",
       "      <td>Graffiti Removal</td>\n",
       "      <td>Closed</td>\n",
       "      <td>Driver Self Report</td>\n",
       "      <td>OCB</td>\n",
       "      <td>NaN</td>\n",
       "      <td>N</td>\n",
       "      <td>NEGB</td>\n",
       "      <td>1919-08-19</td>\n",
       "      <td>2020-04-13 14:15:51</td>\n",
       "      <td>Y</td>\n",
       "      <td>8432 N LAUREL CANYON BLVD, 91352</td>\n",
       "      <td>91352.0</td>\n",
       "      <td>532.0</td>\n",
       "      <td>G</td>\n",
       "      <td>1.0</td>\n",
       "      <td>North Valley APC</td>\n",
       "      <td>6.0</td>\n",
       "      <td>NaN</td>\n",
       "      <td>8.0</td>\n",
       "      <td>SUN VALLEY AREA NC</td>\n",
       "      <td>FOOTHILL</td>\n",
       "    </tr>\n",
       "  </tbody>\n",
       "</table>\n",
       "</div>"
      ],
      "text/plain": [
       "        CreatedDateMonth CreatedDate         UpdatedDate ActionTaken Owner  \\\n",
       "369628                 4  2020-04-13 2020-04-13 14:15:20  SR Created   OCB   \n",
       "369629                 4  2020-04-13 2020-04-13 14:15:23  SR Created   OCB   \n",
       "369630                 4  2020-04-13 2020-04-13 14:15:27  SR Created   OCB   \n",
       "369631                 4  2020-04-13 2020-04-13 14:15:30  SR Created   OCB   \n",
       "369632                 4  2020-04-13 2020-04-13 14:15:33  SR Created   OCB   \n",
       "369633                 4  2020-04-13 2020-04-13 14:15:37  SR Created   OCB   \n",
       "369634                 4  2020-04-13 2020-04-13 14:15:40  SR Created   OCB   \n",
       "369635                 4  2020-04-13 2020-04-13 14:15:45  SR Created   OCB   \n",
       "369636                 4  2020-04-13 2020-04-13 14:15:17  SR Created   OCB   \n",
       "369637                 4  2020-04-13 2020-04-13 14:15:51  SR Created   OCB   \n",
       "\n",
       "             RequestType  Status       RequestSource  \\\n",
       "369628  Graffiti Removal  Closed  Driver Self Report   \n",
       "369629  Graffiti Removal  Closed  Driver Self Report   \n",
       "369630  Graffiti Removal  Closed  Driver Self Report   \n",
       "369631  Graffiti Removal  Closed  Driver Self Report   \n",
       "369632  Graffiti Removal  Closed  Driver Self Report   \n",
       "369633  Graffiti Removal  Closed  Driver Self Report   \n",
       "369634  Graffiti Removal  Closed  Driver Self Report   \n",
       "369635  Graffiti Removal  Closed  Driver Self Report   \n",
       "369636  Graffiti Removal  Closed  Driver Self Report   \n",
       "369637  Graffiti Removal  Closed  Driver Self Report   \n",
       "\n",
       "       CreatedByUserOrganization MobileOS Anonymous AssignTo ServiceDate  \\\n",
       "369628                       OCB      NaN         N     NEGB  1919-08-19   \n",
       "369629                       OCB      NaN         N     NEGB  1919-08-19   \n",
       "369630                       OCB      NaN         N     NEGB  1919-08-19   \n",
       "369631                       OCB      NaN         N     NEGB  1919-08-19   \n",
       "369632                       OCB      NaN         N     NEGB  1919-08-19   \n",
       "369633                       OCB      NaN         N     NEGB  1919-08-19   \n",
       "369634                       OCB      NaN         N     NEGB  1919-08-19   \n",
       "369635                       OCB      NaN         N     NEGB  1919-08-19   \n",
       "369636                       OCB      NaN         N     NEGB  1919-08-19   \n",
       "369637                       OCB      NaN         N     NEGB  1919-08-19   \n",
       "\n",
       "                 ClosedDate AddressVerified  \\\n",
       "369628  2020-04-13 14:15:20               Y   \n",
       "369629  2020-04-13 14:15:23               Y   \n",
       "369630  2020-04-13 14:15:26               Y   \n",
       "369631  2020-04-13 14:15:29               Y   \n",
       "369632  2020-04-13 14:15:32               Y   \n",
       "369633  2020-04-13 14:15:36               Y   \n",
       "369634  2020-04-13 14:15:39               Y   \n",
       "369635  2020-04-13 14:15:45               Y   \n",
       "369636  2020-04-13 14:15:17               Y   \n",
       "369637  2020-04-13 14:15:51               Y   \n",
       "\n",
       "                                  Address  ZipCode  TBMPage TBMColumn  TBMRow  \\\n",
       "369628           13309 W PAXTON ST, 91331  91331.0    502.0         C     1.0   \n",
       "369629   8987 N LAUREL CANYON BLVD, 91352  91352.0    502.0         F     7.0   \n",
       "369630   8987 N LAUREL CANYON BLVD, 91352  91352.0    502.0         F     7.0   \n",
       "369631   9009 N LAUREL CANYON BLVD, 91352  91352.0    502.0         F     7.0   \n",
       "369632   8969 N LAUREL CANYON BLVD, 91352  91352.0    502.0         F     7.0   \n",
       "369633   8969 N LAUREL CANYON BLVD, 91352  91352.0    502.0         F     7.0   \n",
       "369634  MOREHART AVE AT SHELDON ST, 91352  91352.0    502.0         F     7.0   \n",
       "369635   8432 N LAUREL CANYON BLVD, 91352  91352.0    532.0         G     1.0   \n",
       "369636         7300 N WHITSETT AVE, 91605  91605.0    532.0         F     4.0   \n",
       "369637   8432 N LAUREL CANYON BLVD, 91352  91352.0    532.0         G     1.0   \n",
       "\n",
       "                     APC   CD CDMember    NC                        NCName  \\\n",
       "369628  North Valley APC  7.0      NaN   7.0                    PACOIMA NC   \n",
       "369629  North Valley APC  6.0      NaN   8.0            SUN VALLEY AREA NC   \n",
       "369630  North Valley APC  6.0      NaN   8.0            SUN VALLEY AREA NC   \n",
       "369631  North Valley APC  6.0      NaN   8.0            SUN VALLEY AREA NC   \n",
       "369632  North Valley APC  6.0      NaN   8.0            SUN VALLEY AREA NC   \n",
       "369633  North Valley APC  6.0      NaN   8.0            SUN VALLEY AREA NC   \n",
       "369634  North Valley APC  6.0      NaN   8.0            SUN VALLEY AREA NC   \n",
       "369635  North Valley APC  6.0      NaN   8.0            SUN VALLEY AREA NC   \n",
       "369636  South Valley APC  2.0      NaN  23.0  NORTH HOLLYWOOD NORTHEAST NC   \n",
       "369637  North Valley APC  6.0      NaN   8.0            SUN VALLEY AREA NC   \n",
       "\n",
       "         PolicePrecinct  \n",
       "369628         FOOTHILL  \n",
       "369629         FOOTHILL  \n",
       "369630         FOOTHILL  \n",
       "369631         FOOTHILL  \n",
       "369632         FOOTHILL  \n",
       "369633         FOOTHILL  \n",
       "369634         FOOTHILL  \n",
       "369635         FOOTHILL  \n",
       "369636  NORTH HOLLYWOOD  \n",
       "369637         FOOTHILL  "
      ]
     },
     "execution_count": 85,
     "metadata": {},
     "output_type": "execute_result"
    }
   ],
   "source": [
    "dfCD_SD[dfCD_SD[\"ServiceDate\"] == dfCD_SD[\"ServiceDate\"].min()]"
   ]
  },
  {
   "cell_type": "code",
   "execution_count": 63,
   "metadata": {},
   "outputs": [
    {
     "data": {
      "text/plain": [
       "(array([1.00000e+01, 0.00000e+00, 0.00000e+00, 0.00000e+00, 0.00000e+00,\n",
       "        0.00000e+00, 0.00000e+00, 0.00000e+00, 1.00000e+00, 1.72448e+05]),\n",
       " array([-18398.        , -14695.55467245, -10993.10934491,  -7290.66401736,\n",
       "         -3588.21868981,    114.22663773,   3816.67196528,   7519.11729282,\n",
       "         11221.56262037,  14924.00794792,  18626.45327546]),\n",
       " <BarContainer object of 10 artists>)"
      ]
     },
     "execution_count": 63,
     "metadata": {},
     "output_type": "execute_result"
    },
    {
     "data": {
      "image/png": "[encoded data removed]",
      "text/plain": [
       "<Figure size 432x288 with 1 Axes>"
      ]
     },
     "metadata": {},
     "output_type": "display_data"
    }
   ],
   "source": [
    "plt.hist(df_dates['ServiceDate'])"
   ]
  },
  {
   "cell_type": "code",
   "execution_count": 74,
   "metadata": {},
   "outputs": [
    {
     "data": {
      "text/plain": [
       "(array([1.00000e+00, 0.00000e+00, 0.00000e+00, 0.00000e+00, 0.00000e+00,\n",
       "        0.00000e+00, 0.00000e+00, 0.00000e+00, 2.50000e+01, 1.72433e+05]),\n",
       " array([14665.        , 15064.55976157, 15464.11952315, 15863.67928472,\n",
       "        16263.2390463 , 16662.79880787, 17062.35856944, 17461.91833102,\n",
       "        17861.47809259, 18261.03785417, 18660.59761574]),\n",
       " <BarContainer object of 10 artists>)"
      ]
     },
     "execution_count": 74,
     "metadata": {},
     "output_type": "execute_result"
    },
    {
     "data": {
      "image/png": "[encoded data removed]",
      "text/plain": [
       "<Figure size 432x288 with 1 Axes>"
      ]
     },
     "metadata": {},
     "output_type": "display_data"
    }
   ],
   "source": [
    "plt.hist(df_dates['ClosedDate'])"
   ]
  },
  {
   "cell_type": "code",
   "execution_count": null,
   "metadata": {},
   "outputs": [],
   "source": []
  },
  {
   "cell_type": "code",
   "execution_count": 40,
   "metadata": {},
   "outputs": [],
   "source": [
    "#Create a new 'CreatedDateMonth' column which contains the number of the month from 'CreatedDate' \n",
    "#so can group on it and do functions by month\n",
    "df_dates['CreatedDateM'] = df_dates['CreatedDate'].dt.month"
   ]
  },
  {
   "cell_type": "code",
   "execution_count": 42,
   "metadata": {},
   "outputs": [],
   "source": [
    "df_dates['UpdatedDateM'] = df_dates['UpdatedDate'].dt.month"
   ]
  },
  {
   "cell_type": "code",
   "execution_count": 44,
   "metadata": {},
   "outputs": [],
   "source": [
    "df_dates['ServiceDateM'] = df_dates['ServiceDate'].dt.month"
   ]
  },
  {
   "cell_type": "code",
   "execution_count": 46,
   "metadata": {},
   "outputs": [],
   "source": [
    "df_dates['ClosedDateM'] = df_dates['ClosedDate'].dt.month"
   ]
  },
  {
   "cell_type": "code",
   "execution_count": 47,
   "metadata": {},
   "outputs": [
    {
     "data": {
      "text/html": [
       "<div>\n",
       "<style scoped>\n",
       "    .dataframe tbody tr th:only-of-type {\n",
       "        vertical-align: middle;\n",
       "    }\n",
       "\n",
       "    .dataframe tbody tr th {\n",
       "        vertical-align: top;\n",
       "    }\n",
       "\n",
       "    .dataframe thead th {\n",
       "        text-align: right;\n",
       "    }\n",
       "</style>\n",
       "<table border=\"1\" class=\"dataframe\">\n",
       "  <thead>\n",
       "    <tr style=\"text-align: right;\">\n",
       "      <th></th>\n",
       "      <th>CreatedDate</th>\n",
       "      <th>UpdatedDate</th>\n",
       "      <th>ServiceDate</th>\n",
       "      <th>ClosedDate</th>\n",
       "      <th>CreatedDateM</th>\n",
       "      <th>UpdatedDateM</th>\n",
       "      <th>ServiceDateM</th>\n",
       "      <th>ClosedDateM</th>\n",
       "    </tr>\n",
       "  </thead>\n",
       "  <tbody>\n",
       "    <tr>\n",
       "      <th>391</th>\n",
       "      <td>2020-01-01</td>\n",
       "      <td>2020-01-01 11:30:00</td>\n",
       "      <td>2019-12-05 11:11:00</td>\n",
       "      <td>2020-01-01 11:30:00</td>\n",
       "      <td>1</td>\n",
       "      <td>1</td>\n",
       "      <td>12</td>\n",
       "      <td>1</td>\n",
       "    </tr>\n",
       "    <tr>\n",
       "      <th>392</th>\n",
       "      <td>2020-01-01</td>\n",
       "      <td>2020-01-01 11:30:00</td>\n",
       "      <td>2019-12-05 11:11:00</td>\n",
       "      <td>2020-01-01 11:30:00</td>\n",
       "      <td>1</td>\n",
       "      <td>1</td>\n",
       "      <td>12</td>\n",
       "      <td>1</td>\n",
       "    </tr>\n",
       "    <tr>\n",
       "      <th>393</th>\n",
       "      <td>2020-01-01</td>\n",
       "      <td>2020-01-01 11:30:00</td>\n",
       "      <td>2019-12-05 11:11:00</td>\n",
       "      <td>2020-01-01 11:30:00</td>\n",
       "      <td>1</td>\n",
       "      <td>1</td>\n",
       "      <td>12</td>\n",
       "      <td>1</td>\n",
       "    </tr>\n",
       "    <tr>\n",
       "      <th>394</th>\n",
       "      <td>2020-01-01</td>\n",
       "      <td>2020-01-01 11:30:00</td>\n",
       "      <td>2019-12-05 11:11:00</td>\n",
       "      <td>2020-01-01 11:30:00</td>\n",
       "      <td>1</td>\n",
       "      <td>1</td>\n",
       "      <td>12</td>\n",
       "      <td>1</td>\n",
       "    </tr>\n",
       "    <tr>\n",
       "      <th>395</th>\n",
       "      <td>2020-01-01</td>\n",
       "      <td>2020-01-01 11:30:00</td>\n",
       "      <td>2019-12-05 11:11:00</td>\n",
       "      <td>2020-01-01 11:30:00</td>\n",
       "      <td>1</td>\n",
       "      <td>1</td>\n",
       "      <td>12</td>\n",
       "      <td>1</td>\n",
       "    </tr>\n",
       "  </tbody>\n",
       "</table>\n",
       "</div>"
      ],
      "text/plain": [
       "    CreatedDate         UpdatedDate         ServiceDate          ClosedDate  \\\n",
       "391  2020-01-01 2020-01-01 11:30:00 2019-12-05 11:11:00 2020-01-01 11:30:00   \n",
       "392  2020-01-01 2020-01-01 11:30:00 2019-12-05 11:11:00 2020-01-01 11:30:00   \n",
       "393  2020-01-01 2020-01-01 11:30:00 2019-12-05 11:11:00 2020-01-01 11:30:00   \n",
       "394  2020-01-01 2020-01-01 11:30:00 2019-12-05 11:11:00 2020-01-01 11:30:00   \n",
       "395  2020-01-01 2020-01-01 11:30:00 2019-12-05 11:11:00 2020-01-01 11:30:00   \n",
       "\n",
       "     CreatedDateM  UpdatedDateM  ServiceDateM  ClosedDateM  \n",
       "391             1             1            12            1  \n",
       "392             1             1            12            1  \n",
       "393             1             1            12            1  \n",
       "394             1             1            12            1  \n",
       "395             1             1            12            1  "
      ]
     },
     "execution_count": 47,
     "metadata": {},
     "output_type": "execute_result"
    }
   ],
   "source": [
    "df_dates.head()"
   ]
  },
  {
   "cell_type": "code",
   "execution_count": 69,
   "metadata": {},
   "outputs": [
    {
     "data": {
      "text/plain": [
       "1     17006\n",
       "2     12349\n",
       "3     11696\n",
       "4     12576\n",
       "5     17343\n",
       "6     15606\n",
       "7     13638\n",
       "8     12987\n",
       "9     12521\n",
       "10    17657\n",
       "11    14504\n",
       "12    14576\n",
       "Name: CreatedDateM, dtype: int64"
      ]
     },
     "execution_count": 69,
     "metadata": {},
     "output_type": "execute_result"
    }
   ],
   "source": [
    "df_dates['CreatedDateM'].value_counts().sort_index()"
   ]
  },
  {
   "cell_type": "code",
   "execution_count": 71,
   "metadata": {},
   "outputs": [
    {
     "data": {
      "text/plain": [
       "(array([29355., 11696., 12576., 17343., 15606., 13638., 12987., 12521.,\n",
       "        17657., 29080.]),\n",
       " array([ 1. ,  2.1,  3.2,  4.3,  5.4,  6.5,  7.6,  8.7,  9.8, 10.9, 12. ]),\n",
       " <BarContainer object of 10 artists>)"
      ]
     },
     "execution_count": 71,
     "metadata": {},
     "output_type": "execute_result"
    },
    {
     "data": {
      "image/png": "[encoded data removed]",
      "text/plain": [
       "<Figure size 432x288 with 1 Axes>"
      ]
     },
     "metadata": {},
     "output_type": "display_data"
    }
   ],
   "source": [
    "plt.hist(df_dates['CreatedDateM'])"
   ]
  },
  {
   "cell_type": "code",
   "execution_count": 89,
   "metadata": {},
   "outputs": [
    {
     "data": {
      "text/plain": [
       "(array([1.00000e+00, 0.00000e+00, 0.00000e+00, 0.00000e+00, 0.00000e+00,\n",
       "        0.00000e+00, 0.00000e+00, 0.00000e+00, 5.02200e+03, 1.67426e+05]),\n",
       " array([14665.        , 15061.14532755, 15457.29065509, 15853.43598264,\n",
       "        16249.58131019, 16645.72663773, 17041.87196528, 17438.01729282,\n",
       "        17834.16262037, 18230.30794792, 18626.45327546]),\n",
       " <BarContainer object of 10 artists>)"
      ]
     },
     "execution_count": 89,
     "metadata": {},
     "output_type": "execute_result"
    },
    {
     "data": {
      "image/png": "[encoded data removed]",
      "text/plain": [
       "<Figure size 432x288 with 1 Axes>"
      ]
     },
     "metadata": {},
     "output_type": "display_data"
    }
   ],
   "source": [
    "plt.hist(dfCD_SD[dfCD_SD[\"ServiceDate\"] != dfCD_SD[\"ServiceDate\"].min()].loc[:,'ServiceDate'])"
   ]
  },
  {
   "cell_type": "code",
   "execution_count": 87,
   "metadata": {},
   "outputs": [
    {
     "data": {
      "text/plain": [
       "(172459, 26)"
      ]
     },
     "execution_count": 87,
     "metadata": {},
     "output_type": "execute_result"
    }
   ],
   "source": [
    "dfCD_SD.shape"
   ]
  },
  {
   "cell_type": "code",
   "execution_count": 75,
   "metadata": {},
   "outputs": [
    {
     "data": {
      "text/plain": [
       "<seaborn.axisgrid.FacetGrid at 0x187055b9c10>"
      ]
     },
     "execution_count": 75,
     "metadata": {},
     "output_type": "execute_result"
    },
    {
     "data": {
      "image/png": "[encoded data removed]",
      "text/plain": [
       "<Figure size 360x360 with 1 Axes>"
      ]
     },
     "metadata": {},
     "output_type": "display_data"
    }
   ],
   "source": [
    "sns.displot(df_dates, x=\"CreatedDateM\", kind=\"kde\")"
   ]
  },
  {
   "cell_type": "code",
   "execution_count": 72,
   "metadata": {},
   "outputs": [
    {
     "data": {
      "text/plain": [
       "1     14615\n",
       "2     13585\n",
       "3     12337\n",
       "4     14883\n",
       "5     14506\n",
       "6     12505\n",
       "7     13138\n",
       "8     14586\n",
       "9     12620\n",
       "10    18158\n",
       "11    15191\n",
       "12    16335\n",
       "Name: ServiceDateM, dtype: int64"
      ]
     },
     "execution_count": 72,
     "metadata": {},
     "output_type": "execute_result"
    }
   ],
   "source": [
    "df_dates['ServiceDateM'].value_counts().sort_index()"
   ]
  },
  {
   "cell_type": "code",
   "execution_count": 73,
   "metadata": {},
   "outputs": [
    {
     "data": {
      "text/plain": [
       "(array([28200., 12337., 14883., 14506., 12505., 13138., 14586., 12620.,\n",
       "        18158., 31526.]),\n",
       " array([ 1. ,  2.1,  3.2,  4.3,  5.4,  6.5,  7.6,  8.7,  9.8, 10.9, 12. ]),\n",
       " <BarContainer object of 10 artists>)"
      ]
     },
     "execution_count": 73,
     "metadata": {},
     "output_type": "execute_result"
    },
    {
     "data": {
      "image/png": "[encoded data removed]",
      "text/plain": [
       "<Figure size 432x288 with 1 Axes>"
      ]
     },
     "metadata": {},
     "output_type": "display_data"
    }
   ],
   "source": [
    "plt.hist(df_dates['ServiceDateM'])"
   ]
  },
  {
   "cell_type": "code",
   "execution_count": 76,
   "metadata": {},
   "outputs": [
    {
     "data": {
      "text/plain": [
       "<seaborn.axisgrid.FacetGrid at 0x187063739d0>"
      ]
     },
     "execution_count": 76,
     "metadata": {},
     "output_type": "execute_result"
    },
    {
     "data": {
      "image/png": "[encoded data removed]",
      "text/plain": [
       "<Figure size 360x360 with 1 Axes>"
      ]
     },
     "metadata": {},
     "output_type": "display_data"
    }
   ],
   "source": [
    "sns.displot(df_dates, x=\"ServiceDateM\", kind=\"kde\")"
   ]
  },
  {
   "cell_type": "code",
   "execution_count": null,
   "metadata": {},
   "outputs": [],
   "source": []
  },
  {
   "cell_type": "code",
   "execution_count": 48,
   "metadata": {},
   "outputs": [],
   "source": [
    "#Create a dataframe of just the months\n",
    "df_datesM = df_dates.filter(['CreatedDateM','UpdatedDateM','ServiceDateM', 'ClosedDateM'], axis=1)"
   ]
  },
  {
   "cell_type": "code",
   "execution_count": 49,
   "metadata": {},
   "outputs": [
    {
     "data": {
      "text/html": [
       "<div>\n",
       "<style scoped>\n",
       "    .dataframe tbody tr th:only-of-type {\n",
       "        vertical-align: middle;\n",
       "    }\n",
       "\n",
       "    .dataframe tbody tr th {\n",
       "        vertical-align: top;\n",
       "    }\n",
       "\n",
       "    .dataframe thead th {\n",
       "        text-align: right;\n",
       "    }\n",
       "</style>\n",
       "<table border=\"1\" class=\"dataframe\">\n",
       "  <thead>\n",
       "    <tr style=\"text-align: right;\">\n",
       "      <th></th>\n",
       "      <th>CreatedDateM</th>\n",
       "      <th>UpdatedDateM</th>\n",
       "      <th>ServiceDateM</th>\n",
       "      <th>ClosedDateM</th>\n",
       "    </tr>\n",
       "  </thead>\n",
       "  <tbody>\n",
       "    <tr>\n",
       "      <th>391</th>\n",
       "      <td>1</td>\n",
       "      <td>1</td>\n",
       "      <td>12</td>\n",
       "      <td>1</td>\n",
       "    </tr>\n",
       "    <tr>\n",
       "      <th>392</th>\n",
       "      <td>1</td>\n",
       "      <td>1</td>\n",
       "      <td>12</td>\n",
       "      <td>1</td>\n",
       "    </tr>\n",
       "    <tr>\n",
       "      <th>393</th>\n",
       "      <td>1</td>\n",
       "      <td>1</td>\n",
       "      <td>12</td>\n",
       "      <td>1</td>\n",
       "    </tr>\n",
       "    <tr>\n",
       "      <th>394</th>\n",
       "      <td>1</td>\n",
       "      <td>1</td>\n",
       "      <td>12</td>\n",
       "      <td>1</td>\n",
       "    </tr>\n",
       "    <tr>\n",
       "      <th>395</th>\n",
       "      <td>1</td>\n",
       "      <td>1</td>\n",
       "      <td>12</td>\n",
       "      <td>1</td>\n",
       "    </tr>\n",
       "  </tbody>\n",
       "</table>\n",
       "</div>"
      ],
      "text/plain": [
       "     CreatedDateM  UpdatedDateM  ServiceDateM  ClosedDateM\n",
       "391             1             1            12            1\n",
       "392             1             1            12            1\n",
       "393             1             1            12            1\n",
       "394             1             1            12            1\n",
       "395             1             1            12            1"
      ]
     },
     "execution_count": 49,
     "metadata": {},
     "output_type": "execute_result"
    }
   ],
   "source": [
    "df_datesM.head()"
   ]
  },
  {
   "cell_type": "code",
   "execution_count": 51,
   "metadata": {},
   "outputs": [
    {
     "data": {
      "image/png": "[encoded data removed]",
      "text/plain": [
       "<Figure size 792x576 with 4 Axes>"
      ]
     },
     "metadata": {},
     "output_type": "display_data"
    }
   ],
   "source": [
    "df_datesM.hist(figsize=(11,8));"
   ]
  },
  {
   "cell_type": "code",
   "execution_count": 54,
   "metadata": {},
   "outputs": [
    {
     "data": {
      "image/png": "[encoded data removed]",
      "text/plain": [
       "<Figure size 432x288 with 2 Axes>"
      ]
     },
     "metadata": {},
     "output_type": "display_data"
    }
   ],
   "source": [
    "cor = df_datesM.corr()\n",
    "sns.heatmap(cor, annot=True)\n",
    "plt.show()"
   ]
  },
  {
   "cell_type": "code",
   "execution_count": null,
   "metadata": {},
   "outputs": [],
   "source": []
  },
  {
   "cell_type": "code",
   "execution_count": null,
   "metadata": {},
   "outputs": [],
   "source": []
  },
  {
   "cell_type": "code",
   "execution_count": null,
   "metadata": {},
   "outputs": [],
   "source": []
  },
  {
   "cell_type": "code",
   "execution_count": null,
   "metadata": {},
   "outputs": [],
   "source": []
  },
  {
   "cell_type": "code",
   "execution_count": null,
   "metadata": {},
   "outputs": [],
   "source": []
  },
  {
   "cell_type": "markdown",
   "metadata": {},
   "source": []
  },
  {
   "cell_type": "code",
   "execution_count": null,
   "metadata": {},
   "outputs": [],
   "source": []
  },
  {
   "cell_type": "code",
   "execution_count": null,
   "metadata": {},
   "outputs": [],
   "source": []
  },
  {
   "cell_type": "code",
   "execution_count": null,
   "metadata": {},
   "outputs": [],
   "source": []
  },
  {
   "cell_type": "code",
   "execution_count": null,
   "metadata": {},
   "outputs": [],
   "source": []
  },
  {
   "cell_type": "markdown",
   "metadata": {},
   "source": []
  },
  {
   "cell_type": "markdown",
   "metadata": {
    "id": "TQcwzZgPBSYO"
   },
   "source": [
    "<font size=5, color=green>Create timedelta columns<font>"
   ]
  },
  {
   "cell_type": "markdown",
   "metadata": {
    "id": "9hqY3ZcQBSYP"
   },
   "source": [
    "<font size=3 color=gray>Now after cleaning up all the datetime columns, it's time to create timedelta columns:<br>1. to_service: difference between createddate and servicedate<br>2. to_close: difference between createddate and closeddate<br>3. to_update: difference between createddate and updateddate<font>"
   ]
  },
  {
   "cell_type": "code",
   "execution_count": null,
   "metadata": {
    "id": "wbyO3sgbBSYP"
   },
   "outputs": [],
   "source": []
  },
  {
   "cell_type": "markdown",
   "metadata": {
    "id": "qe9_WzKFBSYP"
   },
   "source": [
    "<font size=5, color=green>Investigate on zipcodes<font>"
   ]
  },
  {
   "cell_type": "markdown",
   "metadata": {
    "id": "H-vWdJMBBSYP"
   },
   "source": [
    "<font size=3 color=gray>First we need to check if there is any recorde with null value or alphabetic value, then compare it with LA zipcodes (ZIPCode.csv is available and contains all the legitimate zipcodes for LA).<font>"
   ]
  },
  {
   "cell_type": "markdown",
   "metadata": {
    "id": "NMScMXtLBSYQ"
   },
   "source": [
    "<font size=2 color=Navy>Check for null and remove if there is any<font>"
   ]
  },
  {
   "cell_type": "code",
   "execution_count": null,
   "metadata": {
    "id": "mNcBWvLVBSYQ",
    "outputId": "5384da8f-75bc-4455-ba94-5b51650472e0",
    "scrolled": true
   },
   "outputs": [],
   "source": []
  },
  {
   "cell_type": "code",
   "execution_count": null,
   "metadata": {
    "id": "qSw1K89xBSYQ"
   },
   "outputs": [],
   "source": []
  },
  {
   "cell_type": "markdown",
   "metadata": {
    "id": "kf2jX9ypBSYQ"
   },
   "source": [
    "<font size=2 color=Navy>Check for non-numeric records and remove if there is any<font>"
   ]
  },
  {
   "cell_type": "code",
   "execution_count": null,
   "metadata": {
    "id": "73yH5OBnBSYQ"
   },
   "outputs": [],
   "source": []
  },
  {
   "cell_type": "code",
   "execution_count": null,
   "metadata": {
    "id": "dSkCnPMBBSYR",
    "outputId": "da7fb431-0bfd-45e2-9a78-fb2dc2b6fa72"
   },
   "outputs": [],
   "source": []
  },
  {
   "cell_type": "code",
   "execution_count": null,
   "metadata": {
    "id": "hm1aMHkgBSYR"
   },
   "outputs": [],
   "source": []
  },
  {
   "cell_type": "markdown",
   "metadata": {
    "id": "9CGpILUoBSYR"
   },
   "source": [
    "<font size=2 color=Navy>Compare with legitimate zipcodes and remove non-legitimates<font>"
   ]
  },
  {
   "cell_type": "code",
   "execution_count": null,
   "metadata": {
    "id": "AYTAfeluBSYS"
   },
   "outputs": [],
   "source": []
  },
  {
   "cell_type": "code",
   "execution_count": null,
   "metadata": {
    "id": "uo52jv6RBSYS"
   },
   "outputs": [],
   "source": [
    "df_laZipcode = pd.read_csv('ZIPCode.csv')"
   ]
  },
  {
   "cell_type": "code",
   "execution_count": null,
   "metadata": {
    "id": "xbHsHad-BSYS"
   },
   "outputs": [],
   "source": []
  },
  {
   "cell_type": "code",
   "execution_count": null,
   "metadata": {
    "id": "ajEoHgD7BSYV"
   },
   "outputs": [],
   "source": []
  },
  {
   "cell_type": "markdown",
   "metadata": {
    "id": "6iTDwc8_BSYV"
   },
   "source": [
    "<font size=5, color=green>Investigate on categorical fields<font>"
   ]
  },
  {
   "cell_type": "markdown",
   "metadata": {
    "id": "g-H5Fq91BSYW"
   },
   "source": [
    "<font size=3 color=gray>Select useful columns, explanation of each field is available here:<br>https://data.lacity.org/City-Infrastructure-Service-Requests/MyLA311-Service-Request-Data-2020/rq3b-xjk8<br> then investigate on each feature and fix if there is any issue<font>"
   ]
  },
  {
   "cell_type": "code",
   "execution_count": null,
   "metadata": {
    "id": "hjDYPDELBSYW"
   },
   "outputs": [],
   "source": [
    "col = ['actiontaken', 'owner', 'requesttype', 'status', 'requestsource', 'createdbyuserorganization', 'mobileos', \\\n",
    "      'anonymous', 'assignto', 'addressverified', 'approximateaddress', 'apc', 'cd', 'cdmember', 'nc', 'ncname', \\\n",
    "      'policeprecinct']"
   ]
  },
  {
   "cell_type": "code",
   "execution_count": null,
   "metadata": {
    "id": "BA_siPMYBSYW",
    "outputId": "91607e8e-af83-4dc6-a4bc-8ef87c546b56"
   },
   "outputs": [],
   "source": [
    "print('***actiontaken***')\n",
    "print('-----------------')\n",
    "print('Type is:')\n",
    "print(df311.actiontaken.dtypes)\n",
    "print('Null reacords:')\n",
    "print(df311.actiontaken.isnull().sum())\n",
    "print('Unique values:')\n",
    "print(df311.actiontaken.unique())"
   ]
  },
  {
   "cell_type": "code",
   "execution_count": null,
   "metadata": {
    "id": "HJBlzqEMBSYX",
    "outputId": "4f159e0b-6a44-48c7-afe2-e226c44b3f12"
   },
   "outputs": [],
   "source": []
  },
  {
   "cell_type": "code",
   "execution_count": null,
   "metadata": {
    "id": "vrqiSOJEBSYX",
    "outputId": "bc4c4127-4111-44cb-bd33-b1a04cbf636c"
   },
   "outputs": [],
   "source": []
  },
  {
   "cell_type": "code",
   "execution_count": null,
   "metadata": {
    "id": "cMVsURuhBSYX",
    "outputId": "3e718c67-67dd-48ca-b834-79e987d294a7"
   },
   "outputs": [],
   "source": []
  },
  {
   "cell_type": "code",
   "execution_count": null,
   "metadata": {
    "id": "NEmC7CAIBSYY",
    "outputId": "80cefa34-7b21-40c7-e8bb-408c1aadb159"
   },
   "outputs": [],
   "source": []
  },
  {
   "cell_type": "code",
   "execution_count": null,
   "metadata": {
    "id": "lY1-wJTmBSYY",
    "outputId": "8988487c-378a-4c74-f80f-189a0126ea39"
   },
   "outputs": [],
   "source": []
  },
  {
   "cell_type": "code",
   "execution_count": null,
   "metadata": {
    "id": "m1DzF3gvBSYZ",
    "outputId": "8a4299ef-4844-4e31-bbe3-1cbd66a0faba"
   },
   "outputs": [],
   "source": []
  },
  {
   "cell_type": "code",
   "execution_count": null,
   "metadata": {
    "id": "EE4I5yEoBSYZ",
    "outputId": "798712a5-11f8-4a3a-ed4a-d17bae0a54ac"
   },
   "outputs": [],
   "source": []
  },
  {
   "cell_type": "code",
   "execution_count": null,
   "metadata": {
    "id": "pywxO1U-BSYa",
    "outputId": "1b3d7a8d-0e7d-4c8e-f18e-430e42f24df1"
   },
   "outputs": [],
   "source": []
  },
  {
   "cell_type": "markdown",
   "metadata": {
    "id": "P8CZQZJIBSYa"
   },
   "source": [
    "<font size=2 color=Navy>Remove null records in this field<font>"
   ]
  },
  {
   "cell_type": "code",
   "execution_count": null,
   "metadata": {
    "id": "mFsmiANHBSYa"
   },
   "outputs": [],
   "source": [
    "df311 = df311[df311.assignto.notnull()]"
   ]
  },
  {
   "cell_type": "code",
   "execution_count": null,
   "metadata": {
    "id": "Yc1jEUpABSYa",
    "outputId": "df031e72-c7d7-4f62-e114-dad254afdcea"
   },
   "outputs": [],
   "source": [
    "print('***addressverified***')\n",
    "print('---------------------')\n",
    "print('Type is:')\n",
    "print(df311.addressverified.dtypes)\n",
    "print('Null reacords:')\n",
    "print(df311.addressverified.isnull().sum())\n",
    "print('Unique values:')\n",
    "print(df311.addressverified.unique())"
   ]
  },
  {
   "cell_type": "code",
   "execution_count": null,
   "metadata": {
    "id": "bsVwMGkvBSYa",
    "outputId": "f1c31349-3cb0-4f0c-a089-3b20baa9a09e"
   },
   "outputs": [],
   "source": []
  },
  {
   "cell_type": "markdown",
   "metadata": {
    "id": "0dZaSvdwBSYb"
   },
   "source": [
    "<font size=2 color=Navy>There won't be any report / dashboard based on this field, so we can keep it will all null values<font>"
   ]
  },
  {
   "cell_type": "code",
   "execution_count": null,
   "metadata": {
    "id": "Ri9kXPGHBSYb",
    "outputId": "a74abce3-1f6a-443a-f99b-8485a1937f06"
   },
   "outputs": [],
   "source": []
  },
  {
   "cell_type": "markdown",
   "metadata": {
    "id": "b3sATmsUBSYb"
   },
   "source": [
    "<font size=2 color=Navy>Remove null records in this field<font>"
   ]
  },
  {
   "cell_type": "code",
   "execution_count": null,
   "metadata": {
    "id": "IbzEsKt2BSYb"
   },
   "outputs": [],
   "source": []
  },
  {
   "cell_type": "code",
   "execution_count": null,
   "metadata": {
    "id": "KZHyVhfMBSYb",
    "outputId": "5f35ed11-b8fc-4af3-c89d-c4dd607e8370"
   },
   "outputs": [],
   "source": []
  },
  {
   "cell_type": "markdown",
   "metadata": {
    "id": "h9s5QyvYBSYb"
   },
   "source": [
    "<font size=2 color=Navy>Remove null records in this field and then change the type to int64<font>"
   ]
  },
  {
   "cell_type": "code",
   "execution_count": null,
   "metadata": {
    "id": "dNmb0YOWBSYb"
   },
   "outputs": [],
   "source": []
  },
  {
   "cell_type": "code",
   "execution_count": null,
   "metadata": {
    "id": "5loJSHY3BSYc",
    "outputId": "ecddb2fb-228d-4743-b083-934003b6a5bf"
   },
   "outputs": [],
   "source": []
  },
  {
   "cell_type": "markdown",
   "metadata": {
    "id": "YFz1xfb7BSYc"
   },
   "source": [
    "<font size=2 color=Navy>Remove null records in this field<font>"
   ]
  },
  {
   "cell_type": "code",
   "execution_count": null,
   "metadata": {
    "id": "x7vhmcKkBSYc"
   },
   "outputs": [],
   "source": []
  },
  {
   "cell_type": "code",
   "execution_count": null,
   "metadata": {
    "id": "DAAN6EEuBSYc",
    "outputId": "a4e2ded2-99d3-426e-b618-2e13b128e137"
   },
   "outputs": [],
   "source": []
  },
  {
   "cell_type": "code",
   "execution_count": null,
   "metadata": {
    "id": "vpyY8g5MBSYc",
    "outputId": "c3562c13-8591-49e2-8bdc-ae864446f7be"
   },
   "outputs": [],
   "source": []
  },
  {
   "cell_type": "code",
   "execution_count": null,
   "metadata": {
    "id": "sVi_3B7kBSYc",
    "outputId": "a897cb5c-e17d-4b85-9be0-271681909e77"
   },
   "outputs": [],
   "source": []
  },
  {
   "cell_type": "markdown",
   "metadata": {
    "id": "1km-MPbcBSYd"
   },
   "source": [
    "<font size=2 color=Navy>There are many records which has both nc and ncmember with null value, remove all of them<font>"
   ]
  },
  {
   "cell_type": "code",
   "execution_count": null,
   "metadata": {
    "id": "EOlHVGoVBSYd"
   },
   "outputs": [],
   "source": []
  },
  {
   "cell_type": "markdown",
   "metadata": {
    "id": "xxas_fipBSYd"
   },
   "source": [
    "<font size=2 color=Navy>Now cleaning up the ncname column<font>"
   ]
  },
  {
   "cell_type": "code",
   "execution_count": null,
   "metadata": {
    "id": "F5ZUMDkeBSYd",
    "outputId": "d10dd6ec-c497-4278-80f8-b4cd04c74695"
   },
   "outputs": [],
   "source": []
  },
  {
   "cell_type": "code",
   "execution_count": null,
   "metadata": {
    "id": "Mt4305PKBSYd",
    "outputId": "6069a46c-b8bd-4f96-a660-c3914185e1a2"
   },
   "outputs": [],
   "source": []
  },
  {
   "cell_type": "markdown",
   "metadata": {
    "id": "sTpqsTUXBSYd"
   },
   "source": [
    "<font size=5, color=green>Save the clean data set to a csv file<font>"
   ]
  },
  {
   "cell_type": "code",
   "execution_count": null,
   "metadata": {
    "id": "GdgLP7vHBSYd"
   },
   "outputs": [],
   "source": []
  },
  {
   "cell_type": "markdown",
   "metadata": {},
   "source": [
    "# Now that you have gotten a quick overview of this dataset, you can begin exploring it on your own!"
   ]
  },
  {
   "cell_type": "code",
   "execution_count": null,
   "metadata": {
    "id": "4oATCuZXBSYd"
   },
   "outputs": [],
   "source": [
    "print('Done!')"
   ]
  }
 ],
 "metadata": {
  "colab": {
   "name": "31_Data_Wrangling_tutorial.ipynb",
   "provenance": []
  },
  "kernelspec": {
   "display_name": "Python 3",
   "language": "python",
   "name": "python3"
  },
  "language_info": {
   "codemirror_mode": {
    "name": "ipython",
    "version": 3
   },
   "file_extension": ".py",
   "mimetype": "text/x-python",
   "name": "python",
   "nbconvert_exporter": "python",
   "pygments_lexer": "ipython3",
   "version": "3.8.8"
  }
 },
 "nbformat": 4,
 "nbformat_minor": 1
}
