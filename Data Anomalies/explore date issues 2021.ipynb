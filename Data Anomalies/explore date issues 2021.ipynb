{
 "cells": [
  {
   "cell_type": "code",
   "execution_count": 1,
   "id": "6f9bd80f",
   "metadata": {},
   "outputs": [],
   "source": [
    "import numpy as np\n",
    "import pandas as pd\n",
    "from datetime import datetime as dt"
   ]
  },
  {
   "cell_type": "code",
   "execution_count": 19,
   "id": "45ee01fa",
   "metadata": {},
   "outputs": [],
   "source": [
    "pd.options.display.max_columns = None"
   ]
  },
  {
   "cell_type": "code",
   "execution_count": 5,
   "id": "c3b18ec7",
   "metadata": {},
   "outputs": [],
   "source": [
    "\n",
    "df2021=pd.read_csv(r'C:\\Documents\\projects\\HackLA\\311\\data\\MyLA311_Service_Request_Data_2021.csv',\n",
    "                       low_memory=False)"
   ]
  },
  {
   "cell_type": "code",
   "execution_count": 6,
   "id": "11a8fc33",
   "metadata": {},
   "outputs": [
    {
     "data": {
      "text/html": [
       "<div>\n",
       "<style scoped>\n",
       "    .dataframe tbody tr th:only-of-type {\n",
       "        vertical-align: middle;\n",
       "    }\n",
       "\n",
       "    .dataframe tbody tr th {\n",
       "        vertical-align: top;\n",
       "    }\n",
       "\n",
       "    .dataframe thead th {\n",
       "        text-align: right;\n",
       "    }\n",
       "</style>\n",
       "<table border=\"1\" class=\"dataframe\">\n",
       "  <thead>\n",
       "    <tr style=\"text-align: right;\">\n",
       "      <th></th>\n",
       "      <th>SRNumber</th>\n",
       "      <th>CreatedDate</th>\n",
       "      <th>UpdatedDate</th>\n",
       "      <th>ActionTaken</th>\n",
       "      <th>Owner</th>\n",
       "      <th>RequestType</th>\n",
       "      <th>Status</th>\n",
       "      <th>RequestSource</th>\n",
       "      <th>MobileOS</th>\n",
       "      <th>Anonymous</th>\n",
       "      <th>...</th>\n",
       "      <th>Location</th>\n",
       "      <th>TBMPage</th>\n",
       "      <th>TBMColumn</th>\n",
       "      <th>TBMRow</th>\n",
       "      <th>APC</th>\n",
       "      <th>CD</th>\n",
       "      <th>CDMember</th>\n",
       "      <th>NC</th>\n",
       "      <th>NCName</th>\n",
       "      <th>PolicePrecinct</th>\n",
       "    </tr>\n",
       "  </thead>\n",
       "  <tbody>\n",
       "    <tr>\n",
       "      <th>0</th>\n",
       "      <td>1-1831742951</td>\n",
       "      <td>01/01/2021 12:06:16 AM</td>\n",
       "      <td>01/02/2021 02:23:21 PM</td>\n",
       "      <td>SR Created</td>\n",
       "      <td>LASAN</td>\n",
       "      <td>Metal/Household Appliances</td>\n",
       "      <td>Closed</td>\n",
       "      <td>Call</td>\n",
       "      <td>NaN</td>\n",
       "      <td>N</td>\n",
       "      <td>...</td>\n",
       "      <td>(34.2893893478, -118.46359286)</td>\n",
       "      <td>481.0</td>\n",
       "      <td>H</td>\n",
       "      <td>6.0</td>\n",
       "      <td>North Valley APC</td>\n",
       "      <td>7.0</td>\n",
       "      <td>Monica Rodriguez</td>\n",
       "      <td>5.0</td>\n",
       "      <td>Sylmar</td>\n",
       "      <td>MISSION</td>\n",
       "    </tr>\n",
       "    <tr>\n",
       "      <th>1</th>\n",
       "      <td>1-1831741721</td>\n",
       "      <td>01/01/2021 12:27:17 AM</td>\n",
       "      <td>01/03/2021 01:44:27 PM</td>\n",
       "      <td>SR Created</td>\n",
       "      <td>LASAN</td>\n",
       "      <td>Metal/Household Appliances</td>\n",
       "      <td>Closed</td>\n",
       "      <td>Call</td>\n",
       "      <td>NaN</td>\n",
       "      <td>N</td>\n",
       "      <td>...</td>\n",
       "      <td>(34.2140011149, -118.628669123)</td>\n",
       "      <td>529.0</td>\n",
       "      <td>G</td>\n",
       "      <td>3.0</td>\n",
       "      <td>South Valley APC</td>\n",
       "      <td>12.0</td>\n",
       "      <td>John Lee</td>\n",
       "      <td>11.0</td>\n",
       "      <td>West Hills</td>\n",
       "      <td>TOPANGA</td>\n",
       "    </tr>\n",
       "  </tbody>\n",
       "</table>\n",
       "<p>2 rows × 33 columns</p>\n",
       "</div>"
      ],
      "text/plain": [
       "       SRNumber             CreatedDate             UpdatedDate ActionTaken  \\\n",
       "0  1-1831742951  01/01/2021 12:06:16 AM  01/02/2021 02:23:21 PM  SR Created   \n",
       "1  1-1831741721  01/01/2021 12:27:17 AM  01/03/2021 01:44:27 PM  SR Created   \n",
       "\n",
       "   Owner                 RequestType  Status RequestSource MobileOS Anonymous  \\\n",
       "0  LASAN  Metal/Household Appliances  Closed          Call      NaN         N   \n",
       "1  LASAN  Metal/Household Appliances  Closed          Call      NaN         N   \n",
       "\n",
       "   ...                         Location TBMPage TBMColumn TBMRow  \\\n",
       "0  ...   (34.2893893478, -118.46359286)   481.0         H    6.0   \n",
       "1  ...  (34.2140011149, -118.628669123)   529.0         G    3.0   \n",
       "\n",
       "                APC    CD          CDMember    NC      NCName PolicePrecinct  \n",
       "0  North Valley APC   7.0  Monica Rodriguez   5.0      Sylmar        MISSION  \n",
       "1  South Valley APC  12.0          John Lee  11.0  West Hills        TOPANGA  \n",
       "\n",
       "[2 rows x 33 columns]"
      ]
     },
     "execution_count": 6,
     "metadata": {},
     "output_type": "execute_result"
    }
   ],
   "source": [
    "df2021.head(2)"
   ]
  },
  {
   "cell_type": "code",
   "execution_count": 9,
   "id": "cf13374f",
   "metadata": {},
   "outputs": [],
   "source": [
    "df2021['CreatedDate'] = pd.to_datetime(df2021['CreatedDate'])"
   ]
  },
  {
   "cell_type": "code",
   "execution_count": 10,
   "id": "bf5ccd91",
   "metadata": {},
   "outputs": [
    {
     "data": {
      "text/plain": [
       "Timestamp('2021-01-01 00:06:16')"
      ]
     },
     "execution_count": 10,
     "metadata": {},
     "output_type": "execute_result"
    }
   ],
   "source": [
    "df2021['CreatedDate'].min()"
   ]
  },
  {
   "cell_type": "code",
   "execution_count": 11,
   "id": "18dbd19a",
   "metadata": {},
   "outputs": [
    {
     "data": {
      "text/plain": [
       "Timestamp('2021-12-31 23:55:49')"
      ]
     },
     "execution_count": 11,
     "metadata": {},
     "output_type": "execute_result"
    }
   ],
   "source": [
    "df2021['CreatedDate'].max()"
   ]
  },
  {
   "cell_type": "code",
   "execution_count": 12,
   "id": "77eca491",
   "metadata": {},
   "outputs": [],
   "source": [
    "df2021['UpdatedDate'] = pd.to_datetime(df2021['UpdatedDate'])"
   ]
  },
  {
   "cell_type": "code",
   "execution_count": 14,
   "id": "8787b0d8",
   "metadata": {},
   "outputs": [
    {
     "data": {
      "text/plain": [
       "Timestamp('2021-01-01 08:54:07')"
      ]
     },
     "execution_count": 14,
     "metadata": {},
     "output_type": "execute_result"
    }
   ],
   "source": [
    "df2021['UpdatedDate'].min()"
   ]
  },
  {
   "cell_type": "code",
   "execution_count": 15,
   "id": "03fb8a31",
   "metadata": {},
   "outputs": [
    {
     "data": {
      "text/plain": [
       "Timestamp('2022-08-02 15:28:28')"
      ]
     },
     "execution_count": 15,
     "metadata": {},
     "output_type": "execute_result"
    }
   ],
   "source": [
    "df2021['UpdatedDate'].max()"
   ]
  },
  {
   "cell_type": "code",
   "execution_count": 16,
   "id": "56d260c5",
   "metadata": {},
   "outputs": [],
   "source": [
    "df2021['ServiceDate'] = pd.to_datetime(df2021['ServiceDate'])"
   ]
  },
  {
   "cell_type": "code",
   "execution_count": 17,
   "id": "40ec8e3d",
   "metadata": {},
   "outputs": [
    {
     "data": {
      "text/plain": [
       "Timestamp('2012-12-07 00:00:00')"
      ]
     },
     "execution_count": 17,
     "metadata": {},
     "output_type": "execute_result"
    }
   ],
   "source": [
    "df2021['ServiceDate'].min()"
   ]
  },
  {
   "cell_type": "code",
   "execution_count": 20,
   "id": "c9869f2c",
   "metadata": {},
   "outputs": [
    {
     "data": {
      "text/html": [
       "<div>\n",
       "<style scoped>\n",
       "    .dataframe tbody tr th:only-of-type {\n",
       "        vertical-align: middle;\n",
       "    }\n",
       "\n",
       "    .dataframe tbody tr th {\n",
       "        vertical-align: top;\n",
       "    }\n",
       "\n",
       "    .dataframe thead th {\n",
       "        text-align: right;\n",
       "    }\n",
       "</style>\n",
       "<table border=\"1\" class=\"dataframe\">\n",
       "  <thead>\n",
       "    <tr style=\"text-align: right;\">\n",
       "      <th></th>\n",
       "      <th>SRNumber</th>\n",
       "      <th>CreatedDate</th>\n",
       "      <th>UpdatedDate</th>\n",
       "      <th>ActionTaken</th>\n",
       "      <th>Owner</th>\n",
       "      <th>RequestType</th>\n",
       "      <th>Status</th>\n",
       "      <th>RequestSource</th>\n",
       "      <th>MobileOS</th>\n",
       "      <th>Anonymous</th>\n",
       "      <th>AssignTo</th>\n",
       "      <th>ServiceDate</th>\n",
       "      <th>ClosedDate</th>\n",
       "      <th>AddressVerified</th>\n",
       "      <th>ApproximateAddress</th>\n",
       "      <th>Address</th>\n",
       "      <th>HouseNumber</th>\n",
       "      <th>Direction</th>\n",
       "      <th>StreetName</th>\n",
       "      <th>Suffix</th>\n",
       "      <th>ZipCode</th>\n",
       "      <th>Latitude</th>\n",
       "      <th>Longitude</th>\n",
       "      <th>Location</th>\n",
       "      <th>TBMPage</th>\n",
       "      <th>TBMColumn</th>\n",
       "      <th>TBMRow</th>\n",
       "      <th>APC</th>\n",
       "      <th>CD</th>\n",
       "      <th>CDMember</th>\n",
       "      <th>NC</th>\n",
       "      <th>NCName</th>\n",
       "      <th>PolicePrecinct</th>\n",
       "    </tr>\n",
       "  </thead>\n",
       "  <tbody>\n",
       "    <tr>\n",
       "      <th>1135932</th>\n",
       "      <td>1-2079895541</td>\n",
       "      <td>2021-10-01 11:56:29</td>\n",
       "      <td>2021-12-08 11:42:59</td>\n",
       "      <td>SR Created</td>\n",
       "      <td>BSL</td>\n",
       "      <td>Single Streetlight Issue</td>\n",
       "      <td>Closed</td>\n",
       "      <td>Call</td>\n",
       "      <td>NaN</td>\n",
       "      <td>Y</td>\n",
       "      <td>SOUTH</td>\n",
       "      <td>2012-12-07</td>\n",
       "      <td>12/07/2012 12:00:00 AM</td>\n",
       "      <td>Y</td>\n",
       "      <td>Y</td>\n",
       "      <td>7013 S AVALON BLVD, 90003</td>\n",
       "      <td>7013.0</td>\n",
       "      <td>S</td>\n",
       "      <td>AVALON</td>\n",
       "      <td>BLVD</td>\n",
       "      <td>90003</td>\n",
       "      <td>33.975739</td>\n",
       "      <td>-118.265288</td>\n",
       "      <td>(33.97573891, -118.26528762)</td>\n",
       "      <td>674.0</td>\n",
       "      <td>D</td>\n",
       "      <td>7.0</td>\n",
       "      <td>South Los Angeles APC</td>\n",
       "      <td>9.0</td>\n",
       "      <td>Curren D. Price Jr.</td>\n",
       "      <td>86.0</td>\n",
       "      <td>CANNDU</td>\n",
       "      <td>NEWTON</td>\n",
       "    </tr>\n",
       "  </tbody>\n",
       "</table>\n",
       "</div>"
      ],
      "text/plain": [
       "             SRNumber         CreatedDate         UpdatedDate ActionTaken  \\\n",
       "1135932  1-2079895541 2021-10-01 11:56:29 2021-12-08 11:42:59  SR Created   \n",
       "\n",
       "        Owner               RequestType  Status RequestSource MobileOS  \\\n",
       "1135932   BSL  Single Streetlight Issue  Closed          Call      NaN   \n",
       "\n",
       "        Anonymous AssignTo ServiceDate              ClosedDate  \\\n",
       "1135932         Y    SOUTH  2012-12-07  12/07/2012 12:00:00 AM   \n",
       "\n",
       "        AddressVerified ApproximateAddress                    Address  \\\n",
       "1135932               Y                  Y  7013 S AVALON BLVD, 90003   \n",
       "\n",
       "         HouseNumber Direction StreetName Suffix ZipCode   Latitude  \\\n",
       "1135932       7013.0         S     AVALON   BLVD   90003  33.975739   \n",
       "\n",
       "          Longitude                      Location  TBMPage TBMColumn  TBMRow  \\\n",
       "1135932 -118.265288  (33.97573891, -118.26528762)    674.0         D     7.0   \n",
       "\n",
       "                           APC   CD             CDMember    NC  NCName  \\\n",
       "1135932  South Los Angeles APC  9.0  Curren D. Price Jr.  86.0  CANNDU   \n",
       "\n",
       "        PolicePrecinct  \n",
       "1135932         NEWTON  "
      ]
     },
     "execution_count": 20,
     "metadata": {},
     "output_type": "execute_result"
    }
   ],
   "source": [
    "df2021[df2021['ServiceDate'] < '2018']"
   ]
  },
  {
   "cell_type": "code",
   "execution_count": 22,
   "id": "1e7c9e1e",
   "metadata": {},
   "outputs": [
    {
     "data": {
      "text/plain": [
       "(1451552, 33)"
      ]
     },
     "execution_count": 22,
     "metadata": {},
     "output_type": "execute_result"
    }
   ],
   "source": [
    "df2021.shape"
   ]
  },
  {
   "cell_type": "code",
   "execution_count": 23,
   "id": "0ac48fc7",
   "metadata": {},
   "outputs": [],
   "source": [
    "df2021.drop(df2021.loc[df2021['ServiceDate']<'2018'].index, inplace=True)"
   ]
  },
  {
   "cell_type": "code",
   "execution_count": 24,
   "id": "1ceee675",
   "metadata": {},
   "outputs": [
    {
     "data": {
      "text/plain": [
       "(1451551, 33)"
      ]
     },
     "execution_count": 24,
     "metadata": {},
     "output_type": "execute_result"
    }
   ],
   "source": [
    "df2021.shape"
   ]
  },
  {
   "cell_type": "code",
   "execution_count": 25,
   "id": "e6550dbb",
   "metadata": {},
   "outputs": [],
   "source": [
    "df2021['ClosedDate'] = pd.to_datetime(df2021['ClosedDate'])"
   ]
  },
  {
   "cell_type": "code",
   "execution_count": 26,
   "id": "80f1f0bf",
   "metadata": {},
   "outputs": [
    {
     "data": {
      "text/plain": [
       "Timestamp('2019-11-01 00:00:00')"
      ]
     },
     "execution_count": 26,
     "metadata": {},
     "output_type": "execute_result"
    }
   ],
   "source": [
    "df2021['ClosedDate'].min()"
   ]
  },
  {
   "cell_type": "code",
   "execution_count": 27,
   "id": "9de9a1a0",
   "metadata": {},
   "outputs": [
    {
     "data": {
      "text/plain": [
       "Timestamp('2027-07-27 00:00:00')"
      ]
     },
     "execution_count": 27,
     "metadata": {},
     "output_type": "execute_result"
    }
   ],
   "source": [
    "df2021['ClosedDate'].max()"
   ]
  },
  {
   "cell_type": "markdown",
   "id": "ff59afd0",
   "metadata": {},
   "source": [
    "#### min 2019 and max 2027??"
   ]
  },
  {
   "cell_type": "markdown",
   "id": "ef678abd",
   "metadata": {},
   "source": [
    "take out hours, min, sec from all dates"
   ]
  },
  {
   "cell_type": "code",
   "execution_count": 28,
   "id": "b709aa6f",
   "metadata": {},
   "outputs": [],
   "source": [
    "df2021['ServiceDate'] = pd.to_datetime(df2021['ServiceDate']).dt.normalize()"
   ]
  },
  {
   "cell_type": "code",
   "execution_count": 29,
   "id": "eddbfcc3",
   "metadata": {},
   "outputs": [],
   "source": [
    "df2021['ClosedDate'] = pd.to_datetime(df2021['ClosedDate']).dt.normalize()"
   ]
  },
  {
   "cell_type": "code",
   "execution_count": 30,
   "id": "7aeea103",
   "metadata": {},
   "outputs": [],
   "source": [
    "df2021['CreatedDate'] = pd.to_datetime(df2021['CreatedDate']).dt.normalize()"
   ]
  },
  {
   "cell_type": "code",
   "execution_count": 31,
   "id": "87f1d54f",
   "metadata": {},
   "outputs": [],
   "source": [
    "df2021['UpdatedDate'] = pd.to_datetime(df2021['UpdatedDate']).dt.normalize()"
   ]
  },
  {
   "cell_type": "code",
   "execution_count": 32,
   "id": "9ee3bda3",
   "metadata": {},
   "outputs": [
    {
     "data": {
      "text/html": [
       "<div>\n",
       "<style scoped>\n",
       "    .dataframe tbody tr th:only-of-type {\n",
       "        vertical-align: middle;\n",
       "    }\n",
       "\n",
       "    .dataframe tbody tr th {\n",
       "        vertical-align: top;\n",
       "    }\n",
       "\n",
       "    .dataframe thead th {\n",
       "        text-align: right;\n",
       "    }\n",
       "</style>\n",
       "<table border=\"1\" class=\"dataframe\">\n",
       "  <thead>\n",
       "    <tr style=\"text-align: right;\">\n",
       "      <th></th>\n",
       "      <th>SRNumber</th>\n",
       "      <th>CreatedDate</th>\n",
       "      <th>UpdatedDate</th>\n",
       "      <th>ActionTaken</th>\n",
       "      <th>Owner</th>\n",
       "      <th>RequestType</th>\n",
       "      <th>Status</th>\n",
       "      <th>RequestSource</th>\n",
       "      <th>MobileOS</th>\n",
       "      <th>Anonymous</th>\n",
       "      <th>AssignTo</th>\n",
       "      <th>ServiceDate</th>\n",
       "      <th>ClosedDate</th>\n",
       "      <th>AddressVerified</th>\n",
       "      <th>ApproximateAddress</th>\n",
       "      <th>Address</th>\n",
       "      <th>HouseNumber</th>\n",
       "      <th>Direction</th>\n",
       "      <th>StreetName</th>\n",
       "      <th>Suffix</th>\n",
       "      <th>ZipCode</th>\n",
       "      <th>Latitude</th>\n",
       "      <th>Longitude</th>\n",
       "      <th>Location</th>\n",
       "      <th>TBMPage</th>\n",
       "      <th>TBMColumn</th>\n",
       "      <th>TBMRow</th>\n",
       "      <th>APC</th>\n",
       "      <th>CD</th>\n",
       "      <th>CDMember</th>\n",
       "      <th>NC</th>\n",
       "      <th>NCName</th>\n",
       "      <th>PolicePrecinct</th>\n",
       "    </tr>\n",
       "  </thead>\n",
       "  <tbody>\n",
       "    <tr>\n",
       "      <th>0</th>\n",
       "      <td>1-1831742951</td>\n",
       "      <td>2021-01-01</td>\n",
       "      <td>2021-01-02</td>\n",
       "      <td>SR Created</td>\n",
       "      <td>LASAN</td>\n",
       "      <td>Metal/Household Appliances</td>\n",
       "      <td>Closed</td>\n",
       "      <td>Call</td>\n",
       "      <td>NaN</td>\n",
       "      <td>N</td>\n",
       "      <td>EV</td>\n",
       "      <td>2021-01-02</td>\n",
       "      <td>2021-01-02</td>\n",
       "      <td>Y</td>\n",
       "      <td>N</td>\n",
       "      <td>15251 W CAREY RANCH LANE, 91342</td>\n",
       "      <td>15251.0</td>\n",
       "      <td>W</td>\n",
       "      <td>CAREY RANCH</td>\n",
       "      <td>LANE</td>\n",
       "      <td>91342</td>\n",
       "      <td>34.289389</td>\n",
       "      <td>-118.463593</td>\n",
       "      <td>(34.2893893478, -118.46359286)</td>\n",
       "      <td>481.0</td>\n",
       "      <td>H</td>\n",
       "      <td>6.0</td>\n",
       "      <td>North Valley APC</td>\n",
       "      <td>7.0</td>\n",
       "      <td>Monica Rodriguez</td>\n",
       "      <td>5.0</td>\n",
       "      <td>Sylmar</td>\n",
       "      <td>MISSION</td>\n",
       "    </tr>\n",
       "    <tr>\n",
       "      <th>1</th>\n",
       "      <td>1-1831741721</td>\n",
       "      <td>2021-01-01</td>\n",
       "      <td>2021-01-03</td>\n",
       "      <td>SR Created</td>\n",
       "      <td>LASAN</td>\n",
       "      <td>Metal/Household Appliances</td>\n",
       "      <td>Closed</td>\n",
       "      <td>Call</td>\n",
       "      <td>NaN</td>\n",
       "      <td>N</td>\n",
       "      <td>WV</td>\n",
       "      <td>2021-01-02</td>\n",
       "      <td>2021-01-03</td>\n",
       "      <td>Y</td>\n",
       "      <td>N</td>\n",
       "      <td>23022 W BLYTHE ST, 91304</td>\n",
       "      <td>23022.0</td>\n",
       "      <td>W</td>\n",
       "      <td>BLYTHE</td>\n",
       "      <td>ST</td>\n",
       "      <td>91304</td>\n",
       "      <td>34.214001</td>\n",
       "      <td>-118.628669</td>\n",
       "      <td>(34.2140011149, -118.628669123)</td>\n",
       "      <td>529.0</td>\n",
       "      <td>G</td>\n",
       "      <td>3.0</td>\n",
       "      <td>South Valley APC</td>\n",
       "      <td>12.0</td>\n",
       "      <td>John Lee</td>\n",
       "      <td>11.0</td>\n",
       "      <td>West Hills</td>\n",
       "      <td>TOPANGA</td>\n",
       "    </tr>\n",
       "  </tbody>\n",
       "</table>\n",
       "</div>"
      ],
      "text/plain": [
       "       SRNumber CreatedDate UpdatedDate ActionTaken  Owner  \\\n",
       "0  1-1831742951  2021-01-01  2021-01-02  SR Created  LASAN   \n",
       "1  1-1831741721  2021-01-01  2021-01-03  SR Created  LASAN   \n",
       "\n",
       "                  RequestType  Status RequestSource MobileOS Anonymous  \\\n",
       "0  Metal/Household Appliances  Closed          Call      NaN         N   \n",
       "1  Metal/Household Appliances  Closed          Call      NaN         N   \n",
       "\n",
       "  AssignTo ServiceDate ClosedDate AddressVerified ApproximateAddress  \\\n",
       "0       EV  2021-01-02 2021-01-02               Y                  N   \n",
       "1       WV  2021-01-02 2021-01-03               Y                  N   \n",
       "\n",
       "                           Address  HouseNumber Direction   StreetName Suffix  \\\n",
       "0  15251 W CAREY RANCH LANE, 91342      15251.0         W  CAREY RANCH   LANE   \n",
       "1         23022 W BLYTHE ST, 91304      23022.0         W       BLYTHE     ST   \n",
       "\n",
       "  ZipCode   Latitude   Longitude                         Location  TBMPage  \\\n",
       "0   91342  34.289389 -118.463593   (34.2893893478, -118.46359286)    481.0   \n",
       "1   91304  34.214001 -118.628669  (34.2140011149, -118.628669123)    529.0   \n",
       "\n",
       "  TBMColumn  TBMRow               APC    CD          CDMember    NC  \\\n",
       "0         H     6.0  North Valley APC   7.0  Monica Rodriguez   5.0   \n",
       "1         G     3.0  South Valley APC  12.0          John Lee  11.0   \n",
       "\n",
       "       NCName PolicePrecinct  \n",
       "0      Sylmar        MISSION  \n",
       "1  West Hills        TOPANGA  "
      ]
     },
     "execution_count": 32,
     "metadata": {},
     "output_type": "execute_result"
    }
   ],
   "source": [
    "df2021.head(2)"
   ]
  },
  {
   "cell_type": "code",
   "execution_count": 33,
   "id": "d68fffcb",
   "metadata": {},
   "outputs": [],
   "source": [
    "#Create dataframe where Servicedate before CreatedDate\n",
    "dsc = df2021[df2021['ServiceDate'] < df2021['CreatedDate']]"
   ]
  },
  {
   "cell_type": "code",
   "execution_count": 34,
   "id": "0afc695b",
   "metadata": {},
   "outputs": [
    {
     "data": {
      "text/plain": [
       "(156765, 33)"
      ]
     },
     "execution_count": 34,
     "metadata": {},
     "output_type": "execute_result"
    }
   ],
   "source": [
    "dsc.shape"
   ]
  },
  {
   "cell_type": "markdown",
   "id": "ab5bcc3f",
   "metadata": {},
   "source": [
    "156,765!"
   ]
  },
  {
   "cell_type": "code",
   "execution_count": 35,
   "id": "805593fa",
   "metadata": {},
   "outputs": [],
   "source": [
    "df2021.to_csv(r'C:\\Documents\\projects\\HackLA\\311\\data\\MyLA311_Service_Request_Data_2021dt.csv')"
   ]
  },
  {
   "cell_type": "code",
   "execution_count": null,
   "id": "234ea8be",
   "metadata": {},
   "outputs": [],
   "source": []
  }
 ],
 "metadata": {
  "kernelspec": {
   "display_name": "Python [conda env:geo_env] *",
   "language": "python",
   "name": "conda-env-geo_env-py"
  },
  "language_info": {
   "codemirror_mode": {
    "name": "ipython",
    "version": 3
   },
   "file_extension": ".py",
   "mimetype": "text/x-python",
   "name": "python",
   "nbconvert_exporter": "python",
   "pygments_lexer": "ipython3",
   "version": "3.9.5"
  }
 },
 "nbformat": 4,
 "nbformat_minor": 5
}
