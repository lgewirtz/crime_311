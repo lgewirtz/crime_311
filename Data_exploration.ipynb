{
 "cells": [
  {
   "cell_type": "code",
   "execution_count": 1,
   "id": "2ff94751",
   "metadata": {},
   "outputs": [],
   "source": [
    "# Import libaries\n",
    "\n",
    "import pandas as pd\n",
    "import numpy as np\n",
    "import os\n",
    "import gc\n",
    "import seaborn as sns\n",
    "import matplotlib.mlab as mlab\n",
    "import matplotlib.pyplot as plt\n",
    "import warnings\n",
    "warnings.filterwarnings('ignore')"
   ]
  },
  {
   "cell_type": "code",
   "execution_count": 2,
   "id": "5175c5e6",
   "metadata": {},
   "outputs": [],
   "source": [
    "#Load the 2018 data\n",
    "df2018=pd.read_csv(r'C:\\Documents\\projects\\HackLA\\311\\data\\MyLA311_Service_Request_Data_2018.csv')"
   ]
  },
  {
   "cell_type": "code",
   "execution_count": 3,
   "id": "98f27a12",
   "metadata": {},
   "outputs": [
    {
     "data": {
      "text/plain": [
       "(1210075, 33)"
      ]
     },
     "execution_count": 3,
     "metadata": {},
     "output_type": "execute_result"
    }
   ],
   "source": [
    "df2018.shape"
   ]
  },
  {
   "cell_type": "code",
   "execution_count": 4,
   "id": "8c0744a0",
   "metadata": {},
   "outputs": [],
   "source": [
    "#Load the 2019 data\n",
    "df2019=pd.read_csv(r'C:\\Documents\\projects\\HackLA\\311\\data\\MyLA311_Service_Request_Data_2019.csv')"
   ]
  },
  {
   "cell_type": "code",
   "execution_count": 5,
   "id": "4d960996",
   "metadata": {},
   "outputs": [
    {
     "data": {
      "text/plain": [
       "(1308093, 34)"
      ]
     },
     "execution_count": 5,
     "metadata": {},
     "output_type": "execute_result"
    }
   ],
   "source": [
    "df2019.shape"
   ]
  },
  {
   "cell_type": "code",
   "execution_count": 6,
   "id": "ae9608a4",
   "metadata": {},
   "outputs": [],
   "source": [
    "#Load the 2020 data\n",
    "df2020=pd.read_csv(r'C:\\Documents\\projects\\HackLA\\311\\data\\MyLA311_Service_Request_Data_2020.csv')"
   ]
  },
  {
   "cell_type": "code",
   "execution_count": 7,
   "id": "8f1ce6bf",
   "metadata": {},
   "outputs": [
    {
     "data": {
      "text/plain": [
       "(1491773, 34)"
      ]
     },
     "execution_count": 7,
     "metadata": {},
     "output_type": "execute_result"
    }
   ],
   "source": [
    "df2020.shape"
   ]
  },
  {
   "cell_type": "code",
   "execution_count": 8,
   "id": "4215b3a9",
   "metadata": {},
   "outputs": [],
   "source": [
    "#Load the 2021 data\n",
    "df2021=pd.read_csv(r'C:\\Documents\\projects\\HackLA\\311\\data\\MyLA311_Service_Request_Data_2021.csv')"
   ]
  },
  {
   "cell_type": "code",
   "execution_count": 9,
   "id": "66fe18df",
   "metadata": {},
   "outputs": [
    {
     "data": {
      "text/plain": [
       "(1451552, 33)"
      ]
     },
     "execution_count": 9,
     "metadata": {},
     "output_type": "execute_result"
    }
   ],
   "source": [
    "df2021.shape"
   ]
  },
  {
   "cell_type": "code",
   "execution_count": 10,
   "id": "63b0f36e",
   "metadata": {},
   "outputs": [],
   "source": [
    "#Load the 2022 data\n",
    "df2022=pd.read_csv(r'C:\\Documents\\projects\\HackLA\\311\\data\\MyLA311_Service_Request_Data_2022.csv')"
   ]
  },
  {
   "cell_type": "code",
   "execution_count": 11,
   "id": "a136db21",
   "metadata": {},
   "outputs": [
    {
     "data": {
      "text/plain": [
       "(790387, 34)"
      ]
     },
     "execution_count": 11,
     "metadata": {},
     "output_type": "execute_result"
    }
   ],
   "source": [
    "df2022.shape"
   ]
  },
  {
   "cell_type": "markdown",
   "id": "e9452ab4",
   "metadata": {},
   "source": [
    "#### datasets for 2019, 2020 & 2022 has 34 columns; years 2018, 2021 has 33 columns"
   ]
  },
  {
   "cell_type": "code",
   "execution_count": 14,
   "id": "16176d19",
   "metadata": {},
   "outputs": [
    {
     "name": "stdout",
     "output_type": "stream",
     "text": [
      "Index(['CreatedByUserOrganization'], dtype='object')\n"
     ]
    }
   ],
   "source": [
    "#find different columns\n",
    "print(df2019.columns.difference(df2018.columns))"
   ]
  },
  {
   "cell_type": "code",
   "execution_count": 15,
   "id": "648b2810",
   "metadata": {},
   "outputs": [
    {
     "name": "stdout",
     "output_type": "stream",
     "text": [
      "Index(['CreatedByUserOrganization'], dtype='object')\n"
     ]
    }
   ],
   "source": [
    "#find different columns\n",
    "print(df2020.columns.difference(df2018.columns))"
   ]
  },
  {
   "cell_type": "code",
   "execution_count": 16,
   "id": "cffaa3a6",
   "metadata": {},
   "outputs": [
    {
     "name": "stdout",
     "output_type": "stream",
     "text": [
      "Index(['CreatedByUserOrganization'], dtype='object')\n"
     ]
    }
   ],
   "source": [
    "#find different columns\n",
    "print(df2022.columns.difference(df2018.columns))"
   ]
  },
  {
   "cell_type": "code",
   "execution_count": 17,
   "id": "1c3ad1f7",
   "metadata": {},
   "outputs": [
    {
     "name": "stdout",
     "output_type": "stream",
     "text": [
      "Index(['CreatedByUserOrganization'], dtype='object')\n"
     ]
    }
   ],
   "source": [
    "#find different columns\n",
    "print(df2022.columns.difference(df2021.columns))"
   ]
  },
  {
   "cell_type": "markdown",
   "id": "66f31964",
   "metadata": {},
   "source": [
    "#### years 2019, 2020, 2022 have a column 'CreatedByUserOrganization' that is not in years 2018, 2021"
   ]
  },
  {
   "cell_type": "code",
   "execution_count": 20,
   "id": "534e6c17",
   "metadata": {},
   "outputs": [],
   "source": [
    "pd.options.display.max_columns=None"
   ]
  },
  {
   "cell_type": "code",
   "execution_count": 21,
   "id": "79e85a51",
   "metadata": {},
   "outputs": [
    {
     "data": {
      "text/html": [
       "<div>\n",
       "<style scoped>\n",
       "    .dataframe tbody tr th:only-of-type {\n",
       "        vertical-align: middle;\n",
       "    }\n",
       "\n",
       "    .dataframe tbody tr th {\n",
       "        vertical-align: top;\n",
       "    }\n",
       "\n",
       "    .dataframe thead th {\n",
       "        text-align: right;\n",
       "    }\n",
       "</style>\n",
       "<table border=\"1\" class=\"dataframe\">\n",
       "  <thead>\n",
       "    <tr style=\"text-align: right;\">\n",
       "      <th></th>\n",
       "      <th>SRNumber</th>\n",
       "      <th>CreatedDate</th>\n",
       "      <th>UpdatedDate</th>\n",
       "      <th>ActionTaken</th>\n",
       "      <th>Owner</th>\n",
       "      <th>RequestType</th>\n",
       "      <th>Status</th>\n",
       "      <th>RequestSource</th>\n",
       "      <th>CreatedByUserOrganization</th>\n",
       "      <th>MobileOS</th>\n",
       "      <th>Anonymous</th>\n",
       "      <th>AssignTo</th>\n",
       "      <th>ServiceDate</th>\n",
       "      <th>ClosedDate</th>\n",
       "      <th>AddressVerified</th>\n",
       "      <th>ApproximateAddress</th>\n",
       "      <th>Address</th>\n",
       "      <th>HouseNumber</th>\n",
       "      <th>Direction</th>\n",
       "      <th>StreetName</th>\n",
       "      <th>Suffix</th>\n",
       "      <th>ZipCode</th>\n",
       "      <th>Latitude</th>\n",
       "      <th>Longitude</th>\n",
       "      <th>Location</th>\n",
       "      <th>TBMPage</th>\n",
       "      <th>TBMColumn</th>\n",
       "      <th>TBMRow</th>\n",
       "      <th>APC</th>\n",
       "      <th>CD</th>\n",
       "      <th>CDMember</th>\n",
       "      <th>NC</th>\n",
       "      <th>NCName</th>\n",
       "      <th>PolicePrecinct</th>\n",
       "    </tr>\n",
       "  </thead>\n",
       "  <tbody>\n",
       "    <tr>\n",
       "      <th>0</th>\n",
       "      <td>1-1523593381</td>\n",
       "      <td>01/01/2020 12:02:00 AM</td>\n",
       "      <td>01/07/2020 12:19:00 PM</td>\n",
       "      <td>SR Created</td>\n",
       "      <td>BOS</td>\n",
       "      <td>Illegal Dumping Pickup</td>\n",
       "      <td>Closed</td>\n",
       "      <td>Call</td>\n",
       "      <td>BOS</td>\n",
       "      <td>NaN</td>\n",
       "      <td>N</td>\n",
       "      <td>SLA</td>\n",
       "      <td>01/07/2020 12:00:00 AM</td>\n",
       "      <td>01/07/2020 10:49:00 AM</td>\n",
       "      <td>Y</td>\n",
       "      <td>N</td>\n",
       "      <td>1500 W SLAUSON AVE, 90047</td>\n",
       "      <td>1500.0</td>\n",
       "      <td>W</td>\n",
       "      <td>SLAUSON</td>\n",
       "      <td>AVE</td>\n",
       "      <td>90047.0</td>\n",
       "      <td>33.988984</td>\n",
       "      <td>-118.302681</td>\n",
       "      <td>(33.988984265, -118.302681205)</td>\n",
       "      <td>673.0</td>\n",
       "      <td>J</td>\n",
       "      <td>5.0</td>\n",
       "      <td>South Los Angeles APC</td>\n",
       "      <td>8.0</td>\n",
       "      <td>Marqueece Harris-Dawson</td>\n",
       "      <td>81.0</td>\n",
       "      <td>EMPOWERMENT CONGRESS CENTRAL AREA NDC</td>\n",
       "      <td>77TH STREET</td>\n",
       "    </tr>\n",
       "    <tr>\n",
       "      <th>1</th>\n",
       "      <td>1-1523590121</td>\n",
       "      <td>01/01/2020 12:05:00 AM</td>\n",
       "      <td>01/02/2020 08:43:00 AM</td>\n",
       "      <td>SR Created</td>\n",
       "      <td>BOS</td>\n",
       "      <td>Illegal Dumping Pickup</td>\n",
       "      <td>Closed</td>\n",
       "      <td>Call</td>\n",
       "      <td>BOS</td>\n",
       "      <td>NaN</td>\n",
       "      <td>N</td>\n",
       "      <td>WV</td>\n",
       "      <td>01/02/2020 12:00:00 AM</td>\n",
       "      <td>01/02/2020 08:43:00 AM</td>\n",
       "      <td>Y</td>\n",
       "      <td>N</td>\n",
       "      <td>16815 W VANOWEN ST, 91406</td>\n",
       "      <td>16815.0</td>\n",
       "      <td>W</td>\n",
       "      <td>VANOWEN</td>\n",
       "      <td>ST</td>\n",
       "      <td>91406.0</td>\n",
       "      <td>34.194028</td>\n",
       "      <td>-118.499472</td>\n",
       "      <td>(34.1940284578, -118.499471638)</td>\n",
       "      <td>531.0</td>\n",
       "      <td>D</td>\n",
       "      <td>6.0</td>\n",
       "      <td>South Valley APC</td>\n",
       "      <td>6.0</td>\n",
       "      <td>Nury Martinez</td>\n",
       "      <td>19.0</td>\n",
       "      <td>LAKE BALBOA NC</td>\n",
       "      <td>WEST VALLEY</td>\n",
       "    </tr>\n",
       "    <tr>\n",
       "      <th>2</th>\n",
       "      <td>1-1523596201</td>\n",
       "      <td>01/01/2020 12:16:00 AM</td>\n",
       "      <td>01/02/2020 03:13:00 PM</td>\n",
       "      <td>SR Created</td>\n",
       "      <td>OCB</td>\n",
       "      <td>Graffiti Removal</td>\n",
       "      <td>Closed</td>\n",
       "      <td>Mobile App</td>\n",
       "      <td>Self Service</td>\n",
       "      <td>Android</td>\n",
       "      <td>N</td>\n",
       "      <td>LACC</td>\n",
       "      <td>01/02/2020 12:00:00 AM</td>\n",
       "      <td>01/02/2020 03:13:00 PM</td>\n",
       "      <td>Y</td>\n",
       "      <td>N</td>\n",
       "      <td>1848 W BROWNING BLVD, 90062</td>\n",
       "      <td>1848.0</td>\n",
       "      <td>W</td>\n",
       "      <td>BROWNING</td>\n",
       "      <td>BLVD</td>\n",
       "      <td>90062.0</td>\n",
       "      <td>34.011724</td>\n",
       "      <td>-118.312764</td>\n",
       "      <td>(34.0117235893, -118.312764174)</td>\n",
       "      <td>673.0</td>\n",
       "      <td>H</td>\n",
       "      <td>2.0</td>\n",
       "      <td>South Los Angeles APC</td>\n",
       "      <td>8.0</td>\n",
       "      <td>Marqueece Harris-Dawson</td>\n",
       "      <td>77.0</td>\n",
       "      <td>EMPOWERMENT CONGRESS NORTH AREA NDC</td>\n",
       "      <td>SOUTHWEST</td>\n",
       "    </tr>\n",
       "    <tr>\n",
       "      <th>3</th>\n",
       "      <td>1-1523596222</td>\n",
       "      <td>01/01/2020 12:19:00 AM</td>\n",
       "      <td>01/03/2020 07:02:00 AM</td>\n",
       "      <td>SR Created</td>\n",
       "      <td>BOS</td>\n",
       "      <td>Bulky Items</td>\n",
       "      <td>Closed</td>\n",
       "      <td>Mobile App</td>\n",
       "      <td>Self Service</td>\n",
       "      <td>Android</td>\n",
       "      <td>N</td>\n",
       "      <td>NC</td>\n",
       "      <td>01/03/2020 12:00:00 AM</td>\n",
       "      <td>01/03/2020 07:02:00 AM</td>\n",
       "      <td>Y</td>\n",
       "      <td>NaN</td>\n",
       "      <td>132 S WESTMORELAND AVE, 90004</td>\n",
       "      <td>132.0</td>\n",
       "      <td>S</td>\n",
       "      <td>WESTMORELAND</td>\n",
       "      <td>AVE</td>\n",
       "      <td>90004.0</td>\n",
       "      <td>34.072440</td>\n",
       "      <td>-118.287798</td>\n",
       "      <td>(34.0724397675, -118.287797874)</td>\n",
       "      <td>634.0</td>\n",
       "      <td>A</td>\n",
       "      <td>1.0</td>\n",
       "      <td>Central APC</td>\n",
       "      <td>13.0</td>\n",
       "      <td>Mitch O'Farrell</td>\n",
       "      <td>53.0</td>\n",
       "      <td>RAMPART VILLAGE NC</td>\n",
       "      <td>OLYMPIC</td>\n",
       "    </tr>\n",
       "    <tr>\n",
       "      <th>4</th>\n",
       "      <td>1-1523591123</td>\n",
       "      <td>01/01/2020 12:21:00 AM</td>\n",
       "      <td>01/03/2020 03:54:00 PM</td>\n",
       "      <td>SR Created</td>\n",
       "      <td>BOS</td>\n",
       "      <td>Metal/Household Appliances</td>\n",
       "      <td>Closed</td>\n",
       "      <td>Mobile App</td>\n",
       "      <td>Self Service</td>\n",
       "      <td>Android</td>\n",
       "      <td>N</td>\n",
       "      <td>NC</td>\n",
       "      <td>01/03/2020 12:00:00 AM</td>\n",
       "      <td>01/03/2020 03:54:00 PM</td>\n",
       "      <td>Y</td>\n",
       "      <td>NaN</td>\n",
       "      <td>132 S WESTMORELAND AVE, 90004</td>\n",
       "      <td>132.0</td>\n",
       "      <td>S</td>\n",
       "      <td>WESTMORELAND</td>\n",
       "      <td>AVE</td>\n",
       "      <td>90004.0</td>\n",
       "      <td>34.072440</td>\n",
       "      <td>-118.287798</td>\n",
       "      <td>(34.0724397675, -118.287797874)</td>\n",
       "      <td>634.0</td>\n",
       "      <td>A</td>\n",
       "      <td>1.0</td>\n",
       "      <td>Central APC</td>\n",
       "      <td>13.0</td>\n",
       "      <td>Mitch O'Farrell</td>\n",
       "      <td>53.0</td>\n",
       "      <td>RAMPART VILLAGE NC</td>\n",
       "      <td>OLYMPIC</td>\n",
       "    </tr>\n",
       "  </tbody>\n",
       "</table>\n",
       "</div>"
      ],
      "text/plain": [
       "       SRNumber             CreatedDate             UpdatedDate ActionTaken  \\\n",
       "0  1-1523593381  01/01/2020 12:02:00 AM  01/07/2020 12:19:00 PM  SR Created   \n",
       "1  1-1523590121  01/01/2020 12:05:00 AM  01/02/2020 08:43:00 AM  SR Created   \n",
       "2  1-1523596201  01/01/2020 12:16:00 AM  01/02/2020 03:13:00 PM  SR Created   \n",
       "3  1-1523596222  01/01/2020 12:19:00 AM  01/03/2020 07:02:00 AM  SR Created   \n",
       "4  1-1523591123  01/01/2020 12:21:00 AM  01/03/2020 03:54:00 PM  SR Created   \n",
       "\n",
       "  Owner                 RequestType  Status RequestSource  \\\n",
       "0   BOS      Illegal Dumping Pickup  Closed          Call   \n",
       "1   BOS      Illegal Dumping Pickup  Closed          Call   \n",
       "2   OCB            Graffiti Removal  Closed    Mobile App   \n",
       "3   BOS                 Bulky Items  Closed    Mobile App   \n",
       "4   BOS  Metal/Household Appliances  Closed    Mobile App   \n",
       "\n",
       "  CreatedByUserOrganization MobileOS Anonymous AssignTo  \\\n",
       "0                       BOS      NaN         N      SLA   \n",
       "1                       BOS      NaN         N       WV   \n",
       "2              Self Service  Android         N     LACC   \n",
       "3              Self Service  Android         N       NC   \n",
       "4              Self Service  Android         N       NC   \n",
       "\n",
       "              ServiceDate              ClosedDate AddressVerified  \\\n",
       "0  01/07/2020 12:00:00 AM  01/07/2020 10:49:00 AM               Y   \n",
       "1  01/02/2020 12:00:00 AM  01/02/2020 08:43:00 AM               Y   \n",
       "2  01/02/2020 12:00:00 AM  01/02/2020 03:13:00 PM               Y   \n",
       "3  01/03/2020 12:00:00 AM  01/03/2020 07:02:00 AM               Y   \n",
       "4  01/03/2020 12:00:00 AM  01/03/2020 03:54:00 PM               Y   \n",
       "\n",
       "  ApproximateAddress                        Address  HouseNumber Direction  \\\n",
       "0                  N      1500 W SLAUSON AVE, 90047       1500.0         W   \n",
       "1                  N      16815 W VANOWEN ST, 91406      16815.0         W   \n",
       "2                  N    1848 W BROWNING BLVD, 90062       1848.0         W   \n",
       "3                NaN  132 S WESTMORELAND AVE, 90004        132.0         S   \n",
       "4                NaN  132 S WESTMORELAND AVE, 90004        132.0         S   \n",
       "\n",
       "     StreetName Suffix  ZipCode   Latitude   Longitude  \\\n",
       "0       SLAUSON    AVE  90047.0  33.988984 -118.302681   \n",
       "1       VANOWEN     ST  91406.0  34.194028 -118.499472   \n",
       "2      BROWNING   BLVD  90062.0  34.011724 -118.312764   \n",
       "3  WESTMORELAND    AVE  90004.0  34.072440 -118.287798   \n",
       "4  WESTMORELAND    AVE  90004.0  34.072440 -118.287798   \n",
       "\n",
       "                          Location  TBMPage TBMColumn  TBMRow  \\\n",
       "0   (33.988984265, -118.302681205)    673.0         J     5.0   \n",
       "1  (34.1940284578, -118.499471638)    531.0         D     6.0   \n",
       "2  (34.0117235893, -118.312764174)    673.0         H     2.0   \n",
       "3  (34.0724397675, -118.287797874)    634.0         A     1.0   \n",
       "4  (34.0724397675, -118.287797874)    634.0         A     1.0   \n",
       "\n",
       "                     APC    CD                 CDMember    NC  \\\n",
       "0  South Los Angeles APC   8.0  Marqueece Harris-Dawson  81.0   \n",
       "1       South Valley APC   6.0            Nury Martinez  19.0   \n",
       "2  South Los Angeles APC   8.0  Marqueece Harris-Dawson  77.0   \n",
       "3            Central APC  13.0          Mitch O'Farrell  53.0   \n",
       "4            Central APC  13.0          Mitch O'Farrell  53.0   \n",
       "\n",
       "                                  NCName PolicePrecinct  \n",
       "0  EMPOWERMENT CONGRESS CENTRAL AREA NDC    77TH STREET  \n",
       "1                         LAKE BALBOA NC    WEST VALLEY  \n",
       "2    EMPOWERMENT CONGRESS NORTH AREA NDC      SOUTHWEST  \n",
       "3                     RAMPART VILLAGE NC        OLYMPIC  \n",
       "4                     RAMPART VILLAGE NC        OLYMPIC  "
      ]
     },
     "execution_count": 21,
     "metadata": {},
     "output_type": "execute_result"
    }
   ],
   "source": [
    "df2020.head()"
   ]
  },
  {
   "cell_type": "code",
   "execution_count": 26,
   "id": "6b38fdcb",
   "metadata": {},
   "outputs": [],
   "source": [
    "#Load the crime data from 2020-present data\n",
    "cd2020_present=pd.read_csv(r'C:\\Documents\\projects\\HackLA\\311\\data\\Crime_Data_from_2020_to_Present.csv')"
   ]
  },
  {
   "cell_type": "code",
   "execution_count": 27,
   "id": "29b8ea2d",
   "metadata": {},
   "outputs": [
    {
     "data": {
      "text/plain": [
       "(536577, 28)"
      ]
     },
     "execution_count": 27,
     "metadata": {},
     "output_type": "execute_result"
    }
   ],
   "source": [
    "cd2020_present.shape"
   ]
  },
  {
   "cell_type": "code",
   "execution_count": 28,
   "id": "aa4dbaac",
   "metadata": {},
   "outputs": [],
   "source": [
    "#Load the crime data from 2020-present data - Michael Ng's version\n",
    "cd2020_present_NG=pd.read_csv(r'C:\\Documents\\projects\\HackLA\\311\\data\\Crime_Data_from_2020_to_Present formatted_M_NG.csv')"
   ]
  },
  {
   "cell_type": "code",
   "execution_count": 29,
   "id": "e816d255",
   "metadata": {},
   "outputs": [
    {
     "data": {
      "text/plain": [
       "(198462, 29)"
      ]
     },
     "execution_count": 29,
     "metadata": {},
     "output_type": "execute_result"
    }
   ],
   "source": [
    "cd2020_present_NG.shape"
   ]
  },
  {
   "cell_type": "code",
   "execution_count": 30,
   "id": "7a32952e",
   "metadata": {},
   "outputs": [
    {
     "data": {
      "text/html": [
       "<div>\n",
       "<style scoped>\n",
       "    .dataframe tbody tr th:only-of-type {\n",
       "        vertical-align: middle;\n",
       "    }\n",
       "\n",
       "    .dataframe tbody tr th {\n",
       "        vertical-align: top;\n",
       "    }\n",
       "\n",
       "    .dataframe thead th {\n",
       "        text-align: right;\n",
       "    }\n",
       "</style>\n",
       "<table border=\"1\" class=\"dataframe\">\n",
       "  <thead>\n",
       "    <tr style=\"text-align: right;\">\n",
       "      <th></th>\n",
       "      <th>DR_NO</th>\n",
       "      <th>Date Rptd</th>\n",
       "      <th>DATE OCC</th>\n",
       "      <th>TIME OCC</th>\n",
       "      <th>AREA</th>\n",
       "      <th>PolicePrecinct</th>\n",
       "      <th>Rpt Dist No</th>\n",
       "      <th>Part 1-2</th>\n",
       "      <th>Crm Cd</th>\n",
       "      <th>Crm Cd Desc</th>\n",
       "      <th>Mocodes</th>\n",
       "      <th>Vict Age</th>\n",
       "      <th>Vict Sex</th>\n",
       "      <th>Vict Descent</th>\n",
       "      <th>Premis Cd</th>\n",
       "      <th>Premis Desc</th>\n",
       "      <th>Weapon Used Cd</th>\n",
       "      <th>Weapon Desc</th>\n",
       "      <th>Status</th>\n",
       "      <th>Status Desc</th>\n",
       "      <th>Crm Cd 1</th>\n",
       "      <th>Crm Cd 2</th>\n",
       "      <th>Crm Cd 3</th>\n",
       "      <th>Crm Cd 4</th>\n",
       "      <th>LOCATION</th>\n",
       "      <th>Cross Street</th>\n",
       "      <th>LAT</th>\n",
       "      <th>LON</th>\n",
       "      <th>Location</th>\n",
       "    </tr>\n",
       "  </thead>\n",
       "  <tbody>\n",
       "    <tr>\n",
       "      <th>0</th>\n",
       "      <td>201204038</td>\n",
       "      <td>1/1/2020 0:00</td>\n",
       "      <td>1/1/2020 0:00</td>\n",
       "      <td>800</td>\n",
       "      <td>12</td>\n",
       "      <td>77TH STREET</td>\n",
       "      <td>1204</td>\n",
       "      <td>1</td>\n",
       "      <td>350</td>\n",
       "      <td>THEFT, PERSON</td>\n",
       "      <td>0346 0344</td>\n",
       "      <td>30</td>\n",
       "      <td>M</td>\n",
       "      <td>H</td>\n",
       "      <td>101.0</td>\n",
       "      <td>STREET</td>\n",
       "      <td>NaN</td>\n",
       "      <td>NaN</td>\n",
       "      <td>JA</td>\n",
       "      <td>Juv Arrest</td>\n",
       "      <td>350.0</td>\n",
       "      <td>NaN</td>\n",
       "      <td>NaN</td>\n",
       "      <td>NaN</td>\n",
       "      <td>VERNON</td>\n",
       "      <td>NORMANDIE</td>\n",
       "      <td>34.0037</td>\n",
       "      <td>-118.3002</td>\n",
       "      <td>(34.0037,-118.3002)</td>\n",
       "    </tr>\n",
       "    <tr>\n",
       "      <th>1</th>\n",
       "      <td>201204080</td>\n",
       "      <td>1/1/2020 0:00</td>\n",
       "      <td>1/1/2020 0:00</td>\n",
       "      <td>945</td>\n",
       "      <td>12</td>\n",
       "      <td>77TH STREET</td>\n",
       "      <td>1235</td>\n",
       "      <td>2</td>\n",
       "      <td>626</td>\n",
       "      <td>INTIMATE PARTNER - SIMPLE ASSAULT</td>\n",
       "      <td>2000 1814 0444</td>\n",
       "      <td>23</td>\n",
       "      <td>F</td>\n",
       "      <td>H</td>\n",
       "      <td>101.0</td>\n",
       "      <td>STREET</td>\n",
       "      <td>400.0</td>\n",
       "      <td>STRONG-ARM (HANDS, FIST, FEET OR BODILY FORCE)</td>\n",
       "      <td>IC</td>\n",
       "      <td>Invest Cont</td>\n",
       "      <td>626.0</td>\n",
       "      <td>NaN</td>\n",
       "      <td>NaN</td>\n",
       "      <td>NaN</td>\n",
       "      <td>NORMANDIE</td>\n",
       "      <td>59TH                         ST</td>\n",
       "      <td>33.9875</td>\n",
       "      <td>-118.3002</td>\n",
       "      <td>(33.9875,-118.3002)</td>\n",
       "    </tr>\n",
       "    <tr>\n",
       "      <th>2</th>\n",
       "      <td>201204072</td>\n",
       "      <td>1/1/2020 0:00</td>\n",
       "      <td>1/1/2020 0:00</td>\n",
       "      <td>1020</td>\n",
       "      <td>12</td>\n",
       "      <td>77TH STREET</td>\n",
       "      <td>1269</td>\n",
       "      <td>2</td>\n",
       "      <td>623</td>\n",
       "      <td>BATTERY POLICE (SIMPLE)</td>\n",
       "      <td>1212 0416</td>\n",
       "      <td>0</td>\n",
       "      <td>X</td>\n",
       "      <td>X</td>\n",
       "      <td>101.0</td>\n",
       "      <td>STREET</td>\n",
       "      <td>400.0</td>\n",
       "      <td>STRONG-ARM (HANDS, FIST, FEET OR BODILY FORCE)</td>\n",
       "      <td>AA</td>\n",
       "      <td>Adult Arrest</td>\n",
       "      <td>623.0</td>\n",
       "      <td>NaN</td>\n",
       "      <td>NaN</td>\n",
       "      <td>NaN</td>\n",
       "      <td>AVALON</td>\n",
       "      <td>80TH                         ST</td>\n",
       "      <td>33.9665</td>\n",
       "      <td>-118.2651</td>\n",
       "      <td>(33.9665,-118.2651)</td>\n",
       "    </tr>\n",
       "    <tr>\n",
       "      <th>3</th>\n",
       "      <td>201204157</td>\n",
       "      <td>1/2/2020 0:00</td>\n",
       "      <td>1/1/2020 0:00</td>\n",
       "      <td>1</td>\n",
       "      <td>12</td>\n",
       "      <td>77TH STREET</td>\n",
       "      <td>1258</td>\n",
       "      <td>2</td>\n",
       "      <td>354</td>\n",
       "      <td>THEFT OF IDENTITY</td>\n",
       "      <td>100</td>\n",
       "      <td>48</td>\n",
       "      <td>F</td>\n",
       "      <td>B</td>\n",
       "      <td>101.0</td>\n",
       "      <td>STREET</td>\n",
       "      <td>NaN</td>\n",
       "      <td>NaN</td>\n",
       "      <td>IC</td>\n",
       "      <td>Invest Cont</td>\n",
       "      <td>354.0</td>\n",
       "      <td>NaN</td>\n",
       "      <td>NaN</td>\n",
       "      <td>NaN</td>\n",
       "      <td>7600 S  BROADWAY</td>\n",
       "      <td>NaN</td>\n",
       "      <td>33.9708</td>\n",
       "      <td>-118.2783</td>\n",
       "      <td>(33.9708,-118.2783)</td>\n",
       "    </tr>\n",
       "    <tr>\n",
       "      <th>4</th>\n",
       "      <td>201204077</td>\n",
       "      <td>1/1/2020 0:00</td>\n",
       "      <td>1/1/2020 0:00</td>\n",
       "      <td>2025</td>\n",
       "      <td>12</td>\n",
       "      <td>77TH STREET</td>\n",
       "      <td>1203</td>\n",
       "      <td>1</td>\n",
       "      <td>230</td>\n",
       "      <td>ASSAULT WITH DEADLY WEAPON, AGGRAVATED ASSAULT</td>\n",
       "      <td>1309 0913 0411</td>\n",
       "      <td>31</td>\n",
       "      <td>F</td>\n",
       "      <td>B</td>\n",
       "      <td>102.0</td>\n",
       "      <td>SIDEWALK</td>\n",
       "      <td>207.0</td>\n",
       "      <td>OTHER KNIFE</td>\n",
       "      <td>IC</td>\n",
       "      <td>Invest Cont</td>\n",
       "      <td>230.0</td>\n",
       "      <td>NaN</td>\n",
       "      <td>NaN</td>\n",
       "      <td>NaN</td>\n",
       "      <td>1600 W  47TH                         ST</td>\n",
       "      <td>NaN</td>\n",
       "      <td>34.0010</td>\n",
       "      <td>-118.3067</td>\n",
       "      <td>(34.001,-118.3067)</td>\n",
       "    </tr>\n",
       "  </tbody>\n",
       "</table>\n",
       "</div>"
      ],
      "text/plain": [
       "       DR_NO      Date Rptd       DATE OCC  TIME OCC  AREA PolicePrecinct  \\\n",
       "0  201204038  1/1/2020 0:00  1/1/2020 0:00       800    12    77TH STREET   \n",
       "1  201204080  1/1/2020 0:00  1/1/2020 0:00       945    12    77TH STREET   \n",
       "2  201204072  1/1/2020 0:00  1/1/2020 0:00      1020    12    77TH STREET   \n",
       "3  201204157  1/2/2020 0:00  1/1/2020 0:00         1    12    77TH STREET   \n",
       "4  201204077  1/1/2020 0:00  1/1/2020 0:00      2025    12    77TH STREET   \n",
       "\n",
       "   Rpt Dist No  Part 1-2  Crm Cd  \\\n",
       "0         1204         1     350   \n",
       "1         1235         2     626   \n",
       "2         1269         2     623   \n",
       "3         1258         2     354   \n",
       "4         1203         1     230   \n",
       "\n",
       "                                      Crm Cd Desc         Mocodes  Vict Age  \\\n",
       "0                                   THEFT, PERSON       0346 0344        30   \n",
       "1               INTIMATE PARTNER - SIMPLE ASSAULT  2000 1814 0444        23   \n",
       "2                         BATTERY POLICE (SIMPLE)       1212 0416         0   \n",
       "3                               THEFT OF IDENTITY             100        48   \n",
       "4  ASSAULT WITH DEADLY WEAPON, AGGRAVATED ASSAULT  1309 0913 0411        31   \n",
       "\n",
       "  Vict Sex Vict Descent  Premis Cd Premis Desc  Weapon Used Cd  \\\n",
       "0        M            H      101.0      STREET             NaN   \n",
       "1        F            H      101.0      STREET           400.0   \n",
       "2        X            X      101.0      STREET           400.0   \n",
       "3        F            B      101.0      STREET             NaN   \n",
       "4        F            B      102.0    SIDEWALK           207.0   \n",
       "\n",
       "                                      Weapon Desc Status   Status Desc  \\\n",
       "0                                             NaN     JA    Juv Arrest   \n",
       "1  STRONG-ARM (HANDS, FIST, FEET OR BODILY FORCE)     IC   Invest Cont   \n",
       "2  STRONG-ARM (HANDS, FIST, FEET OR BODILY FORCE)     AA  Adult Arrest   \n",
       "3                                             NaN     IC   Invest Cont   \n",
       "4                                     OTHER KNIFE     IC   Invest Cont   \n",
       "\n",
       "   Crm Cd 1  Crm Cd 2  Crm Cd 3  Crm Cd 4  \\\n",
       "0     350.0       NaN       NaN       NaN   \n",
       "1     626.0       NaN       NaN       NaN   \n",
       "2     623.0       NaN       NaN       NaN   \n",
       "3     354.0       NaN       NaN       NaN   \n",
       "4     230.0       NaN       NaN       NaN   \n",
       "\n",
       "                                  LOCATION                     Cross Street  \\\n",
       "0                                   VERNON                        NORMANDIE   \n",
       "1                                NORMANDIE  59TH                         ST   \n",
       "2                                   AVALON  80TH                         ST   \n",
       "3                         7600 S  BROADWAY                              NaN   \n",
       "4  1600 W  47TH                         ST                              NaN   \n",
       "\n",
       "       LAT       LON             Location  \n",
       "0  34.0037 -118.3002  (34.0037,-118.3002)  \n",
       "1  33.9875 -118.3002  (33.9875,-118.3002)  \n",
       "2  33.9665 -118.2651  (33.9665,-118.2651)  \n",
       "3  33.9708 -118.2783  (33.9708,-118.2783)  \n",
       "4  34.0010 -118.3067   (34.001,-118.3067)  "
      ]
     },
     "execution_count": 30,
     "metadata": {},
     "output_type": "execute_result"
    }
   ],
   "source": [
    "cd2020_present_NG.head()"
   ]
  },
  {
   "cell_type": "code",
   "execution_count": null,
   "id": "83dc8b70",
   "metadata": {},
   "outputs": [],
   "source": []
  }
 ],
 "metadata": {
  "kernelspec": {
   "display_name": "Python 3",
   "language": "python",
   "name": "python3"
  },
  "language_info": {
   "codemirror_mode": {
    "name": "ipython",
    "version": 3
   },
   "file_extension": ".py",
   "mimetype": "text/x-python",
   "name": "python",
   "nbconvert_exporter": "python",
   "pygments_lexer": "ipython3",
   "version": "3.8.8"
  }
 },
 "nbformat": 4,
 "nbformat_minor": 5
}
