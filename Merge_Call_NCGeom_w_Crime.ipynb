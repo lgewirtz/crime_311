{
 "cells": [
  {
   "cell_type": "code",
   "execution_count": null,
   "metadata": {},
   "outputs": [],
   "source": []
  }
 ],
 "metadata": {
  "kernelspec": {
   "display_name": "Python 3.9.5 ('geo_env')",
   "language": "python",
   "name": "python3"
  },
  "language_info": {
   "name": "python",
   "version": "3.9.5"
  },
  "orig_nbformat": 4,
  "vscode": {
   "interpreter": {
    "hash": "ee00fbec3fdb526d149082f969d84b133246770053b4bc19c5f0b88bffeb37b6"
   }
  }
 },
 "nbformat": 4,
 "nbformat_minor": 2
}
