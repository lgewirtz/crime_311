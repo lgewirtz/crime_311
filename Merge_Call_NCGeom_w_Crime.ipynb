{
 "cells": [
  {
   "cell_type": "markdown",
   "metadata": {},
   "source": [
    "This notebook merges the merged file of 2019 LA Calls & Neighborhood Council geometry with the Crime Data from 2019 (call_NC_merge_2019.pickle)\n"
   ]
  },
  {
   "cell_type": "code",
   "execution_count": 1,
   "metadata": {},
   "outputs": [],
   "source": [
    "import pandas as pd\n",
    "import numpy as np\n",
    "import datetime as dt\n",
    "import os\n",
    "import geopandas as gpd"
   ]
  },
  {
   "cell_type": "code",
   "execution_count": 2,
   "metadata": {},
   "outputs": [],
   "source": [
    "pd.options.display.max_columns = None\n",
    "pd.options.display.max_rows = None"
   ]
  },
  {
   "cell_type": "code",
   "execution_count": 3,
   "metadata": {},
   "outputs": [],
   "source": [
    "inpickle = r'C:\\Documents\\projects\\HackLA\\311\\data\\WorkedonData\\Geo\\call_NC_merge_2019.pickle'"
   ]
  },
  {
   "cell_type": "code",
   "execution_count": 5,
   "metadata": {},
   "outputs": [
    {
     "data": {
      "text/html": [
       "<div>\n",
       "<style scoped>\n",
       "    .dataframe tbody tr th:only-of-type {\n",
       "        vertical-align: middle;\n",
       "    }\n",
       "\n",
       "    .dataframe tbody tr th {\n",
       "        vertical-align: top;\n",
       "    }\n",
       "\n",
       "    .dataframe thead th {\n",
       "        text-align: right;\n",
       "    }\n",
       "</style>\n",
       "<table border=\"1\" class=\"dataframe\">\n",
       "  <thead>\n",
       "    <tr style=\"text-align: right;\">\n",
       "      <th></th>\n",
       "      <th>OBJECTID</th>\n",
       "      <th>NCName</th>\n",
       "      <th>NC_ID</th>\n",
       "      <th>CERTIFIED</th>\n",
       "      <th>TOOLTIP</th>\n",
       "      <th>SERVICE_RE</th>\n",
       "      <th>geometry</th>\n",
       "      <th>SRNumber</th>\n",
       "      <th>CreatDt</th>\n",
       "      <th>UpdateDt</th>\n",
       "      <th>ReqTpe</th>\n",
       "      <th>ReqSrc</th>\n",
       "      <th>Address</th>\n",
       "      <th>ZipCode</th>\n",
       "      <th>Lat</th>\n",
       "      <th>Lon</th>\n",
       "      <th>Location</th>\n",
       "      <th>Area</th>\n",
       "    </tr>\n",
       "  </thead>\n",
       "  <tbody>\n",
       "    <tr>\n",
       "      <th>0</th>\n",
       "      <td>1.0</td>\n",
       "      <td>ARLETA NC</td>\n",
       "      <td>6</td>\n",
       "      <td>2002-10-22</td>\n",
       "      <td>ARLETA NC</td>\n",
       "      <td>REGION 1 - NORTH EAST VALLEY</td>\n",
       "      <td>POLYGON ((-118.44305 34.26328, -118.44303 34.2...</td>\n",
       "      <td>1-1262725561</td>\n",
       "      <td>01/01/2019 10:30:00 AM</td>\n",
       "      <td>01/05/2019 11:16:00 AM</td>\n",
       "      <td>Bulky Items</td>\n",
       "      <td>Call</td>\n",
       "      <td>9489 N DORRINGTON AVE, 91331</td>\n",
       "      <td>91331.0</td>\n",
       "      <td>34.242677</td>\n",
       "      <td>-118.444364</td>\n",
       "      <td>(34.2426768839, -118.444363615)</td>\n",
       "      <td>MISSION</td>\n",
       "    </tr>\n",
       "    <tr>\n",
       "      <th>1</th>\n",
       "      <td>1.0</td>\n",
       "      <td>ARLETA NC</td>\n",
       "      <td>6</td>\n",
       "      <td>2002-10-22</td>\n",
       "      <td>ARLETA NC</td>\n",
       "      <td>REGION 1 - NORTH EAST VALLEY</td>\n",
       "      <td>POLYGON ((-118.44305 34.26328, -118.44303 34.2...</td>\n",
       "      <td>1-1262780112</td>\n",
       "      <td>01/01/2019 02:46:00 PM</td>\n",
       "      <td>01/02/2019 08:09:00 AM</td>\n",
       "      <td>Graffiti Removal</td>\n",
       "      <td>Mobile App</td>\n",
       "      <td>14222 W WEIDNER ST, 91331</td>\n",
       "      <td>91331.0</td>\n",
       "      <td>34.258201</td>\n",
       "      <td>-118.442768</td>\n",
       "      <td>(34.258200559, -118.442768159)</td>\n",
       "      <td>MISSION</td>\n",
       "    </tr>\n",
       "  </tbody>\n",
       "</table>\n",
       "</div>"
      ],
      "text/plain": [
       "   OBJECTID     NCName  NC_ID   CERTIFIED    TOOLTIP  \\\n",
       "0       1.0  ARLETA NC      6  2002-10-22  ARLETA NC   \n",
       "1       1.0  ARLETA NC      6  2002-10-22  ARLETA NC   \n",
       "\n",
       "                     SERVICE_RE  \\\n",
       "0  REGION 1 - NORTH EAST VALLEY   \n",
       "1  REGION 1 - NORTH EAST VALLEY   \n",
       "\n",
       "                                            geometry      SRNumber  \\\n",
       "0  POLYGON ((-118.44305 34.26328, -118.44303 34.2...  1-1262725561   \n",
       "1  POLYGON ((-118.44305 34.26328, -118.44303 34.2...  1-1262780112   \n",
       "\n",
       "                  CreatDt                UpdateDt            ReqTpe  \\\n",
       "0  01/01/2019 10:30:00 AM  01/05/2019 11:16:00 AM       Bulky Items   \n",
       "1  01/01/2019 02:46:00 PM  01/02/2019 08:09:00 AM  Graffiti Removal   \n",
       "\n",
       "       ReqSrc                       Address  ZipCode        Lat         Lon  \\\n",
       "0        Call  9489 N DORRINGTON AVE, 91331  91331.0  34.242677 -118.444364   \n",
       "1  Mobile App     14222 W WEIDNER ST, 91331  91331.0  34.258201 -118.442768   \n",
       "\n",
       "                          Location     Area  \n",
       "0  (34.2426768839, -118.444363615)  MISSION  \n",
       "1   (34.258200559, -118.442768159)  MISSION  "
      ]
     },
     "execution_count": 5,
     "metadata": {},
     "output_type": "execute_result"
    }
   ],
   "source": [
    "callNCGeo = pd.read_pickle(inpickle)\n",
    "callNCGeo.head(2)"
   ]
  },
  {
   "cell_type": "code",
   "execution_count": 6,
   "metadata": {},
   "outputs": [],
   "source": [
    "crime_data = pd.read_csv(r'C:\\Documents\\projects\\HackLA\\311\\data\\crime data\\Crime_Data_from_2010_to_2019.csv', index_col=None)"
   ]
  },
  {
   "cell_type": "code",
   "execution_count": 7,
   "metadata": {},
   "outputs": [
    {
     "data": {
      "text/html": [
       "<div>\n",
       "<style scoped>\n",
       "    .dataframe tbody tr th:only-of-type {\n",
       "        vertical-align: middle;\n",
       "    }\n",
       "\n",
       "    .dataframe tbody tr th {\n",
       "        vertical-align: top;\n",
       "    }\n",
       "\n",
       "    .dataframe thead th {\n",
       "        text-align: right;\n",
       "    }\n",
       "</style>\n",
       "<table border=\"1\" class=\"dataframe\">\n",
       "  <thead>\n",
       "    <tr style=\"text-align: right;\">\n",
       "      <th></th>\n",
       "      <th>DR_NO</th>\n",
       "      <th>Date Rptd</th>\n",
       "      <th>DATE OCC</th>\n",
       "      <th>TIME OCC</th>\n",
       "      <th>AREA</th>\n",
       "      <th>AREA NAME</th>\n",
       "      <th>Rpt Dist No</th>\n",
       "      <th>Part 1-2</th>\n",
       "      <th>Crm Cd</th>\n",
       "      <th>Crm Cd Desc</th>\n",
       "      <th>Mocodes</th>\n",
       "      <th>Vict Age</th>\n",
       "      <th>Vict Sex</th>\n",
       "      <th>Vict Descent</th>\n",
       "      <th>Premis Cd</th>\n",
       "      <th>Premis Desc</th>\n",
       "      <th>Weapon Used Cd</th>\n",
       "      <th>Weapon Desc</th>\n",
       "      <th>Status</th>\n",
       "      <th>Status Desc</th>\n",
       "      <th>Crm Cd 1</th>\n",
       "      <th>Crm Cd 2</th>\n",
       "      <th>Crm Cd 3</th>\n",
       "      <th>Crm Cd 4</th>\n",
       "      <th>LOCATION</th>\n",
       "      <th>Cross Street</th>\n",
       "      <th>LAT</th>\n",
       "      <th>LON</th>\n",
       "    </tr>\n",
       "  </thead>\n",
       "  <tbody>\n",
       "    <tr>\n",
       "      <th>0</th>\n",
       "      <td>1307355</td>\n",
       "      <td>02/20/2010 12:00:00 AM</td>\n",
       "      <td>02/20/2010 12:00:00 AM</td>\n",
       "      <td>1350</td>\n",
       "      <td>13</td>\n",
       "      <td>Newton</td>\n",
       "      <td>1385</td>\n",
       "      <td>2</td>\n",
       "      <td>900</td>\n",
       "      <td>VIOLATION OF COURT ORDER</td>\n",
       "      <td>0913 1814 2000</td>\n",
       "      <td>48</td>\n",
       "      <td>M</td>\n",
       "      <td>H</td>\n",
       "      <td>501.0</td>\n",
       "      <td>SINGLE FAMILY DWELLING</td>\n",
       "      <td>NaN</td>\n",
       "      <td>NaN</td>\n",
       "      <td>AA</td>\n",
       "      <td>Adult Arrest</td>\n",
       "      <td>900.0</td>\n",
       "      <td>NaN</td>\n",
       "      <td>NaN</td>\n",
       "      <td>NaN</td>\n",
       "      <td>300 E  GAGE                         AV</td>\n",
       "      <td>NaN</td>\n",
       "      <td>33.9825</td>\n",
       "      <td>-118.2695</td>\n",
       "    </tr>\n",
       "    <tr>\n",
       "      <th>1</th>\n",
       "      <td>11401303</td>\n",
       "      <td>09/13/2010 12:00:00 AM</td>\n",
       "      <td>09/12/2010 12:00:00 AM</td>\n",
       "      <td>45</td>\n",
       "      <td>14</td>\n",
       "      <td>Pacific</td>\n",
       "      <td>1485</td>\n",
       "      <td>2</td>\n",
       "      <td>740</td>\n",
       "      <td>VANDALISM - FELONY ($400 &amp; OVER, ALL CHURCH VA...</td>\n",
       "      <td>0329</td>\n",
       "      <td>0</td>\n",
       "      <td>M</td>\n",
       "      <td>W</td>\n",
       "      <td>101.0</td>\n",
       "      <td>STREET</td>\n",
       "      <td>NaN</td>\n",
       "      <td>NaN</td>\n",
       "      <td>IC</td>\n",
       "      <td>Invest Cont</td>\n",
       "      <td>740.0</td>\n",
       "      <td>NaN</td>\n",
       "      <td>NaN</td>\n",
       "      <td>NaN</td>\n",
       "      <td>SEPULVEDA                    BL</td>\n",
       "      <td>MANCHESTER                   AV</td>\n",
       "      <td>33.9599</td>\n",
       "      <td>-118.3962</td>\n",
       "    </tr>\n",
       "  </tbody>\n",
       "</table>\n",
       "</div>"
      ],
      "text/plain": [
       "      DR_NO               Date Rptd                DATE OCC  TIME OCC  AREA   \\\n",
       "0   1307355  02/20/2010 12:00:00 AM  02/20/2010 12:00:00 AM      1350     13   \n",
       "1  11401303  09/13/2010 12:00:00 AM  09/12/2010 12:00:00 AM        45     14   \n",
       "\n",
       "  AREA NAME  Rpt Dist No  Part 1-2  Crm Cd  \\\n",
       "0    Newton         1385         2     900   \n",
       "1   Pacific         1485         2     740   \n",
       "\n",
       "                                         Crm Cd Desc         Mocodes  \\\n",
       "0                           VIOLATION OF COURT ORDER  0913 1814 2000   \n",
       "1  VANDALISM - FELONY ($400 & OVER, ALL CHURCH VA...            0329   \n",
       "\n",
       "   Vict Age Vict Sex Vict Descent  Premis Cd             Premis Desc  \\\n",
       "0        48        M            H      501.0  SINGLE FAMILY DWELLING   \n",
       "1         0        M            W      101.0                  STREET   \n",
       "\n",
       "   Weapon Used Cd Weapon Desc Status   Status Desc  Crm Cd 1  Crm Cd 2  \\\n",
       "0             NaN         NaN     AA  Adult Arrest     900.0       NaN   \n",
       "1             NaN         NaN     IC   Invest Cont     740.0       NaN   \n",
       "\n",
       "   Crm Cd 3  Crm Cd 4                                LOCATION  \\\n",
       "0       NaN       NaN  300 E  GAGE                         AV   \n",
       "1       NaN       NaN         SEPULVEDA                    BL   \n",
       "\n",
       "                      Cross Street      LAT       LON  \n",
       "0                              NaN  33.9825 -118.2695  \n",
       "1  MANCHESTER                   AV  33.9599 -118.3962  "
      ]
     },
     "execution_count": 7,
     "metadata": {},
     "output_type": "execute_result"
    }
   ],
   "source": [
    "crime_data.head(2)"
   ]
  },
  {
   "cell_type": "code",
   "execution_count": 8,
   "metadata": {},
   "outputs": [],
   "source": [
    "# remove the unnecessary columns\n",
    "crime_data=crime_data[['DR_NO', 'Date Rptd', 'DATE OCC', 'TIME OCC', 'AREA NAME', 'Rpt Dist No', 'Vict Age', 'Vict Sex', 'Vict Descent', 'Premis Desc', 'Weapon Used Cd', \n",
    "'Weapon Desc', 'Status Desc','LOCATION', 'LAT', 'LON']]"
   ]
  },
  {
   "cell_type": "code",
   "execution_count": 9,
   "metadata": {},
   "outputs": [
    {
     "data": {
      "text/html": [
       "<div>\n",
       "<style scoped>\n",
       "    .dataframe tbody tr th:only-of-type {\n",
       "        vertical-align: middle;\n",
       "    }\n",
       "\n",
       "    .dataframe tbody tr th {\n",
       "        vertical-align: top;\n",
       "    }\n",
       "\n",
       "    .dataframe thead th {\n",
       "        text-align: right;\n",
       "    }\n",
       "</style>\n",
       "<table border=\"1\" class=\"dataframe\">\n",
       "  <thead>\n",
       "    <tr style=\"text-align: right;\">\n",
       "      <th></th>\n",
       "      <th>DR_NO</th>\n",
       "      <th>Date Rptd</th>\n",
       "      <th>DATE OCC</th>\n",
       "      <th>TIME OCC</th>\n",
       "      <th>AREA NAME</th>\n",
       "      <th>Rpt Dist No</th>\n",
       "      <th>Vict Age</th>\n",
       "      <th>Vict Sex</th>\n",
       "      <th>Vict Descent</th>\n",
       "      <th>Premis Desc</th>\n",
       "      <th>Weapon Used Cd</th>\n",
       "      <th>Weapon Desc</th>\n",
       "      <th>Status Desc</th>\n",
       "      <th>LOCATION</th>\n",
       "      <th>LAT</th>\n",
       "      <th>LON</th>\n",
       "    </tr>\n",
       "  </thead>\n",
       "  <tbody>\n",
       "    <tr>\n",
       "      <th>0</th>\n",
       "      <td>1307355</td>\n",
       "      <td>02/20/2010 12:00:00 AM</td>\n",
       "      <td>02/20/2010 12:00:00 AM</td>\n",
       "      <td>1350</td>\n",
       "      <td>Newton</td>\n",
       "      <td>1385</td>\n",
       "      <td>48</td>\n",
       "      <td>M</td>\n",
       "      <td>H</td>\n",
       "      <td>SINGLE FAMILY DWELLING</td>\n",
       "      <td>NaN</td>\n",
       "      <td>NaN</td>\n",
       "      <td>Adult Arrest</td>\n",
       "      <td>300 E  GAGE                         AV</td>\n",
       "      <td>33.9825</td>\n",
       "      <td>-118.2695</td>\n",
       "    </tr>\n",
       "    <tr>\n",
       "      <th>1</th>\n",
       "      <td>11401303</td>\n",
       "      <td>09/13/2010 12:00:00 AM</td>\n",
       "      <td>09/12/2010 12:00:00 AM</td>\n",
       "      <td>45</td>\n",
       "      <td>Pacific</td>\n",
       "      <td>1485</td>\n",
       "      <td>0</td>\n",
       "      <td>M</td>\n",
       "      <td>W</td>\n",
       "      <td>STREET</td>\n",
       "      <td>NaN</td>\n",
       "      <td>NaN</td>\n",
       "      <td>Invest Cont</td>\n",
       "      <td>SEPULVEDA                    BL</td>\n",
       "      <td>33.9599</td>\n",
       "      <td>-118.3962</td>\n",
       "    </tr>\n",
       "  </tbody>\n",
       "</table>\n",
       "</div>"
      ],
      "text/plain": [
       "      DR_NO               Date Rptd                DATE OCC  TIME OCC  \\\n",
       "0   1307355  02/20/2010 12:00:00 AM  02/20/2010 12:00:00 AM      1350   \n",
       "1  11401303  09/13/2010 12:00:00 AM  09/12/2010 12:00:00 AM        45   \n",
       "\n",
       "  AREA NAME  Rpt Dist No  Vict Age Vict Sex Vict Descent  \\\n",
       "0    Newton         1385        48        M            H   \n",
       "1   Pacific         1485         0        M            W   \n",
       "\n",
       "              Premis Desc  Weapon Used Cd Weapon Desc   Status Desc  \\\n",
       "0  SINGLE FAMILY DWELLING             NaN         NaN  Adult Arrest   \n",
       "1                  STREET             NaN         NaN   Invest Cont   \n",
       "\n",
       "                                 LOCATION      LAT       LON  \n",
       "0  300 E  GAGE                         AV  33.9825 -118.2695  \n",
       "1         SEPULVEDA                    BL  33.9599 -118.3962  "
      ]
     },
     "execution_count": 9,
     "metadata": {},
     "output_type": "execute_result"
    }
   ],
   "source": [
    "crime_data.head(2)"
   ]
  },
  {
   "cell_type": "code",
   "execution_count": 10,
   "metadata": {},
   "outputs": [],
   "source": [
    "# There are 2 date columns in the crime_data df (dataframe). Change the column type to datetype\n",
    "\n",
    "crime_data['DATE OCC']= pd.to_datetime(crime_data['DATE OCC'])\n",
    "\n",
    "crime_data['Date Rptd']= pd.to_datetime(crime_data['Date Rptd'])"
   ]
  },
  {
   "cell_type": "markdown",
   "metadata": {},
   "source": [
    "Create df of crime data from only 2019"
   ]
  },
  {
   "cell_type": "code",
   "execution_count": 11,
   "metadata": {},
   "outputs": [],
   "source": [
    "crime_data_2019 = crime_data[crime_data['Date Rptd'].dt.year==2019]"
   ]
  },
  {
   "cell_type": "code",
   "execution_count": 12,
   "metadata": {},
   "outputs": [
    {
     "data": {
      "text/html": [
       "<div>\n",
       "<style scoped>\n",
       "    .dataframe tbody tr th:only-of-type {\n",
       "        vertical-align: middle;\n",
       "    }\n",
       "\n",
       "    .dataframe tbody tr th {\n",
       "        vertical-align: top;\n",
       "    }\n",
       "\n",
       "    .dataframe thead th {\n",
       "        text-align: right;\n",
       "    }\n",
       "</style>\n",
       "<table border=\"1\" class=\"dataframe\">\n",
       "  <thead>\n",
       "    <tr style=\"text-align: right;\">\n",
       "      <th></th>\n",
       "      <th>DR_NO</th>\n",
       "      <th>Date Rptd</th>\n",
       "      <th>DATE OCC</th>\n",
       "      <th>TIME OCC</th>\n",
       "      <th>AREA NAME</th>\n",
       "      <th>Rpt Dist No</th>\n",
       "      <th>Vict Age</th>\n",
       "      <th>Vict Sex</th>\n",
       "      <th>Vict Descent</th>\n",
       "      <th>Premis Desc</th>\n",
       "      <th>Weapon Used Cd</th>\n",
       "      <th>Weapon Desc</th>\n",
       "      <th>Status Desc</th>\n",
       "      <th>LOCATION</th>\n",
       "      <th>LAT</th>\n",
       "      <th>LON</th>\n",
       "    </tr>\n",
       "  </thead>\n",
       "  <tbody>\n",
       "    <tr>\n",
       "      <th>85876</th>\n",
       "      <td>190705631</td>\n",
       "      <td>2019-02-04</td>\n",
       "      <td>2010-07-01</td>\n",
       "      <td>1100</td>\n",
       "      <td>Wilshire</td>\n",
       "      <td>773</td>\n",
       "      <td>60</td>\n",
       "      <td>F</td>\n",
       "      <td>B</td>\n",
       "      <td>SINGLE FAMILY DWELLING</td>\n",
       "      <td>NaN</td>\n",
       "      <td>NaN</td>\n",
       "      <td>Invest Cont</td>\n",
       "      <td>1900 S  RIDGELEY                     DR</td>\n",
       "      <td>34.0409</td>\n",
       "      <td>-118.3586</td>\n",
       "    </tr>\n",
       "    <tr>\n",
       "      <th>86769</th>\n",
       "      <td>191300738</td>\n",
       "      <td>2019-06-11</td>\n",
       "      <td>2010-06-07</td>\n",
       "      <td>1800</td>\n",
       "      <td>Newton</td>\n",
       "      <td>1383</td>\n",
       "      <td>23</td>\n",
       "      <td>M</td>\n",
       "      <td>B</td>\n",
       "      <td>MULTI-UNIT DWELLING (APARTMENT, DUPLEX, ETC)</td>\n",
       "      <td>NaN</td>\n",
       "      <td>NaN</td>\n",
       "      <td>Invest Cont</td>\n",
       "      <td>5800 S  BROADWAY</td>\n",
       "      <td>33.9829</td>\n",
       "      <td>-118.2783</td>\n",
       "    </tr>\n",
       "  </tbody>\n",
       "</table>\n",
       "</div>"
      ],
      "text/plain": [
       "           DR_NO  Date Rptd   DATE OCC  TIME OCC AREA NAME  Rpt Dist No  \\\n",
       "85876  190705631 2019-02-04 2010-07-01      1100  Wilshire          773   \n",
       "86769  191300738 2019-06-11 2010-06-07      1800    Newton         1383   \n",
       "\n",
       "       Vict Age Vict Sex Vict Descent  \\\n",
       "85876        60        F            B   \n",
       "86769        23        M            B   \n",
       "\n",
       "                                        Premis Desc  Weapon Used Cd  \\\n",
       "85876                        SINGLE FAMILY DWELLING             NaN   \n",
       "86769  MULTI-UNIT DWELLING (APARTMENT, DUPLEX, ETC)             NaN   \n",
       "\n",
       "      Weapon Desc  Status Desc                                 LOCATION  \\\n",
       "85876         NaN  Invest Cont  1900 S  RIDGELEY                     DR   \n",
       "86769         NaN  Invest Cont                         5800 S  BROADWAY   \n",
       "\n",
       "           LAT       LON  \n",
       "85876  34.0409 -118.3586  \n",
       "86769  33.9829 -118.2783  "
      ]
     },
     "execution_count": 12,
     "metadata": {},
     "output_type": "execute_result"
    }
   ],
   "source": [
    "crime_data_2019.head(2)"
   ]
  },
  {
   "cell_type": "code",
   "execution_count": 13,
   "metadata": {},
   "outputs": [
    {
     "data": {
      "text/plain": [
       "(220556, 16)"
      ]
     },
     "execution_count": 13,
     "metadata": {},
     "output_type": "execute_result"
    }
   ],
   "source": [
    "crime_data_2019.shape"
   ]
  },
  {
   "cell_type": "code",
   "execution_count": 14,
   "metadata": {},
   "outputs": [
    {
     "data": {
      "text/plain": [
       "Timestamp('2019-01-01 00:00:00')"
      ]
     },
     "execution_count": 14,
     "metadata": {},
     "output_type": "execute_result"
    }
   ],
   "source": [
    "crime_data_2019['Date Rptd'].min()"
   ]
  },
  {
   "cell_type": "code",
   "execution_count": 15,
   "metadata": {},
   "outputs": [
    {
     "data": {
      "text/plain": [
       "Timestamp('2019-12-31 00:00:00')"
      ]
     },
     "execution_count": 15,
     "metadata": {},
     "output_type": "execute_result"
    }
   ],
   "source": [
    "crime_data_2019['Date Rptd'].max()"
   ]
  },
  {
   "cell_type": "code",
   "execution_count": 16,
   "metadata": {},
   "outputs": [
    {
     "data": {
      "text/plain": [
       "Timestamp('2010-01-01 00:00:00')"
      ]
     },
     "execution_count": 16,
     "metadata": {},
     "output_type": "execute_result"
    }
   ],
   "source": [
    "crime_data_2019['DATE OCC'].min()"
   ]
  },
  {
   "cell_type": "code",
   "execution_count": 17,
   "metadata": {},
   "outputs": [
    {
     "data": {
      "text/plain": [
       "Timestamp('2019-12-31 00:00:00')"
      ]
     },
     "execution_count": 17,
     "metadata": {},
     "output_type": "execute_result"
    }
   ],
   "source": [
    "crime_data_2019['DATE OCC'].max()"
   ]
  },
  {
   "cell_type": "code",
   "execution_count": 18,
   "metadata": {},
   "outputs": [],
   "source": [
    "dups = crime_data_2019[crime_data_2019.duplicated()]"
   ]
  },
  {
   "cell_type": "code",
   "execution_count": 19,
   "metadata": {},
   "outputs": [
    {
     "data": {
      "text/plain": [
       "(0, 16)"
      ]
     },
     "execution_count": 19,
     "metadata": {},
     "output_type": "execute_result"
    }
   ],
   "source": [
    "dups.shape"
   ]
  },
  {
   "cell_type": "markdown",
   "metadata": {},
   "source": [
    "No dupes"
   ]
  },
  {
   "cell_type": "code",
   "execution_count": 20,
   "metadata": {},
   "outputs": [
    {
     "data": {
      "text/plain": [
       "DR_NO                  0\n",
       "Date Rptd              0\n",
       "DATE OCC               0\n",
       "TIME OCC               0\n",
       "AREA NAME              0\n",
       "Rpt Dist No            0\n",
       "Vict Age               0\n",
       "Vict Sex           19922\n",
       "Vict Descent       19926\n",
       "Premis Desc           91\n",
       "Weapon Used Cd    141939\n",
       "Weapon Desc       141939\n",
       "Status Desc            0\n",
       "LOCATION               0\n",
       "LAT                    0\n",
       "LON                    0\n",
       "dtype: int64"
      ]
     },
     "execution_count": 20,
     "metadata": {},
     "output_type": "execute_result"
    }
   ],
   "source": [
    "crime_data_2019.isnull().sum()"
   ]
  },
  {
   "cell_type": "code",
   "execution_count": 21,
   "metadata": {},
   "outputs": [
    {
     "data": {
      "text/html": [
       "<div>\n",
       "<style scoped>\n",
       "    .dataframe tbody tr th:only-of-type {\n",
       "        vertical-align: middle;\n",
       "    }\n",
       "\n",
       "    .dataframe tbody tr th {\n",
       "        vertical-align: top;\n",
       "    }\n",
       "\n",
       "    .dataframe thead th {\n",
       "        text-align: right;\n",
       "    }\n",
       "</style>\n",
       "<table border=\"1\" class=\"dataframe\">\n",
       "  <thead>\n",
       "    <tr style=\"text-align: right;\">\n",
       "      <th></th>\n",
       "      <th>DR_NO</th>\n",
       "      <th>Date Rptd</th>\n",
       "      <th>DATE OCC</th>\n",
       "      <th>TIME OCC</th>\n",
       "      <th>AREA NAME</th>\n",
       "      <th>Rpt Dist No</th>\n",
       "      <th>Vict Age</th>\n",
       "      <th>Vict Sex</th>\n",
       "      <th>Vict Descent</th>\n",
       "      <th>Premis Desc</th>\n",
       "      <th>Weapon Used Cd</th>\n",
       "      <th>Weapon Desc</th>\n",
       "      <th>Status Desc</th>\n",
       "      <th>LOCATION</th>\n",
       "      <th>LAT</th>\n",
       "      <th>LON</th>\n",
       "    </tr>\n",
       "  </thead>\n",
       "  <tbody>\n",
       "    <tr>\n",
       "      <th>85876</th>\n",
       "      <td>190705631</td>\n",
       "      <td>2019-02-04</td>\n",
       "      <td>2010-07-01</td>\n",
       "      <td>1100</td>\n",
       "      <td>Wilshire</td>\n",
       "      <td>773</td>\n",
       "      <td>60</td>\n",
       "      <td>F</td>\n",
       "      <td>B</td>\n",
       "      <td>SINGLE FAMILY DWELLING</td>\n",
       "      <td>NaN</td>\n",
       "      <td>NaN</td>\n",
       "      <td>Invest Cont</td>\n",
       "      <td>1900 S  RIDGELEY                     DR</td>\n",
       "      <td>34.0409</td>\n",
       "      <td>-118.3586</td>\n",
       "    </tr>\n",
       "    <tr>\n",
       "      <th>86769</th>\n",
       "      <td>191300738</td>\n",
       "      <td>2019-06-11</td>\n",
       "      <td>2010-06-07</td>\n",
       "      <td>1800</td>\n",
       "      <td>Newton</td>\n",
       "      <td>1383</td>\n",
       "      <td>23</td>\n",
       "      <td>M</td>\n",
       "      <td>B</td>\n",
       "      <td>MULTI-UNIT DWELLING (APARTMENT, DUPLEX, ETC)</td>\n",
       "      <td>NaN</td>\n",
       "      <td>NaN</td>\n",
       "      <td>Invest Cont</td>\n",
       "      <td>5800 S  BROADWAY</td>\n",
       "      <td>33.9829</td>\n",
       "      <td>-118.2783</td>\n",
       "    </tr>\n",
       "  </tbody>\n",
       "</table>\n",
       "</div>"
      ],
      "text/plain": [
       "           DR_NO  Date Rptd   DATE OCC  TIME OCC AREA NAME  Rpt Dist No  \\\n",
       "85876  190705631 2019-02-04 2010-07-01      1100  Wilshire          773   \n",
       "86769  191300738 2019-06-11 2010-06-07      1800    Newton         1383   \n",
       "\n",
       "       Vict Age Vict Sex Vict Descent  \\\n",
       "85876        60        F            B   \n",
       "86769        23        M            B   \n",
       "\n",
       "                                        Premis Desc  Weapon Used Cd  \\\n",
       "85876                        SINGLE FAMILY DWELLING             NaN   \n",
       "86769  MULTI-UNIT DWELLING (APARTMENT, DUPLEX, ETC)             NaN   \n",
       "\n",
       "      Weapon Desc  Status Desc                                 LOCATION  \\\n",
       "85876         NaN  Invest Cont  1900 S  RIDGELEY                     DR   \n",
       "86769         NaN  Invest Cont                         5800 S  BROADWAY   \n",
       "\n",
       "           LAT       LON  \n",
       "85876  34.0409 -118.3586  \n",
       "86769  33.9829 -118.2783  "
      ]
     },
     "execution_count": 21,
     "metadata": {},
     "output_type": "execute_result"
    }
   ],
   "source": [
    "crime_data_2019.head(2)"
   ]
  },
  {
   "cell_type": "code",
   "execution_count": 22,
   "metadata": {},
   "outputs": [
    {
     "data": {
      "text/html": [
       "<div>\n",
       "<style scoped>\n",
       "    .dataframe tbody tr th:only-of-type {\n",
       "        vertical-align: middle;\n",
       "    }\n",
       "\n",
       "    .dataframe tbody tr th {\n",
       "        vertical-align: top;\n",
       "    }\n",
       "\n",
       "    .dataframe thead th {\n",
       "        text-align: right;\n",
       "    }\n",
       "</style>\n",
       "<table border=\"1\" class=\"dataframe\">\n",
       "  <thead>\n",
       "    <tr style=\"text-align: right;\">\n",
       "      <th></th>\n",
       "      <th>OBJECTID</th>\n",
       "      <th>NCName</th>\n",
       "      <th>NC_ID</th>\n",
       "      <th>CERTIFIED</th>\n",
       "      <th>TOOLTIP</th>\n",
       "      <th>SERVICE_RE</th>\n",
       "      <th>geometry</th>\n",
       "      <th>SRNumber</th>\n",
       "      <th>CreatDt</th>\n",
       "      <th>UpdateDt</th>\n",
       "      <th>ReqTpe</th>\n",
       "      <th>ReqSrc</th>\n",
       "      <th>Address</th>\n",
       "      <th>ZipCode</th>\n",
       "      <th>Lat</th>\n",
       "      <th>Lon</th>\n",
       "      <th>Location</th>\n",
       "      <th>Area</th>\n",
       "    </tr>\n",
       "  </thead>\n",
       "  <tbody>\n",
       "    <tr>\n",
       "      <th>0</th>\n",
       "      <td>1.0</td>\n",
       "      <td>ARLETA NC</td>\n",
       "      <td>6</td>\n",
       "      <td>2002-10-22</td>\n",
       "      <td>ARLETA NC</td>\n",
       "      <td>REGION 1 - NORTH EAST VALLEY</td>\n",
       "      <td>POLYGON ((-118.44305 34.26328, -118.44303 34.2...</td>\n",
       "      <td>1-1262725561</td>\n",
       "      <td>01/01/2019 10:30:00 AM</td>\n",
       "      <td>01/05/2019 11:16:00 AM</td>\n",
       "      <td>Bulky Items</td>\n",
       "      <td>Call</td>\n",
       "      <td>9489 N DORRINGTON AVE, 91331</td>\n",
       "      <td>91331.0</td>\n",
       "      <td>34.242677</td>\n",
       "      <td>-118.444364</td>\n",
       "      <td>(34.2426768839, -118.444363615)</td>\n",
       "      <td>MISSION</td>\n",
       "    </tr>\n",
       "    <tr>\n",
       "      <th>1</th>\n",
       "      <td>1.0</td>\n",
       "      <td>ARLETA NC</td>\n",
       "      <td>6</td>\n",
       "      <td>2002-10-22</td>\n",
       "      <td>ARLETA NC</td>\n",
       "      <td>REGION 1 - NORTH EAST VALLEY</td>\n",
       "      <td>POLYGON ((-118.44305 34.26328, -118.44303 34.2...</td>\n",
       "      <td>1-1262780112</td>\n",
       "      <td>01/01/2019 02:46:00 PM</td>\n",
       "      <td>01/02/2019 08:09:00 AM</td>\n",
       "      <td>Graffiti Removal</td>\n",
       "      <td>Mobile App</td>\n",
       "      <td>14222 W WEIDNER ST, 91331</td>\n",
       "      <td>91331.0</td>\n",
       "      <td>34.258201</td>\n",
       "      <td>-118.442768</td>\n",
       "      <td>(34.258200559, -118.442768159)</td>\n",
       "      <td>MISSION</td>\n",
       "    </tr>\n",
       "  </tbody>\n",
       "</table>\n",
       "</div>"
      ],
      "text/plain": [
       "   OBJECTID     NCName  NC_ID   CERTIFIED    TOOLTIP  \\\n",
       "0       1.0  ARLETA NC      6  2002-10-22  ARLETA NC   \n",
       "1       1.0  ARLETA NC      6  2002-10-22  ARLETA NC   \n",
       "\n",
       "                     SERVICE_RE  \\\n",
       "0  REGION 1 - NORTH EAST VALLEY   \n",
       "1  REGION 1 - NORTH EAST VALLEY   \n",
       "\n",
       "                                            geometry      SRNumber  \\\n",
       "0  POLYGON ((-118.44305 34.26328, -118.44303 34.2...  1-1262725561   \n",
       "1  POLYGON ((-118.44305 34.26328, -118.44303 34.2...  1-1262780112   \n",
       "\n",
       "                  CreatDt                UpdateDt            ReqTpe  \\\n",
       "0  01/01/2019 10:30:00 AM  01/05/2019 11:16:00 AM       Bulky Items   \n",
       "1  01/01/2019 02:46:00 PM  01/02/2019 08:09:00 AM  Graffiti Removal   \n",
       "\n",
       "       ReqSrc                       Address  ZipCode        Lat         Lon  \\\n",
       "0        Call  9489 N DORRINGTON AVE, 91331  91331.0  34.242677 -118.444364   \n",
       "1  Mobile App     14222 W WEIDNER ST, 91331  91331.0  34.258201 -118.442768   \n",
       "\n",
       "                          Location     Area  \n",
       "0  (34.2426768839, -118.444363615)  MISSION  \n",
       "1   (34.258200559, -118.442768159)  MISSION  "
      ]
     },
     "execution_count": 22,
     "metadata": {},
     "output_type": "execute_result"
    }
   ],
   "source": [
    "callNCGeo.head(2)"
   ]
  },
  {
   "cell_type": "code",
   "execution_count": 23,
   "metadata": {},
   "outputs": [],
   "source": [
    "#create geometry column for crime - turn it into geopandas frame\n",
    "gdfCrime = gpd.GeoDataFrame(crime_data_2019, geometry=gpd.points_from_xy(crime_data_2019['LON'], crime_data_2019['LAT']))"
   ]
  },
  {
   "cell_type": "code",
   "execution_count": 24,
   "metadata": {},
   "outputs": [
    {
     "data": {
      "text/html": [
       "<div>\n",
       "<style scoped>\n",
       "    .dataframe tbody tr th:only-of-type {\n",
       "        vertical-align: middle;\n",
       "    }\n",
       "\n",
       "    .dataframe tbody tr th {\n",
       "        vertical-align: top;\n",
       "    }\n",
       "\n",
       "    .dataframe thead th {\n",
       "        text-align: right;\n",
       "    }\n",
       "</style>\n",
       "<table border=\"1\" class=\"dataframe\">\n",
       "  <thead>\n",
       "    <tr style=\"text-align: right;\">\n",
       "      <th></th>\n",
       "      <th>DR_NO</th>\n",
       "      <th>Date Rptd</th>\n",
       "      <th>DATE OCC</th>\n",
       "      <th>TIME OCC</th>\n",
       "      <th>AREA NAME</th>\n",
       "      <th>Rpt Dist No</th>\n",
       "      <th>Vict Age</th>\n",
       "      <th>Vict Sex</th>\n",
       "      <th>Vict Descent</th>\n",
       "      <th>Premis Desc</th>\n",
       "      <th>Weapon Used Cd</th>\n",
       "      <th>Weapon Desc</th>\n",
       "      <th>Status Desc</th>\n",
       "      <th>LOCATION</th>\n",
       "      <th>LAT</th>\n",
       "      <th>LON</th>\n",
       "      <th>geometry</th>\n",
       "    </tr>\n",
       "  </thead>\n",
       "  <tbody>\n",
       "    <tr>\n",
       "      <th>85876</th>\n",
       "      <td>190705631</td>\n",
       "      <td>2019-02-04</td>\n",
       "      <td>2010-07-01</td>\n",
       "      <td>1100</td>\n",
       "      <td>Wilshire</td>\n",
       "      <td>773</td>\n",
       "      <td>60</td>\n",
       "      <td>F</td>\n",
       "      <td>B</td>\n",
       "      <td>SINGLE FAMILY DWELLING</td>\n",
       "      <td>NaN</td>\n",
       "      <td>NaN</td>\n",
       "      <td>Invest Cont</td>\n",
       "      <td>1900 S  RIDGELEY                     DR</td>\n",
       "      <td>34.0409</td>\n",
       "      <td>-118.3586</td>\n",
       "      <td>POINT (-118.35860 34.04090)</td>\n",
       "    </tr>\n",
       "    <tr>\n",
       "      <th>86769</th>\n",
       "      <td>191300738</td>\n",
       "      <td>2019-06-11</td>\n",
       "      <td>2010-06-07</td>\n",
       "      <td>1800</td>\n",
       "      <td>Newton</td>\n",
       "      <td>1383</td>\n",
       "      <td>23</td>\n",
       "      <td>M</td>\n",
       "      <td>B</td>\n",
       "      <td>MULTI-UNIT DWELLING (APARTMENT, DUPLEX, ETC)</td>\n",
       "      <td>NaN</td>\n",
       "      <td>NaN</td>\n",
       "      <td>Invest Cont</td>\n",
       "      <td>5800 S  BROADWAY</td>\n",
       "      <td>33.9829</td>\n",
       "      <td>-118.2783</td>\n",
       "      <td>POINT (-118.27830 33.98290)</td>\n",
       "    </tr>\n",
       "  </tbody>\n",
       "</table>\n",
       "</div>"
      ],
      "text/plain": [
       "           DR_NO  Date Rptd   DATE OCC  TIME OCC AREA NAME  Rpt Dist No  \\\n",
       "85876  190705631 2019-02-04 2010-07-01      1100  Wilshire          773   \n",
       "86769  191300738 2019-06-11 2010-06-07      1800    Newton         1383   \n",
       "\n",
       "       Vict Age Vict Sex Vict Descent  \\\n",
       "85876        60        F            B   \n",
       "86769        23        M            B   \n",
       "\n",
       "                                        Premis Desc  Weapon Used Cd  \\\n",
       "85876                        SINGLE FAMILY DWELLING             NaN   \n",
       "86769  MULTI-UNIT DWELLING (APARTMENT, DUPLEX, ETC)             NaN   \n",
       "\n",
       "      Weapon Desc  Status Desc                                 LOCATION  \\\n",
       "85876         NaN  Invest Cont  1900 S  RIDGELEY                     DR   \n",
       "86769         NaN  Invest Cont                         5800 S  BROADWAY   \n",
       "\n",
       "           LAT       LON                     geometry  \n",
       "85876  34.0409 -118.3586  POINT (-118.35860 34.04090)  \n",
       "86769  33.9829 -118.2783  POINT (-118.27830 33.98290)  "
      ]
     },
     "execution_count": 24,
     "metadata": {},
     "output_type": "execute_result"
    }
   ],
   "source": [
    "gdfCrime.head(2)"
   ]
  },
  {
   "cell_type": "code",
   "execution_count": 51,
   "metadata": {},
   "outputs": [
    {
     "name": "stderr",
     "output_type": "stream",
     "text": [
      "C:\\Users\\lizge\\AppData\\Local\\Temp\\ipykernel_12248\\1144187549.py:1: UserWarning: Geometry is in a geographic CRS. Results from 'buffer' are likely incorrect. Use 'GeoSeries.to_crs()' to re-project geometries to a projected CRS before this operation.\n",
      "\n",
      "  gdfCrime['geometry'] = gdfCrime.geometry.buffer(0.01)\n"
     ]
    }
   ],
   "source": [
    "gdfCrime['geometry'] = gdfCrime.geometry.buffer(0.01)"
   ]
  },
  {
   "cell_type": "code",
   "execution_count": 26,
   "metadata": {},
   "outputs": [
    {
     "data": {
      "text/html": [
       "<div>\n",
       "<style scoped>\n",
       "    .dataframe tbody tr th:only-of-type {\n",
       "        vertical-align: middle;\n",
       "    }\n",
       "\n",
       "    .dataframe tbody tr th {\n",
       "        vertical-align: top;\n",
       "    }\n",
       "\n",
       "    .dataframe thead th {\n",
       "        text-align: right;\n",
       "    }\n",
       "</style>\n",
       "<table border=\"1\" class=\"dataframe\">\n",
       "  <thead>\n",
       "    <tr style=\"text-align: right;\">\n",
       "      <th></th>\n",
       "      <th>DR_NO</th>\n",
       "      <th>Date Rptd</th>\n",
       "      <th>DATE OCC</th>\n",
       "      <th>TIME OCC</th>\n",
       "      <th>AREA NAME</th>\n",
       "      <th>Rpt Dist No</th>\n",
       "      <th>Vict Age</th>\n",
       "      <th>Vict Sex</th>\n",
       "      <th>Vict Descent</th>\n",
       "      <th>Premis Desc</th>\n",
       "      <th>Weapon Used Cd</th>\n",
       "      <th>Weapon Desc</th>\n",
       "      <th>Status Desc</th>\n",
       "      <th>LOCATION</th>\n",
       "      <th>LAT</th>\n",
       "      <th>LON</th>\n",
       "      <th>geometry</th>\n",
       "    </tr>\n",
       "  </thead>\n",
       "  <tbody>\n",
       "    <tr>\n",
       "      <th>85876</th>\n",
       "      <td>190705631</td>\n",
       "      <td>2019-02-04</td>\n",
       "      <td>2010-07-01</td>\n",
       "      <td>1100</td>\n",
       "      <td>Wilshire</td>\n",
       "      <td>773</td>\n",
       "      <td>60</td>\n",
       "      <td>F</td>\n",
       "      <td>B</td>\n",
       "      <td>SINGLE FAMILY DWELLING</td>\n",
       "      <td>NaN</td>\n",
       "      <td>NaN</td>\n",
       "      <td>Invest Cont</td>\n",
       "      <td>1900 S  RIDGELEY                     DR</td>\n",
       "      <td>34.0409</td>\n",
       "      <td>-118.3586</td>\n",
       "      <td>POLYGON ((-118.35760 34.04090, -118.35760 34.0...</td>\n",
       "    </tr>\n",
       "    <tr>\n",
       "      <th>86769</th>\n",
       "      <td>191300738</td>\n",
       "      <td>2019-06-11</td>\n",
       "      <td>2010-06-07</td>\n",
       "      <td>1800</td>\n",
       "      <td>Newton</td>\n",
       "      <td>1383</td>\n",
       "      <td>23</td>\n",
       "      <td>M</td>\n",
       "      <td>B</td>\n",
       "      <td>MULTI-UNIT DWELLING (APARTMENT, DUPLEX, ETC)</td>\n",
       "      <td>NaN</td>\n",
       "      <td>NaN</td>\n",
       "      <td>Invest Cont</td>\n",
       "      <td>5800 S  BROADWAY</td>\n",
       "      <td>33.9829</td>\n",
       "      <td>-118.2783</td>\n",
       "      <td>POLYGON ((-118.27730 33.98290, -118.27730 33.9...</td>\n",
       "    </tr>\n",
       "  </tbody>\n",
       "</table>\n",
       "</div>"
      ],
      "text/plain": [
       "           DR_NO  Date Rptd   DATE OCC  TIME OCC AREA NAME  Rpt Dist No  \\\n",
       "85876  190705631 2019-02-04 2010-07-01      1100  Wilshire          773   \n",
       "86769  191300738 2019-06-11 2010-06-07      1800    Newton         1383   \n",
       "\n",
       "       Vict Age Vict Sex Vict Descent  \\\n",
       "85876        60        F            B   \n",
       "86769        23        M            B   \n",
       "\n",
       "                                        Premis Desc  Weapon Used Cd  \\\n",
       "85876                        SINGLE FAMILY DWELLING             NaN   \n",
       "86769  MULTI-UNIT DWELLING (APARTMENT, DUPLEX, ETC)             NaN   \n",
       "\n",
       "      Weapon Desc  Status Desc                                 LOCATION  \\\n",
       "85876         NaN  Invest Cont  1900 S  RIDGELEY                     DR   \n",
       "86769         NaN  Invest Cont                         5800 S  BROADWAY   \n",
       "\n",
       "           LAT       LON                                           geometry  \n",
       "85876  34.0409 -118.3586  POLYGON ((-118.35760 34.04090, -118.35760 34.0...  \n",
       "86769  33.9829 -118.2783  POLYGON ((-118.27730 33.98290, -118.27730 33.9...  "
      ]
     },
     "execution_count": 26,
     "metadata": {},
     "output_type": "execute_result"
    }
   ],
   "source": [
    "gdfCrime.head(2)"
   ]
  },
  {
   "cell_type": "code",
   "execution_count": 31,
   "metadata": {},
   "outputs": [],
   "source": [
    "#change Date columns back to string format because shp and json files don't take dates\n",
    "gdfCrime['DATE OCC'] = gdfCrime['DATE OCC'].astype(str)"
   ]
  },
  {
   "cell_type": "code",
   "execution_count": 32,
   "metadata": {},
   "outputs": [],
   "source": [
    "gdfCrime['Date Rptd'] = gdfCrime['Date Rptd'].astype(str)"
   ]
  },
  {
   "cell_type": "code",
   "execution_count": 33,
   "metadata": {},
   "outputs": [
    {
     "name": "stderr",
     "output_type": "stream",
     "text": [
      "C:\\Users\\lizge\\AppData\\Local\\Temp\\ipykernel_12248\\1006562327.py:2: UserWarning: Column names longer than 10 characters will be truncated when saved to ESRI Shapefile.\n",
      "  gdfCrime.to_file(r'C:\\Documents\\projects\\HackLA\\311\\data\\WorkedonData\\Geo\\crime.crimeGeo.shp')\n"
     ]
    }
   ],
   "source": [
    "#save gdfCrime to hard drive \n",
    "gdfCrime.to_file(r'C:\\Documents\\projects\\HackLA\\311\\data\\WorkedonData\\Geo\\crime.crimeGeo.shp')"
   ]
  },
  {
   "cell_type": "code",
   "execution_count": 39,
   "metadata": {},
   "outputs": [
    {
     "data": {
      "text/html": [
       "<div>\n",
       "<style scoped>\n",
       "    .dataframe tbody tr th:only-of-type {\n",
       "        vertical-align: middle;\n",
       "    }\n",
       "\n",
       "    .dataframe tbody tr th {\n",
       "        vertical-align: top;\n",
       "    }\n",
       "\n",
       "    .dataframe thead th {\n",
       "        text-align: right;\n",
       "    }\n",
       "</style>\n",
       "<table border=\"1\" class=\"dataframe\">\n",
       "  <thead>\n",
       "    <tr style=\"text-align: right;\">\n",
       "      <th></th>\n",
       "      <th>OBJECTID</th>\n",
       "      <th>NCName</th>\n",
       "      <th>NC_ID</th>\n",
       "      <th>CERTIFIED</th>\n",
       "      <th>TOOLTIP</th>\n",
       "      <th>SERVICE_RE</th>\n",
       "      <th>geometry</th>\n",
       "      <th>SRNumber</th>\n",
       "      <th>CreatDt</th>\n",
       "      <th>UpdateDt</th>\n",
       "      <th>ReqTpe</th>\n",
       "      <th>ReqSrc</th>\n",
       "      <th>Address</th>\n",
       "      <th>ZipCode</th>\n",
       "      <th>Lat</th>\n",
       "      <th>Lon</th>\n",
       "      <th>Location</th>\n",
       "      <th>Area</th>\n",
       "    </tr>\n",
       "  </thead>\n",
       "  <tbody>\n",
       "    <tr>\n",
       "      <th>0</th>\n",
       "      <td>1.0</td>\n",
       "      <td>ARLETA NC</td>\n",
       "      <td>6</td>\n",
       "      <td>2002-10-22</td>\n",
       "      <td>ARLETA NC</td>\n",
       "      <td>REGION 1 - NORTH EAST VALLEY</td>\n",
       "      <td>POLYGON ((-118.44305 34.26328, -118.44303 34.2...</td>\n",
       "      <td>1-1262725561</td>\n",
       "      <td>01/01/2019 10:30:00 AM</td>\n",
       "      <td>01/05/2019 11:16:00 AM</td>\n",
       "      <td>Bulky Items</td>\n",
       "      <td>Call</td>\n",
       "      <td>9489 N DORRINGTON AVE, 91331</td>\n",
       "      <td>91331.0</td>\n",
       "      <td>34.242677</td>\n",
       "      <td>-118.444364</td>\n",
       "      <td>(34.2426768839, -118.444363615)</td>\n",
       "      <td>MISSION</td>\n",
       "    </tr>\n",
       "    <tr>\n",
       "      <th>1</th>\n",
       "      <td>1.0</td>\n",
       "      <td>ARLETA NC</td>\n",
       "      <td>6</td>\n",
       "      <td>2002-10-22</td>\n",
       "      <td>ARLETA NC</td>\n",
       "      <td>REGION 1 - NORTH EAST VALLEY</td>\n",
       "      <td>POLYGON ((-118.44305 34.26328, -118.44303 34.2...</td>\n",
       "      <td>1-1262780112</td>\n",
       "      <td>01/01/2019 02:46:00 PM</td>\n",
       "      <td>01/02/2019 08:09:00 AM</td>\n",
       "      <td>Graffiti Removal</td>\n",
       "      <td>Mobile App</td>\n",
       "      <td>14222 W WEIDNER ST, 91331</td>\n",
       "      <td>91331.0</td>\n",
       "      <td>34.258201</td>\n",
       "      <td>-118.442768</td>\n",
       "      <td>(34.258200559, -118.442768159)</td>\n",
       "      <td>MISSION</td>\n",
       "    </tr>\n",
       "  </tbody>\n",
       "</table>\n",
       "</div>"
      ],
      "text/plain": [
       "   OBJECTID     NCName  NC_ID   CERTIFIED    TOOLTIP  \\\n",
       "0       1.0  ARLETA NC      6  2002-10-22  ARLETA NC   \n",
       "1       1.0  ARLETA NC      6  2002-10-22  ARLETA NC   \n",
       "\n",
       "                     SERVICE_RE  \\\n",
       "0  REGION 1 - NORTH EAST VALLEY   \n",
       "1  REGION 1 - NORTH EAST VALLEY   \n",
       "\n",
       "                                            geometry      SRNumber  \\\n",
       "0  POLYGON ((-118.44305 34.26328, -118.44303 34.2...  1-1262725561   \n",
       "1  POLYGON ((-118.44305 34.26328, -118.44303 34.2...  1-1262780112   \n",
       "\n",
       "                  CreatDt                UpdateDt            ReqTpe  \\\n",
       "0  01/01/2019 10:30:00 AM  01/05/2019 11:16:00 AM       Bulky Items   \n",
       "1  01/01/2019 02:46:00 PM  01/02/2019 08:09:00 AM  Graffiti Removal   \n",
       "\n",
       "       ReqSrc                       Address  ZipCode        Lat         Lon  \\\n",
       "0        Call  9489 N DORRINGTON AVE, 91331  91331.0  34.242677 -118.444364   \n",
       "1  Mobile App     14222 W WEIDNER ST, 91331  91331.0  34.258201 -118.442768   \n",
       "\n",
       "                          Location     Area  \n",
       "0  (34.2426768839, -118.444363615)  MISSION  \n",
       "1   (34.258200559, -118.442768159)  MISSION  "
      ]
     },
     "execution_count": 39,
     "metadata": {},
     "output_type": "execute_result"
    }
   ],
   "source": [
    "callNCGeo.head(2)"
   ]
  },
  {
   "cell_type": "code",
   "execution_count": 42,
   "metadata": {},
   "outputs": [],
   "source": [
    "callNCGeo['CreatDt'] = callNCGeo['CreatDt'].astype(str)"
   ]
  },
  {
   "cell_type": "code",
   "execution_count": 43,
   "metadata": {},
   "outputs": [],
   "source": [
    "callNCGeo['UpdateDt'] = callNCGeo['UpdateDt'].astype(str)\n"
   ]
  },
  {
   "cell_type": "code",
   "execution_count": 50,
   "metadata": {},
   "outputs": [],
   "source": [
    "gdfCrime.crs = \"EPSG:4326\""
   ]
  },
  {
   "cell_type": "code",
   "execution_count": 44,
   "metadata": {},
   "outputs": [
    {
     "data": {
      "text/plain": [
       "(1288803, 18)"
      ]
     },
     "execution_count": 44,
     "metadata": {},
     "output_type": "execute_result"
    }
   ],
   "source": [
    "callNCGeo.shape"
   ]
  },
  {
   "cell_type": "code",
   "execution_count": 45,
   "metadata": {},
   "outputs": [
    {
     "data": {
      "text/plain": [
       "(220556, 17)"
      ]
     },
     "execution_count": 45,
     "metadata": {},
     "output_type": "execute_result"
    }
   ],
   "source": [
    "gdfCrime.shape"
   ]
  },
  {
   "cell_type": "code",
   "execution_count": 52,
   "metadata": {},
   "outputs": [
    {
     "ename": "KeyboardInterrupt",
     "evalue": "",
     "output_type": "error",
     "traceback": [
      "\u001b[1;31m---------------------------------------------------------------------------\u001b[0m",
      "\u001b[1;31mKeyboardInterrupt\u001b[0m                         Traceback (most recent call last)",
      "Cell \u001b[1;32mIn [52], line 1\u001b[0m\n\u001b[1;32m----> 1\u001b[0m callNCGeo\u001b[39m.\u001b[39;49msjoin(gdfCrime, how\u001b[39m=\u001b[39;49m\u001b[39m\"\u001b[39;49m\u001b[39mleft\u001b[39;49m\u001b[39m\"\u001b[39;49m)\n",
      "File \u001b[1;32mc:\\Users\\lizge\\anaconda3\\envs\\geo_env2\\lib\\site-packages\\geopandas\\geodataframe.py:2090\u001b[0m, in \u001b[0;36mGeoDataFrame.sjoin\u001b[1;34m(self, df, *args, **kwargs)\u001b[0m\n\u001b[0;32m   2012\u001b[0m \u001b[39mdef\u001b[39;00m \u001b[39msjoin\u001b[39m(\u001b[39mself\u001b[39m, df, \u001b[39m*\u001b[39margs, \u001b[39m*\u001b[39m\u001b[39m*\u001b[39mkwargs):\n\u001b[0;32m   2013\u001b[0m     \u001b[39m\"\"\"Spatial join of two GeoDataFrames.\u001b[39;00m\n\u001b[0;32m   2014\u001b[0m \n\u001b[0;32m   2015\u001b[0m \u001b[39m    See the User Guide page :doc:`../../user_guide/mergingdata` for details.\u001b[39;00m\n\u001b[1;32m   (...)\u001b[0m\n\u001b[0;32m   2088\u001b[0m \u001b[39m    sjoin : equivalent top-level function\u001b[39;00m\n\u001b[0;32m   2089\u001b[0m \u001b[39m    \"\"\"\u001b[39;00m\n\u001b[1;32m-> 2090\u001b[0m     \u001b[39mreturn\u001b[39;00m geopandas\u001b[39m.\u001b[39msjoin(left_df\u001b[39m=\u001b[39m\u001b[39mself\u001b[39m, right_df\u001b[39m=\u001b[39mdf, \u001b[39m*\u001b[39margs, \u001b[39m*\u001b[39m\u001b[39m*\u001b[39mkwargs)\n",
      "File \u001b[1;32mc:\\Users\\lizge\\anaconda3\\envs\\geo_env2\\lib\\site-packages\\geopandas\\tools\\sjoin.py:124\u001b[0m, in \u001b[0;36msjoin\u001b[1;34m(left_df, right_df, how, predicate, lsuffix, rsuffix, **kwargs)\u001b[0m\n\u001b[0;32m    120\u001b[0m     \u001b[39mraise\u001b[39;00m \u001b[39mTypeError\u001b[39;00m(\u001b[39mf\u001b[39m\u001b[39m\"\u001b[39m\u001b[39msjoin() got an unexpected keyword argument \u001b[39m\u001b[39m'\u001b[39m\u001b[39m{\u001b[39;00mfirst\u001b[39m}\u001b[39;00m\u001b[39m'\u001b[39m\u001b[39m\"\u001b[39m)\n\u001b[0;32m    122\u001b[0m _basic_checks(left_df, right_df, how, lsuffix, rsuffix)\n\u001b[1;32m--> 124\u001b[0m indices \u001b[39m=\u001b[39m _geom_predicate_query(left_df, right_df, predicate)\n\u001b[0;32m    126\u001b[0m joined \u001b[39m=\u001b[39m _frame_join(indices, left_df, right_df, how, lsuffix, rsuffix)\n\u001b[0;32m    128\u001b[0m \u001b[39mreturn\u001b[39;00m joined\n",
      "File \u001b[1;32mc:\\Users\\lizge\\anaconda3\\envs\\geo_env2\\lib\\site-packages\\geopandas\\tools\\sjoin.py:220\u001b[0m, in \u001b[0;36m_geom_predicate_query\u001b[1;34m(left_df, right_df, predicate)\u001b[0m\n\u001b[0;32m    217\u001b[0m         input_geoms \u001b[39m=\u001b[39m left_df\u001b[39m.\u001b[39mgeometry\n\u001b[0;32m    219\u001b[0m \u001b[39mif\u001b[39;00m sindex:\n\u001b[1;32m--> 220\u001b[0m     l_idx, r_idx \u001b[39m=\u001b[39m sindex\u001b[39m.\u001b[39;49mquery_bulk(input_geoms, predicate\u001b[39m=\u001b[39;49mpredicate, sort\u001b[39m=\u001b[39;49m\u001b[39mFalse\u001b[39;49;00m)\n\u001b[0;32m    221\u001b[0m     indices \u001b[39m=\u001b[39m pd\u001b[39m.\u001b[39mDataFrame({\u001b[39m\"\u001b[39m\u001b[39m_key_left\u001b[39m\u001b[39m\"\u001b[39m: l_idx, \u001b[39m\"\u001b[39m\u001b[39m_key_right\u001b[39m\u001b[39m\"\u001b[39m: r_idx})\n\u001b[0;32m    222\u001b[0m \u001b[39melse\u001b[39;00m:\n\u001b[0;32m    223\u001b[0m     \u001b[39m# when sindex is empty / has no valid geometries\u001b[39;00m\n",
      "File \u001b[1;32mc:\\Users\\lizge\\anaconda3\\envs\\geo_env2\\lib\\site-packages\\geopandas\\sindex.py:531\u001b[0m, in \u001b[0;36mRTreeIndex.query_bulk\u001b[1;34m(self, geometry, predicate, sort)\u001b[0m\n\u001b[0;32m    528\u001b[0m input_geometry_index \u001b[39m=\u001b[39m []\n\u001b[0;32m    530\u001b[0m \u001b[39mfor\u001b[39;00m i, geo \u001b[39min\u001b[39;00m \u001b[39menumerate\u001b[39m(geometry):\n\u001b[1;32m--> 531\u001b[0m     res \u001b[39m=\u001b[39m \u001b[39mself\u001b[39;49m\u001b[39m.\u001b[39;49mquery(geo, predicate\u001b[39m=\u001b[39;49mpredicate, sort\u001b[39m=\u001b[39;49msort)\n\u001b[0;32m    532\u001b[0m     tree_index\u001b[39m.\u001b[39mextend(res)\n\u001b[0;32m    533\u001b[0m     input_geometry_index\u001b[39m.\u001b[39mextend([i] \u001b[39m*\u001b[39m \u001b[39mlen\u001b[39m(res))\n",
      "File \u001b[1;32mc:\\Users\\lizge\\anaconda3\\envs\\geo_env2\\lib\\site-packages\\geopandas\\sindex.py:472\u001b[0m, in \u001b[0;36mRTreeIndex.query\u001b[1;34m(self, geometry, predicate, sort)\u001b[0m\n\u001b[0;32m    470\u001b[0m \u001b[39m# query tree\u001b[39;00m\n\u001b[0;32m    471\u001b[0m bounds \u001b[39m=\u001b[39m geometry\u001b[39m.\u001b[39mbounds  \u001b[39m# rtree operates on bounds\u001b[39;00m\n\u001b[1;32m--> 472\u001b[0m tree_idx \u001b[39m=\u001b[39m \u001b[39mlist\u001b[39m(\u001b[39mself\u001b[39;49m\u001b[39m.\u001b[39;49mintersection(bounds))\n\u001b[0;32m    474\u001b[0m \u001b[39mif\u001b[39;00m \u001b[39mnot\u001b[39;00m tree_idx:\n\u001b[0;32m    475\u001b[0m     \u001b[39mreturn\u001b[39;00m np\u001b[39m.\u001b[39marray([], dtype\u001b[39m=\u001b[39mnp\u001b[39m.\u001b[39mintp)\n",
      "File \u001b[1;32mc:\\Users\\lizge\\anaconda3\\envs\\geo_env2\\lib\\site-packages\\geopandas\\sindex.py:604\u001b[0m, in \u001b[0;36mRTreeIndex.intersection\u001b[1;34m(self, coordinates)\u001b[0m\n\u001b[0;32m    602\u001b[0m \u001b[39m@doc\u001b[39m(BaseSpatialIndex\u001b[39m.\u001b[39mintersection)\n\u001b[0;32m    603\u001b[0m \u001b[39mdef\u001b[39;00m \u001b[39mintersection\u001b[39m(\u001b[39mself\u001b[39m, coordinates):\n\u001b[1;32m--> 604\u001b[0m     \u001b[39mreturn\u001b[39;00m \u001b[39msuper\u001b[39;49m()\u001b[39m.\u001b[39;49mintersection(coordinates, objects\u001b[39m=\u001b[39;49m\u001b[39mFalse\u001b[39;49;00m)\n",
      "File \u001b[1;32mc:\\Users\\lizge\\anaconda3\\envs\\geo_env2\\lib\\site-packages\\rtree\\index.py:827\u001b[0m, in \u001b[0;36mIndex.intersection\u001b[1;34m(self, coordinates, objects)\u001b[0m\n\u001b[0;32m    823\u001b[0m p_num_results \u001b[39m=\u001b[39m ctypes\u001b[39m.\u001b[39mc_uint64(\u001b[39m0\u001b[39m)\n\u001b[0;32m    825\u001b[0m it \u001b[39m=\u001b[39m ctypes\u001b[39m.\u001b[39mpointer(ctypes\u001b[39m.\u001b[39mc_int64())\n\u001b[1;32m--> 827\u001b[0m core\u001b[39m.\u001b[39;49mrt\u001b[39m.\u001b[39;49mIndex_Intersects_id(\n\u001b[0;32m    828\u001b[0m     \u001b[39mself\u001b[39;49m\u001b[39m.\u001b[39;49mhandle,\n\u001b[0;32m    829\u001b[0m     p_mins,\n\u001b[0;32m    830\u001b[0m     p_maxs,\n\u001b[0;32m    831\u001b[0m     \u001b[39mself\u001b[39;49m\u001b[39m.\u001b[39;49mproperties\u001b[39m.\u001b[39;49mdimension,\n\u001b[0;32m    832\u001b[0m     ctypes\u001b[39m.\u001b[39;49mbyref(it),\n\u001b[0;32m    833\u001b[0m     ctypes\u001b[39m.\u001b[39;49mbyref(p_num_results),\n\u001b[0;32m    834\u001b[0m )\n\u001b[0;32m    835\u001b[0m \u001b[39mreturn\u001b[39;00m \u001b[39mself\u001b[39m\u001b[39m.\u001b[39m_get_ids(it, p_num_results\u001b[39m.\u001b[39mvalue)\n",
      "File \u001b[1;32mc:\\Users\\lizge\\anaconda3\\envs\\geo_env2\\lib\\site-packages\\rtree\\core.py:7\u001b[0m, in \u001b[0;36mcheck_return\u001b[1;34m(result, func, cargs)\u001b[0m\n\u001b[0;32m      3\u001b[0m \u001b[39mfrom\u001b[39;00m \u001b[39m.\u001b[39;00m \u001b[39mimport\u001b[39;00m finder\n\u001b[0;32m      4\u001b[0m \u001b[39mfrom\u001b[39;00m \u001b[39m.\u001b[39;00m\u001b[39mexceptions\u001b[39;00m \u001b[39mimport\u001b[39;00m RTreeError\n\u001b[1;32m----> 7\u001b[0m \u001b[39mdef\u001b[39;00m \u001b[39mcheck_return\u001b[39m(result, func, cargs):\n\u001b[0;32m      8\u001b[0m     \u001b[39m\"\u001b[39m\u001b[39mError checking for Error calls\u001b[39m\u001b[39m\"\u001b[39m\n\u001b[0;32m      9\u001b[0m     \u001b[39mif\u001b[39;00m result \u001b[39m!=\u001b[39m \u001b[39m0\u001b[39m:\n",
      "\u001b[1;31mKeyboardInterrupt\u001b[0m: "
     ]
    }
   ],
   "source": [
    "callNCGeo.sjoin(gdfCrime, how=\"left\")"
   ]
  },
  {
   "cell_type": "code",
   "execution_count": null,
   "metadata": {},
   "outputs": [],
   "source": []
  }
 ],
 "metadata": {
  "kernelspec": {
   "display_name": "Python 3.10.6 ('geo_env2')",
   "language": "python",
   "name": "python3"
  },
  "language_info": {
   "codemirror_mode": {
    "name": "ipython",
    "version": 3
   },
   "file_extension": ".py",
   "mimetype": "text/x-python",
   "name": "python",
   "nbconvert_exporter": "python",
   "pygments_lexer": "ipython3",
   "version": "3.10.6"
  },
  "orig_nbformat": 4,
  "vscode": {
   "interpreter": {
    "hash": "5e7dd09eb9e9fc024760a0efd762b9c997a175f9ea9e46b6f4e0f2155c6575a7"
   }
  }
 },
 "nbformat": 4,
 "nbformat_minor": 2
}
