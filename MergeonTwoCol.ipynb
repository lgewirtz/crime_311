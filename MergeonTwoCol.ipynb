{
 "cells": [
  {
   "cell_type": "code",
   "execution_count": 48,
   "id": "44d72bfe",
   "metadata": {},
   "outputs": [],
   "source": [
    "# Import the necessary packages\n",
    "import pandas as pd\n",
    "#import os\n",
    "import numpy as np\n",
    "from datetime import datetime"
   ]
  },
  {
   "cell_type": "code",
   "execution_count": 49,
   "id": "98b44ea2",
   "metadata": {},
   "outputs": [],
   "source": [
    "\n",
    "\n",
    "# Since the 311 request data file is so huge, we set the low_memory = False...\n",
    "la_311 = pd.read_csv(r'C:\\Documents\\projects\\HackLA\\311\\data\\call data 311 website\\MyLA311_Service_Request_Data_2019.csv', low_memory=False, index_col=None) \n"
   ]
  },
  {
   "cell_type": "code",
   "execution_count": 72,
   "id": "7f977e5d",
   "metadata": {},
   "outputs": [],
   "source": [
    "crime_data = pd.read_csv(r'C:\\Documents\\projects\\HackLA\\311\\data\\crime data\\Crime_Data_from_2010_to_2019.csv', index_col=None)"
   ]
  },
  {
   "cell_type": "code",
   "execution_count": 51,
   "id": "91d93dfe",
   "metadata": {},
   "outputs": [
    {
     "data": {
      "text/html": [
       "<div>\n",
       "<style scoped>\n",
       "    .dataframe tbody tr th:only-of-type {\n",
       "        vertical-align: middle;\n",
       "    }\n",
       "\n",
       "    .dataframe tbody tr th {\n",
       "        vertical-align: top;\n",
       "    }\n",
       "\n",
       "    .dataframe thead th {\n",
       "        text-align: right;\n",
       "    }\n",
       "</style>\n",
       "<table border=\"1\" class=\"dataframe\">\n",
       "  <thead>\n",
       "    <tr style=\"text-align: right;\">\n",
       "      <th></th>\n",
       "      <th>SRNumber</th>\n",
       "      <th>CreatedDate</th>\n",
       "      <th>UpdatedDate</th>\n",
       "      <th>ActionTaken</th>\n",
       "      <th>Owner</th>\n",
       "      <th>RequestType</th>\n",
       "      <th>Status</th>\n",
       "      <th>RequestSource</th>\n",
       "      <th>CreatedByUserOrganization</th>\n",
       "      <th>MobileOS</th>\n",
       "      <th>Anonymous</th>\n",
       "      <th>AssignTo</th>\n",
       "      <th>ServiceDate</th>\n",
       "      <th>ClosedDate</th>\n",
       "      <th>AddressVerified</th>\n",
       "      <th>ApproximateAddress</th>\n",
       "      <th>Address</th>\n",
       "      <th>HouseNumber</th>\n",
       "      <th>Direction</th>\n",
       "      <th>StreetName</th>\n",
       "      <th>Suffix</th>\n",
       "      <th>ZipCode</th>\n",
       "      <th>Latitude</th>\n",
       "      <th>Longitude</th>\n",
       "      <th>Location</th>\n",
       "      <th>TBMPage</th>\n",
       "      <th>TBMColumn</th>\n",
       "      <th>TBMRow</th>\n",
       "      <th>APC</th>\n",
       "      <th>CD</th>\n",
       "      <th>CDMember</th>\n",
       "      <th>NC</th>\n",
       "      <th>NCName</th>\n",
       "      <th>PolicePrecinct</th>\n",
       "    </tr>\n",
       "  </thead>\n",
       "  <tbody>\n",
       "    <tr>\n",
       "      <th>0</th>\n",
       "      <td>1-1262692791</td>\n",
       "      <td>01/01/2019 12:02:00 AM</td>\n",
       "      <td>01/04/2019 11:03:00 AM</td>\n",
       "      <td>SR Created</td>\n",
       "      <td>BOS</td>\n",
       "      <td>Bulky Items</td>\n",
       "      <td>Closed</td>\n",
       "      <td>Self Service</td>\n",
       "      <td>Self Service_SAN</td>\n",
       "      <td>NaN</td>\n",
       "      <td>N</td>\n",
       "      <td>NC</td>\n",
       "      <td>01/04/2019 12:00:00 AM</td>\n",
       "      <td>01/04/2019 11:03:00 AM</td>\n",
       "      <td>Y</td>\n",
       "      <td>N</td>\n",
       "      <td>616 N GRAMERCY PL, 90004</td>\n",
       "      <td>616.0</td>\n",
       "      <td>N</td>\n",
       "      <td>GRAMERCY</td>\n",
       "      <td>PL</td>\n",
       "      <td>90004.0</td>\n",
       "      <td>34.082258</td>\n",
       "      <td>-118.312461</td>\n",
       "      <td>(34.0822581437, -118.312461304)</td>\n",
       "      <td>593.0</td>\n",
       "      <td>H</td>\n",
       "      <td>7.0</td>\n",
       "      <td>Central APC</td>\n",
       "      <td>4.0</td>\n",
       "      <td>David Ryu</td>\n",
       "      <td>119.0</td>\n",
       "      <td>GREATER WILSHIRE NC</td>\n",
       "      <td>OLYMPIC</td>\n",
       "    </tr>\n",
       "    <tr>\n",
       "      <th>1</th>\n",
       "      <td>1-1262693531</td>\n",
       "      <td>01/01/2019 12:05:00 AM</td>\n",
       "      <td>01/01/2019 12:09:00 AM</td>\n",
       "      <td>SR Created</td>\n",
       "      <td>LADWP</td>\n",
       "      <td>Report Water Waste</td>\n",
       "      <td>Closed</td>\n",
       "      <td>Mobile App</td>\n",
       "      <td>Self Service</td>\n",
       "      <td>Android</td>\n",
       "      <td>N</td>\n",
       "      <td>NaN</td>\n",
       "      <td>NaN</td>\n",
       "      <td>01/01/2019 12:05:00 AM</td>\n",
       "      <td>Y</td>\n",
       "      <td>NaN</td>\n",
       "      <td>11500 W SAN VICENTE BLVD, 90049</td>\n",
       "      <td>11500.0</td>\n",
       "      <td>W</td>\n",
       "      <td>SAN VICENTE</td>\n",
       "      <td>BLVD</td>\n",
       "      <td>90049.0</td>\n",
       "      <td>34.052739</td>\n",
       "      <td>-118.461185</td>\n",
       "      <td>(34.052739298, -118.461184916)</td>\n",
       "      <td>631.0</td>\n",
       "      <td>J</td>\n",
       "      <td>4.0</td>\n",
       "      <td>West Los Angeles APC</td>\n",
       "      <td>11.0</td>\n",
       "      <td>Mike Bonin</td>\n",
       "      <td>NaN</td>\n",
       "      <td>NaN</td>\n",
       "      <td>WEST LOS ANGELES</td>\n",
       "    </tr>\n",
       "  </tbody>\n",
       "</table>\n",
       "</div>"
      ],
      "text/plain": [
       "       SRNumber             CreatedDate             UpdatedDate ActionTaken  \\\n",
       "0  1-1262692791  01/01/2019 12:02:00 AM  01/04/2019 11:03:00 AM  SR Created   \n",
       "1  1-1262693531  01/01/2019 12:05:00 AM  01/01/2019 12:09:00 AM  SR Created   \n",
       "\n",
       "   Owner         RequestType  Status RequestSource CreatedByUserOrganization  \\\n",
       "0    BOS         Bulky Items  Closed  Self Service          Self Service_SAN   \n",
       "1  LADWP  Report Water Waste  Closed    Mobile App              Self Service   \n",
       "\n",
       "  MobileOS Anonymous AssignTo             ServiceDate              ClosedDate  \\\n",
       "0      NaN         N       NC  01/04/2019 12:00:00 AM  01/04/2019 11:03:00 AM   \n",
       "1  Android         N      NaN                     NaN  01/01/2019 12:05:00 AM   \n",
       "\n",
       "  AddressVerified ApproximateAddress                          Address  \\\n",
       "0               Y                  N         616 N GRAMERCY PL, 90004   \n",
       "1               Y                NaN  11500 W SAN VICENTE BLVD, 90049   \n",
       "\n",
       "   HouseNumber Direction   StreetName Suffix  ZipCode   Latitude   Longitude  \\\n",
       "0        616.0         N     GRAMERCY     PL  90004.0  34.082258 -118.312461   \n",
       "1      11500.0         W  SAN VICENTE   BLVD  90049.0  34.052739 -118.461185   \n",
       "\n",
       "                          Location  TBMPage TBMColumn  TBMRow  \\\n",
       "0  (34.0822581437, -118.312461304)    593.0         H     7.0   \n",
       "1   (34.052739298, -118.461184916)    631.0         J     4.0   \n",
       "\n",
       "                    APC    CD    CDMember     NC               NCName  \\\n",
       "0           Central APC   4.0   David Ryu  119.0  GREATER WILSHIRE NC   \n",
       "1  West Los Angeles APC  11.0  Mike Bonin    NaN                  NaN   \n",
       "\n",
       "     PolicePrecinct  \n",
       "0           OLYMPIC  \n",
       "1  WEST LOS ANGELES  "
      ]
     },
     "execution_count": 51,
     "metadata": {},
     "output_type": "execute_result"
    }
   ],
   "source": [
    "la_311.head(2)"
   ]
  },
  {
   "cell_type": "code",
   "execution_count": 52,
   "id": "64e1ad13",
   "metadata": {},
   "outputs": [
    {
     "data": {
      "text/html": [
       "<div>\n",
       "<style scoped>\n",
       "    .dataframe tbody tr th:only-of-type {\n",
       "        vertical-align: middle;\n",
       "    }\n",
       "\n",
       "    .dataframe tbody tr th {\n",
       "        vertical-align: top;\n",
       "    }\n",
       "\n",
       "    .dataframe thead th {\n",
       "        text-align: right;\n",
       "    }\n",
       "</style>\n",
       "<table border=\"1\" class=\"dataframe\">\n",
       "  <thead>\n",
       "    <tr style=\"text-align: right;\">\n",
       "      <th></th>\n",
       "      <th>SRNumber</th>\n",
       "      <th>CreatedDate</th>\n",
       "      <th>UpdatedDate</th>\n",
       "      <th>NC</th>\n",
       "      <th>NCName</th>\n",
       "      <th>RequestType</th>\n",
       "      <th>RequestSource</th>\n",
       "      <th>Address</th>\n",
       "      <th>ZipCode</th>\n",
       "      <th>Latitude</th>\n",
       "      <th>Longitude</th>\n",
       "      <th>Location</th>\n",
       "      <th>PolicePrecinct</th>\n",
       "    </tr>\n",
       "  </thead>\n",
       "  <tbody>\n",
       "    <tr>\n",
       "      <th>0</th>\n",
       "      <td>1-1262692791</td>\n",
       "      <td>01/01/2019 12:02:00 AM</td>\n",
       "      <td>01/04/2019 11:03:00 AM</td>\n",
       "      <td>119.0</td>\n",
       "      <td>GREATER WILSHIRE NC</td>\n",
       "      <td>Bulky Items</td>\n",
       "      <td>Self Service</td>\n",
       "      <td>616 N GRAMERCY PL, 90004</td>\n",
       "      <td>90004.0</td>\n",
       "      <td>34.082258</td>\n",
       "      <td>-118.312461</td>\n",
       "      <td>(34.0822581437, -118.312461304)</td>\n",
       "      <td>OLYMPIC</td>\n",
       "    </tr>\n",
       "    <tr>\n",
       "      <th>1</th>\n",
       "      <td>1-1262693531</td>\n",
       "      <td>01/01/2019 12:05:00 AM</td>\n",
       "      <td>01/01/2019 12:09:00 AM</td>\n",
       "      <td>NaN</td>\n",
       "      <td>NaN</td>\n",
       "      <td>Report Water Waste</td>\n",
       "      <td>Mobile App</td>\n",
       "      <td>11500 W SAN VICENTE BLVD, 90049</td>\n",
       "      <td>90049.0</td>\n",
       "      <td>34.052739</td>\n",
       "      <td>-118.461185</td>\n",
       "      <td>(34.052739298, -118.461184916)</td>\n",
       "      <td>WEST LOS ANGELES</td>\n",
       "    </tr>\n",
       "  </tbody>\n",
       "</table>\n",
       "</div>"
      ],
      "text/plain": [
       "       SRNumber             CreatedDate             UpdatedDate     NC  \\\n",
       "0  1-1262692791  01/01/2019 12:02:00 AM  01/04/2019 11:03:00 AM  119.0   \n",
       "1  1-1262693531  01/01/2019 12:05:00 AM  01/01/2019 12:09:00 AM    NaN   \n",
       "\n",
       "                NCName         RequestType RequestSource  \\\n",
       "0  GREATER WILSHIRE NC         Bulky Items  Self Service   \n",
       "1                  NaN  Report Water Waste    Mobile App   \n",
       "\n",
       "                           Address  ZipCode   Latitude   Longitude  \\\n",
       "0         616 N GRAMERCY PL, 90004  90004.0  34.082258 -118.312461   \n",
       "1  11500 W SAN VICENTE BLVD, 90049  90049.0  34.052739 -118.461185   \n",
       "\n",
       "                          Location    PolicePrecinct  \n",
       "0  (34.0822581437, -118.312461304)           OLYMPIC  \n",
       "1   (34.052739298, -118.461184916)  WEST LOS ANGELES  "
      ]
     },
     "execution_count": 52,
     "metadata": {},
     "output_type": "execute_result"
    }
   ],
   "source": [
    "# Since both the dataframes have many column, let us remove the unnecessary ones...\n",
    "la_311=la_311[['SRNumber','CreatedDate', 'UpdatedDate', 'NC', 'NCName', 'RequestType','RequestSource','Address','ZipCode', 'Latitude', 'Longitude', 'Location', 'PolicePrecinct' ]]\n",
    "la_311.head(2)"
   ]
  },
  {
   "cell_type": "code",
   "execution_count": 53,
   "id": "5d717525",
   "metadata": {},
   "outputs": [
    {
     "name": "stdout",
     "output_type": "stream",
     "text": [
      "<class 'pandas.core.frame.DataFrame'>\n",
      "RangeIndex: 1308093 entries, 0 to 1308092\n",
      "Data columns (total 13 columns):\n",
      " #   Column          Non-Null Count    Dtype  \n",
      "---  ------          --------------    -----  \n",
      " 0   SRNumber        1308093 non-null  object \n",
      " 1   CreatedDate     1308093 non-null  object \n",
      " 2   UpdatedDate     1308093 non-null  object \n",
      " 3   NC              1299540 non-null  float64\n",
      " 4   NCName          1299540 non-null  object \n",
      " 5   RequestType     1308093 non-null  object \n",
      " 6   RequestSource   1308093 non-null  object \n",
      " 7   Address         1308015 non-null  object \n",
      " 8   ZipCode         1306345 non-null  float64\n",
      " 9   Latitude        1306791 non-null  float64\n",
      " 10  Longitude       1306791 non-null  float64\n",
      " 11  Location        1306791 non-null  object \n",
      " 12  PolicePrecinct  1306771 non-null  object \n",
      "dtypes: float64(4), object(9)\n",
      "memory usage: 129.7+ MB\n"
     ]
    }
   ],
   "source": [
    "la_311.info()"
   ]
  },
  {
   "cell_type": "code",
   "execution_count": 55,
   "id": "b48fdeb1",
   "metadata": {},
   "outputs": [],
   "source": [
    "pd.options.display.max_columns = None"
   ]
  },
  {
   "cell_type": "code",
   "execution_count": 63,
   "id": "8bc72be4",
   "metadata": {},
   "outputs": [
    {
     "data": {
      "text/html": [
       "<div>\n",
       "<style scoped>\n",
       "    .dataframe tbody tr th:only-of-type {\n",
       "        vertical-align: middle;\n",
       "    }\n",
       "\n",
       "    .dataframe tbody tr th {\n",
       "        vertical-align: top;\n",
       "    }\n",
       "\n",
       "    .dataframe thead th {\n",
       "        text-align: right;\n",
       "    }\n",
       "</style>\n",
       "<table border=\"1\" class=\"dataframe\">\n",
       "  <thead>\n",
       "    <tr style=\"text-align: right;\">\n",
       "      <th></th>\n",
       "      <th>DR_NO</th>\n",
       "      <th>Date Rptd</th>\n",
       "      <th>DATE OCC</th>\n",
       "      <th>TIME OCC</th>\n",
       "      <th>AREA</th>\n",
       "      <th>AREA NAME</th>\n",
       "      <th>Rpt Dist No</th>\n",
       "      <th>Part 1-2</th>\n",
       "      <th>Crm Cd</th>\n",
       "      <th>Crm Cd Desc</th>\n",
       "      <th>Mocodes</th>\n",
       "      <th>Vict Age</th>\n",
       "      <th>Vict Sex</th>\n",
       "      <th>Vict Descent</th>\n",
       "      <th>Premis Cd</th>\n",
       "      <th>Premis Desc</th>\n",
       "      <th>Weapon Used Cd</th>\n",
       "      <th>Weapon Desc</th>\n",
       "      <th>Status</th>\n",
       "      <th>Status Desc</th>\n",
       "      <th>Crm Cd 1</th>\n",
       "      <th>Crm Cd 2</th>\n",
       "      <th>Crm Cd 3</th>\n",
       "      <th>Crm Cd 4</th>\n",
       "      <th>LOCATION</th>\n",
       "      <th>Cross Street</th>\n",
       "      <th>LAT</th>\n",
       "      <th>LON</th>\n",
       "    </tr>\n",
       "  </thead>\n",
       "  <tbody>\n",
       "    <tr>\n",
       "      <th>0</th>\n",
       "      <td>1307355</td>\n",
       "      <td>02/20/2010 12:00:00 AM</td>\n",
       "      <td>02/20/2010 12:00:00 AM</td>\n",
       "      <td>1350</td>\n",
       "      <td>13</td>\n",
       "      <td>Newton</td>\n",
       "      <td>1385</td>\n",
       "      <td>2</td>\n",
       "      <td>900</td>\n",
       "      <td>VIOLATION OF COURT ORDER</td>\n",
       "      <td>0913 1814 2000</td>\n",
       "      <td>48</td>\n",
       "      <td>M</td>\n",
       "      <td>H</td>\n",
       "      <td>501.0</td>\n",
       "      <td>SINGLE FAMILY DWELLING</td>\n",
       "      <td>NaN</td>\n",
       "      <td>NaN</td>\n",
       "      <td>AA</td>\n",
       "      <td>Adult Arrest</td>\n",
       "      <td>900.0</td>\n",
       "      <td>NaN</td>\n",
       "      <td>NaN</td>\n",
       "      <td>NaN</td>\n",
       "      <td>300 E  GAGE                         AV</td>\n",
       "      <td>NaN</td>\n",
       "      <td>33.9825</td>\n",
       "      <td>-118.2695</td>\n",
       "    </tr>\n",
       "    <tr>\n",
       "      <th>1</th>\n",
       "      <td>11401303</td>\n",
       "      <td>09/13/2010 12:00:00 AM</td>\n",
       "      <td>09/12/2010 12:00:00 AM</td>\n",
       "      <td>45</td>\n",
       "      <td>14</td>\n",
       "      <td>Pacific</td>\n",
       "      <td>1485</td>\n",
       "      <td>2</td>\n",
       "      <td>740</td>\n",
       "      <td>VANDALISM - FELONY ($400 &amp; OVER, ALL CHURCH VA...</td>\n",
       "      <td>0329</td>\n",
       "      <td>0</td>\n",
       "      <td>M</td>\n",
       "      <td>W</td>\n",
       "      <td>101.0</td>\n",
       "      <td>STREET</td>\n",
       "      <td>NaN</td>\n",
       "      <td>NaN</td>\n",
       "      <td>IC</td>\n",
       "      <td>Invest Cont</td>\n",
       "      <td>740.0</td>\n",
       "      <td>NaN</td>\n",
       "      <td>NaN</td>\n",
       "      <td>NaN</td>\n",
       "      <td>SEPULVEDA                    BL</td>\n",
       "      <td>MANCHESTER                   AV</td>\n",
       "      <td>33.9599</td>\n",
       "      <td>-118.3962</td>\n",
       "    </tr>\n",
       "  </tbody>\n",
       "</table>\n",
       "</div>"
      ],
      "text/plain": [
       "      DR_NO               Date Rptd                DATE OCC  TIME OCC  AREA   \\\n",
       "0   1307355  02/20/2010 12:00:00 AM  02/20/2010 12:00:00 AM      1350     13   \n",
       "1  11401303  09/13/2010 12:00:00 AM  09/12/2010 12:00:00 AM        45     14   \n",
       "\n",
       "  AREA NAME  Rpt Dist No  Part 1-2  Crm Cd  \\\n",
       "0    Newton         1385         2     900   \n",
       "1   Pacific         1485         2     740   \n",
       "\n",
       "                                         Crm Cd Desc         Mocodes  \\\n",
       "0                           VIOLATION OF COURT ORDER  0913 1814 2000   \n",
       "1  VANDALISM - FELONY ($400 & OVER, ALL CHURCH VA...            0329   \n",
       "\n",
       "   Vict Age Vict Sex Vict Descent  Premis Cd             Premis Desc  \\\n",
       "0        48        M            H      501.0  SINGLE FAMILY DWELLING   \n",
       "1         0        M            W      101.0                  STREET   \n",
       "\n",
       "   Weapon Used Cd Weapon Desc Status   Status Desc  Crm Cd 1  Crm Cd 2  \\\n",
       "0             NaN         NaN     AA  Adult Arrest     900.0       NaN   \n",
       "1             NaN         NaN     IC   Invest Cont     740.0       NaN   \n",
       "\n",
       "   Crm Cd 3  Crm Cd 4                                LOCATION  \\\n",
       "0       NaN       NaN  300 E  GAGE                         AV   \n",
       "1       NaN       NaN         SEPULVEDA                    BL   \n",
       "\n",
       "                      Cross Street      LAT       LON  \n",
       "0                              NaN  33.9825 -118.2695  \n",
       "1  MANCHESTER                   AV  33.9599 -118.3962  "
      ]
     },
     "execution_count": 63,
     "metadata": {},
     "output_type": "execute_result"
    }
   ],
   "source": [
    "crime_data.head(2)"
   ]
  },
  {
   "cell_type": "code",
   "execution_count": 73,
   "id": "94cd69e2",
   "metadata": {},
   "outputs": [],
   "source": [
    "# remove the unnecessary columns\n",
    "crime_data=crime_data[['DR_NO', 'Date Rptd', 'DATE OCC', 'TIME OCC', 'AREA NAME', 'Rpt Dist No', 'Vict Age', 'Vict Sex', 'Vict Descent', 'Premis Desc', 'Weapon Used Cd', 'Weapon Desc', 'Status Desc',\t'LOCATION']]"
   ]
  },
  {
   "cell_type": "code",
   "execution_count": 65,
   "id": "d8b22372",
   "metadata": {},
   "outputs": [
    {
     "data": {
      "text/html": [
       "<div>\n",
       "<style scoped>\n",
       "    .dataframe tbody tr th:only-of-type {\n",
       "        vertical-align: middle;\n",
       "    }\n",
       "\n",
       "    .dataframe tbody tr th {\n",
       "        vertical-align: top;\n",
       "    }\n",
       "\n",
       "    .dataframe thead th {\n",
       "        text-align: right;\n",
       "    }\n",
       "</style>\n",
       "<table border=\"1\" class=\"dataframe\">\n",
       "  <thead>\n",
       "    <tr style=\"text-align: right;\">\n",
       "      <th></th>\n",
       "      <th>DR_NO</th>\n",
       "      <th>Date Rptd</th>\n",
       "      <th>DATE OCC</th>\n",
       "      <th>TIME OCC</th>\n",
       "      <th>AREA NAME</th>\n",
       "      <th>Rpt Dist No</th>\n",
       "      <th>Vict Age</th>\n",
       "      <th>Vict Sex</th>\n",
       "      <th>Vict Descent</th>\n",
       "      <th>Premis Desc</th>\n",
       "      <th>Weapon Used Cd</th>\n",
       "      <th>Weapon Desc</th>\n",
       "      <th>Status Desc</th>\n",
       "      <th>LOCATION</th>\n",
       "    </tr>\n",
       "  </thead>\n",
       "  <tbody>\n",
       "    <tr>\n",
       "      <th>0</th>\n",
       "      <td>1307355</td>\n",
       "      <td>02/20/2010 12:00:00 AM</td>\n",
       "      <td>02/20/2010 12:00:00 AM</td>\n",
       "      <td>1350</td>\n",
       "      <td>Newton</td>\n",
       "      <td>1385</td>\n",
       "      <td>48</td>\n",
       "      <td>M</td>\n",
       "      <td>H</td>\n",
       "      <td>SINGLE FAMILY DWELLING</td>\n",
       "      <td>NaN</td>\n",
       "      <td>NaN</td>\n",
       "      <td>Adult Arrest</td>\n",
       "      <td>300 E  GAGE                         AV</td>\n",
       "    </tr>\n",
       "    <tr>\n",
       "      <th>1</th>\n",
       "      <td>11401303</td>\n",
       "      <td>09/13/2010 12:00:00 AM</td>\n",
       "      <td>09/12/2010 12:00:00 AM</td>\n",
       "      <td>45</td>\n",
       "      <td>Pacific</td>\n",
       "      <td>1485</td>\n",
       "      <td>0</td>\n",
       "      <td>M</td>\n",
       "      <td>W</td>\n",
       "      <td>STREET</td>\n",
       "      <td>NaN</td>\n",
       "      <td>NaN</td>\n",
       "      <td>Invest Cont</td>\n",
       "      <td>SEPULVEDA                    BL</td>\n",
       "    </tr>\n",
       "  </tbody>\n",
       "</table>\n",
       "</div>"
      ],
      "text/plain": [
       "      DR_NO               Date Rptd                DATE OCC  TIME OCC  \\\n",
       "0   1307355  02/20/2010 12:00:00 AM  02/20/2010 12:00:00 AM      1350   \n",
       "1  11401303  09/13/2010 12:00:00 AM  09/12/2010 12:00:00 AM        45   \n",
       "\n",
       "  AREA NAME  Rpt Dist No  Vict Age Vict Sex Vict Descent  \\\n",
       "0    Newton         1385        48        M            H   \n",
       "1   Pacific         1485         0        M            W   \n",
       "\n",
       "              Premis Desc  Weapon Used Cd Weapon Desc   Status Desc  \\\n",
       "0  SINGLE FAMILY DWELLING             NaN         NaN  Adult Arrest   \n",
       "1                  STREET             NaN         NaN   Invest Cont   \n",
       "\n",
       "                                 LOCATION  \n",
       "0  300 E  GAGE                         AV  \n",
       "1         SEPULVEDA                    BL  "
      ]
     },
     "execution_count": 65,
     "metadata": {},
     "output_type": "execute_result"
    }
   ],
   "source": [
    "crime_data.head(2)"
   ]
  },
  {
   "cell_type": "code",
   "execution_count": 74,
   "id": "f9ba086f",
   "metadata": {},
   "outputs": [],
   "source": [
    "# There are 2 date columns in the crime_data df (dataframe). Will keep both dates and filter by Date Rptd and use that to try to merge\n",
    "# with call data\n",
    "\n",
    "crime_data['DATE OCC']= pd.to_datetime(crime_data['DATE OCC'])\n",
    "\n",
    "crime_data['Date Rptd']= pd.to_datetime(crime_data['Date Rptd'])\n",
    "\n",
    "\n"
   ]
  },
  {
   "cell_type": "code",
   "execution_count": 75,
   "id": "f8c31390",
   "metadata": {},
   "outputs": [
    {
     "data": {
      "text/html": [
       "<div>\n",
       "<style scoped>\n",
       "    .dataframe tbody tr th:only-of-type {\n",
       "        vertical-align: middle;\n",
       "    }\n",
       "\n",
       "    .dataframe tbody tr th {\n",
       "        vertical-align: top;\n",
       "    }\n",
       "\n",
       "    .dataframe thead th {\n",
       "        text-align: right;\n",
       "    }\n",
       "</style>\n",
       "<table border=\"1\" class=\"dataframe\">\n",
       "  <thead>\n",
       "    <tr style=\"text-align: right;\">\n",
       "      <th></th>\n",
       "      <th>DR_NO</th>\n",
       "      <th>Date Rptd</th>\n",
       "      <th>DATE OCC</th>\n",
       "      <th>TIME OCC</th>\n",
       "      <th>AREA NAME</th>\n",
       "      <th>Rpt Dist No</th>\n",
       "      <th>Vict Age</th>\n",
       "      <th>Vict Sex</th>\n",
       "      <th>Vict Descent</th>\n",
       "      <th>Premis Desc</th>\n",
       "      <th>Weapon Used Cd</th>\n",
       "      <th>Weapon Desc</th>\n",
       "      <th>Status Desc</th>\n",
       "      <th>LOCATION</th>\n",
       "    </tr>\n",
       "  </thead>\n",
       "  <tbody>\n",
       "    <tr>\n",
       "      <th>0</th>\n",
       "      <td>1307355</td>\n",
       "      <td>2010-02-20</td>\n",
       "      <td>2010-02-20</td>\n",
       "      <td>1350</td>\n",
       "      <td>Newton</td>\n",
       "      <td>1385</td>\n",
       "      <td>48</td>\n",
       "      <td>M</td>\n",
       "      <td>H</td>\n",
       "      <td>SINGLE FAMILY DWELLING</td>\n",
       "      <td>NaN</td>\n",
       "      <td>NaN</td>\n",
       "      <td>Adult Arrest</td>\n",
       "      <td>300 E  GAGE                         AV</td>\n",
       "    </tr>\n",
       "    <tr>\n",
       "      <th>1</th>\n",
       "      <td>11401303</td>\n",
       "      <td>2010-09-13</td>\n",
       "      <td>2010-09-12</td>\n",
       "      <td>45</td>\n",
       "      <td>Pacific</td>\n",
       "      <td>1485</td>\n",
       "      <td>0</td>\n",
       "      <td>M</td>\n",
       "      <td>W</td>\n",
       "      <td>STREET</td>\n",
       "      <td>NaN</td>\n",
       "      <td>NaN</td>\n",
       "      <td>Invest Cont</td>\n",
       "      <td>SEPULVEDA                    BL</td>\n",
       "    </tr>\n",
       "  </tbody>\n",
       "</table>\n",
       "</div>"
      ],
      "text/plain": [
       "      DR_NO  Date Rptd   DATE OCC  TIME OCC AREA NAME  Rpt Dist No  Vict Age  \\\n",
       "0   1307355 2010-02-20 2010-02-20      1350    Newton         1385        48   \n",
       "1  11401303 2010-09-13 2010-09-12        45   Pacific         1485         0   \n",
       "\n",
       "  Vict Sex Vict Descent             Premis Desc  Weapon Used Cd Weapon Desc  \\\n",
       "0        M            H  SINGLE FAMILY DWELLING             NaN         NaN   \n",
       "1        M            W                  STREET             NaN         NaN   \n",
       "\n",
       "    Status Desc                                LOCATION  \n",
       "0  Adult Arrest  300 E  GAGE                         AV  \n",
       "1   Invest Cont         SEPULVEDA                    BL  "
      ]
     },
     "execution_count": 75,
     "metadata": {},
     "output_type": "execute_result"
    }
   ],
   "source": [
    "crime_data.head(2)"
   ]
  },
  {
   "cell_type": "code",
   "execution_count": 79,
   "id": "6c999e3b",
   "metadata": {},
   "outputs": [
    {
     "data": {
      "text/plain": [
       "DR_NO                      int64\n",
       "Date Rptd         datetime64[ns]\n",
       "DATE OCC          datetime64[ns]\n",
       "TIME OCC                   int64\n",
       "AREA NAME                 object\n",
       "Rpt Dist No                int64\n",
       "Vict Age                   int64\n",
       "Vict Sex                  object\n",
       "Vict Descent              object\n",
       "Premis Desc               object\n",
       "Weapon Used Cd           float64\n",
       "Weapon Desc               object\n",
       "Status Desc               object\n",
       "LOCATION                  object\n",
       "dtype: object"
      ]
     },
     "execution_count": 79,
     "metadata": {},
     "output_type": "execute_result"
    }
   ],
   "source": [
    "crime_data.dtypes"
   ]
  },
  {
   "cell_type": "code",
   "execution_count": 80,
   "id": "3f902268",
   "metadata": {},
   "outputs": [],
   "source": [
    "crime_data_2019 =crime_data[crime_data['Date Rptd'].dt.year==2019]"
   ]
  },
  {
   "cell_type": "code",
   "execution_count": 82,
   "id": "46f55112",
   "metadata": {},
   "outputs": [
    {
     "data": {
      "text/html": [
       "<div>\n",
       "<style scoped>\n",
       "    .dataframe tbody tr th:only-of-type {\n",
       "        vertical-align: middle;\n",
       "    }\n",
       "\n",
       "    .dataframe tbody tr th {\n",
       "        vertical-align: top;\n",
       "    }\n",
       "\n",
       "    .dataframe thead th {\n",
       "        text-align: right;\n",
       "    }\n",
       "</style>\n",
       "<table border=\"1\" class=\"dataframe\">\n",
       "  <thead>\n",
       "    <tr style=\"text-align: right;\">\n",
       "      <th></th>\n",
       "      <th>DR_NO</th>\n",
       "      <th>Date Rptd</th>\n",
       "      <th>DATE OCC</th>\n",
       "      <th>TIME OCC</th>\n",
       "      <th>AREA NAME</th>\n",
       "      <th>Rpt Dist No</th>\n",
       "      <th>Vict Age</th>\n",
       "      <th>Vict Sex</th>\n",
       "      <th>Vict Descent</th>\n",
       "      <th>Premis Desc</th>\n",
       "      <th>Weapon Used Cd</th>\n",
       "      <th>Weapon Desc</th>\n",
       "      <th>Status Desc</th>\n",
       "      <th>LOCATION</th>\n",
       "    </tr>\n",
       "  </thead>\n",
       "  <tbody>\n",
       "    <tr>\n",
       "      <th>85876</th>\n",
       "      <td>190705631</td>\n",
       "      <td>2019-02-04</td>\n",
       "      <td>2010-07-01</td>\n",
       "      <td>1100</td>\n",
       "      <td>Wilshire</td>\n",
       "      <td>773</td>\n",
       "      <td>60</td>\n",
       "      <td>F</td>\n",
       "      <td>B</td>\n",
       "      <td>SINGLE FAMILY DWELLING</td>\n",
       "      <td>NaN</td>\n",
       "      <td>NaN</td>\n",
       "      <td>Invest Cont</td>\n",
       "      <td>1900 S  RIDGELEY                     DR</td>\n",
       "    </tr>\n",
       "    <tr>\n",
       "      <th>86769</th>\n",
       "      <td>191300738</td>\n",
       "      <td>2019-06-11</td>\n",
       "      <td>2010-06-07</td>\n",
       "      <td>1800</td>\n",
       "      <td>Newton</td>\n",
       "      <td>1383</td>\n",
       "      <td>23</td>\n",
       "      <td>M</td>\n",
       "      <td>B</td>\n",
       "      <td>MULTI-UNIT DWELLING (APARTMENT, DUPLEX, ETC)</td>\n",
       "      <td>NaN</td>\n",
       "      <td>NaN</td>\n",
       "      <td>Invest Cont</td>\n",
       "      <td>5800 S  BROADWAY</td>\n",
       "    </tr>\n",
       "    <tr>\n",
       "      <th>87398</th>\n",
       "      <td>191226689</td>\n",
       "      <td>2019-11-11</td>\n",
       "      <td>2010-10-13</td>\n",
       "      <td>1500</td>\n",
       "      <td>77th Street</td>\n",
       "      <td>1242</td>\n",
       "      <td>18</td>\n",
       "      <td>F</td>\n",
       "      <td>B</td>\n",
       "      <td>SINGLE FAMILY DWELLING</td>\n",
       "      <td>NaN</td>\n",
       "      <td>NaN</td>\n",
       "      <td>Invest Cont</td>\n",
       "      <td>6500    3RD                          AV</td>\n",
       "    </tr>\n",
       "    <tr>\n",
       "      <th>87436</th>\n",
       "      <td>190515351</td>\n",
       "      <td>2019-09-12</td>\n",
       "      <td>2010-01-01</td>\n",
       "      <td>800</td>\n",
       "      <td>Harbor</td>\n",
       "      <td>525</td>\n",
       "      <td>50</td>\n",
       "      <td>M</td>\n",
       "      <td>H</td>\n",
       "      <td>SINGLE FAMILY DWELLING</td>\n",
       "      <td>NaN</td>\n",
       "      <td>NaN</td>\n",
       "      <td>Invest Cont</td>\n",
       "      <td>900    MCDONALD</td>\n",
       "    </tr>\n",
       "    <tr>\n",
       "      <th>87649</th>\n",
       "      <td>190907999</td>\n",
       "      <td>2019-03-14</td>\n",
       "      <td>2010-01-01</td>\n",
       "      <td>1</td>\n",
       "      <td>Van Nuys</td>\n",
       "      <td>926</td>\n",
       "      <td>34</td>\n",
       "      <td>F</td>\n",
       "      <td>A</td>\n",
       "      <td>MULTI-UNIT DWELLING (APARTMENT, DUPLEX, ETC)</td>\n",
       "      <td>400.0</td>\n",
       "      <td>STRONG-ARM (HANDS, FIST, FEET OR BODILY FORCE)</td>\n",
       "      <td>Invest Cont</td>\n",
       "      <td>14400    VICTORY                      BL</td>\n",
       "    </tr>\n",
       "  </tbody>\n",
       "</table>\n",
       "</div>"
      ],
      "text/plain": [
       "           DR_NO  Date Rptd   DATE OCC  TIME OCC    AREA NAME  Rpt Dist No  \\\n",
       "85876  190705631 2019-02-04 2010-07-01      1100     Wilshire          773   \n",
       "86769  191300738 2019-06-11 2010-06-07      1800       Newton         1383   \n",
       "87398  191226689 2019-11-11 2010-10-13      1500  77th Street         1242   \n",
       "87436  190515351 2019-09-12 2010-01-01       800       Harbor          525   \n",
       "87649  190907999 2019-03-14 2010-01-01         1     Van Nuys          926   \n",
       "\n",
       "       Vict Age Vict Sex Vict Descent  \\\n",
       "85876        60        F            B   \n",
       "86769        23        M            B   \n",
       "87398        18        F            B   \n",
       "87436        50        M            H   \n",
       "87649        34        F            A   \n",
       "\n",
       "                                        Premis Desc  Weapon Used Cd  \\\n",
       "85876                        SINGLE FAMILY DWELLING             NaN   \n",
       "86769  MULTI-UNIT DWELLING (APARTMENT, DUPLEX, ETC)             NaN   \n",
       "87398                        SINGLE FAMILY DWELLING             NaN   \n",
       "87436                        SINGLE FAMILY DWELLING             NaN   \n",
       "87649  MULTI-UNIT DWELLING (APARTMENT, DUPLEX, ETC)           400.0   \n",
       "\n",
       "                                          Weapon Desc  Status Desc  \\\n",
       "85876                                             NaN  Invest Cont   \n",
       "86769                                             NaN  Invest Cont   \n",
       "87398                                             NaN  Invest Cont   \n",
       "87436                                             NaN  Invest Cont   \n",
       "87649  STRONG-ARM (HANDS, FIST, FEET OR BODILY FORCE)  Invest Cont   \n",
       "\n",
       "                                       LOCATION  \n",
       "85876   1900 S  RIDGELEY                     DR  \n",
       "86769                          5800 S  BROADWAY  \n",
       "87398   6500    3RD                          AV  \n",
       "87436                           900    MCDONALD  \n",
       "87649  14400    VICTORY                      BL  "
      ]
     },
     "execution_count": 82,
     "metadata": {},
     "output_type": "execute_result"
    }
   ],
   "source": [
    "crime_data_2019.head()"
   ]
  },
  {
   "cell_type": "code",
   "execution_count": 85,
   "id": "46b338e1",
   "metadata": {},
   "outputs": [
    {
     "name": "stdout",
     "output_type": "stream",
     "text": [
      "<class 'pandas.core.frame.DataFrame'>\n",
      "Int64Index: 220556 entries, 85876 to 2119796\n",
      "Data columns (total 14 columns):\n",
      " #   Column          Non-Null Count   Dtype         \n",
      "---  ------          --------------   -----         \n",
      " 0   DR_NO           220556 non-null  int64         \n",
      " 1   Date Rptd       220556 non-null  datetime64[ns]\n",
      " 2   DATE OCC        220556 non-null  datetime64[ns]\n",
      " 3   TIME OCC        220556 non-null  int64         \n",
      " 4   AREA NAME       220556 non-null  object        \n",
      " 5   Rpt Dist No     220556 non-null  int64         \n",
      " 6   Vict Age        220556 non-null  int64         \n",
      " 7   Vict Sex        200634 non-null  object        \n",
      " 8   Vict Descent    200630 non-null  object        \n",
      " 9   Premis Desc     220465 non-null  object        \n",
      " 10  Weapon Used Cd  78617 non-null   float64       \n",
      " 11  Weapon Desc     78617 non-null   object        \n",
      " 12  Status Desc     220556 non-null  object        \n",
      " 13  LOCATION        220556 non-null  object        \n",
      "dtypes: datetime64[ns](2), float64(1), int64(4), object(7)\n",
      "memory usage: 25.2+ MB\n"
     ]
    }
   ],
   "source": [
    "crime_data_2019.info()"
   ]
  },
  {
   "cell_type": "code",
   "execution_count": 83,
   "id": "4cbd700e",
   "metadata": {},
   "outputs": [],
   "source": [
    "crime_data_2019.to_csv(r'C:\\Documents\\projects\\HackLA\\311\\data\\WorkedonData\\crime_data_2019R.csv') "
   ]
  },
  {
   "cell_type": "code",
   "execution_count": 86,
   "id": "9dd4c3e8",
   "metadata": {},
   "outputs": [
    {
     "data": {
      "text/plain": [
       "Timestamp('2019-01-01 00:00:00')"
      ]
     },
     "execution_count": 86,
     "metadata": {},
     "output_type": "execute_result"
    }
   ],
   "source": [
    "crime_data_2019['Date Rptd'].min()"
   ]
  },
  {
   "cell_type": "code",
   "execution_count": 87,
   "id": "9180eaac",
   "metadata": {},
   "outputs": [
    {
     "data": {
      "text/plain": [
       "Timestamp('2019-12-31 00:00:00')"
      ]
     },
     "execution_count": 87,
     "metadata": {},
     "output_type": "execute_result"
    }
   ],
   "source": [
    "crime_data_2019['Date Rptd'].max()"
   ]
  },
  {
   "cell_type": "code",
   "execution_count": 88,
   "id": "c2aec0a7",
   "metadata": {},
   "outputs": [
    {
     "data": {
      "text/plain": [
       "Timestamp('2010-01-01 00:00:00')"
      ]
     },
     "execution_count": 88,
     "metadata": {},
     "output_type": "execute_result"
    }
   ],
   "source": [
    "crime_data_2019['DATE OCC'].min()"
   ]
  },
  {
   "cell_type": "code",
   "execution_count": 89,
   "id": "85727d81",
   "metadata": {},
   "outputs": [
    {
     "data": {
      "text/plain": [
       "Timestamp('2019-12-31 00:00:00')"
      ]
     },
     "execution_count": 89,
     "metadata": {},
     "output_type": "execute_result"
    }
   ],
   "source": [
    "crime_data_2019['DATE OCC'].max()"
   ]
  },
  {
   "cell_type": "code",
   "execution_count": 90,
   "id": "1762ae1e",
   "metadata": {},
   "outputs": [
    {
     "data": {
      "text/plain": [
       "(220556, 14)"
      ]
     },
     "execution_count": 90,
     "metadata": {},
     "output_type": "execute_result"
    }
   ],
   "source": [
    "crime_data_2019.shape"
   ]
  },
  {
   "cell_type": "code",
   "execution_count": 91,
   "id": "2e570406",
   "metadata": {},
   "outputs": [
    {
     "data": {
      "text/plain": [
       "(1308093, 13)"
      ]
     },
     "execution_count": 91,
     "metadata": {},
     "output_type": "execute_result"
    }
   ],
   "source": [
    "la_311.shape"
   ]
  },
  {
   "cell_type": "code",
   "execution_count": 92,
   "id": "609b70d9",
   "metadata": {},
   "outputs": [
    {
     "data": {
      "text/plain": [
       "SRNumber           object\n",
       "CreatedDate        object\n",
       "UpdatedDate        object\n",
       "NC                float64\n",
       "NCName             object\n",
       "RequestType        object\n",
       "RequestSource      object\n",
       "Address            object\n",
       "ZipCode           float64\n",
       "Latitude          float64\n",
       "Longitude         float64\n",
       "Location           object\n",
       "PolicePrecinct     object\n",
       "dtype: object"
      ]
     },
     "execution_count": 92,
     "metadata": {},
     "output_type": "execute_result"
    }
   ],
   "source": [
    "la_311.dtypes"
   ]
  },
  {
   "cell_type": "code",
   "execution_count": 93,
   "id": "6719c9d1",
   "metadata": {},
   "outputs": [
    {
     "data": {
      "text/html": [
       "<div>\n",
       "<style scoped>\n",
       "    .dataframe tbody tr th:only-of-type {\n",
       "        vertical-align: middle;\n",
       "    }\n",
       "\n",
       "    .dataframe tbody tr th {\n",
       "        vertical-align: top;\n",
       "    }\n",
       "\n",
       "    .dataframe thead th {\n",
       "        text-align: right;\n",
       "    }\n",
       "</style>\n",
       "<table border=\"1\" class=\"dataframe\">\n",
       "  <thead>\n",
       "    <tr style=\"text-align: right;\">\n",
       "      <th></th>\n",
       "      <th>SRNumber</th>\n",
       "      <th>CreatedDate</th>\n",
       "      <th>UpdatedDate</th>\n",
       "      <th>NC</th>\n",
       "      <th>NCName</th>\n",
       "      <th>RequestType</th>\n",
       "      <th>RequestSource</th>\n",
       "      <th>Address</th>\n",
       "      <th>ZipCode</th>\n",
       "      <th>Latitude</th>\n",
       "      <th>Longitude</th>\n",
       "      <th>Location</th>\n",
       "      <th>PolicePrecinct</th>\n",
       "    </tr>\n",
       "  </thead>\n",
       "  <tbody>\n",
       "    <tr>\n",
       "      <th>0</th>\n",
       "      <td>1-1262692791</td>\n",
       "      <td>2019-01-01 00:02:00</td>\n",
       "      <td>2019-01-04 11:03:00</td>\n",
       "      <td>119.0</td>\n",
       "      <td>GREATER WILSHIRE NC</td>\n",
       "      <td>Bulky Items</td>\n",
       "      <td>Self Service</td>\n",
       "      <td>616 N GRAMERCY PL, 90004</td>\n",
       "      <td>90004.0</td>\n",
       "      <td>34.082258</td>\n",
       "      <td>-118.312461</td>\n",
       "      <td>(34.0822581437, -118.312461304)</td>\n",
       "      <td>OLYMPIC</td>\n",
       "    </tr>\n",
       "    <tr>\n",
       "      <th>1</th>\n",
       "      <td>1-1262693531</td>\n",
       "      <td>2019-01-01 00:05:00</td>\n",
       "      <td>2019-01-01 00:09:00</td>\n",
       "      <td>NaN</td>\n",
       "      <td>NaN</td>\n",
       "      <td>Report Water Waste</td>\n",
       "      <td>Mobile App</td>\n",
       "      <td>11500 W SAN VICENTE BLVD, 90049</td>\n",
       "      <td>90049.0</td>\n",
       "      <td>34.052739</td>\n",
       "      <td>-118.461185</td>\n",
       "      <td>(34.052739298, -118.461184916)</td>\n",
       "      <td>WEST LOS ANGELES</td>\n",
       "    </tr>\n",
       "  </tbody>\n",
       "</table>\n",
       "</div>"
      ],
      "text/plain": [
       "       SRNumber         CreatedDate         UpdatedDate     NC  \\\n",
       "0  1-1262692791 2019-01-01 00:02:00 2019-01-04 11:03:00  119.0   \n",
       "1  1-1262693531 2019-01-01 00:05:00 2019-01-01 00:09:00    NaN   \n",
       "\n",
       "                NCName         RequestType RequestSource  \\\n",
       "0  GREATER WILSHIRE NC         Bulky Items  Self Service   \n",
       "1                  NaN  Report Water Waste    Mobile App   \n",
       "\n",
       "                           Address  ZipCode   Latitude   Longitude  \\\n",
       "0         616 N GRAMERCY PL, 90004  90004.0  34.082258 -118.312461   \n",
       "1  11500 W SAN VICENTE BLVD, 90049  90049.0  34.052739 -118.461185   \n",
       "\n",
       "                          Location    PolicePrecinct  \n",
       "0  (34.0822581437, -118.312461304)           OLYMPIC  \n",
       "1   (34.052739298, -118.461184916)  WEST LOS ANGELES  "
      ]
     },
     "execution_count": 93,
     "metadata": {},
     "output_type": "execute_result"
    }
   ],
   "source": [
    "la_311['CreatedDate']= pd.to_datetime(la_311['CreatedDate'])\n",
    "\n",
    "la_311['UpdatedDate']= pd.to_datetime(la_311['UpdatedDate'])\n",
    "\n",
    "la_311.head(2)"
   ]
  },
  {
   "cell_type": "code",
   "execution_count": 94,
   "id": "86c377da",
   "metadata": {},
   "outputs": [
    {
     "data": {
      "text/plain": [
       "array(['OLYMPIC', 'WEST LOS ANGELES', 'DEVONSHIRE', 'HOLLENBECK',\n",
       "       'HARBOR', 'WEST VALLEY', 'NORTHEAST', 'HOLLYWOOD',\n",
       "       'NORTH HOLLYWOOD', 'PACIFIC', 'WILSHIRE', 'SOUTHEAST', 'FOOTHILL',\n",
       "       'TOPANGA', 'RAMPART', 'MISSION', '77TH STREET', 'SOUTHWEST',\n",
       "       'CENTRAL', 'VAN NUYS', 'NEWTON', nan], dtype=object)"
      ]
     },
     "execution_count": 94,
     "metadata": {},
     "output_type": "execute_result"
    }
   ],
   "source": [
    "la_311['PolicePrecinct'].unique()"
   ]
  },
  {
   "cell_type": "code",
   "execution_count": 96,
   "id": "11b7c0fe",
   "metadata": {},
   "outputs": [
    {
     "name": "stderr",
     "output_type": "stream",
     "text": [
      "C:\\Users\\lizge\\AppData\\Local\\Temp\\ipykernel_8744\\4088364273.py:1: SettingWithCopyWarning: \n",
      "A value is trying to be set on a copy of a slice from a DataFrame\n",
      "\n",
      "See the caveats in the documentation: https://pandas.pydata.org/pandas-docs/stable/user_guide/indexing.html#returning-a-view-versus-a-copy\n",
      "  crime_data_2019.rename(columns = {\"AREA NAME\": \"PolicePrecinct\"}, inplace=True)\n"
     ]
    }
   ],
   "source": [
    "crime_data_2019.rename(columns = {\"AREA NAME\": \"PolicePrecinct\"}, inplace=True)"
   ]
  },
  {
   "cell_type": "code",
   "execution_count": 97,
   "id": "ebc69cfa",
   "metadata": {},
   "outputs": [
    {
     "data": {
      "text/plain": [
       "array(['Wilshire', 'Newton', '77th Street', 'Harbor', 'Van Nuys',\n",
       "       'Olympic', 'Mission', 'Southwest', 'West LA', 'Hollywood',\n",
       "       'Hollenbeck', 'West Valley', 'Southeast', 'Central', 'Devonshire',\n",
       "       'Foothill', 'Rampart', 'Northeast', 'Topanga', 'N Hollywood',\n",
       "       'Pacific'], dtype=object)"
      ]
     },
     "execution_count": 97,
     "metadata": {},
     "output_type": "execute_result"
    }
   ],
   "source": [
    "crime_data_2019['PolicePrecinct'].unique()"
   ]
  },
  {
   "cell_type": "code",
   "execution_count": 98,
   "id": "747c10d5",
   "metadata": {},
   "outputs": [
    {
     "data": {
      "text/plain": [
       "SRNumber             0\n",
       "CreatedDate          0\n",
       "UpdatedDate          0\n",
       "NC                8553\n",
       "NCName            8553\n",
       "RequestType          0\n",
       "RequestSource        0\n",
       "Address             78\n",
       "ZipCode           1748\n",
       "Latitude          1302\n",
       "Longitude         1302\n",
       "Location          1302\n",
       "PolicePrecinct    1322\n",
       "dtype: int64"
      ]
     },
     "execution_count": 98,
     "metadata": {},
     "output_type": "execute_result"
    }
   ],
   "source": [
    "la_311.isnull().sum()"
   ]
  },
  {
   "cell_type": "code",
   "execution_count": 99,
   "id": "f893fee2",
   "metadata": {},
   "outputs": [],
   "source": [
    "la_311 = la_311[la_311['PolicePrecinct'].isnull() == False]"
   ]
  },
  {
   "cell_type": "code",
   "execution_count": 100,
   "id": "2d99cca3",
   "metadata": {},
   "outputs": [
    {
     "data": {
      "text/plain": [
       "SRNumber             0\n",
       "CreatedDate          0\n",
       "UpdatedDate          0\n",
       "NC                7231\n",
       "NCName            7231\n",
       "RequestType          0\n",
       "RequestSource        0\n",
       "Address              0\n",
       "ZipCode            438\n",
       "Latitude             0\n",
       "Longitude            0\n",
       "Location             0\n",
       "PolicePrecinct       0\n",
       "dtype: int64"
      ]
     },
     "execution_count": 100,
     "metadata": {},
     "output_type": "execute_result"
    }
   ],
   "source": [
    "la_311.isnull().sum()"
   ]
  },
  {
   "cell_type": "code",
   "execution_count": 101,
   "id": "e8d99f3b",
   "metadata": {},
   "outputs": [
    {
     "data": {
      "text/plain": [
       "(1306771, 13)"
      ]
     },
     "execution_count": 101,
     "metadata": {},
     "output_type": "execute_result"
    }
   ],
   "source": [
    "la_311.shape"
   ]
  },
  {
   "cell_type": "code",
   "execution_count": 102,
   "id": "c1401625",
   "metadata": {},
   "outputs": [
    {
     "name": "stderr",
     "output_type": "stream",
     "text": [
      "C:\\Users\\lizge\\AppData\\Local\\Temp\\ipykernel_8744\\3483178127.py:1: SettingWithCopyWarning: \n",
      "A value is trying to be set on a copy of a slice from a DataFrame.\n",
      "Try using .loc[row_indexer,col_indexer] = value instead\n",
      "\n",
      "See the caveats in the documentation: https://pandas.pydata.org/pandas-docs/stable/user_guide/indexing.html#returning-a-view-versus-a-copy\n",
      "  crime_data_2019['PolicePrecinct']= crime_data_2019['PolicePrecinct'].str.upper()\n"
     ]
    }
   ],
   "source": [
    "crime_data_2019['PolicePrecinct']= crime_data_2019['PolicePrecinct'].str.upper()"
   ]
  },
  {
   "cell_type": "code",
   "execution_count": 103,
   "id": "ce775261",
   "metadata": {},
   "outputs": [],
   "source": [
    "CmpPol = np.setdiff1d(crime_data_2019['PolicePrecinct'], la_311['PolicePrecinct'])"
   ]
  },
  {
   "cell_type": "code",
   "execution_count": 104,
   "id": "f8e88022",
   "metadata": {},
   "outputs": [
    {
     "data": {
      "text/plain": [
       "array(['N HOLLYWOOD', 'WEST LA'], dtype=object)"
      ]
     },
     "execution_count": 104,
     "metadata": {},
     "output_type": "execute_result"
    }
   ],
   "source": [
    "CmpPol"
   ]
  },
  {
   "cell_type": "code",
   "execution_count": 105,
   "id": "b7d4e7d8",
   "metadata": {},
   "outputs": [
    {
     "data": {
      "text/plain": [
       "array(['WILSHIRE', 'NEWTON', '77TH STREET', 'HARBOR', 'VAN NUYS',\n",
       "       'OLYMPIC', 'MISSION', 'SOUTHWEST', 'WEST LA', 'HOLLYWOOD',\n",
       "       'HOLLENBECK', 'WEST VALLEY', 'SOUTHEAST', 'CENTRAL', 'DEVONSHIRE',\n",
       "       'FOOTHILL', 'RAMPART', 'NORTHEAST', 'TOPANGA', 'N HOLLYWOOD',\n",
       "       'PACIFIC'], dtype=object)"
      ]
     },
     "execution_count": 105,
     "metadata": {},
     "output_type": "execute_result"
    }
   ],
   "source": [
    "crime_data_2019['PolicePrecinct'].unique()"
   ]
  },
  {
   "cell_type": "code",
   "execution_count": 106,
   "id": "0483f1db",
   "metadata": {},
   "outputs": [
    {
     "data": {
      "text/plain": [
       "array(['OLYMPIC', 'WEST LOS ANGELES', 'DEVONSHIRE', 'HOLLENBECK',\n",
       "       'HARBOR', 'WEST VALLEY', 'NORTHEAST', 'HOLLYWOOD',\n",
       "       'NORTH HOLLYWOOD', 'PACIFIC', 'WILSHIRE', 'SOUTHEAST', 'FOOTHILL',\n",
       "       'TOPANGA', 'RAMPART', 'MISSION', '77TH STREET', 'SOUTHWEST',\n",
       "       'CENTRAL', 'VAN NUYS', 'NEWTON'], dtype=object)"
      ]
     },
     "execution_count": 106,
     "metadata": {},
     "output_type": "execute_result"
    }
   ],
   "source": [
    "la_311['PolicePrecinct'].unique()"
   ]
  },
  {
   "cell_type": "code",
   "execution_count": 107,
   "id": "80faf65c",
   "metadata": {},
   "outputs": [],
   "source": [
    "# Replace multiple values with multiple new values for an individual DataFrame column.\n",
    "la_311['PolicePrecinct'] = la_311['PolicePrecinct'].replace(['NORTH HOLLYWOOD','WEST LOS ANGELES'],['N HOLLYWOOD','WEST LA'])"
   ]
  },
  {
   "cell_type": "code",
   "execution_count": 108,
   "id": "a1341575",
   "metadata": {},
   "outputs": [
    {
     "data": {
      "text/plain": [
       "array(['OLYMPIC', 'WEST LA', 'DEVONSHIRE', 'HOLLENBECK', 'HARBOR',\n",
       "       'WEST VALLEY', 'NORTHEAST', 'HOLLYWOOD', 'N HOLLYWOOD', 'PACIFIC',\n",
       "       'WILSHIRE', 'SOUTHEAST', 'FOOTHILL', 'TOPANGA', 'RAMPART',\n",
       "       'MISSION', '77TH STREET', 'SOUTHWEST', 'CENTRAL', 'VAN NUYS',\n",
       "       'NEWTON'], dtype=object)"
      ]
     },
     "execution_count": 108,
     "metadata": {},
     "output_type": "execute_result"
    }
   ],
   "source": [
    "la_311['PolicePrecinct'].unique()"
   ]
  },
  {
   "cell_type": "code",
   "execution_count": 109,
   "id": "0e95b5ce",
   "metadata": {},
   "outputs": [
    {
     "data": {
      "text/plain": [
       "array([], dtype=object)"
      ]
     },
     "execution_count": 109,
     "metadata": {},
     "output_type": "execute_result"
    }
   ],
   "source": [
    "CmpPol = np.setdiff1d(crime_data_2019['PolicePrecinct'], la_311['PolicePrecinct'])\n",
    "CmpPol"
   ]
  },
  {
   "cell_type": "markdown",
   "id": "7a99a62a",
   "metadata": {},
   "source": [
    "PolicePrecinct column is the same in both datasets"
   ]
  },
  {
   "cell_type": "code",
   "execution_count": 111,
   "id": "b16d188f",
   "metadata": {},
   "outputs": [
    {
     "name": "stderr",
     "output_type": "stream",
     "text": [
      "C:\\Users\\lizge\\AppData\\Local\\Temp\\ipykernel_8744\\2233313355.py:1: SettingWithCopyWarning: \n",
      "A value is trying to be set on a copy of a slice from a DataFrame\n",
      "\n",
      "See the caveats in the documentation: https://pandas.pydata.org/pandas-docs/stable/user_guide/indexing.html#returning-a-view-versus-a-copy\n",
      "  crime_data_2019.rename(columns = {\"Date Rptd\": \"CreatedDate\"}, inplace=True)\n"
     ]
    }
   ],
   "source": [
    "crime_data_2019.rename(columns = {\"Date Rptd\": \"CreatedDate\"}, inplace=True)"
   ]
  },
  {
   "cell_type": "code",
   "execution_count": 114,
   "id": "4d047a75",
   "metadata": {},
   "outputs": [
    {
     "name": "stderr",
     "output_type": "stream",
     "text": [
      "C:\\Users\\lizge\\AppData\\Local\\Temp\\ipykernel_8744\\2081825218.py:1: SettingWithCopyWarning: \n",
      "A value is trying to be set on a copy of a slice from a DataFrame.\n",
      "Try using .loc[row_indexer,col_indexer] = value instead\n",
      "\n",
      "See the caveats in the documentation: https://pandas.pydata.org/pandas-docs/stable/user_guide/indexing.html#returning-a-view-versus-a-copy\n",
      "  crime_data_2019['CreatedDate'] = pd.to_datetime(crime_data_2019['CreatedDate']).dt.normalize()\n"
     ]
    }
   ],
   "source": [
    "crime_data_2019['CreatedDate'] = pd.to_datetime(crime_data_2019['CreatedDate']).dt.normalize()"
   ]
  },
  {
   "cell_type": "code",
   "execution_count": 115,
   "id": "baadb3c4",
   "metadata": {},
   "outputs": [],
   "source": [
    "la_311['CreatedDate'] = pd.to_datetime(la_311['CreatedDate']).dt.normalize()"
   ]
  },
  {
   "cell_type": "code",
   "execution_count": 116,
   "id": "1e3e1663",
   "metadata": {},
   "outputs": [],
   "source": [
    "CmpDates = np.setdiff1d(crime_data_2019['CreatedDate'], la_311['CreatedDate'])"
   ]
  },
  {
   "cell_type": "code",
   "execution_count": 117,
   "id": "c942cf01",
   "metadata": {},
   "outputs": [
    {
     "data": {
      "text/plain": [
       "array([], dtype='datetime64[ns]')"
      ]
     },
     "execution_count": 117,
     "metadata": {},
     "output_type": "execute_result"
    }
   ],
   "source": [
    "CmpDates"
   ]
  },
  {
   "cell_type": "code",
   "execution_count": 119,
   "id": "f31382e3",
   "metadata": {},
   "outputs": [
    {
     "data": {
      "text/html": [
       "<div>\n",
       "<style scoped>\n",
       "    .dataframe tbody tr th:only-of-type {\n",
       "        vertical-align: middle;\n",
       "    }\n",
       "\n",
       "    .dataframe tbody tr th {\n",
       "        vertical-align: top;\n",
       "    }\n",
       "\n",
       "    .dataframe thead th {\n",
       "        text-align: right;\n",
       "    }\n",
       "</style>\n",
       "<table border=\"1\" class=\"dataframe\">\n",
       "  <thead>\n",
       "    <tr style=\"text-align: right;\">\n",
       "      <th></th>\n",
       "      <th>DR_NO</th>\n",
       "      <th>CreatedDate</th>\n",
       "      <th>DATE OCC</th>\n",
       "      <th>TIME OCC</th>\n",
       "      <th>PolicePrecinct</th>\n",
       "      <th>Rpt Dist No</th>\n",
       "      <th>Vict Age</th>\n",
       "      <th>Vict Sex</th>\n",
       "      <th>Vict Descent</th>\n",
       "      <th>Premis Desc</th>\n",
       "      <th>Weapon Used Cd</th>\n",
       "      <th>Weapon Desc</th>\n",
       "      <th>Status Desc</th>\n",
       "      <th>LOCATION</th>\n",
       "    </tr>\n",
       "  </thead>\n",
       "  <tbody>\n",
       "    <tr>\n",
       "      <th>85876</th>\n",
       "      <td>190705631</td>\n",
       "      <td>2019-02-04</td>\n",
       "      <td>2010-07-01</td>\n",
       "      <td>1100</td>\n",
       "      <td>WILSHIRE</td>\n",
       "      <td>773</td>\n",
       "      <td>60</td>\n",
       "      <td>F</td>\n",
       "      <td>B</td>\n",
       "      <td>SINGLE FAMILY DWELLING</td>\n",
       "      <td>NaN</td>\n",
       "      <td>NaN</td>\n",
       "      <td>Invest Cont</td>\n",
       "      <td>1900 S  RIDGELEY                     DR</td>\n",
       "    </tr>\n",
       "    <tr>\n",
       "      <th>86769</th>\n",
       "      <td>191300738</td>\n",
       "      <td>2019-06-11</td>\n",
       "      <td>2010-06-07</td>\n",
       "      <td>1800</td>\n",
       "      <td>NEWTON</td>\n",
       "      <td>1383</td>\n",
       "      <td>23</td>\n",
       "      <td>M</td>\n",
       "      <td>B</td>\n",
       "      <td>MULTI-UNIT DWELLING (APARTMENT, DUPLEX, ETC)</td>\n",
       "      <td>NaN</td>\n",
       "      <td>NaN</td>\n",
       "      <td>Invest Cont</td>\n",
       "      <td>5800 S  BROADWAY</td>\n",
       "    </tr>\n",
       "  </tbody>\n",
       "</table>\n",
       "</div>"
      ],
      "text/plain": [
       "           DR_NO CreatedDate   DATE OCC  TIME OCC PolicePrecinct  Rpt Dist No  \\\n",
       "85876  190705631  2019-02-04 2010-07-01      1100       WILSHIRE          773   \n",
       "86769  191300738  2019-06-11 2010-06-07      1800         NEWTON         1383   \n",
       "\n",
       "       Vict Age Vict Sex Vict Descent  \\\n",
       "85876        60        F            B   \n",
       "86769        23        M            B   \n",
       "\n",
       "                                        Premis Desc  Weapon Used Cd  \\\n",
       "85876                        SINGLE FAMILY DWELLING             NaN   \n",
       "86769  MULTI-UNIT DWELLING (APARTMENT, DUPLEX, ETC)             NaN   \n",
       "\n",
       "      Weapon Desc  Status Desc                                 LOCATION  \n",
       "85876         NaN  Invest Cont  1900 S  RIDGELEY                     DR  \n",
       "86769         NaN  Invest Cont                         5800 S  BROADWAY  "
      ]
     },
     "execution_count": 119,
     "metadata": {},
     "output_type": "execute_result"
    }
   ],
   "source": [
    "crime_data_2019.head(2)"
   ]
  },
  {
   "cell_type": "code",
   "execution_count": 120,
   "id": "d41829d7",
   "metadata": {},
   "outputs": [
    {
     "data": {
      "text/html": [
       "<div>\n",
       "<style scoped>\n",
       "    .dataframe tbody tr th:only-of-type {\n",
       "        vertical-align: middle;\n",
       "    }\n",
       "\n",
       "    .dataframe tbody tr th {\n",
       "        vertical-align: top;\n",
       "    }\n",
       "\n",
       "    .dataframe thead th {\n",
       "        text-align: right;\n",
       "    }\n",
       "</style>\n",
       "<table border=\"1\" class=\"dataframe\">\n",
       "  <thead>\n",
       "    <tr style=\"text-align: right;\">\n",
       "      <th></th>\n",
       "      <th>SRNumber</th>\n",
       "      <th>CreatedDate</th>\n",
       "      <th>UpdatedDate</th>\n",
       "      <th>NC</th>\n",
       "      <th>NCName</th>\n",
       "      <th>RequestType</th>\n",
       "      <th>RequestSource</th>\n",
       "      <th>Address</th>\n",
       "      <th>ZipCode</th>\n",
       "      <th>Latitude</th>\n",
       "      <th>Longitude</th>\n",
       "      <th>Location</th>\n",
       "      <th>PolicePrecinct</th>\n",
       "    </tr>\n",
       "  </thead>\n",
       "  <tbody>\n",
       "    <tr>\n",
       "      <th>0</th>\n",
       "      <td>1-1262692791</td>\n",
       "      <td>2019-01-01</td>\n",
       "      <td>2019-01-04 11:03:00</td>\n",
       "      <td>119.0</td>\n",
       "      <td>GREATER WILSHIRE NC</td>\n",
       "      <td>Bulky Items</td>\n",
       "      <td>Self Service</td>\n",
       "      <td>616 N GRAMERCY PL, 90004</td>\n",
       "      <td>90004.0</td>\n",
       "      <td>34.082258</td>\n",
       "      <td>-118.312461</td>\n",
       "      <td>(34.0822581437, -118.312461304)</td>\n",
       "      <td>OLYMPIC</td>\n",
       "    </tr>\n",
       "    <tr>\n",
       "      <th>1</th>\n",
       "      <td>1-1262693531</td>\n",
       "      <td>2019-01-01</td>\n",
       "      <td>2019-01-01 00:09:00</td>\n",
       "      <td>NaN</td>\n",
       "      <td>NaN</td>\n",
       "      <td>Report Water Waste</td>\n",
       "      <td>Mobile App</td>\n",
       "      <td>11500 W SAN VICENTE BLVD, 90049</td>\n",
       "      <td>90049.0</td>\n",
       "      <td>34.052739</td>\n",
       "      <td>-118.461185</td>\n",
       "      <td>(34.052739298, -118.461184916)</td>\n",
       "      <td>WEST LA</td>\n",
       "    </tr>\n",
       "  </tbody>\n",
       "</table>\n",
       "</div>"
      ],
      "text/plain": [
       "       SRNumber CreatedDate         UpdatedDate     NC               NCName  \\\n",
       "0  1-1262692791  2019-01-01 2019-01-04 11:03:00  119.0  GREATER WILSHIRE NC   \n",
       "1  1-1262693531  2019-01-01 2019-01-01 00:09:00    NaN                  NaN   \n",
       "\n",
       "          RequestType RequestSource                          Address  ZipCode  \\\n",
       "0         Bulky Items  Self Service         616 N GRAMERCY PL, 90004  90004.0   \n",
       "1  Report Water Waste    Mobile App  11500 W SAN VICENTE BLVD, 90049  90049.0   \n",
       "\n",
       "    Latitude   Longitude                         Location PolicePrecinct  \n",
       "0  34.082258 -118.312461  (34.0822581437, -118.312461304)        OLYMPIC  \n",
       "1  34.052739 -118.461185   (34.052739298, -118.461184916)        WEST LA  "
      ]
     },
     "execution_count": 120,
     "metadata": {},
     "output_type": "execute_result"
    }
   ],
   "source": [
    "la_311.head(2)"
   ]
  },
  {
   "cell_type": "code",
   "execution_count": 122,
   "id": "9644005d",
   "metadata": {},
   "outputs": [],
   "source": [
    "cd2019b = crime_data_2019"
   ]
  },
  {
   "cell_type": "code",
   "execution_count": 123,
   "id": "54b9ff8d",
   "metadata": {},
   "outputs": [],
   "source": [
    "cd2019b.to_csv(r'C:\\Documents\\projects\\HackLA\\311\\data\\WorkedonData\\crime_data_2019R.csv') "
   ]
  },
  {
   "cell_type": "code",
   "execution_count": 124,
   "id": "a1ab7871",
   "metadata": {},
   "outputs": [],
   "source": [
    "# MErging the two dataframes.\n",
    "#df_merged = df.merge(df_2, on = ['customer_id', 'month'], indicator = True)\n",
    "df_merge= pd.merge(cd2019b, la_311, on=['PolicePrecinct', 'CreatedDate'], how='left', indicator=True)"
   ]
  },
  {
   "cell_type": "code",
   "execution_count": 125,
   "id": "b7a85e77",
   "metadata": {},
   "outputs": [
    {
     "data": {
      "text/html": [
       "<div>\n",
       "<style scoped>\n",
       "    .dataframe tbody tr th:only-of-type {\n",
       "        vertical-align: middle;\n",
       "    }\n",
       "\n",
       "    .dataframe tbody tr th {\n",
       "        vertical-align: top;\n",
       "    }\n",
       "\n",
       "    .dataframe thead th {\n",
       "        text-align: right;\n",
       "    }\n",
       "</style>\n",
       "<table border=\"1\" class=\"dataframe\">\n",
       "  <thead>\n",
       "    <tr style=\"text-align: right;\">\n",
       "      <th></th>\n",
       "      <th>DR_NO</th>\n",
       "      <th>CreatedDate</th>\n",
       "      <th>DATE OCC</th>\n",
       "      <th>TIME OCC</th>\n",
       "      <th>PolicePrecinct</th>\n",
       "      <th>Rpt Dist No</th>\n",
       "      <th>Vict Age</th>\n",
       "      <th>Vict Sex</th>\n",
       "      <th>Vict Descent</th>\n",
       "      <th>Premis Desc</th>\n",
       "      <th>Weapon Used Cd</th>\n",
       "      <th>Weapon Desc</th>\n",
       "      <th>Status Desc</th>\n",
       "      <th>LOCATION</th>\n",
       "      <th>SRNumber</th>\n",
       "      <th>UpdatedDate</th>\n",
       "      <th>NC</th>\n",
       "      <th>NCName</th>\n",
       "      <th>RequestType</th>\n",
       "      <th>RequestSource</th>\n",
       "      <th>Address</th>\n",
       "      <th>ZipCode</th>\n",
       "      <th>Latitude</th>\n",
       "      <th>Longitude</th>\n",
       "      <th>Location</th>\n",
       "      <th>_merge</th>\n",
       "    </tr>\n",
       "  </thead>\n",
       "  <tbody>\n",
       "    <tr>\n",
       "      <th>0</th>\n",
       "      <td>190705631</td>\n",
       "      <td>2019-02-04</td>\n",
       "      <td>2010-07-01</td>\n",
       "      <td>1100</td>\n",
       "      <td>WILSHIRE</td>\n",
       "      <td>773</td>\n",
       "      <td>60</td>\n",
       "      <td>F</td>\n",
       "      <td>B</td>\n",
       "      <td>SINGLE FAMILY DWELLING</td>\n",
       "      <td>NaN</td>\n",
       "      <td>NaN</td>\n",
       "      <td>Invest Cont</td>\n",
       "      <td>1900 S  RIDGELEY                     DR</td>\n",
       "      <td>1-1284879451</td>\n",
       "      <td>2019-02-07 10:38:00</td>\n",
       "      <td>58.0</td>\n",
       "      <td>MID CITY WEST CC</td>\n",
       "      <td>Illegal Dumping Pickup</td>\n",
       "      <td>Call</td>\n",
       "      <td>751 N ORANGE GROVE AVE, 90046</td>\n",
       "      <td>90046.0</td>\n",
       "      <td>34.085202</td>\n",
       "      <td>-118.360668</td>\n",
       "      <td>(34.0852016134, -118.360667602)</td>\n",
       "      <td>both</td>\n",
       "    </tr>\n",
       "    <tr>\n",
       "      <th>1</th>\n",
       "      <td>190705631</td>\n",
       "      <td>2019-02-04</td>\n",
       "      <td>2010-07-01</td>\n",
       "      <td>1100</td>\n",
       "      <td>WILSHIRE</td>\n",
       "      <td>773</td>\n",
       "      <td>60</td>\n",
       "      <td>F</td>\n",
       "      <td>B</td>\n",
       "      <td>SINGLE FAMILY DWELLING</td>\n",
       "      <td>NaN</td>\n",
       "      <td>NaN</td>\n",
       "      <td>Invest Cont</td>\n",
       "      <td>1900 S  RIDGELEY                     DR</td>\n",
       "      <td>1-1284881337</td>\n",
       "      <td>2019-02-08 10:20:00</td>\n",
       "      <td>119.0</td>\n",
       "      <td>GREATER WILSHIRE NC</td>\n",
       "      <td>Bulky Items</td>\n",
       "      <td>Mobile App</td>\n",
       "      <td>150 S LA BREA AVE, 90036</td>\n",
       "      <td>90036.0</td>\n",
       "      <td>34.072058</td>\n",
       "      <td>-118.343872</td>\n",
       "      <td>(34.0720577832, -118.343872483)</td>\n",
       "      <td>both</td>\n",
       "    </tr>\n",
       "    <tr>\n",
       "      <th>2</th>\n",
       "      <td>190705631</td>\n",
       "      <td>2019-02-04</td>\n",
       "      <td>2010-07-01</td>\n",
       "      <td>1100</td>\n",
       "      <td>WILSHIRE</td>\n",
       "      <td>773</td>\n",
       "      <td>60</td>\n",
       "      <td>F</td>\n",
       "      <td>B</td>\n",
       "      <td>SINGLE FAMILY DWELLING</td>\n",
       "      <td>NaN</td>\n",
       "      <td>NaN</td>\n",
       "      <td>Invest Cont</td>\n",
       "      <td>1900 S  RIDGELEY                     DR</td>\n",
       "      <td>1-1284891854</td>\n",
       "      <td>2019-02-11 13:33:00</td>\n",
       "      <td>58.0</td>\n",
       "      <td>MID CITY WEST CC</td>\n",
       "      <td>Bulky Items</td>\n",
       "      <td>Mobile App</td>\n",
       "      <td>6207 W SAN VICENTE BLVD, 90048</td>\n",
       "      <td>90048.0</td>\n",
       "      <td>34.060732</td>\n",
       "      <td>-118.366357</td>\n",
       "      <td>(34.0607316625, -118.366357217)</td>\n",
       "      <td>both</td>\n",
       "    </tr>\n",
       "    <tr>\n",
       "      <th>3</th>\n",
       "      <td>190705631</td>\n",
       "      <td>2019-02-04</td>\n",
       "      <td>2010-07-01</td>\n",
       "      <td>1100</td>\n",
       "      <td>WILSHIRE</td>\n",
       "      <td>773</td>\n",
       "      <td>60</td>\n",
       "      <td>F</td>\n",
       "      <td>B</td>\n",
       "      <td>SINGLE FAMILY DWELLING</td>\n",
       "      <td>NaN</td>\n",
       "      <td>NaN</td>\n",
       "      <td>Invest Cont</td>\n",
       "      <td>1900 S  RIDGELEY                     DR</td>\n",
       "      <td>1-1284892021</td>\n",
       "      <td>2019-02-08 14:50:00</td>\n",
       "      <td>60.0</td>\n",
       "      <td>P.I.C.O. NC</td>\n",
       "      <td>Metal/Household Appliances</td>\n",
       "      <td>Call</td>\n",
       "      <td>5910 W AIRDROME ST, 90035</td>\n",
       "      <td>90035.0</td>\n",
       "      <td>34.045795</td>\n",
       "      <td>-118.369688</td>\n",
       "      <td>(34.0457946487, -118.369688046)</td>\n",
       "      <td>both</td>\n",
       "    </tr>\n",
       "    <tr>\n",
       "      <th>4</th>\n",
       "      <td>190705631</td>\n",
       "      <td>2019-02-04</td>\n",
       "      <td>2010-07-01</td>\n",
       "      <td>1100</td>\n",
       "      <td>WILSHIRE</td>\n",
       "      <td>773</td>\n",
       "      <td>60</td>\n",
       "      <td>F</td>\n",
       "      <td>B</td>\n",
       "      <td>SINGLE FAMILY DWELLING</td>\n",
       "      <td>NaN</td>\n",
       "      <td>NaN</td>\n",
       "      <td>Invest Cont</td>\n",
       "      <td>1900 S  RIDGELEY                     DR</td>\n",
       "      <td>1-1284899341</td>\n",
       "      <td>2019-02-11 08:59:00</td>\n",
       "      <td>74.0</td>\n",
       "      <td>UNITED NEIGHBORHOODS OF THE HISTORIC ARLINGTON...</td>\n",
       "      <td>Bulky Items</td>\n",
       "      <td>Call</td>\n",
       "      <td>2021 S 4TH AVE, 90018</td>\n",
       "      <td>90018.0</td>\n",
       "      <td>34.038446</td>\n",
       "      <td>-118.321542</td>\n",
       "      <td>(34.0384455466, -118.321542152)</td>\n",
       "      <td>both</td>\n",
       "    </tr>\n",
       "  </tbody>\n",
       "</table>\n",
       "</div>"
      ],
      "text/plain": [
       "       DR_NO CreatedDate   DATE OCC  TIME OCC PolicePrecinct  Rpt Dist No  \\\n",
       "0  190705631  2019-02-04 2010-07-01      1100       WILSHIRE          773   \n",
       "1  190705631  2019-02-04 2010-07-01      1100       WILSHIRE          773   \n",
       "2  190705631  2019-02-04 2010-07-01      1100       WILSHIRE          773   \n",
       "3  190705631  2019-02-04 2010-07-01      1100       WILSHIRE          773   \n",
       "4  190705631  2019-02-04 2010-07-01      1100       WILSHIRE          773   \n",
       "\n",
       "   Vict Age Vict Sex Vict Descent             Premis Desc  Weapon Used Cd  \\\n",
       "0        60        F            B  SINGLE FAMILY DWELLING             NaN   \n",
       "1        60        F            B  SINGLE FAMILY DWELLING             NaN   \n",
       "2        60        F            B  SINGLE FAMILY DWELLING             NaN   \n",
       "3        60        F            B  SINGLE FAMILY DWELLING             NaN   \n",
       "4        60        F            B  SINGLE FAMILY DWELLING             NaN   \n",
       "\n",
       "  Weapon Desc  Status Desc                                 LOCATION  \\\n",
       "0         NaN  Invest Cont  1900 S  RIDGELEY                     DR   \n",
       "1         NaN  Invest Cont  1900 S  RIDGELEY                     DR   \n",
       "2         NaN  Invest Cont  1900 S  RIDGELEY                     DR   \n",
       "3         NaN  Invest Cont  1900 S  RIDGELEY                     DR   \n",
       "4         NaN  Invest Cont  1900 S  RIDGELEY                     DR   \n",
       "\n",
       "       SRNumber         UpdatedDate     NC  \\\n",
       "0  1-1284879451 2019-02-07 10:38:00   58.0   \n",
       "1  1-1284881337 2019-02-08 10:20:00  119.0   \n",
       "2  1-1284891854 2019-02-11 13:33:00   58.0   \n",
       "3  1-1284892021 2019-02-08 14:50:00   60.0   \n",
       "4  1-1284899341 2019-02-11 08:59:00   74.0   \n",
       "\n",
       "                                              NCName  \\\n",
       "0                                   MID CITY WEST CC   \n",
       "1                                GREATER WILSHIRE NC   \n",
       "2                                   MID CITY WEST CC   \n",
       "3                                        P.I.C.O. NC   \n",
       "4  UNITED NEIGHBORHOODS OF THE HISTORIC ARLINGTON...   \n",
       "\n",
       "                  RequestType RequestSource                         Address  \\\n",
       "0      Illegal Dumping Pickup          Call   751 N ORANGE GROVE AVE, 90046   \n",
       "1                 Bulky Items    Mobile App        150 S LA BREA AVE, 90036   \n",
       "2                 Bulky Items    Mobile App  6207 W SAN VICENTE BLVD, 90048   \n",
       "3  Metal/Household Appliances          Call       5910 W AIRDROME ST, 90035   \n",
       "4                 Bulky Items          Call           2021 S 4TH AVE, 90018   \n",
       "\n",
       "   ZipCode   Latitude   Longitude                         Location _merge  \n",
       "0  90046.0  34.085202 -118.360668  (34.0852016134, -118.360667602)   both  \n",
       "1  90036.0  34.072058 -118.343872  (34.0720577832, -118.343872483)   both  \n",
       "2  90048.0  34.060732 -118.366357  (34.0607316625, -118.366357217)   both  \n",
       "3  90035.0  34.045795 -118.369688  (34.0457946487, -118.369688046)   both  \n",
       "4  90018.0  34.038446 -118.321542  (34.0384455466, -118.321542152)   both  "
      ]
     },
     "execution_count": 125,
     "metadata": {},
     "output_type": "execute_result"
    }
   ],
   "source": [
    "df_merge.head()"
   ]
  },
  {
   "cell_type": "code",
   "execution_count": 126,
   "id": "fecfb07d",
   "metadata": {},
   "outputs": [],
   "source": [
    "df_merge.to_csv(r'C:\\Documents\\projects\\HackLA\\311\\data\\WorkedonData\\Merge.csv')"
   ]
  },
  {
   "cell_type": "code",
   "execution_count": 42,
   "id": "ec7d53a7",
   "metadata": {},
   "outputs": [],
   "source": [
    "la_311.to_csv(r'C:\\Documents\\projects\\HackLA\\311\\data\\WorkedonData\\la_311_2019.csv') "
   ]
  },
  {
   "cell_type": "code",
   "execution_count": 110,
   "id": "700f44c8",
   "metadata": {},
   "outputs": [],
   "source": [
    "crime_data_2019.to_csv(r'C:\\Documents\\projects\\HackLA\\311\\data\\WorkedonData\\crime_data_2019R.csv') "
   ]
  },
  {
   "cell_type": "code",
   "execution_count": 127,
   "id": "f823dc17",
   "metadata": {},
   "outputs": [
    {
     "data": {
      "text/plain": [
       "(38176837, 26)"
      ]
     },
     "execution_count": 127,
     "metadata": {},
     "output_type": "execute_result"
    }
   ],
   "source": [
    "df_merge.shape"
   ]
  },
  {
   "cell_type": "code",
   "execution_count": 128,
   "id": "207d0220",
   "metadata": {},
   "outputs": [
    {
     "data": {
      "text/plain": [
       "(220556, 14)"
      ]
     },
     "execution_count": 128,
     "metadata": {},
     "output_type": "execute_result"
    }
   ],
   "source": [
    "cd2019b.shape"
   ]
  },
  {
   "cell_type": "code",
   "execution_count": 129,
   "id": "f8394fe9",
   "metadata": {},
   "outputs": [
    {
     "data": {
      "text/plain": [
       "(1306771, 13)"
      ]
     },
     "execution_count": 129,
     "metadata": {},
     "output_type": "execute_result"
    }
   ],
   "source": [
    "la_311.shape"
   ]
  },
  {
   "cell_type": "code",
   "execution_count": 130,
   "id": "b4a0440d",
   "metadata": {},
   "outputs": [
    {
     "data": {
      "text/plain": [
       "both          38176686\n",
       "left_only          151\n",
       "right_only           0\n",
       "Name: _merge, dtype: int64"
      ]
     },
     "execution_count": 130,
     "metadata": {},
     "output_type": "execute_result"
    }
   ],
   "source": [
    "df_merge['_merge'].value_counts()"
   ]
  },
  {
   "cell_type": "code",
   "execution_count": 132,
   "id": "58598168",
   "metadata": {},
   "outputs": [
    {
     "data": {
      "text/html": [
       "<div>\n",
       "<style scoped>\n",
       "    .dataframe tbody tr th:only-of-type {\n",
       "        vertical-align: middle;\n",
       "    }\n",
       "\n",
       "    .dataframe tbody tr th {\n",
       "        vertical-align: top;\n",
       "    }\n",
       "\n",
       "    .dataframe thead th {\n",
       "        text-align: right;\n",
       "    }\n",
       "</style>\n",
       "<table border=\"1\" class=\"dataframe\">\n",
       "  <thead>\n",
       "    <tr style=\"text-align: right;\">\n",
       "      <th></th>\n",
       "      <th>DR_NO</th>\n",
       "      <th>CreatedDate</th>\n",
       "      <th>DATE OCC</th>\n",
       "      <th>TIME OCC</th>\n",
       "      <th>PolicePrecinct</th>\n",
       "      <th>Rpt Dist No</th>\n",
       "      <th>Vict Age</th>\n",
       "      <th>Vict Sex</th>\n",
       "      <th>Vict Descent</th>\n",
       "      <th>Premis Desc</th>\n",
       "      <th>Weapon Used Cd</th>\n",
       "      <th>Weapon Desc</th>\n",
       "      <th>Status Desc</th>\n",
       "      <th>LOCATION</th>\n",
       "      <th>SRNumber</th>\n",
       "      <th>UpdatedDate</th>\n",
       "      <th>NC</th>\n",
       "      <th>NCName</th>\n",
       "      <th>RequestType</th>\n",
       "      <th>RequestSource</th>\n",
       "      <th>Address</th>\n",
       "      <th>ZipCode</th>\n",
       "      <th>Latitude</th>\n",
       "      <th>Longitude</th>\n",
       "      <th>Location</th>\n",
       "      <th>_merge</th>\n",
       "    </tr>\n",
       "  </thead>\n",
       "  <tbody>\n",
       "    <tr>\n",
       "      <th>866074</th>\n",
       "      <td>191209170</td>\n",
       "      <td>2019-03-16</td>\n",
       "      <td>2018-12-30</td>\n",
       "      <td>1000</td>\n",
       "      <td>77TH STREET</td>\n",
       "      <td>1233</td>\n",
       "      <td>63</td>\n",
       "      <td>M</td>\n",
       "      <td>B</td>\n",
       "      <td>STREET</td>\n",
       "      <td>NaN</td>\n",
       "      <td>NaN</td>\n",
       "      <td>Invest Cont</td>\n",
       "      <td>6000 S  WESTERN                      AV</td>\n",
       "      <td>NaN</td>\n",
       "      <td>NaT</td>\n",
       "      <td>NaN</td>\n",
       "      <td>NaN</td>\n",
       "      <td>NaN</td>\n",
       "      <td>NaN</td>\n",
       "      <td>NaN</td>\n",
       "      <td>NaN</td>\n",
       "      <td>NaN</td>\n",
       "      <td>NaN</td>\n",
       "      <td>NaN</td>\n",
       "      <td>left_only</td>\n",
       "    </tr>\n",
       "    <tr>\n",
       "      <th>1717850</th>\n",
       "      <td>191007281</td>\n",
       "      <td>2019-03-16</td>\n",
       "      <td>2019-03-16</td>\n",
       "      <td>500</td>\n",
       "      <td>WEST VALLEY</td>\n",
       "      <td>1047</td>\n",
       "      <td>24</td>\n",
       "      <td>M</td>\n",
       "      <td>H</td>\n",
       "      <td>YARD (RESIDENTIAL/BUSINESS)</td>\n",
       "      <td>511.0</td>\n",
       "      <td>VERBAL THREAT</td>\n",
       "      <td>Adult Other</td>\n",
       "      <td>5600    WISH                         AV</td>\n",
       "      <td>NaN</td>\n",
       "      <td>NaT</td>\n",
       "      <td>NaN</td>\n",
       "      <td>NaN</td>\n",
       "      <td>NaN</td>\n",
       "      <td>NaN</td>\n",
       "      <td>NaN</td>\n",
       "      <td>NaN</td>\n",
       "      <td>NaN</td>\n",
       "      <td>NaN</td>\n",
       "      <td>NaN</td>\n",
       "      <td>left_only</td>\n",
       "    </tr>\n",
       "    <tr>\n",
       "      <th>1815947</th>\n",
       "      <td>190707734</td>\n",
       "      <td>2019-03-16</td>\n",
       "      <td>2019-03-16</td>\n",
       "      <td>1035</td>\n",
       "      <td>WILSHIRE</td>\n",
       "      <td>705</td>\n",
       "      <td>42</td>\n",
       "      <td>M</td>\n",
       "      <td>W</td>\n",
       "      <td>STREET</td>\n",
       "      <td>NaN</td>\n",
       "      <td>NaN</td>\n",
       "      <td>Invest Cont</td>\n",
       "      <td>700 N  DETROIT                      ST</td>\n",
       "      <td>NaN</td>\n",
       "      <td>NaT</td>\n",
       "      <td>NaN</td>\n",
       "      <td>NaN</td>\n",
       "      <td>NaN</td>\n",
       "      <td>NaN</td>\n",
       "      <td>NaN</td>\n",
       "      <td>NaN</td>\n",
       "      <td>NaN</td>\n",
       "      <td>NaN</td>\n",
       "      <td>NaN</td>\n",
       "      <td>left_only</td>\n",
       "    </tr>\n",
       "    <tr>\n",
       "      <th>1974723</th>\n",
       "      <td>191308146</td>\n",
       "      <td>2019-03-16</td>\n",
       "      <td>2019-03-15</td>\n",
       "      <td>1900</td>\n",
       "      <td>NEWTON</td>\n",
       "      <td>1344</td>\n",
       "      <td>35</td>\n",
       "      <td>F</td>\n",
       "      <td>H</td>\n",
       "      <td>STREET</td>\n",
       "      <td>NaN</td>\n",
       "      <td>NaN</td>\n",
       "      <td>Invest Cont</td>\n",
       "      <td>800 E  42ND                         PL</td>\n",
       "      <td>NaN</td>\n",
       "      <td>NaT</td>\n",
       "      <td>NaN</td>\n",
       "      <td>NaN</td>\n",
       "      <td>NaN</td>\n",
       "      <td>NaN</td>\n",
       "      <td>NaN</td>\n",
       "      <td>NaN</td>\n",
       "      <td>NaN</td>\n",
       "      <td>NaN</td>\n",
       "      <td>NaN</td>\n",
       "      <td>left_only</td>\n",
       "    </tr>\n",
       "    <tr>\n",
       "      <th>2687873</th>\n",
       "      <td>190109199</td>\n",
       "      <td>2019-03-16</td>\n",
       "      <td>2019-03-16</td>\n",
       "      <td>1535</td>\n",
       "      <td>CENTRAL</td>\n",
       "      <td>192</td>\n",
       "      <td>32</td>\n",
       "      <td>M</td>\n",
       "      <td>B</td>\n",
       "      <td>MULTI-UNIT DWELLING (APARTMENT, DUPLEX, ETC)</td>\n",
       "      <td>400.0</td>\n",
       "      <td>STRONG-ARM (HANDS, FIST, FEET OR BODILY FORCE)</td>\n",
       "      <td>Adult Other</td>\n",
       "      <td>1300 S  HOPE                         ST</td>\n",
       "      <td>NaN</td>\n",
       "      <td>NaT</td>\n",
       "      <td>NaN</td>\n",
       "      <td>NaN</td>\n",
       "      <td>NaN</td>\n",
       "      <td>NaN</td>\n",
       "      <td>NaN</td>\n",
       "      <td>NaN</td>\n",
       "      <td>NaN</td>\n",
       "      <td>NaN</td>\n",
       "      <td>NaN</td>\n",
       "      <td>left_only</td>\n",
       "    </tr>\n",
       "  </tbody>\n",
       "</table>\n",
       "</div>"
      ],
      "text/plain": [
       "             DR_NO CreatedDate   DATE OCC  TIME OCC PolicePrecinct  \\\n",
       "866074   191209170  2019-03-16 2018-12-30      1000    77TH STREET   \n",
       "1717850  191007281  2019-03-16 2019-03-16       500    WEST VALLEY   \n",
       "1815947  190707734  2019-03-16 2019-03-16      1035       WILSHIRE   \n",
       "1974723  191308146  2019-03-16 2019-03-15      1900         NEWTON   \n",
       "2687873  190109199  2019-03-16 2019-03-16      1535        CENTRAL   \n",
       "\n",
       "         Rpt Dist No  Vict Age Vict Sex Vict Descent  \\\n",
       "866074          1233        63        M            B   \n",
       "1717850         1047        24        M            H   \n",
       "1815947          705        42        M            W   \n",
       "1974723         1344        35        F            H   \n",
       "2687873          192        32        M            B   \n",
       "\n",
       "                                          Premis Desc  Weapon Used Cd  \\\n",
       "866074                                         STREET             NaN   \n",
       "1717850                   YARD (RESIDENTIAL/BUSINESS)           511.0   \n",
       "1815947                                        STREET             NaN   \n",
       "1974723                                        STREET             NaN   \n",
       "2687873  MULTI-UNIT DWELLING (APARTMENT, DUPLEX, ETC)           400.0   \n",
       "\n",
       "                                            Weapon Desc  Status Desc  \\\n",
       "866074                                              NaN  Invest Cont   \n",
       "1717850                                   VERBAL THREAT  Adult Other   \n",
       "1815947                                             NaN  Invest Cont   \n",
       "1974723                                             NaN  Invest Cont   \n",
       "2687873  STRONG-ARM (HANDS, FIST, FEET OR BODILY FORCE)  Adult Other   \n",
       "\n",
       "                                        LOCATION SRNumber UpdatedDate  NC  \\\n",
       "866074   6000 S  WESTERN                      AV      NaN         NaT NaN   \n",
       "1717850  5600    WISH                         AV      NaN         NaT NaN   \n",
       "1815947   700 N  DETROIT                      ST      NaN         NaT NaN   \n",
       "1974723   800 E  42ND                         PL      NaN         NaT NaN   \n",
       "2687873  1300 S  HOPE                         ST      NaN         NaT NaN   \n",
       "\n",
       "        NCName RequestType RequestSource Address  ZipCode  Latitude  \\\n",
       "866074     NaN         NaN           NaN     NaN      NaN       NaN   \n",
       "1717850    NaN         NaN           NaN     NaN      NaN       NaN   \n",
       "1815947    NaN         NaN           NaN     NaN      NaN       NaN   \n",
       "1974723    NaN         NaN           NaN     NaN      NaN       NaN   \n",
       "2687873    NaN         NaN           NaN     NaN      NaN       NaN   \n",
       "\n",
       "         Longitude Location     _merge  \n",
       "866074         NaN      NaN  left_only  \n",
       "1717850        NaN      NaN  left_only  \n",
       "1815947        NaN      NaN  left_only  \n",
       "1974723        NaN      NaN  left_only  \n",
       "2687873        NaN      NaN  left_only  "
      ]
     },
     "execution_count": 132,
     "metadata": {},
     "output_type": "execute_result"
    }
   ],
   "source": [
    "df_merge[df_merge['_merge'] == 'left_only'].head()"
   ]
  },
  {
   "cell_type": "code",
   "execution_count": 133,
   "id": "e3a957bb",
   "metadata": {},
   "outputs": [
    {
     "data": {
      "text/plain": [
       "0"
      ]
     },
     "execution_count": 133,
     "metadata": {},
     "output_type": "execute_result"
    }
   ],
   "source": [
    "la_311['CreatedDate'].isnull().sum()"
   ]
  },
  {
   "cell_type": "code",
   "execution_count": 135,
   "id": "16c4d877",
   "metadata": {},
   "outputs": [
    {
     "data": {
      "text/plain": [
       "0"
      ]
     },
     "execution_count": 135,
     "metadata": {},
     "output_type": "execute_result"
    }
   ],
   "source": [
    "la_311['PolicePrecinct'].isnull().sum()"
   ]
  },
  {
   "cell_type": "code",
   "execution_count": 136,
   "id": "a102f144",
   "metadata": {},
   "outputs": [
    {
     "data": {
      "text/plain": [
       "0"
      ]
     },
     "execution_count": 136,
     "metadata": {},
     "output_type": "execute_result"
    }
   ],
   "source": [
    "cd2019b['CreatedDate'].isnull().sum()"
   ]
  },
  {
   "cell_type": "code",
   "execution_count": 137,
   "id": "13212d10",
   "metadata": {},
   "outputs": [
    {
     "data": {
      "text/plain": [
       "0"
      ]
     },
     "execution_count": 137,
     "metadata": {},
     "output_type": "execute_result"
    }
   ],
   "source": [
    "cd2019b['PolicePrecinct'].isnull().sum()"
   ]
  },
  {
   "cell_type": "code",
   "execution_count": 138,
   "id": "9dd77b2d",
   "metadata": {},
   "outputs": [],
   "source": [
    "dfLeft=df_merge[df_merge['_merge'] == 'left_only']"
   ]
  },
  {
   "cell_type": "code",
   "execution_count": 140,
   "id": "5de1ecc6",
   "metadata": {},
   "outputs": [
    {
     "data": {
      "text/html": [
       "<div>\n",
       "<style scoped>\n",
       "    .dataframe tbody tr th:only-of-type {\n",
       "        vertical-align: middle;\n",
       "    }\n",
       "\n",
       "    .dataframe tbody tr th {\n",
       "        vertical-align: top;\n",
       "    }\n",
       "\n",
       "    .dataframe thead th {\n",
       "        text-align: right;\n",
       "    }\n",
       "</style>\n",
       "<table border=\"1\" class=\"dataframe\">\n",
       "  <thead>\n",
       "    <tr style=\"text-align: right;\">\n",
       "      <th></th>\n",
       "      <th>DR_NO</th>\n",
       "      <th>CreatedDate</th>\n",
       "      <th>DATE OCC</th>\n",
       "      <th>TIME OCC</th>\n",
       "      <th>PolicePrecinct</th>\n",
       "      <th>Rpt Dist No</th>\n",
       "      <th>Vict Age</th>\n",
       "      <th>Vict Sex</th>\n",
       "      <th>Vict Descent</th>\n",
       "      <th>Premis Desc</th>\n",
       "      <th>Weapon Used Cd</th>\n",
       "      <th>Weapon Desc</th>\n",
       "      <th>Status Desc</th>\n",
       "      <th>LOCATION</th>\n",
       "      <th>SRNumber</th>\n",
       "      <th>UpdatedDate</th>\n",
       "      <th>NC</th>\n",
       "      <th>NCName</th>\n",
       "      <th>RequestType</th>\n",
       "      <th>RequestSource</th>\n",
       "      <th>Address</th>\n",
       "      <th>ZipCode</th>\n",
       "      <th>Latitude</th>\n",
       "      <th>Longitude</th>\n",
       "      <th>Location</th>\n",
       "      <th>_merge</th>\n",
       "    </tr>\n",
       "  </thead>\n",
       "  <tbody>\n",
       "    <tr>\n",
       "      <th>866074</th>\n",
       "      <td>191209170</td>\n",
       "      <td>2019-03-16</td>\n",
       "      <td>2018-12-30</td>\n",
       "      <td>1000</td>\n",
       "      <td>77TH STREET</td>\n",
       "      <td>1233</td>\n",
       "      <td>63</td>\n",
       "      <td>M</td>\n",
       "      <td>B</td>\n",
       "      <td>STREET</td>\n",
       "      <td>NaN</td>\n",
       "      <td>NaN</td>\n",
       "      <td>Invest Cont</td>\n",
       "      <td>6000 S  WESTERN                      AV</td>\n",
       "      <td>NaN</td>\n",
       "      <td>NaT</td>\n",
       "      <td>NaN</td>\n",
       "      <td>NaN</td>\n",
       "      <td>NaN</td>\n",
       "      <td>NaN</td>\n",
       "      <td>NaN</td>\n",
       "      <td>NaN</td>\n",
       "      <td>NaN</td>\n",
       "      <td>NaN</td>\n",
       "      <td>NaN</td>\n",
       "      <td>left_only</td>\n",
       "    </tr>\n",
       "    <tr>\n",
       "      <th>1717850</th>\n",
       "      <td>191007281</td>\n",
       "      <td>2019-03-16</td>\n",
       "      <td>2019-03-16</td>\n",
       "      <td>500</td>\n",
       "      <td>WEST VALLEY</td>\n",
       "      <td>1047</td>\n",
       "      <td>24</td>\n",
       "      <td>M</td>\n",
       "      <td>H</td>\n",
       "      <td>YARD (RESIDENTIAL/BUSINESS)</td>\n",
       "      <td>511.0</td>\n",
       "      <td>VERBAL THREAT</td>\n",
       "      <td>Adult Other</td>\n",
       "      <td>5600    WISH                         AV</td>\n",
       "      <td>NaN</td>\n",
       "      <td>NaT</td>\n",
       "      <td>NaN</td>\n",
       "      <td>NaN</td>\n",
       "      <td>NaN</td>\n",
       "      <td>NaN</td>\n",
       "      <td>NaN</td>\n",
       "      <td>NaN</td>\n",
       "      <td>NaN</td>\n",
       "      <td>NaN</td>\n",
       "      <td>NaN</td>\n",
       "      <td>left_only</td>\n",
       "    </tr>\n",
       "    <tr>\n",
       "      <th>1815947</th>\n",
       "      <td>190707734</td>\n",
       "      <td>2019-03-16</td>\n",
       "      <td>2019-03-16</td>\n",
       "      <td>1035</td>\n",
       "      <td>WILSHIRE</td>\n",
       "      <td>705</td>\n",
       "      <td>42</td>\n",
       "      <td>M</td>\n",
       "      <td>W</td>\n",
       "      <td>STREET</td>\n",
       "      <td>NaN</td>\n",
       "      <td>NaN</td>\n",
       "      <td>Invest Cont</td>\n",
       "      <td>700 N  DETROIT                      ST</td>\n",
       "      <td>NaN</td>\n",
       "      <td>NaT</td>\n",
       "      <td>NaN</td>\n",
       "      <td>NaN</td>\n",
       "      <td>NaN</td>\n",
       "      <td>NaN</td>\n",
       "      <td>NaN</td>\n",
       "      <td>NaN</td>\n",
       "      <td>NaN</td>\n",
       "      <td>NaN</td>\n",
       "      <td>NaN</td>\n",
       "      <td>left_only</td>\n",
       "    </tr>\n",
       "    <tr>\n",
       "      <th>1974723</th>\n",
       "      <td>191308146</td>\n",
       "      <td>2019-03-16</td>\n",
       "      <td>2019-03-15</td>\n",
       "      <td>1900</td>\n",
       "      <td>NEWTON</td>\n",
       "      <td>1344</td>\n",
       "      <td>35</td>\n",
       "      <td>F</td>\n",
       "      <td>H</td>\n",
       "      <td>STREET</td>\n",
       "      <td>NaN</td>\n",
       "      <td>NaN</td>\n",
       "      <td>Invest Cont</td>\n",
       "      <td>800 E  42ND                         PL</td>\n",
       "      <td>NaN</td>\n",
       "      <td>NaT</td>\n",
       "      <td>NaN</td>\n",
       "      <td>NaN</td>\n",
       "      <td>NaN</td>\n",
       "      <td>NaN</td>\n",
       "      <td>NaN</td>\n",
       "      <td>NaN</td>\n",
       "      <td>NaN</td>\n",
       "      <td>NaN</td>\n",
       "      <td>NaN</td>\n",
       "      <td>left_only</td>\n",
       "    </tr>\n",
       "    <tr>\n",
       "      <th>2687873</th>\n",
       "      <td>190109199</td>\n",
       "      <td>2019-03-16</td>\n",
       "      <td>2019-03-16</td>\n",
       "      <td>1535</td>\n",
       "      <td>CENTRAL</td>\n",
       "      <td>192</td>\n",
       "      <td>32</td>\n",
       "      <td>M</td>\n",
       "      <td>B</td>\n",
       "      <td>MULTI-UNIT DWELLING (APARTMENT, DUPLEX, ETC)</td>\n",
       "      <td>400.0</td>\n",
       "      <td>STRONG-ARM (HANDS, FIST, FEET OR BODILY FORCE)</td>\n",
       "      <td>Adult Other</td>\n",
       "      <td>1300 S  HOPE                         ST</td>\n",
       "      <td>NaN</td>\n",
       "      <td>NaT</td>\n",
       "      <td>NaN</td>\n",
       "      <td>NaN</td>\n",
       "      <td>NaN</td>\n",
       "      <td>NaN</td>\n",
       "      <td>NaN</td>\n",
       "      <td>NaN</td>\n",
       "      <td>NaN</td>\n",
       "      <td>NaN</td>\n",
       "      <td>NaN</td>\n",
       "      <td>left_only</td>\n",
       "    </tr>\n",
       "  </tbody>\n",
       "</table>\n",
       "</div>"
      ],
      "text/plain": [
       "             DR_NO CreatedDate   DATE OCC  TIME OCC PolicePrecinct  \\\n",
       "866074   191209170  2019-03-16 2018-12-30      1000    77TH STREET   \n",
       "1717850  191007281  2019-03-16 2019-03-16       500    WEST VALLEY   \n",
       "1815947  190707734  2019-03-16 2019-03-16      1035       WILSHIRE   \n",
       "1974723  191308146  2019-03-16 2019-03-15      1900         NEWTON   \n",
       "2687873  190109199  2019-03-16 2019-03-16      1535        CENTRAL   \n",
       "\n",
       "         Rpt Dist No  Vict Age Vict Sex Vict Descent  \\\n",
       "866074          1233        63        M            B   \n",
       "1717850         1047        24        M            H   \n",
       "1815947          705        42        M            W   \n",
       "1974723         1344        35        F            H   \n",
       "2687873          192        32        M            B   \n",
       "\n",
       "                                          Premis Desc  Weapon Used Cd  \\\n",
       "866074                                         STREET             NaN   \n",
       "1717850                   YARD (RESIDENTIAL/BUSINESS)           511.0   \n",
       "1815947                                        STREET             NaN   \n",
       "1974723                                        STREET             NaN   \n",
       "2687873  MULTI-UNIT DWELLING (APARTMENT, DUPLEX, ETC)           400.0   \n",
       "\n",
       "                                            Weapon Desc  Status Desc  \\\n",
       "866074                                              NaN  Invest Cont   \n",
       "1717850                                   VERBAL THREAT  Adult Other   \n",
       "1815947                                             NaN  Invest Cont   \n",
       "1974723                                             NaN  Invest Cont   \n",
       "2687873  STRONG-ARM (HANDS, FIST, FEET OR BODILY FORCE)  Adult Other   \n",
       "\n",
       "                                        LOCATION SRNumber UpdatedDate  NC  \\\n",
       "866074   6000 S  WESTERN                      AV      NaN         NaT NaN   \n",
       "1717850  5600    WISH                         AV      NaN         NaT NaN   \n",
       "1815947   700 N  DETROIT                      ST      NaN         NaT NaN   \n",
       "1974723   800 E  42ND                         PL      NaN         NaT NaN   \n",
       "2687873  1300 S  HOPE                         ST      NaN         NaT NaN   \n",
       "\n",
       "        NCName RequestType RequestSource Address  ZipCode  Latitude  \\\n",
       "866074     NaN         NaN           NaN     NaN      NaN       NaN   \n",
       "1717850    NaN         NaN           NaN     NaN      NaN       NaN   \n",
       "1815947    NaN         NaN           NaN     NaN      NaN       NaN   \n",
       "1974723    NaN         NaN           NaN     NaN      NaN       NaN   \n",
       "2687873    NaN         NaN           NaN     NaN      NaN       NaN   \n",
       "\n",
       "         Longitude Location     _merge  \n",
       "866074         NaN      NaN  left_only  \n",
       "1717850        NaN      NaN  left_only  \n",
       "1815947        NaN      NaN  left_only  \n",
       "1974723        NaN      NaN  left_only  \n",
       "2687873        NaN      NaN  left_only  "
      ]
     },
     "execution_count": 140,
     "metadata": {},
     "output_type": "execute_result"
    }
   ],
   "source": [
    "dfLeft.head()"
   ]
  },
  {
   "cell_type": "code",
   "execution_count": null,
   "id": "0c7a28fe",
   "metadata": {},
   "outputs": [],
   "source": []
  }
 ],
 "metadata": {
  "kernelspec": {
   "display_name": "Python 3.10.7 ('.311': venv)",
   "language": "python",
   "name": "python3"
  },
  "language_info": {
   "codemirror_mode": {
    "name": "ipython",
    "version": 3
   },
   "file_extension": ".py",
   "mimetype": "text/x-python",
   "name": "python",
   "nbconvert_exporter": "python",
   "pygments_lexer": "ipython3",
   "version": "3.10.7"
  },
  "vscode": {
   "interpreter": {
    "hash": "dea60ae50a6f6db8f29a86d1a90477a65a67cbc1ef92852d90bdf9857e47f257"
   }
  }
 },
 "nbformat": 4,
 "nbformat_minor": 5
}
